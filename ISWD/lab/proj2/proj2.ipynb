{
 "cells": [
  {
   "cell_type": "code",
   "execution_count": null,
   "metadata": {},
   "outputs": [],
   "source": [
    "import pandas as pd\n",
    "import numpy as np\n",
    "import networkx as nx\n",
    "import matplotlib.pyplot as plt"
   ]
  },
  {
   "cell_type": "code",
   "execution_count": null,
   "metadata": {},
   "outputs": [],
   "source": [
    "dataset = pd.read_csv('GPUs.csv', skiprows=1, sep=';')"
   ]
  },
  {
   "cell_type": "code",
   "execution_count": null,
   "metadata": {},
   "outputs": [],
   "source": [
    "dataset.head(30)"
   ]
  },
  {
   "cell_type": "code",
   "execution_count": null,
   "metadata": {},
   "outputs": [],
   "source": [
    "dataset.describe()"
   ]
  },
  {
   "cell_type": "markdown",
   "metadata": {},
   "source": [
    "# Promethe"
   ]
  },
  {
   "cell_type": "code",
   "execution_count": null,
   "metadata": {},
   "outputs": [],
   "source": [
    "# Preference funcions\n",
    "\n",
    "def pref_v_shape(d, q, p):\n",
    "    if d > p:\n",
    "        return 1\n",
    "    elif d <= q:\n",
    "        return 0\n",
    "    else:\n",
    "        return (d - q) / (p - q)"
   ]
  },
  {
   "cell_type": "code",
   "execution_count": null,
   "metadata": {},
   "outputs": [],
   "source": [
    "def comprehensive_preference_index(item1, item2, pref_info):\n",
    "    val = 0.0\n",
    "    for i in range(len(pref_info)):\n",
    "        g = pref_info.iloc[i].name\n",
    "        w = pref_info.iloc[i][\"w\"]\n",
    "        q = pref_info.iloc[i][\"q\"]\n",
    "        p = pref_info.iloc[i][\"p\"]\n",
    "        a = item1[g]\n",
    "        b = item2[g]\n",
    "        d = a - b if pref_info.iloc[i][\"cost_or_gain\"] == \"g\" else b - a\n",
    "        pref = pref_info.iloc[i][\"pref_func\"](d, q, p)\n",
    "        val += pref * w\n",
    "    \n",
    "    val /= pref_info[\"w\"].sum()\n",
    "\n",
    "    return val "
   ]
  },
  {
   "cell_type": "code",
   "execution_count": null,
   "metadata": {},
   "outputs": [],
   "source": [
    "pref_info = pd.DataFrame({\n",
    "    \"g\": [\"Koszt\", \"Wydajnosc\", \"TDP\", \"Ocena\"],\n",
    "    \"q\": [100, 15, 10, 5],\n",
    "    \"p\": [300, 40, 30, 30],\n",
    "    \"w\": [3, 4, 1, 2],\n",
    "    \"cost_or_gain\": [\"c\", \"g\", \"c\", \"g\"],\n",
    "    \"pref_func\": [pref_v_shape]*4\n",
    "})\n",
    "\n",
    "pref_info = pref_info.set_index(\"g\")"
   ]
  },
  {
   "cell_type": "code",
   "execution_count": null,
   "metadata": {},
   "outputs": [],
   "source": [
    "pref_info"
   ]
  },
  {
   "cell_type": "code",
   "execution_count": null,
   "metadata": {},
   "outputs": [],
   "source": [
    "comp_table = []\n",
    "\n",
    "for i in range(len(dataset)):\n",
    "    item1 = dataset.iloc[i]\n",
    "    row = []\n",
    "    for j in range(len(dataset)):\n",
    "        item2 = dataset.iloc[j]\n",
    "        result = comprehensive_preference_index(item1, item2, pref_info)\n",
    "        row.append(result)\n",
    "    comp_table.append(row)\n",
    "\n",
    "comp_df = pd.DataFrame(comp_table)\n",
    "comp_df"
   ]
  },
  {
   "cell_type": "code",
   "execution_count": null,
   "metadata": {},
   "outputs": [],
   "source": [
    "flow_plus = comp_df.sum(axis=1)\n",
    "flow_minus = comp_df.sum(axis=0)\n",
    "flow = flow_plus - flow_minus\n",
    "flow_df = pd.DataFrame()\n",
    "flow_df['Nazwa'] = dataset['Nazwa']\n",
    "flow_df['flow+'] = flow_plus\n",
    "flow_df['flow-'] = flow_minus\n",
    "flow_df['flow'] = flow\n",
    "flow_df"
   ]
  },
  {
   "cell_type": "markdown",
   "metadata": {},
   "source": [
    "### Promethe I"
   ]
  },
  {
   "cell_type": "code",
   "execution_count": null,
   "metadata": {},
   "outputs": [],
   "source": [
    "flow_df.sort_values(\"flow+\", ascending=False)"
   ]
  },
  {
   "cell_type": "code",
   "execution_count": null,
   "metadata": {},
   "outputs": [],
   "source": [
    "flow_df.sort_values(\"flow-\", ascending=True)"
   ]
  },
  {
   "cell_type": "code",
   "execution_count": null,
   "metadata": {},
   "outputs": [],
   "source": [
    "rank_table = []\n",
    "\n",
    "for i in range(len(dataset)):\n",
    "    i1_f_p = flow_df['flow+'][i]\n",
    "    i1_f_m = flow_df['flow-'][i]\n",
    "    row = []\n",
    "    for j in range(len(dataset)):\n",
    "        i2_f_p = flow_df['flow+'][j]\n",
    "        i2_f_m = flow_df['flow-'][j]\n",
    "\n",
    "        result = '' \n",
    "        if (i1_f_p > i2_f_p and i1_f_m < i2_f_m) or (i1_f_p == i2_f_p and i1_f_m < i2_f_m) or (i1_f_p > i2_f_p and i1_f_m == i2_f_m):\n",
    "            result = 'P' \n",
    "        elif i1_f_p == i2_f_p and i1_f_m == i2_f_m:\n",
    "            result = 'I' \n",
    "        elif (i1_f_p > i2_f_p and i1_f_m > i2_f_m) or (i1_f_p < i2_f_p and i1_f_m < i2_f_m):\n",
    "            result = 'R'\n",
    "        row.append(result)\n",
    "    rank_table.append(row)\n",
    "\n",
    "rank_df = pd.DataFrame(rank_table)\n",
    "rank_df"
   ]
  },
  {
   "cell_type": "code",
   "execution_count": null,
   "metadata": {},
   "outputs": [],
   "source": [
    "def draw_rank(rank_df, flow_df):\n",
    "    G = nx.DiGraph()\n",
    "\n",
    "    for i in flow_df.sort_values(\"flow\", ascending=False).index.tolist():\n",
    "        G.add_node(i)\n",
    "        for j in range(len(rank_df)):\n",
    "            if rank_df[j][i] == 'P' and (rank_df[j][rank_df.index[rank_df.loc[i]=='P']] == 'P').sum() == 0:\n",
    "                G.add_edge(i, j)\n",
    "\n",
    "    pos = nx.circular_layout(G)\n",
    "    nx.draw(G, pos, with_labels=True, node_size=500)\n",
    "    plt.title(\"Promethe I ranking\")\n",
    "    plt.show()\n",
    "\n",
    "\n",
    "draw_rank(rank_df, flow_df)"
   ]
  },
  {
   "cell_type": "markdown",
   "metadata": {},
   "source": [
    "### Promethe II"
   ]
  },
  {
   "cell_type": "code",
   "execution_count": null,
   "metadata": {},
   "outputs": [],
   "source": [
    "flow_df.sort_values(\"flow\", ascending=False)"
   ]
  },
  {
   "cell_type": "markdown",
   "metadata": {},
   "source": [
    "# Electre"
   ]
  },
  {
   "cell_type": "code",
   "execution_count": null,
   "metadata": {},
   "outputs": [],
   "source": [
    "pref_info = pd.DataFrame({\n",
    "    \"g\": [\"Koszt\", \"Wydajnosc\", \"TDP\", \"Ocena\"],\n",
    "    \"q\": [100, 15, 10, 5],\n",
    "    \"p\": [300, 40, 30, 30],\n",
    "    \"v\": [700, 50, 50, 50],\n",
    "    \"w\": [3, 4, 1, 2],\n",
    "    \"cost_or_gain\": [\"c\", \"g\", \"c\", \"g\"],\n",
    "})\n",
    "\n",
    "pref_info = pref_info.set_index(\"g\")"
   ]
  },
  {
   "cell_type": "code",
   "execution_count": null,
   "metadata": {},
   "outputs": [],
   "source": [
    "pref_info['w'].iloc[:]"
   ]
  },
  {
   "cell_type": "code",
   "execution_count": null,
   "metadata": {},
   "outputs": [],
   "source": [
    "def marginal_concordance_index_cost(g_a, g_b, q_a, p_a):\n",
    "    if g_a - g_b <= q_a:\n",
    "        return 1\n",
    "    elif g_a - g_b > p_a:\n",
    "        return 0\n",
    "    else:\n",
    "        return (p_a - (g_a - g_b)) / (p_a - q_a)\n",
    "\n",
    "def marginal_concordance_index_gain(g_a, g_b, q_a, p_a):\n",
    "    if g_a - g_b >= -q_a:\n",
    "        return 1\n",
    "    elif g_a - g_b < -p_a:\n",
    "        return 0\n",
    "    else:\n",
    "        return (p_a - (g_b - g_a)) / (p_a - q_a)\n",
    "\n",
    "def marginal_discordance_index_cost(g_a, g_b, p_a, v_a):\n",
    "    if g_a - g_b >= v_a:\n",
    "        return 1\n",
    "    elif g_a - g_b <= p_a:\n",
    "        return 0\n",
    "    else:\n",
    "        return (v_a - (g_a - g_b)) / (v_a - p_a)\n",
    "\n",
    "def marginal_discordance_index_gain(g_a, g_b, p_a, v_a):\n",
    "    if g_a - g_b <= -v_a:\n",
    "        return 1\n",
    "    elif g_a - g_b >= -p_a:\n",
    "        return 0\n",
    "    else:\n",
    "        return ((g_b - g_a) - p_a) / (v_a - p_a)"
   ]
  },
  {
   "cell_type": "code",
   "execution_count": null,
   "metadata": {},
   "outputs": [],
   "source": [
    "def comprehensive_concordance_i(item1, item2, g, pref_info):\n",
    "    g_a = item1[g]\n",
    "    g_b = item2[g]\n",
    "    q_a = pref_info['q'][g]\n",
    "    p_a = pref_info['p'][g]\n",
    "    if pref_info['cost_or_gain'][g] == 'c':\n",
    "        return marginal_concordance_index_cost(g_a, g_b, q_a, p_a)\n",
    "    else:\n",
    "        return marginal_concordance_index_gain(g_a, g_b, q_a, p_a)\n"
   ]
  },
  {
   "cell_type": "code",
   "execution_count": null,
   "metadata": {},
   "outputs": [],
   "source": [
    "def marginal_discordance_i(item1, item2, g, pref_info):\n",
    "    g_a = item1[g]\n",
    "    g_b = item2[g]\n",
    "    p_a = pref_info['p'][g]\n",
    "    v_a = pref_info['v'][g]\n",
    "    if pref_info['cost_or_gain'][g] == 'c':\n",
    "        return marginal_discordance_index_cost(g_a, g_b, p_a, v_a)\n",
    "    else:\n",
    "        return marginal_discordance_index_gain(g_a, g_b, p_a, v_a)"
   ]
  },
  {
   "cell_type": "code",
   "execution_count": null,
   "metadata": {},
   "outputs": [],
   "source": [
    "out_cred_table = []\n",
    "\n",
    "for i in range(len(dataset)):\n",
    "    item1 = dataset.iloc[i]\n",
    "    row = []\n",
    "    for j in range(len(dataset)):\n",
    "        item2 = dataset.iloc[j]\n",
    "        C = 0\n",
    "        W = 0\n",
    "        D = []\n",
    "        for g in pref_info.index:\n",
    "            w = pref_info['w'][g]\n",
    "            ci = comprehensive_concordance_i(item1, item2, g, pref_info)\n",
    "            D.append(marginal_discordance_i(item1, item2, g, pref_info))\n",
    "            C += w * ci\n",
    "            W += w\n",
    "        C /= W\n",
    "        out_cred = C \n",
    "        for di in D:\n",
    "            if di > C:\n",
    "                out_cred *= (1-di)/(1-C)\n",
    "        row.append(out_cred)\n",
    "    out_cred_table.append(row)\n",
    "\n",
    "out_cred_df = pd.DataFrame(out_cred_table)\n",
    "out_cred_df"
   ]
  },
  {
   "cell_type": "code",
   "execution_count": null,
   "metadata": {},
   "outputs": [],
   "source": [
    "def s(x):\n",
    "    return -0.15 * x + 0.3"
   ]
  },
  {
   "cell_type": "code",
   "execution_count": null,
   "metadata": {},
   "outputs": [],
   "source": [
    "def distillation_impl(df, upper_credibility_threshold, desc):\n",
    "    if upper_credibility_threshold == 0:\n",
    "        upper_credibility_threshold = df.max().max()\n",
    "    s_k = s(upper_credibility_threshold)\n",
    "    lower_credibility_threshold = df[df < upper_credibility_threshold-s_k].max().max()\n",
    "    if np.isnan(lower_credibility_threshold):\n",
    "        lower_credibility_threshold = 0\n",
    "    relations = (df > lower_credibility_threshold) & (df > (df.transpose() + df.apply(s)))\n",
    "    survivers = df[relations]\n",
    "    quality = (survivers > 0).apply(np.sum, axis=1) - (survivers > 0).apply(np.sum, axis=0)\n",
    "    if desc:\n",
    "        return quality == quality.max(), lower_credibility_threshold\n",
    "    else:\n",
    "        return quality == quality.min(), lower_credibility_threshold\n",
    "\n",
    "def distillation(df_in, desc=True):\n",
    "    df = df_in.copy()\n",
    "    D = []\n",
    "    while len(df) > 0:\n",
    "        d1, lower_thr = distillation_impl(df, 0, desc)\n",
    "        d = d1\n",
    "        if d1.sum() > 1:\n",
    "            d2, _ = distillation_impl(df.loc[d1, d1], lower_thr, desc)\n",
    "            d[d == True] = d2\n",
    "            d = d.astype(bool)\n",
    "        D.append(list(df[d].index))\n",
    "        df = df.loc[~d, ~d]\n",
    "\n",
    "    if desc:\n",
    "        return D\n",
    "    else:\n",
    "        return list(reversed(D))"
   ]
  },
  {
   "cell_type": "code",
   "execution_count": null,
   "metadata": {},
   "outputs": [],
   "source": [
    "def print_ranking(ranking):\n",
    "    for i,place in enumerate(ranking):\n",
    "        print(f'{i+1}. {[\" \".join(x.split()) for x in dataset[\"Nazwa\"].iloc[place]]}')"
   ]
  },
  {
   "cell_type": "code",
   "execution_count": null,
   "metadata": {},
   "outputs": [],
   "source": [
    "def get_median_ranking(dataset, ranking_descending, ranking_ascending):\n",
    "    ranking_values = {}\n",
    "    for i, items in enumerate(ranking_descending):\n",
    "        for item in items:\n",
    "            ranking_values[item] = i\n",
    "\n",
    "    for i, items in enumerate(ranking_ascending):\n",
    "        for item in items:\n",
    "            ranking_values[item] += i\n",
    "\n",
    "    return [x[0] for x in sorted([(v,k) for v,k in ranking_values.items()], key=lambda x: x[1])]\n"
   ]
  },
  {
   "cell_type": "code",
   "execution_count": null,
   "metadata": {},
   "outputs": [],
   "source": [
    "ranking_descending = distillation(out_cred_df, True)\n",
    "print_ranking(ranking_descending)"
   ]
  },
  {
   "cell_type": "code",
   "execution_count": null,
   "metadata": {},
   "outputs": [],
   "source": [
    "ranking_ascending = distillation(out_cred_df, False)\n",
    "print_ranking(ranking_ascending)"
   ]
  },
  {
   "cell_type": "code",
   "execution_count": null,
   "metadata": {},
   "outputs": [],
   "source": [
    "print_ranking(get_median_ranking(dataset ,ranking_descending, ranking_ascending))"
   ]
  }
 ],
 "metadata": {
  "kernelspec": {
   "display_name": "Python 3",
   "language": "python",
   "name": "python3"
  },
  "language_info": {
   "codemirror_mode": {
    "name": "ipython",
    "version": 3
   },
   "file_extension": ".py",
   "mimetype": "text/x-python",
   "name": "python",
   "nbconvert_exporter": "python",
   "pygments_lexer": "ipython3",
   "version": "3.9.13"
  }
 },
 "nbformat": 4,
 "nbformat_minor": 2
}
