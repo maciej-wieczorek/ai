{
 "cells": [
  {
   "cell_type": "markdown",
   "metadata": {},
   "source": [
    "# Zadanie domowe - implementacja algorytmu NSGA-II"
   ]
  },
  {
   "cell_type": "markdown",
   "metadata": {},
   "source": [
    "Zrealizowali:\n",
    "<ol>\n",
    "  <li>Imię, Nazwisko, Indeks</li>\n",
    "  <li>Imię, Nazwisko, Indeks</li>\n",
    "</ol>"
   ]
  },
  {
   "cell_type": "code",
   "execution_count": 2,
   "metadata": {},
   "outputs": [],
   "source": [
    "# Import niezbędnych bibliotek\n",
    "# inline = pozwala wykreślać wykresy biblioteki matplotlib w okienkach jupytera\n",
    "%matplotlib inline \n",
    "import matplotlib.pyplot as plt\n",
    "import numpy as np"
   ]
  },
  {
   "cell_type": "code",
   "execution_count": 3,
   "metadata": {},
   "outputs": [],
   "source": [
    "### Klasa Solution\n",
    "class Solution:\n",
    "    def __init__(self, x, f, name):\n",
    "        self.x = x ### zmienne decyzyjne\n",
    "        self.f = f ### wektor ocen [f1, f2]\n",
    "        self.front = 0 ## pomocnicza wartość przechowująca numer niezdominowanego frontu\n",
    "        self.cd = 0.0 ## pomocnicza wartość przechowująca wartość crowding distance\n",
    "        self.name = name ### pomocnicza nazwa rozwiązania\n",
    "\n",
    "    def __str__(self):\n",
    "        return \"[\" + self.name + \" : F = \" + str(self.f) + \"]\""
   ]
  },
  {
   "cell_type": "code",
   "execution_count": 4,
   "metadata": {},
   "outputs": [],
   "source": [
    "### TODO należy uzupełnić funkcję obliczającą realizacjię kryteriow w oparciu o informacje w pliku PDF\n",
    "### wejście = wektor zmiennych decyzyjnych; wyjście = wektor ocen\n",
    "# Ewluacja rozwiazaąnia w oparciu o zmienne decyzyjne\n",
    "\n",
    "# def evaluate(x):\n",
    "#     return [0, 0]"
   ]
  },
  {
   "cell_type": "code",
   "execution_count": 5,
   "metadata": {},
   "outputs": [
    {
     "ename": "NameError",
     "evalue": "name 'evaluate' is not defined",
     "output_type": "error",
     "traceback": [
      "\u001b[1;31m---------------------------------------------------------------------------\u001b[0m",
      "\u001b[1;31mNameError\u001b[0m                                 Traceback (most recent call last)",
      "Cell \u001b[1;32mIn[5], line 15\u001b[0m\n\u001b[0;32m     11\u001b[0m         \u001b[38;5;66;03m# nazwa składa się z dwóch członów: numer generacji, \u001b[39;00m\n\u001b[0;32m     12\u001b[0m         \u001b[38;5;66;03m# w której rozwiązanie zostało wygenerowane oraz numer rozwiązania w populacji\u001b[39;00m\n\u001b[0;32m     13\u001b[0m     \u001b[38;5;28;01mreturn\u001b[39;00m P\n\u001b[1;32m---> 15\u001b[0m P \u001b[38;5;241m=\u001b[39m \u001b[43mconstructInitialPopulation\u001b[49m\u001b[43m(\u001b[49m\u001b[38;5;241;43m10000\u001b[39;49m\u001b[43m)\u001b[49m\n\u001b[0;32m     16\u001b[0m \u001b[38;5;28;01mfor\u001b[39;00m s \u001b[38;5;129;01min\u001b[39;00m P[:\u001b[38;5;241m10\u001b[39m]: \u001b[38;5;28mprint\u001b[39m(s) \u001b[38;5;66;03m### Wypisanie przykładowych rozwiązań (dla testu)\u001b[39;00m\n",
      "Cell \u001b[1;32mIn[5], line 9\u001b[0m, in \u001b[0;36mconstructInitialPopulation\u001b[1;34m(N)\u001b[0m\n\u001b[0;32m      7\u001b[0m x[\u001b[38;5;241m1\u001b[39m] \u001b[38;5;241m=\u001b[39m np\u001b[38;5;241m.\u001b[39mrandom\u001b[38;5;241m.\u001b[39mrand()      \n\u001b[0;32m      8\u001b[0m \u001b[38;5;28;01mfor\u001b[39;00m j \u001b[38;5;129;01min\u001b[39;00m \u001b[38;5;28mrange\u001b[39m(\u001b[38;5;241m2\u001b[39m,\u001b[38;5;241m5\u001b[39m): x[j] \u001b[38;5;241m=\u001b[39m np\u001b[38;5;241m.\u001b[39mrandom\u001b[38;5;241m.\u001b[39mrandint(\u001b[38;5;241m0\u001b[39m,\u001b[38;5;241m2\u001b[39m)\n\u001b[1;32m----> 9\u001b[0m f \u001b[38;5;241m=\u001b[39m \u001b[43mevaluate\u001b[49m(x) \u001b[38;5;66;03m### ewaluacja rozwiązania\u001b[39;00m\n\u001b[0;32m     10\u001b[0m P\u001b[38;5;241m.\u001b[39mappend(Solution(x, f, \u001b[38;5;28mstr\u001b[39m(\u001b[38;5;241m0\u001b[39m)\u001b[38;5;241m+\u001b[39m\u001b[38;5;124m\"\u001b[39m\u001b[38;5;124m-\u001b[39m\u001b[38;5;124m\"\u001b[39m\u001b[38;5;241m+\u001b[39m\u001b[38;5;28mstr\u001b[39m(i))) \u001b[38;5;66;03m### dodanie rozwiązania do listy, \u001b[39;00m\n\u001b[0;32m     11\u001b[0m \u001b[38;5;66;03m# nazwa składa się z dwóch członów: numer generacji, \u001b[39;00m\n\u001b[0;32m     12\u001b[0m \u001b[38;5;66;03m# w której rozwiązanie zostało wygenerowane oraz numer rozwiązania w populacji\u001b[39;00m\n",
      "\u001b[1;31mNameError\u001b[0m: name 'evaluate' is not defined"
     ]
    }
   ],
   "source": [
    "### Procedura tworzy populacje początkowa o zadanym rozmiarze N\n",
    "def constructInitialPopulation(N):\n",
    "    P = []\n",
    "    for i in range(N):\n",
    "        x = [j for j in range(5)] \n",
    "        x[0] = np.random.rand()\n",
    "        x[1] = np.random.rand()      \n",
    "        for j in range(2,5): x[j] = np.random.randint(0,2)\n",
    "        f = evaluate(x) ### ewaluacja rozwiązania\n",
    "        P.append(Solution(x, f, str(0)+\"-\"+str(i))) ### dodanie rozwiązania do listy, \n",
    "        # nazwa składa się z dwóch członów: numer generacji, \n",
    "        # w której rozwiązanie zostało wygenerowane oraz numer rozwiązania w populacji\n",
    "    return P\n",
    "\n",
    "P = constructInitialPopulation(10000)\n",
    "for s in P[:10]: print(s) ### Wypisanie przykładowych rozwiązań (dla testu)"
   ]
  },
  {
   "cell_type": "code",
   "execution_count": null,
   "metadata": {},
   "outputs": [],
   "source": [
    "### Poniższa funkcja wykreśla rozwiązania w P wykorzystując wykres punktowy. \n",
    "### Przy dużym rozmiarze N można zaobserwowa jak losowo wygenerowane rozwiązania \n",
    "### rozkładają się w przestrzeni ocen. Proszę sprawdzić np. dla N=10000. \n",
    "### TODO Proszę uzasadnić uzyskany rozkład odwołując się do definicji problemu (funkcji ocen)\n",
    "\n",
    "def plotPopul(P):\n",
    "    plt.figure()\n",
    "    X = [s.f[0] for s in P]\n",
    "    Y = [s.f[1] for s in P]\n",
    "    plt.plot(X, Y, ls='', marker='o')\n",
    "    plt.xlim(0, 3.0);\n",
    "    plt.ylim(0, 3.0)\n",
    "\n",
    "plotPopul(P)"
   ]
  },
  {
   "cell_type": "code",
   "execution_count": null,
   "metadata": {},
   "outputs": [],
   "source": [
    "### TODO poniższa funkcja winna zwracać listę par indeksów rozwiązań wybranych do reprodukcji.\n",
    "### Z każdej pary zostanie utworzone jedno rozwiązanie potomne. \n",
    "### Selekcja powinna odbywać się w oparciu o turniej o rozmiarze 2\n",
    "### Wyjście: lista par -> [ [idx11, idx12],...,[idxN1, idxN2] ]\n",
    "\n",
    "# def constructParents(N):\n",
    "#     return []\n",
    "\n",
    "print(constructParents(10)) ### TEST"
   ]
  },
  {
   "cell_type": "code",
   "execution_count": null,
   "metadata": {},
   "outputs": [],
   "source": [
    "# TODO poniższa funkcja powinna dokonywać krzyżowania dwóch wejściowych wektorów\n",
    "# zmiennych decyzyjnych. Procedura może zostać zaimplementowana w dowolny sposób\n",
    "# Sugerowane najprostsze rozwiązanie: \"potomek\" przy określaniu wartości każdej zmiennej\n",
    "# przejmuje wartość od losowego rodzica.\n",
    "\n",
    "# def getCrossed(xA, xB):\n",
    "#     return [0 for _ in xA]\n",
    "\n",
    "print(getCrossed([0.0, 0.5, 1.0], [1.0, 0.25, 0.75])) ### TEST"
   ]
  },
  {
   "cell_type": "code",
   "execution_count": null,
   "metadata": {},
   "outputs": [],
   "source": [
    "# TODO poniższa funkcja winna \"mutować\" wejściowy wektor x (operacje powinny być wykonywane)\n",
    "# na x. Należy w procedurze uwzględnić prawdopodobieństwo zajścia \n",
    "# mutacji dla każdej zmiennej decyzyjnej. W przypadku zmiennych binarnych mutacja winna być\n",
    "# zrealizowana jako dopełnienie zmiennej do 1: nowe x[i] = 1 - x[i]. W przypadku zmiennych ciągłych \n",
    "# można wykorzystać mutację gausowską, tzn. dodać do wartości losową liczbę z rozkładu\n",
    "# normalnego o odchyleniu standardowym podanym na wejściu metody \"std\"\n",
    "# Należy tutaj zabezpieczyć procedurę przed potencjalnym przekroczeniu tak zaktualizowanej\n",
    "# wartości poza dozwolony przedział [0, 1]\n",
    "\n",
    "# def mutate(x, prob, std):\n",
    "#    pass\n",
    "\n",
    "for std in [0.0, 0.1, 0.2]: ## TEST\n",
    "    x = [0.0, 0.2, 1.0, 0.0, 0.0]\n",
    "    mutate(x, 1.0, std)\n",
    "    print(x)"
   ]
  },
  {
   "cell_type": "code",
   "execution_count": null,
   "metadata": {},
   "outputs": [],
   "source": [
    "### Proszę zapoznać się z poniższą metodą\n",
    "### Generuja ona wektor rozwiązań potomnych w oparciu o wyselekcjonowanych rodziców\n",
    "### i przyjęte operatory reprodukcji\n",
    "\n",
    "def constructOffspring(P, parents, gen, std):\n",
    "    O = []\n",
    "    prob = 1.0 / 5.0\n",
    "    for i in range(len(parents)):\n",
    "        xO = getCrossed(P[parents[i][0]].x, P[parents[i][1]].x)\n",
    "        mutate(xO, prob, std)\n",
    "        O.append(Solution(xO, evaluate(xO), str(gen) + \"-\" + str(i)))\n",
    "    return O"
   ]
  },
  {
   "cell_type": "code",
   "execution_count": null,
   "metadata": {},
   "outputs": [],
   "source": [
    "# Pomocnicza metoda określająca zajście relacji dominacji\n",
    "def dominates(sj, sk):\n",
    "    if sj.f[0] < sk.f[0] and sj.f[1] <= sk.f[1]: return True\n",
    "    if sj.f[0] <= sk.f[0] and sj.f[1] < sk.f[1]: return True\n",
    "    return False"
   ]
  },
  {
   "cell_type": "code",
   "execution_count": null,
   "metadata": {},
   "outputs": [],
   "source": [
    "### TODO Poniższa funkcja winna realizować przydział rozwiązań do frontów niezdominowanych\n",
    "### Wyjściem powinna być lista list indeksów rozwiązań w P, przydzielonych do odpowiednich frontów.\n",
    "### Np. wyjście: [[3,4,0],[1,5],[2]] oznacza, że rozwiązania nr 0, 3, 4 w P są w pierszym froncie,\n",
    "### 1 i 5 w drugim, a rozwiązanie numer 2 w ostatnim. \n",
    "\n",
    "# def getNonDominatedFronts(P):\n",
    "#    return [i for i in range(len(P))]"
   ]
  },
  {
   "cell_type": "code",
   "execution_count": null,
   "metadata": {},
   "outputs": [],
   "source": [
    "### TODO poniższa metoda winna obliczać wartości crowding distance (cd)\n",
    "# dla rozwiazań w P. UWAGA: cd jest obliczany dla niezdominowanych frontów z osobna;\n",
    "# obliczając cd dla rozwiązań w jednym froncie \"zapominamy\" o pozostałych rozwiązaniach.\n",
    "# Metoda winna zwrócić wektor uzyskanych cd\n",
    "\n",
    "# def getCrowdingDistances(F, P):\n",
    "#     return [0 for _ in P]"
   ]
  },
  {
   "cell_type": "code",
   "execution_count": null,
   "metadata": {},
   "outputs": [],
   "source": [
    "### Poniższa metoda przydziela rozwiązaniom ich numery niezdominowanych frontów i wartości cd,\n",
    "# a także sortuje rozwiązania w populacji w oparciu o te wartości. \n",
    "# W przypadku, gdy useCD = False, miara cd nie jest uwzględniona przy sortowaniu.\n",
    "# Przetestowanie metody dla useCD = True i False pozwoli zaobserwować zysk wynikający\n",
    "# z wykorzystania miary cd.\n",
    "\n",
    "def applyScoresAndSort(P, useCD = True):\n",
    "    F = getNonDominatedFronts(P)\n",
    "    CD = [0 for _ in P]\n",
    "    if useCD:\n",
    "        CD = getCrowdingDistances(F, P)\n",
    "        mi, ma = min(CD), max(CD) ### nomralizacja CD\n",
    "        if abs(mi - ma) < 0.00001: CD = [0.5 for _ in range(len(P))]\n",
    "        CD = [(v-mi)/(ma-mi) for v in CD]    \n",
    "\n",
    "    for s, f in enumerate(F):\n",
    "         for i in f: \n",
    "            P[i].front = s\n",
    "            P[i].cd = CD[i]\n",
    "   \n",
    "    P.sort(key=lambda x: x.front - x.cd * 0.5) # Kryterium sortowania"
   ]
  },
  {
   "cell_type": "code",
   "execution_count": null,
   "metadata": {},
   "outputs": [],
   "source": [
    "# TODO Poniższa funkcja winna obliczać pomocnicze statystyki, które pomogą\n",
    "# uzasadnić wykorzystanie miary cd w obliczeniach.\n",
    "# Metoda tak winna zwrócić średnią, maksymalną, minimalną wartość \n",
    "# cd dla rozwiązań, oraz odchylenie standardowe tych wartości\n",
    "# w populacji P. Przy obliczaniu statystyk należy pominąć wartości graniczne (nieskończoność),\n",
    "# uzyskiwane przez wartości graniczne\n",
    "# Jak należy interpretować te miary?\n",
    "\n",
    "#def getStatsCD(P):\n",
    "#    return 0, 0, 0, 0"
   ]
  },
  {
   "cell_type": "markdown",
   "metadata": {},
   "source": [
    "Poniższe dwie komórki realizują działanie algorytmu NSGA-II, ilustrują skonstruowane rozwiązania na 5 różnych etapach działania algorytmu i ostateczni wypisują uzyskane statystki dla CD. W pierwszej komórce cd nie jest wykorzystane przy sortowaniu, w drugiej jest. Należy zapoznać się z kodem i przetestować działanie dla różnych parametrów (rozmiary populacji, itp). Dla którego wariantu algorytm wykazał się lepszym działaniem? (powinien dla tego, który wykorzystywał miarę cd ;) ) <br>\n",
    "\n",
    "<b>Dla chętnych: </b> algorytmy ewolucyjne są losowe. Z tego powodu jednokrotne ich uruchomienie nie jest wiarygodne. By uzyskać bardziej wiarygodny wynik, algorytm może zostać uruchomiony np. 20 razy a uzyskane statystyki uśrednione. Dodatkowo można je obliczyć dla każdej generacji (nie tylko w ostatniej) i wykreślić ich zbieżność na wykresie liniowym. Na jednym wykresie można wykreślić wyniki uzyskane przez oba warianty algorytmu - dzięki czemu różnice powinny byc lepiej widoczne. Proszę zauważyć jednak, że statystki dla cd nie są możliwie najlepszą miarą oceny jakości działania algorytmu. Na samym początku, gdy rozwiązania są silnie rozproszone, ich wartości cd powinny być bardzo wysokie, co jest w sprzeczności z założeniem, że \"im większe cd tym lepiej\". Aby wiarygodniej oceniać takie algorytmy, należy także wykorzystywać miary, które szacują odległość rozwiązań do frontu Pareta. Można zaproponować taką miarę i wykorzystać ją do pokazania \"bliskości\" populacji do tego frontu. Dopiero jednoczesne zestawienie takiej miary i miary oceniającej rozproszenie rozwiązań umożliwi lepsze porównanie algorytmów. "
   ]
  },
  {
   "cell_type": "code",
   "execution_count": null,
   "metadata": {
    "scrolled": false
   },
   "outputs": [],
   "source": [
    "### Pominięcie miary CD\n",
    "N = 20 # rozmiar populacji\n",
    "GEN = 100 # liczba generacji/iteracji algorytmu\n",
    " \n",
    "P = constructInitialPopulation(N) # utworzenie populacji początkowej\n",
    "applyScoresAndSort(P, useCD = False) # posortowanie populacji wykorzystując fronty\n",
    "# niezdominowane (bez miary cd; useCD = False)\n",
    "\n",
    "for gen in range(GEN): # iteracja po kolejnych generacjach\n",
    "    C = constructParents(N) # skonstruowanie identyfikatorów rodziców\n",
    "    O = constructOffspring(P, C, gen + 1, 0.1) # konstrukcja potomstwa\n",
    "    M = P + O # połączenie obecnej populacji z potomną\n",
    "    applyScoresAndSort(M, useCD = False) # posortowanie tak połączonej populacji\n",
    "    P = M[:N] # \"przeżywają najlepiej przystosowani\"\n",
    "    if gen % (GEN / 4) == 0 or gen == GEN - 1: plotPopul(P) # co jakiś krok\n",
    "        # ilustrowana jest populacja\n",
    "\n",
    "# wypisanie statystyk\n",
    "print(getStatsCD(P))"
   ]
  },
  {
   "cell_type": "code",
   "execution_count": null,
   "metadata": {},
   "outputs": [],
   "source": [
    "### Pominięcie miary CD\n",
    "N = 20\n",
    "GEN = 100\n",
    "\n",
    "P = constructInitialPopulation(N)\n",
    "applyScoresAndSort(P, useCD = True)\n",
    "\n",
    "for gen in range(GEN):\n",
    "    C = constructParents(N)\n",
    "    O = constructOffspring(P, C, gen + 1, 0.1)\n",
    "    M = P + O\n",
    "    applyScoresAndSort(M, useCD = True)\n",
    "    P = M[:N]\n",
    "    if gen % (GEN / 5) == 0 or gen == GEN - 1: plotPopul(P)\n",
    "\n",
    "print(getStatsCD(P))"
   ]
  }
 ],
 "metadata": {
  "kernelspec": {
   "display_name": "Python 3",
   "language": "python",
   "name": "python3"
  },
  "language_info": {
   "codemirror_mode": {
    "name": "ipython",
    "version": 3
   },
   "file_extension": ".py",
   "mimetype": "text/x-python",
   "name": "python",
   "nbconvert_exporter": "python",
   "pygments_lexer": "ipython3",
   "version": "3.9.13"
  }
 },
 "nbformat": 4,
 "nbformat_minor": 4
}
