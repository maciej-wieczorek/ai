{
 "cells": [
  {
   "cell_type": "markdown",
   "metadata": {},
   "source": [
    "# Graniczna Analiza Danych\n",
    "### Kacper Perz 145261, Maciej Wieczorek 148141"
   ]
  },
  {
   "cell_type": "code",
   "execution_count": null,
   "metadata": {},
   "outputs": [],
   "source": [
    "import pandas as pd\n",
    "import numpy as np\n",
    "import pulp"
   ]
  },
  {
   "cell_type": "code",
   "execution_count": null,
   "metadata": {},
   "outputs": [],
   "source": [
    "inputs = pd.read_csv('inputs.csv', delimiter=';')\n",
    "outputs = pd.read_csv('outputs.csv', delimiter=';')\n",
    "\n",
    "inputs.rename(columns={'Unnamed: 0': 'city'}, inplace=True)\n",
    "outputs.rename(columns={'Unnamed: 0': 'city'}, inplace=True)\n",
    "\n",
    "airports_df = pd.merge(inputs, outputs, on='city')\n",
    "airports_input_df = airports_df.filter(regex='^i')\n",
    "airports_output_df = airports_df.filter(regex='^o')\n",
    "print(airports_df)\n",
    "print(airports_input_df)\n",
    "print(airports_output_df)"
   ]
  },
  {
   "cell_type": "markdown",
   "metadata": {},
   "source": [
    "#### Notacja\n",
    "Dane (wartości stałe):\n",
    "- $K$ – liczba jednostek, $(k = 1, 2, \\dots, K)$\n",
    "- $M$ – liczba nakładów (wejść) w analizowanym problemie $(m =1, 2, \\dots ,M)$\n",
    "- $N$ – liczba efektów (wyjść) w analizowanym problemie $(n =1, 2, \\dots ,N)$\n",
    "- $x_{mk}$ – wartość m-go wejścia k-ej jednostki\n",
    "- $y_{nk}$ – wartość n-go wyjścia k-ej jednostki\n",
    "\n",
    "Zmienne:\n",
    "- $ν_m$ – waga m-go nakładu,\n",
    "- $μ_n$ – waga n-go efektu."
   ]
  },
  {
   "cell_type": "markdown",
   "metadata": {},
   "source": [
    "## Efektywność"
   ]
  },
  {
   "cell_type": "code",
   "execution_count": null,
   "metadata": {},
   "outputs": [],
   "source": [
    "def get_lp_problem(M, N, K, x, y, x_o, y_o):\n",
    "    lp = pulp.LpProblem(\"Minimize_theta\", pulp.LpMinimize)\n",
    "\n",
    "    theta = pulp.LpVariable(\"theta\", lowBound=0)\n",
    "    lambda_vars = pulp.LpVariable.dicts(\"l\", range(K), lowBound=0)\n",
    "\n",
    "    # Objective function\n",
    "    lp += theta\n",
    "\n",
    "    # Add constraints\n",
    "    for m in range(M):\n",
    "        lp += pulp.lpSum(lambda_vars[k] * x[k][m] for k in range(K)) <= theta * x_o[m], f\"Input_constraint_{m}\"\n",
    "\n",
    "    for n in range(N):\n",
    "        lp += pulp.lpSum(lambda_vars[k] * y[k][n] for k in range(K)) >= y_o[n], f\"Output_constraint_{n}\"\n",
    "\n",
    "    return lp"
   ]
  },
  {
   "cell_type": "code",
   "execution_count": null,
   "metadata": {},
   "outputs": [],
   "source": [
    "\n",
    "def get_effectiveness(input_df, output_df, df, i):\n",
    "    lp = get_lp_problem(\n",
    "        len(input_df.columns),\n",
    "        len(output_df.columns),\n",
    "        len(df),\n",
    "        input_df.to_numpy(),\n",
    "        output_df.to_numpy(),\n",
    "        input_df.iloc[i].to_numpy(),\n",
    "        output_df.iloc[i].to_numpy()\n",
    "    )\n",
    "\n",
    "    lp.solve()\n",
    "\n",
    "    lambda_values = \\\n",
    "    list(\n",
    "        map(\n",
    "            lambda x: x.value(),\n",
    "            sorted(\n",
    "                filter(\n",
    "                    lambda x: 'l' in x.name, \n",
    "                    lp.variables()\n",
    "                ),\n",
    "                key=lambda x: int(x.name.split('_')[1])\n",
    "            )\n",
    "        )\n",
    "    )\n",
    "    \n",
    "    return lp.objective.value(), lambda_values"
   ]
  },
  {
   "cell_type": "code",
   "execution_count": null,
   "metadata": {},
   "outputs": [],
   "source": [
    "effectiveness_df = airports_df[['city']].copy()\n",
    "effectiveness_df['effectiveness'] = 0\n",
    "for k in range(len(airports_df)):\n",
    "    effectiveness_df[f'l{k}'] = 0\n",
    "\n",
    "for i in range(len(airports_df)):\n",
    "    effectiveness, lambda_values = get_effectiveness(airports_input_df, airports_output_df, airports_df, i)\n",
    "    effectiveness_df.loc[i,'effectiveness'] = effectiveness\n",
    "    for k in range(len(lambda_values)):\n",
    "        effectiveness_df.loc[i, f'l{k}'] = lambda_values[k]\n",
    "\n",
    "effectiveness_df.round(3)"
   ]
  },
  {
   "cell_type": "code",
   "execution_count": null,
   "metadata": {},
   "outputs": [],
   "source": [
    "ineffective_df = effectiveness_df[effectiveness_df['effectiveness'] < 1].copy()\n",
    "ineffective_df.round(3)"
   ]
  },
  {
   "cell_type": "markdown",
   "metadata": {},
   "source": [
    "## Hipotetyczna jednostka porównawcza"
   ]
  },
  {
   "cell_type": "code",
   "execution_count": null,
   "metadata": {},
   "outputs": [],
   "source": [
    "hcu_df = ineffective_df[['city']].copy()\n",
    "\n",
    "for i in range(len(airports_input_df.columns)):\n",
    "    hcu_df[f'hcu_x{i}'] = 0\n",
    "for i in range(len(airports_output_df.columns)):\n",
    "    hcu_df[f'hcu_y{i}'] = 0\n",
    "    \n",
    "for i in range(len(ineffective_df)):\n",
    "    lambda_values = ineffective_df.iloc[i].filter(regex='^l').to_numpy()\n",
    "    inputs = airports_input_df.to_numpy()\n",
    "    x_hcu = lambda_values @ inputs\n",
    "    outputs = airports_output_df.to_numpy()\n",
    "    y_hcu = lambda_values @ outputs\n",
    "\n",
    "    hcu_df.loc[hcu_df.filter(regex='^hcu_x').index[i], hcu_df.filter(regex='^hcu_x').columns] = x_hcu\n",
    "    hcu_df.loc[hcu_df.filter(regex='^hcu_y').index[i], hcu_df.filter(regex='^hcu_y').columns] = y_hcu\n",
    "\n",
    "hcu_df.round(3)"
   ]
  },
  {
   "cell_type": "code",
   "execution_count": null,
   "metadata": {},
   "outputs": [],
   "source": [
    "hcu_df"
   ]
  },
  {
   "cell_type": "code",
   "execution_count": null,
   "metadata": {},
   "outputs": [],
   "source": [
    "airports_df[airports_df['city'].isin(hcu_df['city'])].round(3)"
   ]
  },
  {
   "cell_type": "code",
   "execution_count": null,
   "metadata": {},
   "outputs": [],
   "source": [
    "input_corrections_df = pd.DataFrame((airports_df[airports_df['city'].isin(hcu_df['city'])].to_numpy()[:, 1:-2] - hcu_df.to_numpy()[:, 1:-2]).astype(np.float64))\n",
    "input_corrections_df.round(3)"
   ]
  },
  {
   "cell_type": "markdown",
   "metadata": {},
   "source": [
    "# Superefektywność"
   ]
  },
  {
   "cell_type": "code",
   "execution_count": null,
   "metadata": {},
   "outputs": [],
   "source": [
    "def get_se_lp_problem(M, N, K, x, y, x_o, y_o, i):\n",
    "    lp = pulp.LpProblem(\"Minimize_theta\", pulp.LpMinimize)\n",
    "\n",
    "    theta = pulp.LpVariable(\"theta\", lowBound=0)\n",
    "    lambda_vars = pulp.LpVariable.dicts(\"l\", range(K), lowBound=0)\n",
    "\n",
    "    # Objective function\n",
    "    lp += theta\n",
    "\n",
    "    # Add constraints\n",
    "    for m in range(M):\n",
    "        lp += pulp.lpSum(lambda_vars[k] * x[k][m] for k in range(K)) <= theta * x_o[m], f\"Input_constraint_{m}\"\n",
    "\n",
    "    for n in range(N):\n",
    "        lp += pulp.lpSum(lambda_vars[k] * y[k][n] for k in range(K) if k != i) >= y_o[n], f\"Output_constraint_{n}\"\n",
    "\n",
    "    return lp"
   ]
  },
  {
   "cell_type": "code",
   "execution_count": null,
   "metadata": {},
   "outputs": [],
   "source": [
    "\n",
    "def get_super_effectiveness(input_df, output_df, df, i):\n",
    "    lp = get_se_lp_problem(\n",
    "        len(input_df.columns),\n",
    "        len(output_df.columns),\n",
    "        len(df),\n",
    "        input_df.to_numpy(),\n",
    "        output_df.to_numpy(),\n",
    "        input_df.iloc[i].to_numpy(),\n",
    "        output_df.iloc[i].to_numpy(),\n",
    "        i\n",
    "    )\n",
    "\n",
    "    lp.solve()\n",
    "    \n",
    "    return lp.objective.value()"
   ]
  },
  {
   "cell_type": "code",
   "execution_count": null,
   "metadata": {},
   "outputs": [],
   "source": [
    "super_effectiveness_df = airports_df[['city']].copy()\n",
    "super_effectiveness_df['super_effectiveness'] = 0\n",
    "\n",
    "for i in range(len(airports_df)):\n",
    "    super_effectiveness = get_super_effectiveness(airports_input_df, airports_output_df, airports_df, i)\n",
    "    super_effectiveness_df.loc[i,'super_effectiveness'] = super_effectiveness\n",
    "\n",
    "super_effectiveness_df.round(3)"
   ]
  },
  {
   "cell_type": "code",
   "execution_count": null,
   "metadata": {},
   "outputs": [],
   "source": [
    "for i, row in super_effectiveness_df.iterrows():\n",
    "    print(f'{row[\"city\"]} & {row[\"super_effectiveness\"]} \\\\\\\\')"
   ]
  },
  {
   "cell_type": "code",
   "execution_count": null,
   "metadata": {},
   "outputs": [],
   "source": [
    "for i, row in super_effectiveness_df.sort_values('super_effectiveness', ascending=False).iterrows():\n",
    "    print(f' {row[\"city\"]} ', end='\\\\succ')"
   ]
  },
  {
   "cell_type": "markdown",
   "metadata": {},
   "source": [
    "## Efektywność krzyżowa"
   ]
  },
  {
   "cell_type": "code",
   "execution_count": null,
   "metadata": {},
   "outputs": [],
   "source": [
    "num_dmus = airports_input_df.shape[0]\n",
    "num_inputs = airports_input_df.shape[1]\n",
    "num_outputs = airports_output_df.shape[1]\n",
    "print(num_dmus, num_inputs, num_outputs)\n",
    "\n",
    "def solve_dea(dmu_idx):\n",
    "    prob = pulp.LpProblem(f\"DEA_DMU_{dmu_idx}\", pulp.LpMaximize)\n",
    "    print('1')\n",
    "\n",
    "    input_weights = [pulp.LpVariable(f\"u{i}\", lowBound=0) for i in range(len(airports_input_df))]\n",
    "    output_weights = [pulp.LpVariable(f\"v{j}\", lowBound=0) for j in range(len(airports_output_df))]\n",
    "    print('1')\n",
    "\n",
    "    outputs = np.array(airports_output_df).reshape(num_dmus, num_outputs)\n",
    "    print(outputs.shape, airports_output_df.shape)\n",
    "    inputs = np.array(airports_input_df).reshape(num_dmus, num_inputs)\n",
    "    print(inputs.shape, airports_input_df.shape)\n",
    "\n",
    "    prob += pulp.lpSum([output_weights[j] * outputs[dmu_idx][j] for j in range(num_outputs)])\n",
    "    print('2')\n",
    "\n",
    "    # Add Constraints\n",
    "    for i in range(num_dmus):\n",
    "        prob += (pulp.lpSum([output_weights[j] * outputs[i, j] for j in range(num_outputs)]) <=\n",
    "                 pulp.lpSum([input_weights[j] * inputs[i, j] for j in range(num_inputs)]))\n",
    "        \n",
    "    prob += pulp.lpSum([input_weights[i] * inputs[dmu_idx, i] for i in range(num_inputs)]) == 1\n",
    "\n",
    "    # Solve the problem\n",
    "    prob.solve()\n",
    "    \n",
    "    return [pulp.value(var) for var in input_weights], [pulp.value(var) for var in output_weights]\n",
    "\n",
    "efficiencies = np.zeros(num_dmus)\n",
    "cross_efficiencies = np.zeros((num_dmus, num_dmus))\n",
    "\n",
    "for i in range(num_dmus):\n",
    "    outputs = np.array(airports_output_df).reshape(num_dmus, num_outputs)\n",
    "    inputs = np.array(airports_input_df).reshape(num_dmus, num_inputs)\n",
    "    u, v = solve_dea(i)\n",
    "    efficiencies[i] = np.sum([v[j] * outputs[i, j] for j in range(num_outputs)]) / np.sum([u[j] * inputs[i, j] for j in range(num_inputs)])\n",
    "    for j in range(num_dmus):\n",
    "        cross_efficiencies[i, j] = np.sum([v[k] * outputs[j, k] for k in range(num_outputs)]) / np.sum([u[k] * inputs[j, k] for k in range(num_inputs)])\n",
    "\n",
    "\n",
    "# Output results\n",
    "print(\"Efficiencies:\", efficiencies)\n",
    "print(\"Cross-Efficiencies:\\n\", cross_efficiencies.round(3))\n",
    "\n",
    "for i in cross_efficiencies.T:\n",
    "    print(np.mean(i).round(3))"
   ]
  },
  {
   "cell_type": "markdown",
   "metadata": {},
   "source": [
    "## Rozkład efektywności"
   ]
  },
  {
   "cell_type": "code",
   "execution_count": null,
   "metadata": {},
   "outputs": [],
   "source": [
    "weights_df = pd.read_csv('samples_homework.csv', delimiter=';')"
   ]
  },
  {
   "cell_type": "code",
   "execution_count": null,
   "metadata": {},
   "outputs": [],
   "source": [
    "buckets_df = airports_df[['city']].copy()\n",
    "buckets_df['0-0.2'] = 0\n",
    "buckets_df['0.2-0.4'] = 0\n",
    "buckets_df['0.4-0.6'] = 0\n",
    "buckets_df['0.6-0.8'] = 0\n",
    "buckets_df['0.8-1.0'] = 0\n",
    "buckets_df['EE'] = 0"
   ]
  },
  {
   "cell_type": "code",
   "execution_count": null,
   "metadata": {},
   "outputs": [],
   "source": [
    "airports_df"
   ]
  },
  {
   "cell_type": "code",
   "execution_count": null,
   "metadata": {},
   "outputs": [],
   "source": [
    "sample_e = np.zeros((len(weights_df), len(airports_df)))\n",
    "for i, sample in weights_df.iterrows():\n",
    "    i_weights = sample.filter(regex='^i')\n",
    "    o_weights = sample.filter(regex='^o')\n",
    "    for j in range(len(airports_df)):\n",
    "        sample_e[i][j] = ((airports_output_df.iloc[j] @ o_weights) / (airports_input_df.iloc[j] @ i_weights))\n",
    "sample_e = sample_e / sample_e.max(axis=1, keepdims=True) # normalize"
   ]
  },
  {
   "cell_type": "code",
   "execution_count": null,
   "metadata": {},
   "outputs": [],
   "source": [
    "for i in range(len(buckets_df)):\n",
    "    buckets_df.loc[i, '0-0.2'] = np.sum(sample_e[:, i] < 0.2)\n",
    "    buckets_df.loc[i, '0.2-0.4'] = np.sum(np.logical_and(sample_e[:, i] >= 0.2, sample_e[:, i] < 0.4))\n",
    "    buckets_df.loc[i, '0.4-0.6'] = np.sum(np.logical_and(sample_e[:, i] >= 0.4, sample_e[:, i] < 0.6))\n",
    "    buckets_df.loc[i, '0.6-0.8'] = np.sum(np.logical_and(sample_e[:, i] >= 0.6, sample_e[:, i] < 0.8))\n",
    "    buckets_df.loc[i, '0.8-1.0'] = np.sum(sample_e[:, i] >= 0.8)\n",
    "    buckets_df.loc[i, 'EE'] = sample_e[:, i].mean()\n",
    "buckets_df"
   ]
  },
  {
   "cell_type": "code",
   "execution_count": null,
   "metadata": {},
   "outputs": [],
   "source": [
    "for i, row in buckets_df.iterrows():\n",
    "    print(f'{row[\"city\"]} & {row[\"0-0.2\"]} & {row[\"0.2-0.4\"]} & {row[\"0.4-0.6\"]} & {row[\"0.6-0.8\"]} & {row[\"0.8-1.0\"]} & {round(row[\"EE\"], 3)} \\\\\\\\')"
   ]
  },
  {
   "cell_type": "code",
   "execution_count": null,
   "metadata": {},
   "outputs": [],
   "source": [
    "for i, row in buckets_df.sort_values('EE', ascending=False).iterrows():\n",
    "    print(f' {row[\"city\"]} ', end='\\\\succ')"
   ]
  }
 ],
 "metadata": {
  "kernelspec": {
   "display_name": "Python 3",
   "language": "python",
   "name": "python3"
  },
  "language_info": {
   "codemirror_mode": {
    "name": "ipython",
    "version": 3
   },
   "file_extension": ".py",
   "mimetype": "text/x-python",
   "name": "python",
   "nbconvert_exporter": "python",
   "pygments_lexer": "ipython3",
   "version": "3.9.4"
  }
 },
 "nbformat": 4,
 "nbformat_minor": 2
}
