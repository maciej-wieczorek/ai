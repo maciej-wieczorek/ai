{
 "cells": [
  {
   "cell_type": "markdown",
   "metadata": {},
   "source": [
    "# Systemy uczące się - Zad. dom. 1: Minimalizacja ryzyka empirycznego\n",
    "\n",
    "### Autor rozwiązania: <imię nazwisko, numer indeksu>\n",
    "\n",
    "Celem zadania jest zaimplementowanie własnego drzewa decyzyjnego wykorzystującego idee minimalizacji ryzyka empirycznego. "
   ]
  },
  {
   "cell_type": "markdown",
   "metadata": {},
   "source": [
    "## Twoja implementacja\n",
    "\n",
    "Twoim celem jest uzupełnić poniższą klasę `TreeNode` tak by po wywołaniu `TreeNode.fit` tworzone było drzewo decyzyjne minimalizujące ryzyko empiryczne. Drzewo powinno wspierać problem klasyfikacji wieloklasowej (jak w przykładzie poniżej). Zaimplementowany algorytm nie musi (ale może) być analogiczny do zaprezentowanego na zajęciach algorytmu dla klasyfikacji. Wszelkie przejawy inwencji twórczej wskazane. Pozostaw komenatrze w kodzie, które wyjaśniają Twoje rozwiązanie.\n",
    "\n",
    "Schemat oceniania:\n",
    "- wynik na ukrytym zbiorze testowym (automatyczna ewaluacja) celność klasyfikacji >= prostego baseline'u 1 +20%,\n",
    "- wynik na ukrytym zbiorze testowym (automatyczna ewaluacja) celność klasyfikacji >= prostego baseline'u 2 +40%,\n",
    "- wynik na ukrytym zbiorze testowym (automatyczna ewaluacja) celność klasyfikacji >= bardziej zaawansowanego baseline'u 3 +40%.\n",
    "\n",
    "Niedozwolone jest korzystanie z zewnętrznych bibliotek do tworzenia drzewa decyzyjnego (np. scikit-learn). \n",
    "Możesz jedynie korzystać z biblioteki numpy.\n",
    "\n",
    "#### Uwaga: Możesz dowolnie modyfikować elementy tego notebooka (wstawiać komórki i zmieniać kod), o ile będzie się w nim na koniec znajdowała kompletna implementacja klasy `TreeNode` w jednej komórce."
   ]
  },
  {
   "cell_type": "code",
   "execution_count": 8,
   "metadata": {},
   "outputs": [],
   "source": [
    "import numpy as np\n",
    "\n",
    "class TreeNode(object):\n",
    "\tdef __init__(self):\n",
    "\t\tself.left = None # Typ: Node, wierzchołek znajdujący się po lewej stornie\n",
    "\t\tself.right = None # Typ: Node, wierzchołek znajdujący się po prawej stornie\n",
    "\t\t\n",
    "\tdef fit(self, data, target):\n",
    "\t\t\"\"\"\n",
    "\t\tArgumenty:\n",
    "\t\tdata -- numpy.ndarray, macierz cech o wymiarach (n, m), gdzie n to liczba przykładów, a m to liczba cech\n",
    "\t\ttarget -- numpy.ndarray, wektor klas o długości n, gdzie n to liczba przykładów\n",
    "\t\t\"\"\"\n",
    "\t\ttylko numpy\n",
    "\t\t# Poniej znajdziesz przykładowy \"pseudo-kod\" rozwiązania, nie musisz się go trzymać \n",
    "\t\t# (możesz zaimplementować to w inny sposób, jeżeli wolisz)\n",
    "\t\t#\n",
    "\t\t# Znajdź najlepszy podział x, y\n",
    "\t\t# if uzyskano poprawę funkcji celu (bądź inny, zaproponowany przez Ciebie warunek):\n",
    "\t\t# \tpodziel dane na dwie części data_left i data_right, zgodnie z warunkiem\n",
    "\t\t# \tself.left = Node()\n",
    "\t\t# \tself.right = Node()\n",
    "\t\t# \tself.left.fit(data_left)\n",
    "\t\t# \tself.right.fit(data_right)\n",
    "\t\t# else:\n",
    "\t\t# \tobecny Node jest liściem, zapisz jego odpowiedź\n",
    "\t\tpass\n",
    "\t\n",
    "\tdef predict(self, data):\n",
    "\t\t\"\"\"\n",
    "\t\tArgumenty:\n",
    "\t\tdata -- numpy.ndarray, macierz cech o wymiarach (n, m), gdzie n to liczba przykładów, a m to liczba cech\n",
    "\n",
    "\t\tWartość zwracana:\n",
    "\t\tnumpy.ndarray, wektor przewidzoanych klas o długości n, gdzie n to liczba przykładów\n",
    "\t\t\"\"\"\n",
    "\t\ty_pred = np.zeros(data.shape[0])\n",
    "\t\t# Poniej znajdziesz przykładowy \"pseudo-kod\" rozwiązania, nie musisz się go trzymać \n",
    "\t\t# (możesz zaimplementować to w inny sposób, jeżeli wolisz), \n",
    "\t\t# wazne by metoda TreeNode.predict zwracała wektor przewidzianych klas\n",
    "\t\t#\n",
    "        # Dla każdego przykładu w data:\n",
    "\t\t#   node = self\n",
    "        #   if node nie jest liściem:\n",
    "        #       if warunek podziału node jest spełniony:\n",
    "        #           node = node.right\n",
    "        #       else:\n",
    "        #           node = node.left\n",
    "        #   y_pred[i] = zwróć wartość node (liść)\n",
    "\t\treturn y_pred\n"
   ]
  },
  {
   "cell_type": "markdown",
   "metadata": {},
   "source": [
    "## Przykład trenowanie i testowania drzewa\n",
    " \n",
    "Później znajduje się przykład trenowania i testowania drzewa na zbiorze danych `iris`, który zawierający 150 próbek irysów, z czego każda próbka zawiera 4 atrybuty: długość i szerokość płatków oraz długość i szerokość działki kielicha. Każda próbka należy do jednej z trzech klas: `setosa`, `versicolor` lub `virginica`, które są zakodowane jak int.\n",
    "\n",
    "Możesz go wykorzystać do testowania swojej implementacji. Możesz też zaimplementować własne testy lub użyć innych zbiorów danych, np. innych [zbiorów danych z scikit-learn](https://scikit-learn.org/stable/datasets/toy_dataset.html#toy-datasets)."
   ]
  },
  {
   "cell_type": "code",
   "execution_count": 45,
   "metadata": {},
   "outputs": [
    {
     "name": "stdout",
     "output_type": "stream",
     "text": [
      "0.42\n"
     ]
    }
   ],
   "source": [
    "from sklearn.datasets import load_iris\n",
    "from sklearn.model_selection import train_test_split\n",
    "from sklearn.metrics import accuracy_score\n",
    "\n",
    "data = load_iris()\n",
    "X_train, X_test, y_train, y_test = train_test_split(data.data, data.target, test_size=0.33, random_state=2024)\n",
    "\n",
    "tree_model = TreeNode()\n",
    "tree_model.fit(X_train, y_train)\n",
    "y_pred = tree_model.predict(X_test)\n",
    "print(accuracy_score(y_test, y_pred))"
   ]
  }
 ],
 "metadata": {
  "kernelspec": {
   "display_name": "base",
   "language": "python",
   "name": "python3"
  },
  "language_info": {
   "codemirror_mode": {
    "name": "ipython",
    "version": 3
   },
   "file_extension": ".py",
   "mimetype": "text/x-python",
   "name": "python",
   "nbconvert_exporter": "python",
   "pygments_lexer": "ipython3",
   "version": "3.9.13"
  }
 },
 "nbformat": 4,
 "nbformat_minor": 2
}
