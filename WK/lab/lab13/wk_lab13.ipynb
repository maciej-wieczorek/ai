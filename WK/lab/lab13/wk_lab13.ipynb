{
  "cells": [
    {
      "cell_type": "markdown",
      "metadata": {
        "id": "S_r0j8Xuqsga"
      },
      "source": [
        "# Widzenie komputerowe - Laboratoria nr 13"
      ]
    },
    {
      "cell_type": "markdown",
      "metadata": {
        "id": "qVWBS5p-r5j9"
      },
      "source": [
        "## Opis laboratoriów"
      ]
    },
    {
      "cell_type": "markdown",
      "metadata": {
        "id": "cd2FzMMMr9kr"
      },
      "source": [
        "- reimplementacja architektury neuronowej,\n",
        "- przeprowadzenie eksperymentów z architekturami neuronowymi,\n",
        "- prezentacja wyników działania sieci neuronowej"
      ]
    },
    {
      "cell_type": "markdown",
      "metadata": {
        "id": "WMJXpBTXtET5"
      },
      "source": [
        "## Funkcje pomocnicze"
      ]
    },
    {
      "cell_type": "markdown",
      "metadata": {
        "id": "WfiyoH2V2Htn"
      },
      "source": [
        "### Niezbędne biblioteki\n"
      ]
    },
    {
      "cell_type": "code",
      "execution_count": null,
      "metadata": {
        "colab": {
          "base_uri": "https://localhost:8080/"
        },
        "id": "G3-t1CeLX6n9",
        "outputId": "ec040e75-a815-4b67-8719-565aac08cf52"
      },
      "outputs": [],
      "source": [
        "!nvidia-smi"
      ]
    },
    {
      "cell_type": "code",
      "execution_count": null,
      "metadata": {
        "id": "Jut7uUBIHG0q"
      },
      "outputs": [],
      "source": [
        "!pip install -q tfds-nightly"
      ]
    },
    {
      "cell_type": "code",
      "execution_count": null,
      "metadata": {
        "id": "XE5KwNqA3Ots"
      },
      "outputs": [],
      "source": [
        "%matplotlib inline\n",
        "import matplotlib.pyplot as plt\n",
        "import tensorflow_datasets as tfds\n",
        "import tensorflow as tf\n",
        "# import tensorflow_hub as hub\n",
        "import numpy as np\n",
        "import cv2\n",
        "import PIL\n",
        "import imageio\n",
        "from IPython.display import Image\n",
        "\n",
        "from pprint import pprint"
      ]
    },
    {
      "cell_type": "markdown",
      "metadata": {
        "id": "b3desh1dBMaw"
      },
      "source": [
        "### Wizualizacja\n",
        "\n"
      ]
    },
    {
      "cell_type": "markdown",
      "metadata": {
        "id": "W5MYAXSgem6O"
      },
      "source": [
        "Skrypt do wyżwietlania obrazów BGR oraz Grayscale."
      ]
    },
    {
      "cell_type": "code",
      "execution_count": null,
      "metadata": {
        "id": "VCHL_RVqunsJ"
      },
      "outputs": [],
      "source": [
        "def show_images(images):\n",
        "  num_images = images.shape[0]\n",
        "  num_rows = (num_images - 1 // 10)\n",
        "  num_cols = 10\n",
        "  fig = plt.figure(figsize=(num_rows * 10, num_cols * 10))\n",
        "\n",
        "  for i in range(images.shape[0]):\n",
        "      plt.subplot(num_rows, num_cols, i+1)\n",
        "      plt.imshow(images[i, :, :, 0] * 127.5 + 127.5, cmap='gray')\n",
        "      plt.axis('off')\n",
        "\n",
        "  plt.show()\n",
        "\n",
        "\n",
        "def show_gif(images):\n",
        "  filename = 'tmp.gif'\n",
        "\n",
        "  _steps_outputs = tf.image.resize(steps_outputs, (256, 256))\n",
        "  _steps_outputs = tf.cast(_steps_outputs * 127.5 + 127.5, tf.uint8).numpy()\n",
        "\n",
        "  with imageio.get_writer(filename, mode='I') as writer:\n",
        "    for image in _steps_outputs:\n",
        "      writer.append_data(image)\n",
        "\n",
        "  with open(filename, 'rb') as file:\n",
        "      display(Image(file.read()))"
      ]
    },
    {
      "cell_type": "markdown",
      "metadata": {
        "id": "0lsYwezR-VVk"
      },
      "source": [
        "# Reimplementacja architektury neuronowej"
      ]
    },
    {
      "cell_type": "markdown",
      "metadata": {
        "id": "C61Y-tKlFyl5"
      },
      "source": [
        "Reimplementacja architektury neuronowej ma na celu odtworzenie i weryfikację rezultatów zaprezentowanych w oryginalnej pracy przedstawiającej daną architekturę. W skład reimplementacji można zaliczyć następujące kroki:\n",
        "- dobór oraz przygotowanie zbioru danych,\n",
        "- zapoznanie się z architekturą neuronową,\n",
        "- prototypowanie i testowa inferencja modelu,\n",
        "- przeprowadzenie analogicznych wyników biorąc pod uwagę hiperparametry uczenia\n",
        "\n"
      ]
    },
    {
      "cell_type": "markdown",
      "metadata": {
        "id": "PBQ9UtKVFmck"
      },
      "source": [
        "## Zbiór danych"
      ]
    },
    {
      "cell_type": "markdown",
      "metadata": {
        "id": "KyKXUiFIFowP"
      },
      "source": [
        "Dobrym początkiem pracy z reimplementacją architektury neuronowej jest odpowiedni dobór oraz przygotowanie zbioru danych.\n",
        "\n",
        "Omawianą architekturą jest [Generative Adversarial Network](https://arxiv.org/abs/1406.2661) dla obrazów, a więc przetwarzanymi danymi powinny być dane wizyjne. Celem reimplementacji jest potwierdzenie możliwości generacyjnych modelu, co nie jest bezpośrednio związane z charakterystyką danych wejściowych. Stąd, dobrym wyborem danych wejściowych wydaje się być zbiór MNIST, który jest wystarczająco zróżnicowany oraz mały, przez co potencjalne uczenie modelu na zbiorze może być efektywnie wykonane."
      ]
    },
    {
      "cell_type": "code",
      "execution_count": null,
      "metadata": {
        "id": "v0OSTdKgzG40"
      },
      "outputs": [],
      "source": [
        "train_ds, info = tfds.load('mnist', split='train', with_info=True)"
      ]
    },
    {
      "cell_type": "code",
      "execution_count": null,
      "metadata": {
        "colab": {
          "base_uri": "https://localhost:8080/",
          "height": 1000
        },
        "id": "MTePIoji1EIf",
        "outputId": "7c00b88a-0dbc-4e0d-c6cc-7c2fbb74a337"
      },
      "outputs": [],
      "source": [
        "tfds.show_examples(train_ds, info)"
      ]
    },
    {
      "cell_type": "markdown",
      "metadata": {
        "id": "Ov3HBIpMMTDk"
      },
      "source": [
        "## Architektura neuronowa"
      ]
    },
    {
      "cell_type": "markdown",
      "metadata": {
        "id": "IBF3m07YMxSA"
      },
      "source": [
        "**Generative Adversarial Network** (GAN) jest to ogólna architektura sieci neuronowej zaprezentowana pierwotnie przez Ian J. Goodfellow w swojej rozprawie doktorskiej, a następnie zaprezentowana w formie artykułu naukowego pod tym tytułem ''Generative Adversarial Network''.\n",
        "\n",
        "Sieci GAN wykorzystywane są w głównej mierze do odkrywania dystrybucji danych wejściowych oraz generowania nowych danych z poznanej wcześniej dystrybucji. Ogólny zarys architektury przedstawiony został poniżej."
      ]
    },
    {
      "cell_type": "markdown",
      "metadata": {
        "id": "uc2Bh2SAMVeP"
      },
      "source": [
        "![gan_arch.png](data:image/png;base64,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)"
      ]
    },
    {
      "cell_type": "markdown",
      "metadata": {
        "id": "y80v2XFoMw1q"
      },
      "source": [
        "GAN składa się (wg. oryginalnej architektury) z dwóch głównych komponentów: **generatora** oraz **dyskryminatora**. Zadaniem generatora jest generowanie danych, które będą przypominały dane rzeczywiste, natomiast dyskryminator odpowiada za wydanie decyzji czy dane wejściowe pochodzą z prawdziwego rozkładu danych, czy z generatora.\n",
        "\n",
        "Inspiracją do stworzenia architektury GAN jest problem szukania strategii optymalnej, znanej z **teorii gier**. Problem ten dotyczy gry losowej dla dwóch graczy, w której poszukiwana jest równowaga Nasha (t.j. taka strategia obu graczy, że żadnemu z nich nie opłaca się zmienić swojej strategii względem ustalonej strategii drugiego gracza).\n",
        "\n",
        "Przekształcając problem poszukiwania równowagi Nasha na architekturę GAN, Goodfellow przedstawił sytuację jako grę pomiędzy generatorem a dyskryminatorem. Gracz generatora stara się oszukać dyskryminator generując takie dane, które będą nierozróżnialne z rzeczywistymi danymi, natomiast gracz dyskryminatora stara się jak najlepiej klasyfikować dane wejściowe.\n",
        "\n",
        "Przy powyższej definicji problemu możemy zaproponować formalizację celu architektury jako:\n",
        "\n",
        "$$\n",
        "min_G max_D V(G,D) = E_x[log(D(x))] + E_z[log(1 - D(G(z)))]\n",
        "$$\n",
        "\n",
        "Gdzie G to model generatora, D - dyskryminatora. Powyższy wzór możemy rozważać osobno dla generatora i dyskryminatora. Względem generatora powyższy wzór możemy opisać jako: **generuj obrazy które maksymalizują wyjście dyskryminatora**, natomiast dla dyskryminatora: **maksymalizuj wyjście dla obrazów rzeczywistych i minimalizuj dla obrazów wygenerowanych**.\n",
        "\n",
        "Przekształcając powyższe wzory na kod programistyczny, otrzymujemy:"
      ]
    },
    {
      "cell_type": "code",
      "execution_count": null,
      "metadata": {
        "id": "ZOw6XAss1dSO"
      },
      "outputs": [],
      "source": [
        "bce = tf.keras.losses.BinaryCrossentropy(from_logits=True)\n",
        "\n",
        "\n",
        "def min_max_discriminator_loss(real_out, gen_out):\n",
        "    real_loss = bce(tf.ones_like(real_out), real_out)\n",
        "    gen_loss = bce(tf.zeros_like(gen_out), gen_out)\n",
        "    return real_loss + gen_loss\n",
        "\n",
        "\n",
        "def min_max_generator_loss(gen_out):\n",
        "    return bce(tf.ones_like(gen_out), gen_out)"
      ]
    },
    {
      "cell_type": "markdown",
      "metadata": {
        "id": "hjPJEWzRSJYj"
      },
      "source": [
        "Funkcja straty zdefiniowana dla dyskryminatora wykonuje binarną klasyfikację dla obrazów, gdzie klasą dla obrazów rzeczywistych jest 1, dla wygenerowanych 0.\n",
        "\n",
        "Analogicznie możemy zdefiniować funkcję straty dla generatora."
      ]
    },
    {
      "cell_type": "markdown",
      "metadata": {
        "id": "Z7PX-ga5S0B9"
      },
      "source": [
        "Inną implementacją zgodną z wcześniej przytoczonym opisem maksymalizacji i minimalizacji wyjścia dyskryminatora jest tzw. **Wasserstein loss**. Zgodnie z nią funkcję straty można rozbić bezpośrednio na dwa komponenty:\n",
        "\n",
        "- funkcja straty dla dyskryminatora:</br>\n",
        "$$max D(x) - D(G(z))$$\n",
        "- funkcja straty dla generatora:</br>\n",
        "$$max D(G(z))$$\n"
      ]
    },
    {
      "cell_type": "markdown",
      "metadata": {
        "id": "4K_J7JbmURpz"
      },
      "source": [
        "## Prototypowanie"
      ]
    },
    {
      "cell_type": "markdown",
      "metadata": {
        "id": "GKvSKgspUYuo"
      },
      "source": [
        "### Generator"
      ]
    },
    {
      "cell_type": "markdown",
      "metadata": {
        "id": "SiUtCb-VUaNN"
      },
      "source": [
        "W ogólności model generatora można matematycznie przedstawić jako funkcję:\n",
        "\n",
        "$$G: \\mathbb{R}^N \\rightarrow \\mathbb{R}^{H \\times W}$$\n",
        "\n",
        "Gdzie N to rozmiar danych wejściowycj (np. rozmiar szumu, z którego generujemy dane), a ${H \\times W}$ to wysokość i szerokość generowanego obrazu.\n",
        "\n",
        "A więc, model generatora na wejściu otrzymywać będzie pewien losowy wektor i przekształcać go będzie w dane o rozmiarze zgodnym z obrazami (w tym przypadku dla MNIST: 28 x 28 x 1)."
      ]
    },
    {
      "cell_type": "code",
      "execution_count": null,
      "metadata": {
        "id": "6GUALjOa1lbt"
      },
      "outputs": [],
      "source": [
        "class Generator(tf.keras.Model):\n",
        "\n",
        "  def __init__(self):\n",
        "    super().__init__()\n",
        "\n",
        "    self.model = tf.keras.Sequential([\n",
        "        # flat\n",
        "        tf.keras.layers.Dense(7*7*256),\n",
        "        tf.keras.layers.BatchNormalization(),\n",
        "        tf.keras.layers.LeakyReLU(),\n",
        "        tf.keras.layers.Reshape([7, 7, 256]),\n",
        "        # conv without stride (7x7)\n",
        "        tf.keras.layers.Conv2D(128, 5, 1, 'same'),\n",
        "        tf.keras.layers.BatchNormalization(),\n",
        "        tf.keras.layers.LeakyReLU(),\n",
        "        # t_conv with stride (14x14)\n",
        "        tf.keras.layers.Conv2DTranspose(128, 5, 2, 'same'),\n",
        "        tf.keras.layers.BatchNormalization(),\n",
        "        tf.keras.layers.LeakyReLU(),\n",
        "        # conv without stride (14x14)\n",
        "        tf.keras.layers.Conv2D(64, 5, 1, 'same'),\n",
        "        tf.keras.layers.BatchNormalization(),\n",
        "        tf.keras.layers.LeakyReLU(),\n",
        "        # t_conv with stride (28x28)\n",
        "        tf.keras.layers.Conv2DTranspose(32, 5, 2, 'same'),\n",
        "        tf.keras.layers.BatchNormalization(),\n",
        "        tf.keras.layers.LeakyReLU(),\n",
        "        # conv without stride\n",
        "        tf.keras.layers.Conv2D(1, 5, 1, 'same', activation='tanh')\n",
        "    ])\n",
        "\n",
        "  def call(self, noise, training):\n",
        "    return self.model(noise, training=training)"
      ]
    },
    {
      "cell_type": "code",
      "execution_count": null,
      "metadata": {
        "colab": {
          "base_uri": "https://localhost:8080/",
          "height": 146
        },
        "id": "EH_W4I24XR3D",
        "outputId": "89391cc1-ed2e-4e6d-e31a-886bc86fdf1f"
      },
      "outputs": [],
      "source": [
        "generator = Generator()\n",
        "\n",
        "dummy_input = tf.random.uniform([10, 32], -1, 1)\n",
        "dummy_output = generator(dummy_input, training=False)\n",
        "\n",
        "show_images(tf.clip_by_value(dummy_output, -1, 1))"
      ]
    },
    {
      "cell_type": "markdown",
      "metadata": {
        "id": "vz11mYJ7YCKH"
      },
      "source": [
        "### Dyskryminator"
      ]
    },
    {
      "cell_type": "markdown",
      "metadata": {
        "id": "sOm9SxvnYD8F"
      },
      "source": [
        "Analogicznie możemy zdefiniować dyskryminator jako:\n",
        "\n",
        "$$D: \\mathbb{R}^{H \\times W} \\rightarrow \\mathbb{R}$$\n",
        "\n",
        "Dyskryminator jako wejście pobiera obrazy i przekształca je do jednej wartości, która w zależności od tego jaką funkcję straty wykorzystamy może oznaczać albo prawdopodobieństwo tego, czy obraz wejściowy jest prawdziwy czy fałszywy, albo wynik, który im większy tym bardziej oznacza, że dane wejściowe są prawdziwe i analogicznie im mniejszy tym bardziej oznacza to, że dane wejściowe są wygenerowane.\n"
      ]
    },
    {
      "cell_type": "code",
      "execution_count": null,
      "metadata": {
        "id": "0QhkfB9u1vbs"
      },
      "outputs": [],
      "source": [
        "class Discriminator(tf.keras.Model):\n",
        "\n",
        "  def __init__(self):\n",
        "    super().__init__()\n",
        "\n",
        "    self.image_encoder = tf.keras.Sequential([\n",
        "        # conv with stride (out = 14x14)\n",
        "        tf.keras.layers.Conv2D(64, 5, 2, 'same'),\n",
        "        tf.keras.layers.BatchNormalization(),\n",
        "        tf.keras.layers.LeakyReLU(),\n",
        "        tf.keras.layers.Dropout(0.3),\n",
        "        # conv with steide (out = 7x7)\n",
        "        tf.keras.layers.Conv2D(128, 3, 2, 'same'),\n",
        "        tf.keras.layers.BatchNormalization(),\n",
        "        tf.keras.layers.LeakyReLU(),\n",
        "        tf.keras.layers.Dropout(0.3),\n",
        "        # flatten + hidden layer\n",
        "        tf.keras.layers.Flatten(),\n",
        "        tf.keras.layers.Dense(128),\n",
        "        tf.keras.layers.BatchNormalization(),\n",
        "        tf.keras.layers.LeakyReLU(),\n",
        "        tf.keras.layers.Dropout(0.3),\n",
        "        # prediction (LOGITS!)\n",
        "        tf.keras.layers.Dense(1)\n",
        "    ])\n",
        "\n",
        "  def call(self, images, training):\n",
        "    return self.image_encoder(images, training=training)"
      ]
    },
    {
      "cell_type": "code",
      "execution_count": null,
      "metadata": {
        "colab": {
          "base_uri": "https://localhost:8080/",
          "height": 320
        },
        "id": "UH5J9poRZAJs",
        "outputId": "82da60b6-7550-459d-f6e9-dc691f16e9cd"
      },
      "outputs": [],
      "source": [
        "discriminator = Discriminator()\n",
        "\n",
        "dummy_input = tf.random.uniform([10, 28, 28, 1], -1, 1)\n",
        "dummy_output = discriminator(dummy_input, training=False)\n",
        "\n",
        "show_images(dummy_input)\n",
        "print(dummy_output.numpy())"
      ]
    },
    {
      "cell_type": "markdown",
      "metadata": {
        "id": "y8hjLFO0ZcQu"
      },
      "source": [
        "### Szum wejściowy"
      ]
    },
    {
      "cell_type": "markdown",
      "metadata": {
        "id": "KlRDIAorZeQ9"
      },
      "source": [
        "Ostatnim elementem implementacji modelu jest generowanie danych wejściowych. Podstawowym sposobem dostarczania szumu może być próbkowanie pewnego rozkładu danych np. rozkładu normalnego lub nawet jednostajnego.\n",
        "\n",
        "**Uwaga: generowanie danych wejściowych może być zaimplementowane jako bardziej pomysłowe i może stanowić nawet główny punkt implementacji/usprawnienia modelu GAN.**"
      ]
    },
    {
      "cell_type": "code",
      "execution_count": null,
      "metadata": {
        "id": "JujHgWVX1yaz"
      },
      "outputs": [],
      "source": [
        "class NoiseGenerator(tf.keras.layers.Layer):\n",
        "\n",
        "  def __init__(self, distribution_size):\n",
        "    super().__init__()\n",
        "    self.distribution_size = distribution_size\n",
        "\n",
        "  def call(self, size):\n",
        "    return tf.random.uniform([size, self.distribution_size], -1, 1)"
      ]
    },
    {
      "cell_type": "markdown",
      "metadata": {
        "id": "3DMCRg1WaXwj"
      },
      "source": [
        "# Eksperyment"
      ]
    },
    {
      "cell_type": "markdown",
      "metadata": {
        "id": "KbXn_kaLaZyj"
      },
      "source": [
        "W ramach eksperymentu wykonane zostanie uczenie powyżej zdefiniowanych komponentów architektury GAN przez ustaloną liczbę epok. W tym celu zdefiniowane zostaną funkcje pomocnicze, zoptymalizowane pod przetwarzanie na jednostkach obliczeniowych GPU.\n",
        "\n",
        "Funkcja pojedynczej iteracji uczenia modelu polega na:\n",
        "- odpytaniu dyskryminatora na danych rzeczywistych,\n",
        "- odpytaniu dyskryminatora na danych wygenerowanych.\n",
        "\n",
        "Natomiast samo odpytanie testowe modelu polega na jedynie wygenerowaniu danych (bez odpytania dyskryminatora)."
      ]
    },
    {
      "cell_type": "code",
      "execution_count": null,
      "metadata": {
        "id": "uiQJ-Wz513yI"
      },
      "outputs": [],
      "source": [
        "def train_step_template(generator, discriminator, noise, d_optim, g_optim, d_loss_f, g_loss_f):\n",
        "\n",
        "  @tf.function\n",
        "  def _train_step_template(images, labels):\n",
        "    with tf.GradientTape() as d_tape, tf.GradientTape() as g_tape:\n",
        "      real_out = discriminator(images, training=True)\n",
        "      gen_out = discriminator(generator(noise(tf.shape(labels)[0]), training=True), training=True)\n",
        "\n",
        "      d_loss = d_loss_f(real_out, gen_out)\n",
        "      g_loss = g_loss_f(gen_out)\n",
        "\n",
        "    d_grads = d_tape.gradient(d_loss, discriminator.trainable_variables)\n",
        "    g_grads = g_tape.gradient(g_loss, generator.trainable_variables + noise.trainable_variables)\n",
        "\n",
        "    d_optim.apply_gradients(zip(d_grads, discriminator.trainable_variables))\n",
        "    g_optim.apply_gradients(zip(g_grads, generator.trainable_variables + noise.trainable_variables))\n",
        "\n",
        "  return _train_step_template"
      ]
    },
    {
      "cell_type": "code",
      "execution_count": null,
      "metadata": {
        "id": "5IewWDVs15MF"
      },
      "outputs": [],
      "source": [
        "def gen_step_template(generator, noise):\n",
        "\n",
        "  @tf.function\n",
        "  def _gen_step_template(num_images):\n",
        "    return generator(noise(num_images)) / 2 + 0.5\n",
        "\n",
        "  return _gen_step_template"
      ]
    },
    {
      "cell_type": "markdown",
      "metadata": {
        "id": "MV9Aa5Q4bdQA"
      },
      "source": [
        "Ostatnim etapem jest przygotowanie pętli uczenia, która zawiera również przygotowanie danych wejściowych do przetwarzania grupowego.\n",
        "\n",
        "Najpierw zbiór traningowy (*warto zauważyć, że nie korzystamy ze zbioru testowego!*) jest przetworzony do formatu oczekiwanego przez dyskryminator (t.j. obrazy grayscale o danych zmiennoprzecinkowych z zakresu \\[0, 1\\]).\n",
        "\n",
        "Następnie zbiór danych jest przetworzony wiele razy (sterowane parametrem *epochs*), przy czym po każdej epoce wyświetlonych jest 10 losowo wygenerowanych danych."
      ]
    },
    {
      "cell_type": "code",
      "execution_count": null,
      "metadata": {
        "id": "3O0AjgcN2HsR"
      },
      "outputs": [],
      "source": [
        "def preprocess(batch):\n",
        "  batch['image'] = tf.image.convert_image_dtype(batch['image'], tf.float32)\n",
        "  batch['image'] = batch['image'] * 2 - 1\n",
        "  return batch\n",
        "\n",
        "def train(train_step, gen_step, epochs, batch_size):\n",
        "  _train_ds = train_ds \\\n",
        "    .shuffle(5000) \\\n",
        "    .map(preprocess, num_parallel_calls=8) \\\n",
        "    .batch(batch_size) \\\n",
        "    .prefetch(4)\n",
        "\n",
        "  for epoch in range(epochs):\n",
        "\n",
        "    for batch in _train_ds:\n",
        "      train_step(batch['image'], batch['label'])\n",
        "\n",
        "    print('Epoch {0}/{1}'.format(epoch, epochs))\n",
        "\n",
        "    images = gen_step(num_images=10)\n",
        "    show_images(images)"
      ]
    },
    {
      "cell_type": "code",
      "execution_count": null,
      "metadata": {
        "colab": {
          "base_uri": "https://localhost:8080/",
          "height": 356
        },
        "id": "5UZVrH3H2XdA",
        "outputId": "73108853-8183-41e9-df5a-020fc826d706"
      },
      "outputs": [],
      "source": [
        "\n",
        "input_distribution_size = 100\n",
        "learning_rate = 1e-4\n",
        "batch_size = 256\n",
        "num_epochs = 50\n",
        "\n",
        "generator = Generator()\n",
        "discriminator = Discriminator()\n",
        "noise = NoiseGenerator(input_distribution_size)\n",
        "d_optim = tf.optimizers.Adam(learning_rate)\n",
        "g_optim = tf.optimizers.Adam(learning_rate)\n",
        "\n",
        "train_step = train_step_template(\n",
        "    generator=generator,\n",
        "    discriminator=discriminator,\n",
        "    noise=noise,\n",
        "    d_optim=d_optim,\n",
        "    g_optim=g_optim,\n",
        "    d_loss_f=min_max_discriminator_loss,\n",
        "    g_loss_f=min_max_generator_loss,\n",
        ")\n",
        "\n",
        "gen_step = gen_step_template(\n",
        "    generator=generator,\n",
        "    noise=noise\n",
        ")\n",
        "\n",
        "gen_step(num_images=10)\n",
        "\n",
        "train(\n",
        "    train_step=train_step,\n",
        "    gen_step=gen_step,\n",
        "    batch_size=batch_size,\n",
        "    epochs=num_epochs\n",
        ")"
      ]
    },
    {
      "cell_type": "markdown",
      "metadata": {
        "id": "NFO-nbvEUNCX"
      },
      "source": [
        "# Zadanie 1"
      ]
    },
    {
      "cell_type": "markdown",
      "metadata": {
        "id": "zx1q5iInp8c8"
      },
      "source": [
        "Zaimplementuj funkcje straty wg. Wasserstain Loss i przeprowadź analogiczną pętle uczenia co powyżej."
      ]
    },
    {
      "cell_type": "code",
      "execution_count": null,
      "metadata": {
        "id": "EZZOeoIpUOIX"
      },
      "outputs": [],
      "source": [
        "def w_discriminator_loss(real_out, gen_out):\n",
        "    return tf.reduce_mean(gen_out) - tf.reduce_mean(real_out)\n",
        "\n",
        "\n",
        "def w_generator_loss(gen_out):\n",
        "    return -tf.reduce_mean(gen_out)"
      ]
    },
    {
      "cell_type": "code",
      "execution_count": null,
      "metadata": {
        "colab": {
          "base_uri": "https://localhost:8080/",
          "height": 1000
        },
        "id": "lHCoDfS7c5k1",
        "outputId": "c53ab67b-6533-4432-e626-0310e22c1e5d"
      },
      "outputs": [],
      "source": [
        "input_distribution_size = 100\n",
        "learning_rate = 1e-4\n",
        "batch_size = 256\n",
        "num_epochs = 50\n",
        "\n",
        "generator = Generator()\n",
        "discriminator = Discriminator()\n",
        "noise = NoiseGenerator(input_distribution_size)\n",
        "d_optim = tf.optimizers.Adam(learning_rate)\n",
        "g_optim = tf.optimizers.Adam(learning_rate)\n",
        "\n",
        "train_step = train_step_template(\n",
        "    generator=generator,\n",
        "    discriminator=discriminator,\n",
        "    noise=noise,\n",
        "    d_optim=d_optim,\n",
        "    g_optim=g_optim,\n",
        "    d_loss_f=w_discriminator_loss,\n",
        "    g_loss_f=w_generator_loss,\n",
        ")\n",
        "\n",
        "gen_step = gen_step_template(\n",
        "    generator=generator,\n",
        "    noise=noise\n",
        ")\n",
        "\n",
        "train(\n",
        "    train_step=train_step,\n",
        "    gen_step=gen_step,\n",
        "    batch_size=batch_size,\n",
        "    epochs=num_epochs\n",
        ")"
      ]
    },
    {
      "cell_type": "markdown",
      "metadata": {
        "id": "TkXFMlQSqEgJ"
      },
      "source": [
        "# Zadanie 2"
      ]
    },
    {
      "cell_type": "markdown",
      "metadata": {
        "id": "VnGns2blqGB4"
      },
      "source": [
        "Wykonaj eksperyment polegający na wygenerowaniu obrazów ''pomiędzy'' trzema cyframi: 8, 3 i 7. Wygenerowanie powinno polegać na znalezieniu reprezentatywnych szumów wejściowych z których generator jest w stanie wygenerować obrazy cyfr, a następnie interpolowaniu liniowym pomiędzy znalezionymi wektorami i wygenerowaniu wyników pośrednich. Generowanie powinno odbywać się przy pomocy generatora wyuczonego z poprzednich zadań.\n",
        "\n",
        "Interpolacja powinna zawierać po 20 kroków pośrednich pomiędzy parami (8, 3) i (3, 7).\n",
        "\n",
        "**Uwaga: najprostszy sposób na znalezienie szumu z którego otrzymujemy daną cyfrę jest losowe odpytywanie modelu i zapisanie takiego wektora, który prowadzi do tej cyfry.**"
      ]
    },
    {
      "cell_type": "code",
      "execution_count": null,
      "metadata": {
        "id": "MOJ70g-bbzqY"
      },
      "outputs": [],
      "source": [
        "noise = NoiseGenerator(input_distribution_size)"
      ]
    },
    {
      "cell_type": "code",
      "execution_count": null,
      "metadata": {
        "id": "96giFqUcchTm"
      },
      "outputs": [],
      "source": [
        "tensor_8 = tf.constant([[-3.5699630e-01, -1.0786557e-01, -4.0884829e-01,  6.0812831e-01,\n",
        "        -6.1289454e-01,  7.1832180e-02, -4.0198326e-01, -8.5338354e-01,\n",
        "         9.1971517e-01,  8.0355000e-01,  2.0865202e-02, -2.4564266e-01,\n",
        "         8.7217879e-01,  3.4887695e-01, -9.0345120e-01, -4.2886305e-01,\n",
        "         3.3698893e-01,  4.8478317e-01,  3.9796376e-01, -1.2684011e-01,\n",
        "        -8.1806684e-01,  2.2171974e-01,  1.8321061e-01,  8.5657978e-01,\n",
        "         5.6256938e-01, -7.2857404e-01,  4.2420959e-01,  8.5695839e-01,\n",
        "         8.8809419e-01,  9.5716476e-02, -2.3926401e-01,  5.0591755e-01,\n",
        "        -1.2237501e-01, -9.6091747e-02, -8.1692362e-01,  9.6632242e-01,\n",
        "         7.7735567e-01,  4.2269135e-01, -1.2033081e-01,  6.3017845e-01,\n",
        "        -9.5916557e-01, -7.6980996e-01, -2.1819639e-01, -2.1445513e-02,\n",
        "        -5.3569293e-01, -5.9462070e-02,  9.6648455e-02, -3.1479263e-01,\n",
        "        -5.7385921e-01, -1.2336826e-01, -8.2469463e-02, -7.1372080e-01,\n",
        "        -4.2203403e-01,  7.9355431e-01,  4.6487641e-01, -3.5957527e-01,\n",
        "        -7.2737432e-01,  6.0043907e-01, -1.0705972e-01,  3.2458258e-01,\n",
        "         2.3327446e-01, -1.5949631e-01,  8.0548787e-01, -5.3579664e-01,\n",
        "        -1.2599564e-01, -3.7160778e-01, -1.1664057e-01,  3.5850263e-01,\n",
        "         2.3706985e-01,  5.7353234e-01,  6.5515256e-01, -4.1032124e-01,\n",
        "        -1.2852073e-01, -9.7896004e-01,  6.5441513e-01, -4.2954516e-01,\n",
        "         2.3469257e-01, -5.4703355e-01,  7.7073574e-02, -7.3000717e-01,\n",
        "         1.6591144e-01,  4.2502260e-01,  6.8116188e-04, -1.8622136e-01,\n",
        "        -9.9505830e-01,  9.4819927e-01, -2.2352600e-01, -9.9964237e-01,\n",
        "         1.7290974e-01,  2.0138216e-01,  5.7489944e-01,  6.3184190e-01,\n",
        "        -3.4983230e-01, -2.3102760e-02,  7.1650267e-02, -4.3157101e-02,\n",
        "        -9.8817801e-01,  3.9443493e-02, -8.9137173e-01,  7.0140791e-01]],\n",
        "      dtype=tf.float32)\n",
        "\n",
        "tensor_7 = tf.constant([[ 0.94826555,  0.42339516, -0.04063869,  0.26326728,  0.7845919 ,\n",
        "        -0.13998175,  0.2872126 ,  0.13648057, -0.8723743 ,  0.36828208,\n",
        "        -0.35895705, -0.6644583 , -0.8113601 ,  0.5841088 ,  0.67853594,\n",
        "         0.8167336 , -0.14526844,  0.4436791 , -0.5787151 ,  0.58999205,\n",
        "         0.3755176 , -0.3248675 ,  0.96412635, -0.29602528,  0.95680547,\n",
        "        -0.35494375,  0.9753535 ,  0.73136854,  0.394315  ,  0.58574796,\n",
        "         0.12170696, -0.10194635, -0.6244719 ,  0.6830373 ,  0.07182312,\n",
        "         0.04384327, -0.5224402 , -0.9062307 ,  0.5421591 , -0.1775608 ,\n",
        "        -0.31238103,  0.91558146,  0.79875135,  0.5509975 , -0.14554405,\n",
        "         0.01716566,  0.04474568,  0.30872512,  0.24719954,  0.27465296,\n",
        "        -0.11941147,  0.8550527 , -0.77847576,  0.95076036, -0.36377668,\n",
        "        -0.140486  , -0.3559966 ,  0.21557045,  0.09709096,  0.63673115,\n",
        "        -0.9777992 ,  0.59151196,  0.5675335 ,  0.8979249 ,  0.56562996,\n",
        "         0.5063846 , -0.8101623 ,  0.37206078,  0.9036293 , -0.1970594 ,\n",
        "         0.19852185, -0.7015085 ,  0.02512455,  0.54162717, -0.4226687 ,\n",
        "         0.7572341 ,  0.60098267, -0.6629436 , -0.70595884,  0.1387093 ,\n",
        "         0.9745536 , -0.28226876, -0.22493505,  0.06077647, -0.13156295,\n",
        "         0.6131685 , -0.21286702, -0.02258492, -0.26021075,  0.4803872 ,\n",
        "        -0.8161955 , -0.71050334, -0.29614353,  0.24911857, -0.44697666,\n",
        "        -0.04439783,  0.3694458 , -0.7443023 , -0.06353211, -0.04999828]],\n",
        "      dtype=tf.float32)\n",
        "\n",
        "tensor_3 = tf.constant([[-0.28712225, -0.83823824, -0.6654346 , -0.8126211 , -0.4311297 ,\n",
        "         0.44982743,  0.12881207,  0.4708388 , -0.7906108 ,  0.70244956,\n",
        "        -0.04438019,  0.05535126,  0.2853093 ,  0.39813685,  0.25900817,\n",
        "        -0.70524526,  0.6020143 ,  0.7118602 ,  0.684314  ,  0.35418797,\n",
        "        -0.57683444, -0.8446045 ,  0.5208185 ,  0.5884366 , -0.6116774 ,\n",
        "        -0.3176458 , -0.54738355, -0.5611634 , -0.7848034 ,  0.390193  ,\n",
        "        -0.47767568, -0.65523887, -0.5465007 , -0.3540449 ,  0.35875583,\n",
        "         0.09247136, -0.86268663,  0.12232375, -0.37292147,  0.98332286,\n",
        "        -0.28672647,  0.8890457 ,  0.8861561 ,  0.38802004,  0.51608706,\n",
        "        -0.5406072 , -0.1853249 ,  0.738909  ,  0.56186485,  0.24164605,\n",
        "        -0.47963214,  0.23443627,  0.9168682 ,  0.9575541 , -0.84012794,\n",
        "         0.36145496,  0.14305615,  0.56722474, -0.280257  ,  0.6049161 ,\n",
        "         0.3120339 , -0.57269883,  0.31036854,  0.7859447 ,  0.81578183,\n",
        "        -0.9626169 , -0.35631728, -0.7911973 ,  0.03362465,  0.7604773 ,\n",
        "         0.41552258, -0.559273  ,  0.28389335,  0.5229595 ,  0.3428421 ,\n",
        "        -0.17086267, -0.74572396,  0.32835674,  0.52427053,  0.27863073,\n",
        "         0.48570418,  0.8233185 , -0.46130776, -0.672868  ,  0.3772347 ,\n",
        "         0.999979  ,  0.04883218,  0.8966367 ,  0.48493695,  0.219033  ,\n",
        "         0.19915938,  0.3362689 , -0.76510644,  0.18495631, -0.9700382 ,\n",
        "         0.23542929,  0.18243194, -0.8310685 ,  0.5207317 , -0.8454745 ]],\n",
        "      dtype=tf.float32)"
      ]
    },
    {
      "cell_type": "code",
      "execution_count": null,
      "metadata": {
        "colab": {
          "base_uri": "https://localhost:8080/",
          "height": 102
        },
        "id": "o5fpj9uyrCGP",
        "outputId": "2b86eac1-affd-434a-9f5f-5688b55279a0"
      },
      "outputs": [],
      "source": [
        "one_input = tensor_8\n",
        "one_output = generator(one_input)\n",
        "show_images(one_output)"
      ]
    },
    {
      "cell_type": "code",
      "execution_count": null,
      "metadata": {
        "colab": {
          "base_uri": "https://localhost:8080/",
          "height": 102
        },
        "id": "nuxGkKU0waYJ",
        "outputId": "fd6aea4d-6989-4a51-a49e-03cf7d9b9e47"
      },
      "outputs": [],
      "source": [
        "one_input = tensor_3\n",
        "one_output = generator(one_input)\n",
        "show_images(one_output)"
      ]
    },
    {
      "cell_type": "code",
      "execution_count": null,
      "metadata": {
        "colab": {
          "base_uri": "https://localhost:8080/",
          "height": 102
        },
        "id": "d8qzsWthFvYc",
        "outputId": "c15dcc2f-e0e1-49ee-f8ee-6a77265990b2"
      },
      "outputs": [],
      "source": [
        "one_input = tensor_7\n",
        "one_output = generator(one_input)\n",
        "show_images(one_output)"
      ]
    },
    {
      "cell_type": "code",
      "execution_count": null,
      "metadata": {
        "id": "0nOCHzuTfZT2"
      },
      "outputs": [],
      "source": [
        "def interpolate_vectors(vec1, vec2, num_points):\n",
        "    vec1 = np.array(vec1)\n",
        "    vec2 = np.array(vec2)\n",
        "\n",
        "    t_values = np.linspace(0, 1, num_points)\n",
        "    interpolated_vectors = [(1 - t) * vec1 + t * vec2 for t in t_values]\n",
        "\n",
        "    return interpolated_vectors"
      ]
    },
    {
      "cell_type": "code",
      "execution_count": null,
      "metadata": {
        "colab": {
          "base_uri": "https://localhost:8080/"
        },
        "id": "weDcgg-QyEj7",
        "outputId": "b8b0830f-b435-457b-ad18-10c36cfe5aa6"
      },
      "outputs": [],
      "source": [
        "num_interp = 20\n",
        "\n",
        "# TODO\n",
        "steps_outputs_1 = tf.constant(np.array([generator(vec) for vec in interpolate_vectors(tensor_8, tensor_3, num_interp)]).reshape(num_interp, 28, 28, 1).repeat(3, axis=3))\n",
        "steps_outputs_2 = tf.constant(np.array([generator(vec) for vec in interpolate_vectors(tensor_3, tensor_7, num_interp)]).reshape(num_interp, 28, 28, 1).repeat(3, axis=3))\n",
        "\n",
        "steps_outputs = tf.concat([steps_outputs_1, steps_outputs_2], 0)"
      ]
    },
    {
      "cell_type": "code",
      "execution_count": null,
      "metadata": {
        "colab": {
          "base_uri": "https://localhost:8080/",
          "height": 273
        },
        "id": "ABpsJC6-AmBh",
        "outputId": "7502005f-68c3-472a-f42b-a55a4d0c3b0e"
      },
      "outputs": [],
      "source": [
        "# here, steps_outputs should be a tensor [None, 28, 28, 1]\n",
        "show_gif(steps_outputs)"
      ]
    }
  ],
  "metadata": {
    "accelerator": "GPU",
    "colab": {
      "provenance": [],
      "toc_visible": true
    },
    "kernelspec": {
      "display_name": "Python 3",
      "name": "python3"
    },
    "language_info": {
      "codemirror_mode": {
        "name": "ipython",
        "version": 3
      },
      "file_extension": ".py",
      "mimetype": "text/x-python",
      "name": "python",
      "nbconvert_exporter": "python",
      "pygments_lexer": "ipython3",
      "version": "3.9.4"
    }
  },
  "nbformat": 4,
  "nbformat_minor": 0
}
