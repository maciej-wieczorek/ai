{
 "cells": [
  {
   "cell_type": "markdown",
   "metadata": {},
   "source": [
    "# WK - Projekt 1\n",
    "### Adam Wiatrowski, 148510\n",
    "### Maciej Wieczorek, 148141"
   ]
  },
  {
   "cell_type": "code",
   "execution_count": null,
   "metadata": {},
   "outputs": [],
   "source": [
    "import cv2\n",
    "import numpy as np\n",
    "from pathlib import Path\n",
    "import PIL\n",
    "from ipywidgets import widgets, interact\n",
    "from IPython.display import display, clear_output\n",
    "from skimage.exposure import rescale_intensity"
   ]
  },
  {
   "cell_type": "code",
   "execution_count": null,
   "metadata": {},
   "outputs": [],
   "source": [
    "def imshow(a):\n",
    "  a = a.clip(0, 255).astype('uint8')\n",
    "  if a.ndim == 3:\n",
    "    if a.shape[2] == 4:\n",
    "      a = cv2.cvtColor(a, cv2.COLOR_BGRA2RGBA)\n",
    "    else:\n",
    "      a = cv2.cvtColor(a, cv2.COLOR_BGR2RGB)\n",
    "  display(PIL.Image.fromarray(a))"
   ]
  },
  {
   "cell_type": "code",
   "execution_count": null,
   "metadata": {},
   "outputs": [],
   "source": [
    "def imshow_pixel(p):\n",
    "    imshow(np.full((64, 64, 3), p))"
   ]
  },
  {
   "cell_type": "markdown",
   "metadata": {},
   "source": [
    "# Katedra"
   ]
  },
  {
   "cell_type": "code",
   "execution_count": null,
   "metadata": {},
   "outputs": [],
   "source": [
    "DATA_DIR = 'cathedral'\n",
    "imgs = []\n",
    "imgs_gray = []\n",
    "for img_path in Path(DATA_DIR).iterdir(): \n",
    "    imgs.append(cv2.imread(str(img_path)))\n",
    "    imgs_gray.append(cv2.imread(str(img_path), 0))\n",
    "\n",
    "imgs = np.array(imgs)\n",
    "imgs_gray = np.array(imgs_gray)"
   ]
  },
  {
   "cell_type": "markdown",
   "metadata": {},
   "source": [
    "### Uśrednianie"
   ]
  },
  {
   "cell_type": "code",
   "execution_count": null,
   "metadata": {},
   "outputs": [],
   "source": [
    "imshow(np.average(imgs, axis=0))"
   ]
  },
  {
   "cell_type": "markdown",
   "metadata": {},
   "source": [
    "### Mediana"
   ]
  },
  {
   "cell_type": "code",
   "execution_count": null,
   "metadata": {},
   "outputs": [],
   "source": [
    "imshow(np.median(imgs, axis=0))"
   ]
  },
  {
   "cell_type": "markdown",
   "metadata": {},
   "source": [
    "### Odległość od globlnego średniego koloru"
   ]
  },
  {
   "cell_type": "code",
   "execution_count": null,
   "metadata": {},
   "outputs": [],
   "source": [
    "avg_color = np.average(imgs.reshape(-1, 3), axis=0)\n",
    "imshow_pixel(avg_color)"
   ]
  },
  {
   "cell_type": "code",
   "execution_count": null,
   "metadata": {},
   "outputs": [],
   "source": [
    "result1 = np.zeros_like(imgs[0])\n",
    "for i in range(imgs.shape[1]):\n",
    "    for j in range(imgs.shape[2]):\n",
    "        k = np.argmin(np.linalg.norm(imgs[:,i,j] - avg_color, axis=1))\n",
    "        result1[i][j] = imgs[k][i][j]\n",
    "\n",
    "imshow(result1)"
   ]
  },
  {
   "cell_type": "code",
   "execution_count": null,
   "metadata": {},
   "outputs": [],
   "source": [
    "imshow_pixel(result1[415,319])\n",
    "print(result1[415,319]) # duża odległość na trzecim kanale\n",
    "print(avg_color)"
   ]
  },
  {
   "cell_type": "markdown",
   "metadata": {},
   "source": [
    "### Minimalna z maksymalnych odległości każdego kanału od globalnego średniego koloru"
   ]
  },
  {
   "cell_type": "code",
   "execution_count": null,
   "metadata": {},
   "outputs": [],
   "source": [
    "result2 = np.zeros_like(imgs[0])\n",
    "for i in range(imgs.shape[1]):\n",
    "    for j in range(imgs.shape[2]):\n",
    "        k = np.argmin(np.max(np.abs(imgs[:,i,j] - avg_color), axis=1))\n",
    "        result2[i][j] = imgs[k][i][j]\n",
    "\n",
    "imshow(result2)"
   ]
  },
  {
   "cell_type": "code",
   "execution_count": null,
   "metadata": {},
   "outputs": [],
   "source": [
    "# dodadkowa mała poprawa z wykorzystaniem erozji\n",
    "struct = np.ones([2, 2], np.uint8)\n",
    "imshow(cv2.erode(result2, struct, iterations=1))"
   ]
  },
  {
   "cell_type": "markdown",
   "metadata": {},
   "source": [
    "# Oświetlenie"
   ]
  },
  {
   "cell_type": "code",
   "execution_count": null,
   "metadata": {},
   "outputs": [],
   "source": [
    "DATA_DIR = 'bronze'\n",
    "imgs = []\n",
    "imgs_gray = []\n",
    "for img_path in Path(DATA_DIR).iterdir():\n",
    "  if(str(img_path)[-3:] == \"JPG\"):\n",
    "    imgs.append(cv2.imread(str(img_path)))\n",
    "    imgs_gray.append(cv2.imread(str(img_path), 0))"
   ]
  },
  {
   "cell_type": "code",
   "execution_count": null,
   "metadata": {},
   "outputs": [],
   "source": [
    "# Wczytanie obrazu końcowego ze zbioru zadań\n",
    "\n",
    "target = cv2.imread(\"result.png\")\n",
    "target_gray = cv2.imread(\"result.png\", 0)\n",
    "\n",
    "imshow(target)\n",
    "imshow(target_gray)"
   ]
  },
  {
   "cell_type": "code",
   "execution_count": null,
   "metadata": {},
   "outputs": [],
   "source": [
    "# Mediana\n",
    "result_median = np.median(imgs, axis=0)\n",
    "\n",
    "# Średnia\n",
    "result_mean = np.mean(imgs, axis=0)\n",
    "\n",
    "imshow(np.concatenate([result_median, result_mean], 1))"
   ]
  },
  {
   "cell_type": "code",
   "execution_count": null,
   "metadata": {},
   "outputs": [],
   "source": [
    "# Max\n",
    "result_max = np.max(imgs, axis=0)\n",
    "\n",
    "# Min\n",
    "result_min = np.min(imgs, axis=0)\n",
    "\n",
    "\n",
    "imshow(np.concatenate([result_max, result_min], 1))"
   ]
  },
  {
   "cell_type": "markdown",
   "metadata": {},
   "source": [
    "### Podzielenie obrazów ze względu na ich stopnie jasności"
   ]
  },
  {
   "cell_type": "code",
   "execution_count": null,
   "metadata": {},
   "outputs": [],
   "source": [
    "results = np.zeros_like(imgs)\n",
    "\n",
    "g_copy = np.copy(imgs_gray)\n",
    "for im in range(results.shape[0]):\n",
    "  for i in range(results.shape[1]):\n",
    "    for j in range(results.shape[2]):\n",
    "      k = np.argmax([x[i][j] for x in g_copy])\n",
    "      results[im][i][j] = imgs[k][i][j]\n",
    "      g_copy[k][i][j] = 0"
   ]
  },
  {
   "cell_type": "code",
   "execution_count": null,
   "metadata": {},
   "outputs": [],
   "source": [
    "#Spadek stopnia jasności wraz z kolejnymi obrazami\n",
    "\n",
    "imshow(np.concatenate(results[0:3], 1))"
   ]
  },
  {
   "cell_type": "markdown",
   "metadata": {},
   "source": [
    "### Maska pozwalająca na uzyskanie średniego, stałego tła\n"
   ]
  },
  {
   "cell_type": "code",
   "execution_count": null,
   "metadata": {},
   "outputs": [],
   "source": [
    "mean_background = np.mean(imgs_gray, axis=0).astype(np.uint16)\n",
    "mask = 185 <= mean_background\n",
    "\n",
    "mask_rgb = np.stack([mask] * 3, axis=-1)\n",
    "imshow(mean_background)"
   ]
  },
  {
   "cell_type": "markdown",
   "metadata": {},
   "source": [
    "### Interakcja z użytkownikiem - wybór odpowiedniego stopnia naświetlenia"
   ]
  },
  {
   "cell_type": "code",
   "execution_count": null,
   "metadata": {},
   "outputs": [],
   "source": [
    "def selective_light(i):\n",
    "  masked = np.where((1 - mask_rgb), results[i], result_mean)\n",
    "\n",
    "  imshow(masked)"
   ]
  },
  {
   "cell_type": "code",
   "execution_count": null,
   "metadata": {},
   "outputs": [],
   "source": [
    "# Interakcja z użytkownikiem\n",
    "\n",
    "\n",
    "slider = widgets.IntSlider(min = 0, max = len(imgs)-1)\n",
    "\n",
    "button = widgets.Button(description=\"Show Image\")\n",
    "\n",
    "def on_button_click(b):\n",
    "    val = slider.value\n",
    "    clear_output()\n",
    "    display(slider)\n",
    "    display(button)\n",
    "    selective_light(val)\n",
    "\n",
    "\n",
    "button.on_click(on_button_click)\n",
    "\n",
    "display(slider)\n",
    "display(button)"
   ]
  },
  {
   "cell_type": "code",
   "execution_count": null,
   "metadata": {},
   "outputs": [],
   "source": [
    "# Zastosowanie maski w celu wyodrębnienia figury\n",
    "imshow(np.concatenate(imgs[0:3]*(1 - mask_rgb), 1))\n",
    "\n",
    "imshow(np.concatenate(imgs[0:3]*(mask_rgb), 1))"
   ]
  },
  {
   "cell_type": "code",
   "execution_count": null,
   "metadata": {},
   "outputs": [],
   "source": [
    "# Wykrycie krawędzi, wykorzystanie operacji splotowych\n",
    "\n",
    "g = np.array([\n",
    "  [0, -1, 0],\n",
    "  [-1, 4, -1],\n",
    "  [0, -1, 0]\n",
    "], np.float32)\n",
    "\n",
    "img_grayscale = np.copy(mean_background) / 255.0\n",
    "\n",
    "img_edges = cv2.filter2D(img_grayscale, -1, g)\n",
    "imshow(np.concatenate([img_grayscale, img_edges], 1) * 255.0)\n",
    "\n",
    "img_edges = np.abs(img_edges)\n",
    "img_edges = rescale_intensity(img_edges)\n",
    "\n",
    "imshow(np.concatenate([img_grayscale, img_edges], 1) * 255.0)"
   ]
  },
  {
   "cell_type": "code",
   "execution_count": null,
   "metadata": {},
   "outputs": [],
   "source": [
    "# Operacje morfologiczne\n",
    "\n",
    "# dylatacja\n",
    "\n",
    "struct = np.ones((1, 1),np.uint8)\n",
    "\n",
    "img_morf = (target_gray > 175).astype(np.uint8) * 255\n",
    "img_bin_dil = cv2.dilate(img_morf, struct, iterations=1)\n",
    "\n",
    "imshow(img_bin_dil)\n",
    "\n",
    "# zamknięcie\n",
    "\n",
    "img_edge_close = cv2.morphologyEx(img_morf, cv2.MORPH_CLOSE, struct)\n",
    "img_edge_open = cv2.morphologyEx(img_edge_close, cv2.MORPH_OPEN, struct)\n",
    "img_edge_close2 = cv2.morphologyEx(img_edge_open, cv2.MORPH_CLOSE, struct)\n",
    "img_space_Q = np.minimum(img_morf, img_edge_close2)\n",
    "\n",
    "imshow(np.concatenate([img_edge_close, img_edge_open, img_edge_close2], 1))\n",
    "\n",
    "imshow(np.concatenate([img_morf, img_space_Q], 1))"
   ]
  },
  {
   "cell_type": "code",
   "execution_count": null,
   "metadata": {},
   "outputs": [],
   "source": [
    "# Stworzenie maski w celu odwzrowoania obrazu referencyjnego (result.png)\n",
    "\n",
    "new_mask = img_morf*(1 - mask) == 255\n",
    "\n",
    "new_mask_rgb = np.stack([new_mask] * 3, axis=-1)\n",
    "\n",
    "masked_new = np.where(new_mask_rgb, result_max, imgs[0])\n",
    "result = np.where((1 - mask_rgb), masked_new, result_mean)\n",
    "\n",
    "\n",
    "imshow(result)\n",
    "\n",
    "# Maska\n",
    "imshow(result_max*(new_mask_rgb))"
   ]
  }
 ],
 "metadata": {
  "kernelspec": {
   "display_name": "Python 3",
   "language": "python",
   "name": "python3"
  },
  "language_info": {
   "codemirror_mode": {
    "name": "ipython",
    "version": 3
   },
   "file_extension": ".py",
   "mimetype": "text/x-python",
   "name": "python",
   "nbconvert_exporter": "python",
   "pygments_lexer": "ipython3",
   "version": "3.9.4"
  }
 },
 "nbformat": 4,
 "nbformat_minor": 2
}
