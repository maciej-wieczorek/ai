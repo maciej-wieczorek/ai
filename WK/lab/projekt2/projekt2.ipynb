{
  "cells": [
    {
      "cell_type": "markdown",
      "metadata": {
        "id": "ZWbYkQHrOs5p"
      },
      "source": [
        "# WK - Projekt 2\n",
        "\n",
        "### Adam Wiatrowski, 148510\n",
        "### Maciej Wieczorek, 148141"
      ]
    },
    {
      "cell_type": "code",
      "execution_count": null,
      "metadata": {
        "id": "veHsX5Z-Os5q"
      },
      "outputs": [],
      "source": [
        "import cv2\n",
        "import numpy as np\n",
        "from pathlib import Path\n",
        "from PIL import Image\n",
        "from IPython.display import display, clear_output"
      ]
    },
    {
      "cell_type": "code",
      "execution_count": null,
      "metadata": {
        "id": "KMyKj6-XOs5r"
      },
      "outputs": [],
      "source": [
        "def imshow(a):\n",
        "  a = a.clip(0, 255).astype('uint8')\n",
        "  if a.ndim == 3:\n",
        "    if a.shape[2] == 4:\n",
        "      a = cv2.cvtColor(a, cv2.COLOR_BGRA2RGBA)\n",
        "    else:\n",
        "      a = cv2.cvtColor(a, cv2.COLOR_BGR2RGB)\n",
        "  display(Image.fromarray(a))"
      ]
    },
    {
      "cell_type": "code",
      "execution_count": null,
      "metadata": {},
      "outputs": [],
      "source": []
    },
    {
      "cell_type": "code",
      "execution_count": null,
      "metadata": {},
      "outputs": [],
      "source": []
    },
    {
      "cell_type": "code",
      "execution_count": null,
      "metadata": {},
      "outputs": [],
      "source": []
    },
    {
      "cell_type": "code",
      "execution_count": null,
      "metadata": {
        "id": "nKlqrTFQOs5s"
      },
      "outputs": [],
      "source": [
        "def imshow_pixel(p):\n",
        "    imshow(np.full((64, 64, 3), p))"
      ]
    },
    {
      "cell_type": "code",
      "execution_count": null,
      "metadata": {
        "colab": {
          "base_uri": "https://localhost:8080/",
          "height": 437
        },
        "id": "3vkR3Ue3O0kx",
        "outputId": "6cefe705-3650-4ceb-c5bc-e7100ee19f80"
      },
      "outputs": [],
      "source": [
        "path = \"part_3.mp4\"\n",
        "\n",
        "# wczytanie klatki\n",
        "cap = cv2.VideoCapture(path)\n",
        "ret, frame = cap.read()\n",
        "\n",
        "# maska stołu\n",
        "points = np.array([[[1600, 860], [327, 860], [533, 125], [1350, 125]]], np.int32)\n",
        "mask = np.zeros(frame.shape[:2], dtype=\"uint8\")\n",
        "cv2.fillPoly(mask, points, 1)\n",
        "masked = cv2.bitwise_and(frame, frame, mask=mask)\n",
        "\n",
        "\n",
        "frame_hsv = cv2.cvtColor(masked, cv2.COLOR_BGR2HSV)\n",
        "frame_gray = cv2.cvtColor(masked, cv2.COLOR_BGR2GRAY)\n",
        "\n",
        "imshow(np.concatenate([masked, frame_hsv], 1))"
      ]
    },
    {
      "cell_type": "code",
      "execution_count": null,
      "metadata": {
        "id": "NImucWC9SU9i"
      },
      "outputs": [],
      "source": [
        "def find_circles(img):\n",
        "\n",
        "  bluerd = cv2.medianBlur(img, 9)\n",
        "\n",
        "  minDist = 5\n",
        "  param1 = 30 # first method-specific parameter. In case of HOUGH_GRADIENT, it is the higher threshold of the two passed to the Canny edge detector (the lower one is twice smaller).\n",
        "  param2 =  25 # im mniejszy, tym wiecej fake\n",
        "  minRadius = 10\n",
        "  maxRadius = 25\n",
        "\n",
        "  circles = cv2.HoughCircles(bluerd, cv2.HOUGH_GRADIENT, 1, minDist, param1=param1, param2=param2, minRadius=minRadius, maxRadius=maxRadius)\n",
        "\n",
        "  mask = np.zeros(img.shape[:2])\n",
        "\n",
        "  if circles is not None:\n",
        "      circles = np.uint16(np.around(circles))\n",
        "      for i in circles[0,:]:\n",
        "          \n",
        "          # wziete z neta\n",
        "          center = (i[0], i[1])\n",
        "          radius = i[2]\n",
        "\n",
        "          x, y = int(center[0] - radius), int(center[1] - radius)\n",
        "          width, height = int(radius * 2), int(radius * 2)\n",
        "          if x >= 0 and y >= 0 and (x + width) < img.shape[1] and (y + height) < img.shape[0]:\n",
        "            roi = img[y:y+height, x:x+width]\n",
        "\n",
        "            if np.mean(roi) < 128:\n",
        "              cv2.circle(img, center, radius, (0, 0, 255), 2)\n",
        "              cv2.circle(mask, center, radius, (255), thickness=-1)\n",
        "\n",
        "\n",
        "  imshow(mask)\n",
        "  return mask"
      ]
    },
    {
      "cell_type": "code",
      "execution_count": null,
      "metadata": {
        "colab": {
          "base_uri": "https://localhost:8080/",
          "height": 858
        },
        "id": "mRJtfU2rSzpX",
        "outputId": "ae834802-7999-4f30-9864-b718c92fb5d7"
      },
      "outputs": [],
      "source": [
        "frame_copy = frame_gray.copy()\n",
        "\n",
        "black_mask = find_circles(frame_copy)"
      ]
    },
    {
      "cell_type": "code",
      "execution_count": null,
      "metadata": {},
      "outputs": [],
      "source": [
        "# z hsv wez maske \n",
        "lower = np.array([50, 70, 120])\n",
        "upper = np.array([70, 255, 240])\n",
        "\n",
        "\n",
        "new_mask = cv2.inRange(frame_hsv, lower, upper)\n",
        "\n",
        "reversed_mask = cv2.bitwise_not(new_mask)\n",
        "\n",
        "test = cv2.bitwise_and(masked, masked, mask=reversed_mask)\n",
        "\n",
        "imshow(test)\n",
        "#lower = np.array([50, 150, 150])\n",
        "#upper = np.array([70, 255, 240])"
      ]
    },
    {
      "cell_type": "code",
      "execution_count": null,
      "metadata": {},
      "outputs": [],
      "source": [
        "test_gray = cv2.cvtColor(test, cv2.COLOR_BGR2GRAY)\n",
        "find_circles(test_gray)"
      ]
    },
    {
      "cell_type": "code",
      "execution_count": null,
      "metadata": {},
      "outputs": [],
      "source": [
        "def find_counturs(img):\n",
        "    #kernel = np.ones((5,5),np.uint8)\n",
        "    #morp = cv2.morphologyEx(img, cv2.MORPH_CLOSE, kernel)\n",
        "\n",
        "\n",
        "    _, thresh = cv2.threshold(img, 0, 255, cv2.THRESH_BINARY + cv2.THRESH_OTSU)\n",
        "    contours, _ = cv2.findContours(thresh, cv2.RETR_TREE, cv2.CHAIN_APPROX_SIMPLE)\n",
        "\n",
        "\n",
        "\n",
        "    contour_img = np.zeros_like(img)\n",
        "\n",
        "    cv2.drawContours(contour_img, contours, -1, (255, 255, 255), 3)\n",
        "\n",
        "    imshow(contour_img)"
      ]
    },
    {
      "cell_type": "code",
      "execution_count": null,
      "metadata": {},
      "outputs": [],
      "source": [
        "channel_h = frame_hsv[:, :, 0].copy()\n",
        "np.histogram(channel_h)"
      ]
    },
    {
      "cell_type": "code",
      "execution_count": null,
      "metadata": {},
      "outputs": [],
      "source": [
        "points = np.array([[[1600, 860], [327, 860], [533, 125], [1350, 125]]], np.int32)\n",
        "\n",
        "mask2 = np.zeros(frame.shape[:2], dtype=\"uint8\")\n",
        "cv2.fillPoly(mask2, points, 1)\n",
        "imshow(mask2*255)"
      ]
    },
    {
      "cell_type": "code",
      "execution_count": null,
      "metadata": {},
      "outputs": [],
      "source": [
        "channel_h = frame_hsv[:, :, 0].copy()\n",
        "channel_h[(channel_h < 45) | (channel_h > 67)] = 255\n",
        "\n",
        "#imshow(channel_h)\n",
        "\n",
        "\n",
        "combined_mask = np.where((channel_h == 255) | (black_mask == 255), 255, 0).astype(np.uint8)\n",
        "combined_mask = np.where((combined_mask == 255) & (mask == 1), 255, 0).astype(np.uint8)\n",
        "\n",
        "\n",
        "imshow(np.concatenate([combined_mask], 1))\n",
        "# tam gdzie sa biale elementy w jednym lub drugim (channel_h i black_mask)\n",
        "#find_counturs(channel_h)"
      ]
    },
    {
      "cell_type": "code",
      "execution_count": null,
      "metadata": {},
      "outputs": [],
      "source": [
        "# MASKA"
      ]
    },
    {
      "cell_type": "code",
      "execution_count": null,
      "metadata": {},
      "outputs": [],
      "source": [
        "def draw_rectangles(ctrs, img):\n",
        "    \n",
        "    output = img.copy()\n",
        "    \n",
        "    for i in range(len(ctrs)):\n",
        "    \n",
        "        M = cv2.moments(ctrs[i]) # moments\n",
        "        rot_rect = cv2.minAreaRect(ctrs[i])\n",
        "        w = rot_rect[1][0] # width\n",
        "        h = rot_rect[1][1] # height\n",
        "\n",
        "        area = w*h\n",
        "        \n",
        "        if area < 1200 and area > 300:\n",
        "            box = np.int64(cv2.boxPoints(rot_rect))\n",
        "            cv2.drawContours(output,[box],0,(255,100,0),2) # draws box\n",
        "        \n",
        "    return output"
      ]
    },
    {
      "cell_type": "code",
      "execution_count": null,
      "metadata": {},
      "outputs": [],
      "source": [
        "def filter_contours(contours):\n",
        "    c = []\n",
        "    for cnt in contours:\n",
        "        cnt_area = cv2.contourArea(cnt)\n",
        "        if cnt_area < 170 or cnt_area > 1000:\n",
        "            continue\n",
        "        hull = cv2.convexHull(cnt)\n",
        "        hull_area = cv2.contourArea(hull)\n",
        "        if abs(hull_area-cnt_area) > 50:\n",
        "            continue\n",
        "\n",
        "        c.append(hull)\n",
        "    return tuple(c)"
      ]
    },
    {
      "cell_type": "code",
      "execution_count": null,
      "metadata": {},
      "outputs": [],
      "source": [
        "imshow(combined_mask)"
      ]
    },
    {
      "cell_type": "code",
      "execution_count": null,
      "metadata": {},
      "outputs": [],
      "source": [
        "combined_mask_edges = cv2.Canny(combined_mask, 100, 200)"
      ]
    },
    {
      "cell_type": "code",
      "execution_count": null,
      "metadata": {},
      "outputs": [],
      "source": [
        "imshow(combined_mask_edges)"
      ]
    },
    {
      "cell_type": "code",
      "execution_count": null,
      "metadata": {},
      "outputs": [],
      "source": [
        "ctrs, hierarchy = cv2.findContours(combined_mask_edges, cv2.RETR_TREE, cv2.CHAIN_APPROX_SIMPLE)\n",
        "ctrs = filter_contours(ctrs)\n",
        "\n",
        "# filtered_img = np.zeros_like(combined_mask)\n",
        "    \n",
        "# Loop through all contours and add only those whose area is less than the max_area\n",
        "# etected_objects = draw_rectangles(ctrs, filtered_img)\n",
        "cv2.drawContours(masked, ctrs, -1, (0, 0, 255), 2)\n",
        "imshow(masked)"
      ]
    },
    {
      "cell_type": "code",
      "execution_count": 25,
      "metadata": {},
      "outputs": [],
      "source": [
        "import cv2\n",
        "import numpy as np\n",
        "path = 'part_2.mp4'\n",
        "\n",
        "def filter_contours(contours):\n",
        "    c = []\n",
        "    for cnt in contours:\n",
        "        cnt_area = cv2.contourArea(cnt)\n",
        "        if cnt_area < 170 or cnt_area > 1000:\n",
        "            continue\n",
        "        hull = cv2.convexHull(cnt)\n",
        "        hull_area = cv2.contourArea(hull)\n",
        "        if abs(hull_area-cnt_area) > 50:\n",
        "            continue\n",
        "\n",
        "        c.append(hull)\n",
        "    return tuple(c)\n",
        "\n",
        "def find_black(img):\n",
        "\n",
        "  bluerd = cv2.medianBlur(img, 9)\n",
        "\n",
        "  minDist = 5\n",
        "  param1 = 30 # first method-specific parameter. In case of HOUGH_GRADIENT, it is the higher threshold of the two passed to the Canny edge detector (the lower one is twice smaller).\n",
        "  param2 =  25 # im mniejszy, tym wiecej fake\n",
        "  minRadius = 10\n",
        "  maxRadius = 25\n",
        "\n",
        "  circles = cv2.HoughCircles(bluerd, cv2.HOUGH_GRADIENT, 1, minDist, param1=param1, param2=param2, minRadius=minRadius, maxRadius=maxRadius)\n",
        "\n",
        "  mask = np.zeros(img.shape[:2])\n",
        "\n",
        "  if circles is not None:\n",
        "      circles = np.uint16(np.around(circles))\n",
        "      for i in circles[0,:]:\n",
        "          \n",
        "          # wziete z neta\n",
        "          center = (i[0], i[1])\n",
        "          radius = i[2]\n",
        "\n",
        "          x, y = int(center[0] - radius), int(center[1] - radius)\n",
        "          width, height = int(radius * 2), int(radius * 2)\n",
        "          if x >= 0 and y >= 0 and (x + width) < img.shape[1] and (y + height) < img.shape[0]:\n",
        "            roi = img[y:y+height, x:x+width]\n",
        "\n",
        "            if np.mean(roi) < 128:\n",
        "              cv2.circle(img, center, radius, (0, 0, 255), 2)\n",
        "              cv2.circle(mask, center, radius, (255), thickness=-1)\n",
        "\n",
        "\n",
        "  return mask\n",
        "\n",
        "def process_frame(frame):\n",
        "\n",
        "    points = np.array([[[1600, 860], [327, 860], [533, 125], [1350, 125]]], np.int32)\n",
        "    mask = np.zeros(frame.shape[:2], dtype=\"uint8\")\n",
        "    cv2.fillPoly(mask, points, 1)\n",
        "    masked = cv2.bitwise_and(frame, frame, mask=mask)\n",
        "\n",
        "\n",
        "    frame_hsv = cv2.cvtColor(masked, cv2.COLOR_BGR2HSV)\n",
        "    frame_gray = cv2.cvtColor(masked, cv2.COLOR_BGR2GRAY)\n",
        "\n",
        "    black_mask = find_black(frame_gray)\n",
        "\n",
        "    channel_h = frame_hsv[:, :, 0]\n",
        "    channel_h[(channel_h < 45) | (channel_h > 67)] = 255\n",
        "\n",
        "    combined_mask = np.where((channel_h == 255) | (black_mask == 255), 255, 0).astype(np.uint8)\n",
        "    combined_mask = np.where((combined_mask == 255) & (mask == 1), 255, 0).astype(np.uint8)\n",
        "\n",
        "    combined_mask_edges = cv2.Canny(combined_mask, 100, 200)\n",
        "\n",
        "\n",
        "    ctrs, _ = cv2.findContours(combined_mask_edges, cv2.RETR_TREE, cv2.CHAIN_APPROX_SIMPLE)\n",
        "    ctrs = filter_contours(ctrs)\n",
        "    frame_cnts = frame.copy()\n",
        "    cv2.drawContours(frame_cnts, ctrs, -1, (0, 0, 255), 2)\n",
        "\n",
        "    return frame_cnts\n",
        "\n",
        "# wczytanie klatki\n",
        "cap = cv2.VideoCapture(path)\n",
        "\n",
        "while cap.isOpened():\n",
        "    ret, frame = cap.read()\n",
        "\n",
        "    if not ret:\n",
        "        break\n",
        "\n",
        "    if cv2.waitKey(1) == ord('q'):\n",
        "        break\n",
        "\n",
        "    cv2.imshow('frame', process_frame(frame))\n",
        "\n",
        "cap.release()\n",
        "cv2.destroyAllWindows()"
      ]
    },
    {
      "cell_type": "code",
      "execution_count": 34,
      "metadata": {},
      "outputs": [],
      "source": [
        "import cv2\n",
        "import numpy as np\n",
        "path = 'part_2.mp4'\n",
        "\n",
        "def filter_contours(contours):\n",
        "    c = []\n",
        "    for cnt in contours:\n",
        "        cnt_area = cv2.contourArea(cnt)\n",
        "        if cnt_area < 170 or cnt_area > 1000:\n",
        "            continue\n",
        "        hull = cv2.convexHull(cnt)\n",
        "        hull_area = cv2.contourArea(hull)\n",
        "        if abs(hull_area-cnt_area) > 50:\n",
        "            continue\n",
        "\n",
        "        c.append(hull)\n",
        "    return tuple(c)\n",
        "\n",
        "def find_black(img):\n",
        "\n",
        "  bluerd = cv2.medianBlur(img, 9)\n",
        "\n",
        "  minDist = 5\n",
        "  param1 = 30 # first method-specific parameter. In case of HOUGH_GRADIENT, it is the higher threshold of the two passed to the Canny edge detector (the lower one is twice smaller).\n",
        "  param2 =  25 # im mniejszy, tym wiecej fake\n",
        "  minRadius = 10\n",
        "  maxRadius = 25\n",
        "\n",
        "  circles = cv2.HoughCircles(bluerd, cv2.HOUGH_GRADIENT, 1, minDist, param1=param1, param2=param2, minRadius=minRadius, maxRadius=maxRadius)\n",
        "\n",
        "  mask = np.zeros(img.shape[:2], dtype=np.uint8)\n",
        "\n",
        "  if circles is not None:\n",
        "      circles = np.uint16(np.around(circles))\n",
        "      for i in circles[0,:]:\n",
        "          \n",
        "          # wziete z neta\n",
        "          center = (i[0], i[1])\n",
        "          radius = i[2]\n",
        "\n",
        "          x, y = int(center[0] - radius), int(center[1] - radius)\n",
        "          width, height = int(radius * 2), int(radius * 2)\n",
        "          if x >= 0 and y >= 0 and (x + width) < img.shape[1] and (y + height) < img.shape[0]:\n",
        "            roi = img[y:y+height, x:x+width]\n",
        "\n",
        "            if np.mean(roi) < 128:\n",
        "              cv2.circle(mask, center, radius, (1), thickness=-1)\n",
        "\n",
        "\n",
        "  return mask\n",
        "\n",
        "def process_frame(frame):\n",
        "\n",
        "    points = np.array([[[1600, 860], [327, 860], [533, 125], [1350, 125]]], np.int32)\n",
        "    mask = np.zeros(frame.shape[:2], dtype=np.uint8)\n",
        "    cv2.fillPoly(mask, points, 1)\n",
        "    masked = cv2.bitwise_and(frame, frame, mask=mask)\n",
        "\n",
        "\n",
        "    frame_hsv = cv2.cvtColor(masked, cv2.COLOR_BGR2HSV)\n",
        "    frame_gray = cv2.cvtColor(masked, cv2.COLOR_BGR2GRAY)\n",
        "\n",
        "    black_mask = find_black(frame_gray)\n",
        "\n",
        "    channel_h = frame_hsv[:, :, 0]\n",
        "    channel_h_mask = np.zeros(frame.shape[:2], dtype=np.uint8)\n",
        "    channel_h_mask[(channel_h < 45) | (channel_h > 67)] = 1\n",
        "\n",
        "    masks = cv2.bitwise_or(black_mask, channel_h_mask)\n",
        "\n",
        "    combined_mask = np.where(masks == 1, 255, 0).astype(np.uint8)\n",
        "\n",
        "    combined_mask_edges = cv2.Canny(combined_mask, 100, 200)\n",
        "\n",
        "\n",
        "    ctrs, _ = cv2.findContours(combined_mask_edges, cv2.RETR_TREE, cv2.CHAIN_APPROX_SIMPLE)\n",
        "    ctrs = filter_contours(ctrs)\n",
        "    frame_cnts = frame.copy()\n",
        "    cv2.drawContours(frame_cnts, ctrs, -1, (0, 0, 255), 2)\n",
        "\n",
        "    return frame_cnts\n",
        "\n",
        "cap = cv2.VideoCapture(path)\n",
        "\n",
        "while cap.isOpened():\n",
        "    ret, frame = cap.read()\n",
        "\n",
        "    if not ret:\n",
        "        break\n",
        "\n",
        "    if cv2.waitKey(1) == ord('q'):\n",
        "        break\n",
        "\n",
        "    cv2.imshow('frame', process_frame(frame))\n",
        "\n",
        "cap.release()\n",
        "cv2.destroyAllWindows()"
      ]
    }
  ],
  "metadata": {
    "colab": {
      "provenance": []
    },
    "kernelspec": {
      "display_name": "Python 3",
      "language": "python",
      "name": "python3"
    },
    "language_info": {
      "codemirror_mode": {
        "name": "ipython",
        "version": 3
      },
      "file_extension": ".py",
      "mimetype": "text/x-python",
      "name": "python",
      "nbconvert_exporter": "python",
      "pygments_lexer": "ipython3",
      "version": "3.9.4"
    }
  },
  "nbformat": 4,
  "nbformat_minor": 0
}
