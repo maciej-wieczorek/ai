{
  "cells": [
    {
      "cell_type": "markdown",
      "metadata": {
        "id": "S_r0j8Xuqsga"
      },
      "source": [
        "# Widzenie komputerowe\n",
        "# Moduł laboratoryjny 3, Laboratoria 5 i 6"
      ]
    },
    {
      "cell_type": "markdown",
      "metadata": {
        "id": "qVWBS5p-r5j9"
      },
      "source": [
        "## Opis laboratoriów"
      ]
    },
    {
      "cell_type": "markdown",
      "metadata": {
        "id": "cd2FzMMMr9kr"
      },
      "source": [
        "\n",
        "\n",
        "*   Wprowadzenie do operacji morfologicznych,\n",
        "*   Operacje morfologiczne dla obrazów binarnych,\n",
        "*   Operacje morfologiczne dla obrazów ze skalą intensywności,\n",
        "*   Morfologia jako narzędzie do segmentacji\n",
        "\n"
      ]
    },
    {
      "cell_type": "markdown",
      "metadata": {
        "id": "WMJXpBTXtET5"
      },
      "source": [
        "## Funkcje pomocnicze"
      ]
    },
    {
      "cell_type": "markdown",
      "metadata": {
        "id": "du-h1aTru9ES"
      },
      "source": [
        "Do wykonania zadań niezbędne jest zaimportowanie bibliotek, wykorzystywanych w skrypcie oraz pobranie danych, na których przetwarzane będą operacje.\n",
        "\n",
        "W skrypcie wykorzystywane będą dwa zestawy danych:\n",
        "* obraz Lenna (dostępny pod [linkiem](http://www.lenna.org/)) - jeden z najbardziej popularnych obrazów wykorzystywanych historycznie do kompresji i przetwarzania obrazów,\n",
        "* Zdjęcie supernowy - zdjęcie kosmicznej eksplozji (dostępny pod [linkiem](https://upload.wikimedia.org/wikipedia/commons/b/bd/G299-Remnants-SuperNova-Type1a-20150218.jpg))"
      ]
    },
    {
      "cell_type": "code",
      "execution_count": null,
      "metadata": {
        "id": "XTvT7icdtMZY"
      },
      "outputs": [],
      "source": [
        "# import niezbędnych bibliotek\n",
        "import cv2\n",
        "import matplotlib.pyplot as plt\n",
        "import numpy as np\n",
        "import PIL\n",
        "%matplotlib inline\n",
        "from pandas import DataFrame\n",
        "import pandas as pd\n",
        "from IPython.display import display, HTML\n",
        "from skimage.exposure import rescale_intensity\n",
        "import plotly.graph_objects as go\n",
        "import pandas as pd\n",
        "import json\n",
        "import os\n",
        "\n",
        "pd.options.display.html.border = 0\n",
        "pd.options.display.float_format = '{:,.2f}'.format"
      ]
    },
    {
      "cell_type": "code",
      "execution_count": null,
      "metadata": {
        "colab": {
          "base_uri": "https://localhost:8080/"
        },
        "id": "oV4aWjegtCKx",
        "outputId": "85907fc9-6310-4796-a4c0-25c08c2d5f7f"
      },
      "outputs": [],
      "source": [
        "# pobranie niezbędnych bibliotek\n",
        "!wget -O lena_std.tif http://www.lenna.org/lena_std.tif\n",
        "!wget -O supernova.jpg https://upload.wikimedia.org/wikipedia/commons/b/bd/G299-Remnants-SuperNova-Type1a-20150218.jpg"
      ]
    },
    {
      "cell_type": "markdown",
      "metadata": {
        "id": "WUIRaE_UwVOx"
      },
      "source": [
        "Ze względu na problem z wyświetlaniem obrazów przez bibliotekę OpenCV w środowisku Colab, w przypadku korzystania z tej platformy należy skorzystać z funkcji specjalnie do tego przygotowanej."
      ]
    },
    {
      "cell_type": "code",
      "execution_count": null,
      "metadata": {
        "id": "VCHL_RVqunsJ"
      },
      "outputs": [],
      "source": [
        "def imshow(a):\n",
        "  a = a.clip(0, 255).astype('uint8')\n",
        "  if a.ndim == 3:\n",
        "    if a.shape[2] == 4:\n",
        "      a = cv2.cvtColor(a, cv2.COLOR_BGRA2RGBA)\n",
        "    else:\n",
        "      a = cv2.cvtColor(a, cv2.COLOR_BGR2RGB)\n",
        "  display(PIL.Image.fromarray(a))"
      ]
    },
    {
      "cell_type": "code",
      "execution_count": null,
      "metadata": {
        "id": "1JAG9WTkuJN6"
      },
      "outputs": [],
      "source": [
        "def h_color(a, interpolation=None, size=None, fy=1.5, fx=1.5, cmap='gray'):\n",
        "  s = [int(a.shape[0] * fy), int(a.shape[1] * fx)] if size is None else size\n",
        "  plt.figure(figsize=s)\n",
        "  plt.tick_params(\n",
        "    axis='both', which='both',\n",
        "    bottom=False, top=False,\n",
        "    labelbottom=False, labelleft=False, left=False, right=False\n",
        "  )\n",
        "  plt.imshow(a, cmap=cmap, interpolation=interpolation)"
      ]
    },
    {
      "cell_type": "code",
      "execution_count": null,
      "metadata": {
        "id": "N1RIUPY5uLE5"
      },
      "outputs": [],
      "source": [
        "css = \"\"\"\n",
        "<style type=\"text/css\">\n",
        "  table, td, table.dataframe, table.dataframe td {\n",
        "    border: 1px solid black;    //border: double;\n",
        "    border-collapse: collapse;\n",
        "    border-style: solid;\n",
        "    border-spacing: 0px;\n",
        "    background-color: rgb(250,250,250);\n",
        "    width: 24px;\n",
        "    height: 24px;\n",
        "    text-align: center;\n",
        "    transform: scale(1.0);\n",
        "    margin: 5px;\n",
        "    }\n",
        "</style>\n",
        "\"\"\"\n",
        "\n",
        "def h(s):\n",
        "   return display(HTML(css + DataFrame(s).to_html(header=False, index=False)))"
      ]
    },
    {
      "cell_type": "code",
      "execution_count": null,
      "metadata": {
        "id": "9j6fqx1ZuMhg"
      },
      "outputs": [],
      "source": [
        "def h_color_3d(z):\n",
        "  fig = go.Figure(data=[go.Surface(z=z)])\n",
        "  fig.update_layout(autosize=False, width=500, height=500)\n",
        "  fig.show()"
      ]
    },
    {
      "cell_type": "markdown",
      "metadata": {
        "id": "uDNHoYlZzZpF"
      },
      "source": [
        "# Operacje morfologiczne\n"
      ]
    },
    {
      "cell_type": "markdown",
      "metadata": {
        "id": "E6zQTsdwW5ey"
      },
      "source": [
        "Operacja morfologiczna to technika przetwarzania obrazu binarnego, która modyfikuje obraz wejściowy w arbitralny sposób (np. zapalając lub gasząc bit piksela) na podstawie **dopasowania** otoczenia danego piksela z **elementem strukturalnym**.\n",
        "\n",
        "Powyższa definicja operacji morfologicznej wymusza wytłumaczenie pewnych terminów:\n",
        "* element strukturalny - maska bitowa, określająca strukturę, którą szukamy na obrazie. Nawiązując do operacji konwolucji, jest to odpowiednik dopasowywanej funkcji do obrazu wejściowego (np. laplasjan, pochodna),\n",
        "* dopasowanie - zgodność elementu strukturalnego z wybranym pikselem oraz jego sąsiedztwem, wymiarowo odpowiadającym elementowi strukturalnemu. Może być reprezentowana jako maska bitowa o rozmiarze elementu strukturalnego,\n",
        "* operacja morfologiczna przypomina konwolucję - również pewna funkcja jest dopasowywana do obrazu wejściowego, jednak aby wykonać modyfikację danego piksela muszą zostać spełnione pewne warunki zgodności,\n",
        "\n",
        "Różne warunki zgodności definiują następujące operacje:\n",
        "* erozja - jeśli **wszystkie zapalone** składowe elementu strukturalnego i odpowiadające im składowe otoczenia danego piksela są takie same, piksel jest zapalany. W przeciwnym wypadku gaszony. Inaczej: dopasowanie zawiera same **1**.\n",
        "* dylatacja - jeśli **dowolna zapalona** składowa elementu strukturalnego i odpowiadająca mu składowa otoczenia danego piksela są takie same, piksel jest zapalany. W przeciwnym wypadku gaszony. Inaczej: dopasowanie zawiera choć jedno **1**.\n",
        "* otwarcie - dylatacja poprzedzona erozją, (dylatacja(erozja(obraz))\n",
        "* zamknięcie - erozja poprzedzona dylatacją, (erozja(dylatacja(obraz))\n"
      ]
    },
    {
      "cell_type": "markdown",
      "metadata": {
        "id": "c7W-ohtpXMSI"
      },
      "source": [
        "## Obraz binarny"
      ]
    },
    {
      "cell_type": "markdown",
      "metadata": {
        "id": "fGvb4KjSXPRf"
      },
      "source": [
        "Zdefiniujmy przykładowy obraz binarny oraz prosty element strukturalny o rozmiarze (2,2) wypełniony zapalonymi bitami."
      ]
    },
    {
      "cell_type": "code",
      "execution_count": null,
      "metadata": {
        "colab": {
          "base_uri": "https://localhost:8080/",
          "height": 428
        },
        "id": "3FKXkQavW7Cy",
        "outputId": "2087fed5-5551-44f2-b8f4-a229e3e5bdc2"
      },
      "outputs": [],
      "source": [
        "img_bin = np.zeros((10, 10), np.uint8)\n",
        "img_bin[1:3, 1:7] = 1\n",
        "img_bin[5:9, 2:4] = 1\n",
        "img_bin[5:8, 5:9] = 1\n",
        "img_bin[3:5, 2] = 1\n",
        "\n",
        "struct = np.ones((2, 2),np.uint8)\n",
        "\n",
        "print('Element strukturalny:')\n",
        "h(struct)\n",
        "\n",
        "print('Obraz wejściowy:')\n",
        "h_color(img_bin, fx=0.5, fy=0.5)"
      ]
    },
    {
      "cell_type": "markdown",
      "metadata": {
        "id": "SaJQWAdDcQ9s"
      },
      "source": [
        "### Erozja i Dylatacja"
      ]
    },
    {
      "cell_type": "code",
      "execution_count": null,
      "metadata": {
        "colab": {
          "base_uri": "https://localhost:8080/",
          "height": 303
        },
        "id": "mhxarcfnuedw",
        "outputId": "bb0e2e17-c3e9-4ac7-d1fc-b486c4afdf28"
      },
      "outputs": [],
      "source": [
        "img_bin_ero = cv2.erode(img_bin, struct, iterations=1)\n",
        "h_color(img_bin_ero, fx=0.5, fy=0.5)"
      ]
    },
    {
      "cell_type": "code",
      "execution_count": null,
      "metadata": {
        "colab": {
          "base_uri": "https://localhost:8080/",
          "height": 303
        },
        "id": "kOBhLGBivMMA",
        "outputId": "748a57e5-c0ce-4d66-9329-780cb719aecd"
      },
      "outputs": [],
      "source": [
        "img_bin_dil = cv2.dilate(img_bin, struct, iterations=1)\n",
        "h_color(img_bin_dil, fx=0.5, fy=0.5)"
      ]
    },
    {
      "cell_type": "markdown",
      "metadata": {
        "id": "lc2izveTl5nV"
      },
      "source": [
        "#### Zadanie 1\n",
        "\n",
        "Zaimplementuj operację erozji i dylatacji:\n",
        "\n",
        "Dopasowanie odpowiedającym sobie pikselom w elemencie strukturalnym i obrazie powinno odbywać się zgodnie z następującymi:\n",
        "* dla składowej elementu strukturalnego 0, dopasowanie zachodzi zawsze,\n",
        "* dla składowej elementu strukturalnego 1, dopasowanie zachodzi jeśli w obrazie wejściowym jest również 1,\n",
        "* dla składowej elementu strukturalnego -1, dopasowanie zachodzi jeśli w obrazie wejściowym jest 0.\n",
        "\n",
        "Tzn. dla elementu strukturalnego:\n",
        "\n",
        "$$s = \\begin{bmatrix}\n",
        "0 & 1 & 0\\\\\n",
        "1 & -1 & 1\\\\\n",
        "-1 & 0 & -1\\\\\n",
        "\\end{bmatrix}$$\n",
        "\n",
        "i obrazu:\n",
        "\n",
        "$$I = \\begin{bmatrix}\n",
        "0 & 0 & 0\\\\\n",
        "1 & 1 & 1\\\\\n",
        "0 & 1 & 0\\\\\n",
        "\\end{bmatrix}$$\n",
        "\n",
        "macierz dopasowania będzie wyglądała:\n",
        "\n",
        "$$d = \\begin{bmatrix}\n",
        "1 & 0 & 1\\\\\n",
        "1 & 0 & 1\\\\\n",
        "1 & 1 & 1\\\\\n",
        "\\end{bmatrix}$$\n",
        "\n",
        "a więc wynikiem dylatacji dla takiego zestawu danych będzie wartość 1 (ponieważ istnieje choć jedno dopasowanie), a dla erozji 0 (ponieważ nie wszystkie piksele są dopasowane)."
      ]
    },
    {
      "cell_type": "code",
      "execution_count": null,
      "metadata": {
        "colab": {
          "base_uri": "https://localhost:8080/",
          "height": 875
        },
        "id": "MTRa4n5yxPbb",
        "outputId": "4b9e5f06-a7b4-4f40-a725-7f6ba3031762"
      },
      "outputs": [],
      "source": [
        "def morph(I, s):\n",
        "    d = np.zeros_like(s)\n",
        "    for i in range(s.shape[0]):\n",
        "        for j in range(s.shape[1]):\n",
        "            if s[i][j] == 0:\n",
        "                d[i][j] = 1\n",
        "            elif s[i][j] == 1 and I[i][j] == 1:\n",
        "                d[i][j] = 1\n",
        "            elif s[i][j] == -1 and I[i][j] == 0:\n",
        "                d[i][j] = 1\n",
        "\n",
        "    return d\n",
        "\n",
        "\n",
        "def dilate(img, struct):\n",
        "    pad_v = (struct.shape[0]) // 2\n",
        "    pad_h = (struct.shape[1]) // 2\n",
        "    img_o = np.zeros_like(img)\n",
        "    img_b = cv2.copyMakeBorder(img, pad_v, pad_v, pad_h, pad_h, cv2.BORDER_CONSTANT, 0)\n",
        "    for i in range(img.shape[0]):\n",
        "        for j in range(img.shape[1]):\n",
        "            d = morph(img_b[i:i+struct.shape[0],j:j+struct.shape[1]], struct)\n",
        "            if np.count_nonzero(d) > 0:\n",
        "                img_o[i][j] = 1\n",
        "\n",
        "    return img_o\n",
        "\n",
        "def erode(img, struct):\n",
        "    pad_v = (struct.shape[0]) // 2\n",
        "    pad_h = (struct.shape[1]) // 2\n",
        "    img_o = np.zeros_like(img)\n",
        "    img_b = cv2.copyMakeBorder(img, pad_v, pad_v, pad_h, pad_h, cv2.BORDER_CONSTANT, 0)\n",
        "    for i in range(img.shape[0]):\n",
        "        for j in range(img.shape[1]):\n",
        "            d = morph(img_b[i:i+struct.shape[0],j:j+struct.shape[1]], struct)\n",
        "            if np.count_nonzero(d) == struct.size:\n",
        "                img_o[i][j] = 1\n",
        "\n",
        "    return img_o\n",
        "\n",
        "struct = np.ones((2, 2),np.uint8)\n",
        "\n",
        "h_color(img_bin, fx=0.5, fy=0.5)\n",
        "h_color(dilate(img_bin, struct), fx=0.5, fy=0.5)\n",
        "h_color(erode(img_bin, struct), fx=0.5, fy=0.5)"
      ]
    },
    {
      "cell_type": "markdown",
      "metadata": {
        "id": "w_EgokiJdsj_"
      },
      "source": [
        "### Otwarcie i Zamknięcie"
      ]
    },
    {
      "cell_type": "markdown",
      "metadata": {
        "id": "pPYSIx6cl14l"
      },
      "source": [
        "Intuicją stojącą za operacją otwarcia jest próba rozłączenia od siebie obszarów, które są słabo ze sobą związane. Przez *słabo* można rozumieć szum lub zwyczajne artefakty powstałe podczas przetwarzania obrazów.\n",
        "\n",
        "Zastosowanie operacji otwarcia można znaleźć w sytuacji, w której wykonujemy segmentację obiektów i w rezultacie otrzymamy dwa obiekty tej samej klasy obok siebie. Obiekty te mogą być połączone pojedynczymi pikselami. Aby oddzielić te obiekty od siebie (w celu tzw. **instance segmentation**) można skorzystać właśnie z **otwarcia** morfologicznego."
      ]
    },
    {
      "cell_type": "code",
      "execution_count": null,
      "metadata": {
        "colab": {
          "base_uri": "https://localhost:8080/",
          "height": 303
        },
        "id": "mmtFQGxmvOon",
        "outputId": "d7dc8026-b128-4b62-d8fd-3a0be83d6d8a"
      },
      "outputs": [],
      "source": [
        "img_bin_ero = cv2.erode(img_bin, struct, iterations=1)\n",
        "img_bin_ero_dil = cv2.dilate(img_bin_ero, struct, iterations=1)\n",
        "\n",
        "h_color(img_bin_ero_dil, fx=0.5, fy=0.5)"
      ]
    },
    {
      "cell_type": "markdown",
      "metadata": {
        "id": "Kptmswf6d1CM"
      },
      "source": [
        "Zamierzeniem zamknięcia jest połączenie obszarów znajdujących się blisko siebie ale ze względu na szum/artefakty rozłączne. W poniższym przykładnie oba obszary znajdują się blisko siebie, przez co możliwe, że reprezentują ten sam obiekt. Operacja zamknięcia spowoduje połączenie tych obszarów."
      ]
    },
    {
      "cell_type": "code",
      "execution_count": null,
      "metadata": {
        "colab": {
          "base_uri": "https://localhost:8080/",
          "height": 303
        },
        "id": "Gz-r1qDBvZLO",
        "outputId": "33727872-0835-4acd-af98-2d3ebb6cfa46"
      },
      "outputs": [],
      "source": [
        "img_bin_dil = cv2.dilate(img_bin, struct, iterations = 1)\n",
        "img_bin_dil_ero = cv2.erode(img_bin_dil, struct, iterations = 1)\n",
        "\n",
        "h_color(img_bin_dil_ero, fx=0.5, fy=0.5)"
      ]
    },
    {
      "cell_type": "markdown",
      "metadata": {
        "id": "HwG8pFUImBf8"
      },
      "source": [
        "#### Zadanie 2\n",
        "\n",
        "Zaimplementuj, korzystając z wcześniej zaimplementowanych operacji erozji i dylatacji, operację otwarcia i zamknięcia zgodnie z poniższymi wzorami:\n",
        "\n",
        "* $O(f) = {\\text{dylatacja}}({\\text{erozja}}(f))$ - otwarcie\n",
        "* $C(f) = {\\text{erozja}}({\\text{dylatacja}}(f))$ - zamknięcie\n",
        "\n",
        "**Uwaga: wewnętrzna erozja i dylatacja wykonana jest z tym samym elementem strukturalnym.**"
      ]
    },
    {
      "cell_type": "code",
      "execution_count": null,
      "metadata": {
        "colab": {
          "base_uri": "https://localhost:8080/",
          "height": 875
        },
        "id": "Pu4SdRqqmQBE",
        "outputId": "671f09dc-2b94-4291-a7c2-d20faaf04dff"
      },
      "outputs": [],
      "source": [
        "def open(img, struct):\n",
        "    return dilate(erode(img, struct), struct)\n",
        "\n",
        "def close(img, struct):\n",
        "    return erode(dilate(img, struct), struct)\n",
        "\n",
        "h_color(img_bin, fx=0.5, fy=0.5)\n",
        "h_color(open(img_bin, struct), fx=0.5, fy=0.5)\n",
        "h_color(close(img_bin, struct), fx=0.5, fy=0.5)"
      ]
    },
    {
      "cell_type": "markdown",
      "metadata": {
        "id": "xKoeiOsflTzu"
      },
      "source": [
        "### Pozostałe operacje morfologiczne"
      ]
    },
    {
      "cell_type": "markdown",
      "metadata": {
        "id": "9MI5bYVYlYyG"
      },
      "source": [
        "Istnieje wiele operacji morfologicznych o konkretnych zastosowaniach w przetwarzaniu obrazu. Większość z nich opiera się na operacjach zamknięcia i otwarcia. Oznaczmy otwarcie i zamknięcie jako:\n",
        "\n",
        "* $O(f) = {\\text{dylatacja}}({\\text{erozja}}(f))$ - otwarcie\n",
        "* $C(f) = {\\text{erozja}}({\\text{dylatacja}}(f))$ - zamknięcie\n"
      ]
    },
    {
      "cell_type": "markdown",
      "metadata": {
        "id": "yBNviEDIxLtO"
      },
      "source": [
        "### Otwarcie właściwe, zamknięcie właściwe i automediana"
      ]
    },
    {
      "cell_type": "markdown",
      "metadata": {
        "id": "B9jRsway0OKZ"
      },
      "source": [
        "Dla przytoczonych wyżej definicji otwarcia i zamknięcia, możemy zdefiniować następujące operacje morfologiczne:\n",
        "\n",
        "* $Q(f) = \\min(f, C(O(C(f))))$ - otwarcie właściwe\n",
        "* $G(f) = \\max(f, O(C(O(f))))$ - zamknięcie właściwe\n",
        "* $A(f) = \\max(O(C(O(f))), \\min(f, C(O(C(f)))))$ - automediana"
      ]
    },
    {
      "cell_type": "markdown",
      "metadata": {
        "id": "Uw3EQ6oTxcmu"
      },
      "source": [
        "Dla poniższego obrazu wykonana zostanie arbitralnie przyjęta binaryzacja, w celu dalszego przetwarzania operacjami morfologicznymi.\n",
        "\n",
        "Supernowa przedstawiona na obrazie charakteryzuje się wieloma szczegółami w postaci innych galaktyk, które przypominają sztucznie dodany szum. Celem poniższego przetwarzania będzie wykrycie obszarów gdzie znajduje się supernowa, jednocześnie eliminując obszary gdzie znajdują sie obszary nie należące do obiektu."
      ]
    },
    {
      "cell_type": "code",
      "execution_count": null,
      "metadata": {
        "colab": {
          "base_uri": "https://localhost:8080/",
          "height": 963
        },
        "id": "761q1NvQpy8o",
        "outputId": "f298c063-6e24-4043-a99f-71db6aac3d21"
      },
      "outputs": [],
      "source": [
        "img_space_raw = cv2.imread('./supernova.jpg', 0)\n",
        "img_space_raw = cv2.resize(img_space_raw, None, fx=0.5, fy=0.5)\n",
        "img_space = (img_space_raw > 100).astype(np.uint8) * 255\n",
        "\n",
        "struct = np.ones([5, 5], np.uint8)\n",
        "imshow(img_space_raw)\n",
        "imshow(img_space)"
      ]
    },
    {
      "cell_type": "markdown",
      "metadata": {
        "id": "3jiaJUCJnCNv"
      },
      "source": [
        "Przypomnijmy, operacja otwarcia właściwego słada się z 3 następujących po sobie operacji: zamknięcia, otwarcia i znowu zamknięcia. Wynik, jest porównywany z **obrazem wejściowym**, a rezultatem jest operacja **min** na obrazie wejściowym i rezultacie sekwencji operacji.\n",
        "\n",
        "Wynik otwarcia właściwego można zinterpretować jako **wybranie spójnego obszaru z obrazu wejściowego zachowując szczególy znajdujące się na obrazie wejściowym.**"
      ]
    },
    {
      "cell_type": "code",
      "execution_count": null,
      "metadata": {
        "colab": {
          "base_uri": "https://localhost:8080/",
          "height": 1000
        },
        "id": "HQxpCf4MvVfX",
        "outputId": "9b22214d-a361-4287-b9af-c77fc74e9320"
      },
      "outputs": [],
      "source": [
        "img_space_close = cv2.morphologyEx(img_space, cv2.MORPH_CLOSE, struct)\n",
        "img_space_open = cv2.morphologyEx(img_space_close, cv2.MORPH_OPEN, struct)\n",
        "img_space_close2 = cv2.morphologyEx(img_space_open, cv2.MORPH_CLOSE, struct)\n",
        "img_space_Q = np.minimum(img_space, img_space_close2)\n",
        "\n",
        "print('\\nWyniki pośrednie\\n')\n",
        "imshow(np.concatenate([img_space_close, img_space_open, img_space_close2], 1))\n",
        "\n",
        "print('\\nPorównanie obrazu wejściowego i wyniku otwarcia właściwego\\n')\n",
        "imshow(np.concatenate([img_space, img_space_Q], 1))"
      ]
    },
    {
      "cell_type": "markdown",
      "metadata": {
        "id": "OtOYryMznsqQ"
      },
      "source": [
        "Operacja zamknięcia właściwego składa się z następujących po sobie operacji otwarcia, zamknięcia i znowu otwarcia.\n",
        "\n",
        "Wyniki można zinterpretować jako obraz wejściowy **z wyszczególnionym obszarem jednolitym**."
      ]
    },
    {
      "cell_type": "code",
      "execution_count": null,
      "metadata": {
        "colab": {
          "base_uri": "https://localhost:8080/",
          "height": 1000
        },
        "id": "JcHlwbJwvbmF",
        "outputId": "ae9ecda2-df13-4135-e4a1-f25bcfeb320b"
      },
      "outputs": [],
      "source": [
        "img_space_open = cv2.morphologyEx(img_space, cv2.MORPH_OPEN, struct)\n",
        "img_space_close = cv2.morphologyEx(img_space_open, cv2.MORPH_CLOSE, struct)\n",
        "img_space_open2 = cv2.morphologyEx(img_space_close, cv2.MORPH_OPEN, struct)\n",
        "img_space_G = np.maximum(img_space, img_space_open2)\n",
        "\n",
        "print('\\nWyniki pośrednie\\n')\n",
        "imshow(np.concatenate([img_space_open, img_space_close, img_space_open2], 1))\n",
        "\n",
        "print('\\nPorównanie obrazu wejściowego i wyniku zamknięcia właściwego\\n')\n",
        "imshow(np.concatenate([img_space, img_space_G], 1))"
      ]
    },
    {
      "cell_type": "markdown",
      "metadata": {
        "id": "g8ej95Dio89i"
      },
      "source": [
        "Dla lepszego porównania wyników poniżej zostały odseparowane obie funkcje $Q$ i $G$, a wyniki zostały skonfrontowane z obrazem wejściowym."
      ]
    },
    {
      "cell_type": "code",
      "execution_count": null,
      "metadata": {
        "id": "OxUgtiQAq2QA"
      },
      "outputs": [],
      "source": [
        "def Q(img_bin, struct):\n",
        "  x = cv2.morphologyEx(img_bin, cv2.MORPH_CLOSE, struct)\n",
        "  x = cv2.morphologyEx(x, cv2.MORPH_OPEN, struct)\n",
        "  x = cv2.morphologyEx(x, cv2.MORPH_CLOSE, struct)\n",
        "  return np.minimum(img_bin, x)\n",
        "\n",
        "def G(img_bin, struct):\n",
        "  x = cv2.morphologyEx(img_bin, cv2.MORPH_OPEN, struct)\n",
        "  x = cv2.morphologyEx(x, cv2.MORPH_CLOSE, struct)\n",
        "  x = cv2.morphologyEx(x, cv2.MORPH_OPEN, struct)\n",
        "  return np.maximum(img_bin, x)"
      ]
    },
    {
      "cell_type": "code",
      "execution_count": null,
      "metadata": {
        "colab": {
          "base_uri": "https://localhost:8080/",
          "height": 1000
        },
        "id": "5-SjtrvCwclN",
        "outputId": "eac765e6-ac38-4187-bfb4-3316c119b0ae"
      },
      "outputs": [],
      "source": [
        "print('\\nPorównanie obrazu wejściowego i wyniku otwarcia właściwego\\n')\n",
        "imshow(np.concatenate([img_space, Q(img_space, struct)], 1))\n",
        "\n",
        "print('\\nPorównanie obrazu wejściowego i wyniku zamknięcia właściwego\\n')\n",
        "imshow(np.concatenate([img_space, G(img_space, struct)], 1))"
      ]
    },
    {
      "cell_type": "markdown",
      "metadata": {
        "id": "GNy6dQDuxIF5"
      },
      "source": [
        "#### Zadanie 3\n",
        "\n",
        "Analogicznie do powyższych funkcji, zaimplementuj operację **automediany** i przetestuj ją na wcześniej przetwarzanym obrazie supernowy (w przestrzeni binarnej).\n",
        "\n",
        "a) skorzystaj z funkcji dostępnych w OpenCV,\n",
        "b) napisz, czym charakteryzuje się otrzymany obraz w porównaniu z otwarciem właściwym i zamknięciem właściwym."
      ]
    },
    {
      "cell_type": "code",
      "execution_count": null,
      "metadata": {
        "colab": {
          "base_uri": "https://localhost:8080/",
          "height": 545
        },
        "id": "ZCTWc7PHxHMJ",
        "outputId": "424ba257-a2c5-4782-c307-20effa95eecf"
      },
      "outputs": [],
      "source": [
        "def A(img, struct):\n",
        "  x = cv2.morphologyEx(img, cv2.MORPH_CLOSE, struct)\n",
        "  x = cv2.morphologyEx(x, cv2.MORPH_OPEN, struct)\n",
        "  x = cv2.morphologyEx(x, cv2.MORPH_CLOSE, struct)\n",
        "  x1 = np.minimum(img, x)\n",
        "\n",
        "  x = cv2.morphologyEx(img, cv2.MORPH_OPEN, struct)\n",
        "  x = cv2.morphologyEx(x, cv2.MORPH_CLOSE, struct)\n",
        "  x = cv2.morphologyEx(x, cv2.MORPH_OPEN, struct)\n",
        "  return np.maximum(x, x1)\n",
        "\n",
        "print('\\nPorównanie obrazu wejściowego i automediany\\n')\n",
        "imshow(np.concatenate([img_space, A(img_space, struct)], 1))"
      ]
    },
    {
      "cell_type": "markdown",
      "metadata": {
        "id": "XGFVGmrkf503"
      },
      "source": [
        "## Operacje morfologiczne jako zalążek rozpoznawania wzorców"
      ]
    },
    {
      "cell_type": "markdown",
      "metadata": {
        "id": "2WV4XL3uZn9X"
      },
      "source": [
        "Operacje morfologiczne są operacjami opartymi na operacjach logicznych. Implikuje to pewne praktyczne zastosowania w przetwarzaniu obrazów, a w szczególności rozpoznawania wzorców.\n",
        "\n",
        "W ogólności, element strukturalny nie musi być prostym elementem, który sprawia, że wyniki erozji i dylatacji stają się większymi/mniejszymi obszarami. Element strukturalny może przyjąć bardziej złożoną formę i reprezentować pewne poszukiwane cechy na obrazie.\n",
        "\n",
        "Zdefiniujmy bardziej wyrafinowany obraz binarny, zawierające pewne powtarzające się wzorce."
      ]
    },
    {
      "cell_type": "code",
      "execution_count": null,
      "metadata": {
        "colab": {
          "base_uri": "https://localhost:8080/",
          "height": 720
        },
        "id": "t-mF9f5kh-_c",
        "outputId": "a928d65c-29af-4c04-93e1-3f9da3958903"
      },
      "outputs": [],
      "source": [
        "img_pattern = np.array([\n",
        "  [0, 0, 0, 0, 0, 0, 0, 0, 0, 0, 0, 0, 0, 1, 1, 1, 0, 0, 0, 0],\n",
        "  [0, 0, 0, 0, 0, 0, 0, 0, 0, 0, 0, 0, 1, 1, 0, 1, 0, 0, 0, 0],\n",
        "  [0, 0, 0, 1, 1, 1, 1, 1, 0, 0, 0, 0, 1, 0, 0, 1, 1, 1, 0, 0],\n",
        "  [0, 0, 1, 0, 0, 0, 0, 0, 1, 0, 0, 0, 0, 0, 0, 0, 0, 0, 0, 0],\n",
        "  [0, 0, 1, 0, 1, 0, 1, 0, 1, 0, 0, 0, 0, 0, 0, 0, 0, 0, 0, 0],\n",
        "  [0, 0, 1, 0, 0, 1, 0, 0, 1, 0, 0, 0, 0, 0, 0, 0, 0, 0, 0, 0],\n",
        "  [0, 0, 0, 1, 0, 0, 0, 1, 0, 0, 0, 0, 1, 1, 1, 1, 1, 0, 0, 0],\n",
        "  [0, 0, 0, 0, 1, 0, 1, 0, 0, 0, 0, 1, 0, 0, 0, 0, 0, 1, 0, 0],\n",
        "  [0, 0, 0, 0, 0, 1, 0, 0, 1, 0, 0, 1, 0, 1, 0, 1, 0, 1, 0, 0],\n",
        "  [0, 0, 1, 1, 0, 0, 0, 1, 1, 0, 0, 1, 0, 0, 1, 0, 0, 1, 0, 0],\n",
        "  [0, 1, 0, 0, 0, 0, 1, 1, 0, 0, 0, 0, 1, 0, 0, 0, 1, 0, 0, 0],\n",
        "  [0, 1, 1, 0, 0, 0, 1, 0, 0, 0, 0, 0, 0, 1, 0, 1, 0, 0, 0, 0],\n",
        "  [0, 0, 0, 0, 0, 0, 0, 0, 0, 0, 0, 0, 0, 0, 1, 0, 0, 0, 0, 0]\n",
        "], np.uint8)\n",
        "h_color(img_pattern)"
      ]
    },
    {
      "cell_type": "markdown",
      "metadata": {
        "id": "IztOTBo_iAwH"
      },
      "source": [
        "Jako element strukturalny zdefiniujmy sobie właśnie taki wzorzec."
      ]
    },
    {
      "cell_type": "code",
      "execution_count": null,
      "metadata": {
        "colab": {
          "base_uri": "https://localhost:8080/",
          "height": 575
        },
        "id": "ynG1Z2gAZob1",
        "outputId": "291a37c2-063c-4fee-820b-2e5cc7cca0a8"
      },
      "outputs": [],
      "source": [
        "struct = np.array([\n",
        "  [0, 1, 1, 1, 1, 1, 0],\n",
        "  [1, 0, 0, 0, 0, 0, 1],\n",
        "  [1, 0, 1, 0, 1, 0, 1],\n",
        "  [1, 0, 0, 1, 0, 0, 1],\n",
        "  [0, 1, 0, 0, 0, 1, 0],\n",
        "  [0, 0, 1, 0, 1, 0, 0],\n",
        "  [0, 0, 0, 1, 0, 0, 0]\n",
        "], np.uint8)\n",
        "h_color(struct)"
      ]
    },
    {
      "cell_type": "markdown",
      "metadata": {
        "id": "jkt0Mm10iI-3"
      },
      "source": [
        "**Spodziewanym rezultatem erozji obrazu wejściowego i obiektu strukturalnego będzie maska bitowa, z zapalonymi pikselami w pozycjach gdzie odnaleziony został obiekt strukturalny.**"
      ]
    },
    {
      "cell_type": "code",
      "execution_count": null,
      "metadata": {
        "colab": {
          "base_uri": "https://localhost:8080/",
          "height": 756
        },
        "id": "Ib9Ob9eciX1F",
        "outputId": "7d161a3c-cd46-496a-9eea-824087c65a3c"
      },
      "outputs": [],
      "source": [
        "img_pattern_recognition = cv2.erode(img_pattern, struct, iterations = 1)\n",
        "\n",
        "for i, xy in enumerate(zip(*np.where(img_pattern_recognition))):\n",
        "  print(f'({i}) obiekt odnaleziony na pozycji {xy}')\n",
        "\n",
        "h_color(img_pattern_recognition)"
      ]
    },
    {
      "cell_type": "markdown",
      "metadata": {
        "id": "_D9NBt3Ph1GM"
      },
      "source": [
        "Co więcej, element strukturalny może pochodzić również z samego obrazu - można wyobrazić sobie sytuację w której znajdujemy otoczenia wszystkich pikseli i pobieramy najczęściej pojawiający się element. W ten sposób możemy stworzyć prosty **deskryptor** obrazu i wykorzystać go w przetwarzaniu **innych obrazów**."
      ]
    },
    {
      "cell_type": "markdown",
      "metadata": {
        "id": "MSHW3SmKXTT5"
      },
      "source": [
        "## Morfologia ciągła w ujęciu funkcyjnym"
      ]
    },
    {
      "cell_type": "markdown",
      "metadata": {
        "id": "9-sn1qsAZO9U"
      },
      "source": [
        "Operacje erozji i dylatacji posiadają swoją interpretację w dziedzinie ciągłej. Przeanalizujmy przypadek erozji i dylatacji dla obrazu binarnego, wprowadzony wcześniej na potrzeby zadania 1 (s - element strukturalny, I - obraz wejściowy, d - macierz dopasowania):\n",
        "\n",
        "$$s = \\begin{bmatrix}\n",
        "0 & 1 & 0\\\\\n",
        "1 & -1 & 1\\\\\n",
        "-1 & 0 & -1\\\\\n",
        "\\end{bmatrix}$$\n",
        "\n",
        "$$I = \\begin{bmatrix}\n",
        "0 & 0 & 0\\\\\n",
        "1 & 1 & 1\\\\\n",
        "0 & 1 & 0\\\\\n",
        "\\end{bmatrix}$$\n",
        "\n",
        "$$d = \\begin{bmatrix}\n",
        "1 & 0 & 1\\\\\n",
        "1 & 0 & 1\\\\\n",
        "1 & 1 & 1\\\\\n",
        "\\end{bmatrix}$$\n",
        "\n",
        "Zdefiniowaliśmy sytuację, w której dylatacja zwróci wartość 1, jako sytuacja w której dowolny element macierzy dopasowania jest równy 1. Aby zaimplementować taką operację można wykonać: $max(d)$, a więc jeśli największa wartość (gdzie dla wartości binarnych wyrażenie $0 < 1$ jest prawdziwe). Widzimy, że operacja $max(d)$ zwróci wartość 1, gdy **dowolny element macierzy d będzie równy 1**.\n",
        "\n",
        "Analogicznie, erozja zwróci wartość 1, gdy wszystkie elementy macierzy d będą równe 1. Innymi słowy, erozja wykonuje operację $min(d)$.\n",
        "\n",
        "Dla tak zdefiniowanych operacji możemy wprowadzić erozje i dylatacje w ujęciu funkcyjnym dla dziedziny ciągłej jako:\n",
        "\n",
        "$$(I \\oplus s)(x, y) = \\max\\{I(x - \\Delta x, y - \\Delta y) + s(x, y) : (x - \\Delta x, y - \\Delta y) \\in D_I, (x, y) \\in D_s\\}$$\n",
        "\n",
        "$$(I \\ominus s)(x, y) = \\min\\{I(x - \\Delta x, y - \\Delta y) - s(x, y) : (x - \\Delta x, y - \\Delta y) \\in D_I, (x, y) \\in D_s\\}$$\n",
        "\n",
        "gdzie:\n",
        "* $\\oplus$ - dylatacja,\n",
        "* $\\ominus$ - erozja,\n",
        "* $D_I$ - dziedzina obrazu (tj. wszystkie piksele, jeśli piksel nie należy do $D_I$ oznacza to, że wychodzi poza obszar obrazu),\n",
        "* $D_s$ - dziedzina elementu strukturalnego,\n",
        "* $\\Delta x \\Delta y$ - przesunięcia które realizują operację przyłożenia elementu strukturalnego do obrazu,"
      ]
    },
    {
      "cell_type": "code",
      "execution_count": null,
      "metadata": {
        "colab": {
          "base_uri": "https://localhost:8080/",
          "height": 437
        },
        "id": "he7ZqWcRvDiA",
        "outputId": "fd9f9068-b896-4f9e-d86a-7b9f18ce2b30"
      },
      "outputs": [],
      "source": [
        "img_space_raw = cv2.imread('./supernova.jpg', 0)\n",
        "img_space_raw = cv2.resize(img_space_raw, None, fx=0.5, fy=0.5)\n",
        "\n",
        "struct = np.ones([5, 5], np.uint8)\n",
        "\n",
        "img_space_dil = cv2.dilate(img_space_raw, struct, iterations=1)\n",
        "img_space_ero = cv2.erode(img_space_raw, struct, iterations=1)\n",
        "\n",
        "imshow(np.concatenate([img_space_raw, img_space_dil, img_space_ero], 1))"
      ]
    },
    {
      "cell_type": "markdown",
      "metadata": {
        "id": "vFQC0wN-bExq"
      },
      "source": [
        "### Zadanie 4\n",
        "\n",
        "Sprawdź, czy implementacja erozji i dylatacji, z zadania 1, działa dla obrazów z dziedziny grayscale. Jeśli nie, zaimplementuj wersję, która obsłuży dane wejściowe w formacie grayscale.\n",
        "\n",
        "**Uwaga 1: implementacja nie musi obsługiwać wariantu, gdy składową elementu strukturalnego jest wartość -1. Dla uproszczenia można założyć, że element strukturalny zawiera dane jedynie dodatne.**"
      ]
    },
    {
      "cell_type": "code",
      "execution_count": null,
      "metadata": {
        "colab": {
          "base_uri": "https://localhost:8080/",
          "height": 967
        },
        "id": "uR0Pg09AtFlK",
        "outputId": "7754df4e-9dd0-4caa-96e7-4b87fe4c4d19"
      },
      "outputs": [],
      "source": [
        "img_space_raw = cv2.imread('./supernova.jpg', 0)\n",
        "img_space_raw = cv2.resize(img_space_raw, None, fx=0.5, fy=0.5)\n",
        "\n",
        "struct_bin = np.ones([5, 5], np.uint8)\n",
        "struct_float = np.array([\n",
        "  [0.1, 0.5, 0.1],\n",
        "  [0.5, 0.8, 0.5],\n",
        "  [0.1, 0.5, 0.1]\n",
        "])\n",
        "\n",
        "def dilate_f(img, struct):\n",
        "    pad_v = (struct.shape[0]) // 2\n",
        "    pad_h = (struct.shape[1]) // 2\n",
        "    img_o = np.zeros_like(img)\n",
        "    img_b = cv2.copyMakeBorder(img, pad_v, pad_v, pad_h, pad_h, cv2.BORDER_CONSTANT, 0)\n",
        "    for i in range(img.shape[0]):\n",
        "        for j in range(img.shape[1]):\n",
        "            img_o[i][j] = np.max(img_b[i:i+struct.shape[0],j:j+struct.shape[1]] + struct)\n",
        "\n",
        "    return img_o\n",
        "\n",
        "def erode_f(img, struct):\n",
        "    pad_v = (struct.shape[0]) // 2\n",
        "    pad_h = (struct.shape[1]) // 2\n",
        "    img_o = np.zeros_like(img)\n",
        "    img_b = cv2.copyMakeBorder(img, pad_v, pad_v, pad_h, pad_h, cv2.BORDER_CONSTANT, 0)\n",
        "    for i in range(img.shape[0]):\n",
        "        for j in range(img.shape[1]):\n",
        "            img_o[i][j] = np.min(img_b[i:i+struct.shape[0],j:j+struct.shape[1]] + struct)\n",
        "\n",
        "    return img_o\n",
        "\n",
        "img_space_dil_bin = dilate_f(img_space_raw, struct_bin)\n",
        "img_space_ero_bin = erode_f(img_space_raw, struct_bin)\n",
        "img_space_dil_float = dilate_f(img_space_raw, struct_float)\n",
        "img_space_ero_float = erode_f(img_space_raw, struct_float)\n",
        "\n",
        "print('\\nWynik operacji morfologicznych dla elementu strukturalnego binarnego\\n')\n",
        "imshow(np.concatenate([img_space_raw, img_space_dil_bin, img_space_ero_bin], 1))\n",
        "\n",
        "print('\\nWynik operacji morfologicznych dla elementu strukturalnego zmiennoprzecinkowego\\n')\n",
        "imshow(np.concatenate([img_space_raw, img_space_dil_float, img_space_ero_float], 1))"
      ]
    },
    {
      "cell_type": "markdown",
      "metadata": {
        "id": "pTwPsnx0xZMf"
      },
      "source": [
        "## Zadanie Dodatkowe 5\\*\n",
        "\n",
        "Zaimplementuj algorytm wykrywania krawędzi dla obrazów binarnych oparty na operacji ścieniania (**thinning**).\n",
        "\n",
        "[Link do wikipedii](https://pl.wikipedia.org/wiki/Cyfrowe_przetwarzanie_obraz%C3%B3w_binarnych)\n",
        "\n",
        "**Uwaga: nie wykorzystuj OpenCV do wykonywania operacji morfoologicznych.**"
      ]
    },
    {
      "cell_type": "code",
      "execution_count": null,
      "metadata": {
        "colab": {
          "base_uri": "https://localhost:8080/",
          "height": 385
        },
        "id": "zyohTzCayF1J",
        "outputId": "49268259-2d76-478e-8584-5bd025307118"
      },
      "outputs": [],
      "source": [
        "img_bin = np.array([\n",
        "  [0, 0, 0, 0, 0, 0, 0, 0, 0, 0, 0, 0, 0, 0, 0, 0, 0, 0, 0, 0, 0],\n",
        "  [0, 0, 0, 1, 1, 1, 0, 1, 1, 1, 1, 1, 0, 0, 1, 1, 0, 1, 1, 1, 0],\n",
        "  [0, 0, 1, 1, 1, 1, 1, 1, 1, 1, 1, 1, 0, 1, 1, 1, 0, 1, 1, 1, 0],\n",
        "  [0, 0, 1, 1, 1, 1, 1, 1, 1, 1, 1, 1, 1, 1, 1, 1, 0, 0, 1, 1, 0],\n",
        "  [0, 1, 1, 1, 1, 1, 1, 1, 1, 1, 1, 1, 1, 1, 1, 1, 1, 1, 1, 1, 0],\n",
        "  [0, 1, 1, 1, 1, 1, 1, 1, 1, 1, 1, 1, 1, 1, 1, 1, 1, 1, 1, 1, 0],\n",
        "  [0, 0, 1, 1, 0, 0, 1, 1, 1, 1, 0, 0, 1, 1, 1, 1, 1, 1, 1, 1, 0],\n",
        "  [0, 0, 0, 0, 0, 0, 0, 0, 0, 0, 0, 0, 0, 0, 0, 0, 0, 0, 0, 0, 0],\n",
        "], np.uint8)\n",
        "\n",
        "struct = np.ones([3, 3], np.uint8)\n",
        "\n",
        "# TODO:\n",
        "img_thin = ...\n",
        "raise NotImplementedError()\n",
        "\n",
        "h_color(img_bin, fx=1.0, fy=1.0)\n",
        "h_color(img_thin, fx=1.0, fy=1.0)\n"
      ]
    }
  ],
  "metadata": {
    "colab": {
      "collapsed_sections": [
        "WMJXpBTXtET5"
      ],
      "provenance": [],
      "toc_visible": true
    },
    "kernelspec": {
      "display_name": "Python 3",
      "name": "python3"
    },
    "language_info": {
      "codemirror_mode": {
        "name": "ipython",
        "version": 3
      },
      "file_extension": ".py",
      "mimetype": "text/x-python",
      "name": "python",
      "nbconvert_exporter": "python",
      "pygments_lexer": "ipython3",
      "version": "3.9.13"
    }
  },
  "nbformat": 4,
  "nbformat_minor": 0
}
