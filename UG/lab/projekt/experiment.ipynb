{
 "cells": [
  {
   "cell_type": "code",
   "execution_count": 11,
   "metadata": {},
   "outputs": [],
   "source": [
    "import torch\n",
    "import torch.nn as nn\n",
    "import torch.optim as optim\n",
    "from torchvision import datasets, transforms, models\n",
    "from tqdm import tqdm\n",
    "import timm\n",
    "import torchattacks\n",
    "import matplotlib.pyplot as plt\n",
    "import torchvision\n",
    "import numpy as np\n",
    "import detectors\n",
    "import json"
   ]
  },
  {
   "cell_type": "code",
   "execution_count": 12,
   "metadata": {},
   "outputs": [],
   "source": [
    "DATASET_SUBSET = False\n",
    "DATASET_SUBSET_SIZE = 10000"
   ]
  },
  {
   "cell_type": "code",
   "execution_count": 13,
   "metadata": {},
   "outputs": [
    {
     "name": "stdout",
     "output_type": "stream",
     "text": [
      "Files already downloaded and verified\n",
      "Files already downloaded and verified\n",
      "Train set size: 50000\n",
      "Test set size: 10000\n"
     ]
    }
   ],
   "source": [
    "norm_mean = (0.4914, 0.4822, 0.4465)\n",
    "norm_std =  (0.2023, 0.1994, 0.201)\n",
    "\n",
    "transform_train = transforms.Compose([\n",
    "    transforms.RandomCrop(32, padding=4),\n",
    "    transforms.RandomHorizontalFlip(),\n",
    "    transforms.ToTensor(),\n",
    "    transforms.Normalize(norm_mean, norm_std),\n",
    "])\n",
    "\n",
    "transform_test = transforms.Compose([\n",
    "    transforms.ToTensor(),\n",
    "    transforms.Normalize(norm_mean, norm_std),\n",
    "])\n",
    "\n",
    "classes = ('plane', 'car', 'bird', 'cat',\n",
    "           'deer', 'dog', 'frog', 'horse', 'ship', 'truck')\n",
    "\n",
    "trainset = datasets.CIFAR10(root='./data', train=True, download=True, transform=transform_train)\n",
    "testset = datasets.CIFAR10(root='./data', train=False, download=True, transform=transform_test)\n",
    "\n",
    "if DATASET_SUBSET:\n",
    "    train_subset_indices = list(range(0, DATASET_SUBSET_SIZE))\n",
    "    test_subset_indices = list(range(0, DATASET_SUBSET_SIZE // 2))\n",
    "    trainset = torch.utils.data.Subset(trainset, train_subset_indices)\n",
    "    testset = torch.utils.data.Subset(testset, test_subset_indices)\n",
    "\n",
    "print(f'Train set size: {len(trainset)}')\n",
    "print(f'Test set size: {len(testset)}')"
   ]
  },
  {
   "cell_type": "code",
   "execution_count": 14,
   "metadata": {},
   "outputs": [
    {
     "name": "stdout",
     "output_type": "stream",
     "text": [
      "Train loader batches: 391\n",
      "Test loader batches: 79\n"
     ]
    }
   ],
   "source": [
    "batch_size = 128\n",
    "trainloader = torch.utils.data.DataLoader(trainset, batch_size=batch_size, shuffle=True)\n",
    "testloader = torch.utils.data.DataLoader(testset, batch_size=batch_size, shuffle=False)\n",
    "\n",
    "print(f'Train loader batches: {len(trainloader)}')\n",
    "print(f'Test loader batches: {len(testloader)}')"
   ]
  },
  {
   "cell_type": "code",
   "execution_count": 15,
   "metadata": {},
   "outputs": [
    {
     "name": "stdout",
     "output_type": "stream",
     "text": [
      "cuda\n"
     ]
    }
   ],
   "source": [
    "device = torch.device(\"cuda\" if torch.cuda.is_available() else \"cpu\")\n",
    "print(device)\n",
    "\n",
    "def get_pretrainded_model():\n",
    "    return timm.create_model('resnet18_cifar10', pretrained=True).to(device)"
   ]
  },
  {
   "cell_type": "code",
   "execution_count": 16,
   "metadata": {},
   "outputs": [],
   "source": [
    "def evaluate_attack(model, attack, dataloader):\n",
    "    model.eval()\n",
    "    correct = 0\n",
    "    total = 0\n",
    "    with tqdm(dataloader, unit=\"batch\") as tepoch:\n",
    "        tepoch.set_description(f\"Evaluation\")\n",
    "        for inputs, labels in tepoch:\n",
    "            inputs, labels = inputs.to(device), labels.to(device)\n",
    "\n",
    "            if attack:\n",
    "                adv_inputs = attack(inputs, labels)\n",
    "            else:\n",
    "                adv_inputs = inputs\n",
    "\n",
    "            outputs = model(adv_inputs)\n",
    "            _, predicted = torch.max(outputs.data, 1)\n",
    "\n",
    "            total += labels.size(0)\n",
    "            correct += (predicted == labels).sum().item()\n",
    "\n",
    "    accuracy = 100 * correct / total\n",
    "    return accuracy\n"
   ]
  },
  {
   "cell_type": "code",
   "execution_count": 17,
   "metadata": {},
   "outputs": [],
   "source": [
    "class AdversarialDataset(torch.utils.data.Dataset):\n",
    "    def __init__(self, dataloader, model, attack):\n",
    "        self.adversarial_images = []\n",
    "        self.labels = []\n",
    "        self.model = model\n",
    "        \n",
    "        model.eval()\n",
    "\n",
    "        for inputs, labels in tqdm(dataloader, desc=\"Generating Adversarial Dataset\"):\n",
    "            inputs, labels = inputs.to(device), labels.to(device)\n",
    "\n",
    "            adv_images = attack(inputs, labels)\n",
    "        \n",
    "            self.adversarial_images.extend(list(torch.unbind(adv_images.detach().cpu(), dim=0)))\n",
    "            self.labels.extend(labels.detach().cpu().tolist())\n",
    "\n",
    "    def __len__(self):\n",
    "        return len(self.adversarial_images)\n",
    "\n",
    "    def __getitem__(self, idx):\n",
    "        return self.adversarial_images[idx], self.labels[idx]"
   ]
  },
  {
   "cell_type": "code",
   "execution_count": 18,
   "metadata": {},
   "outputs": [],
   "source": [
    "def run_experiment(model, trainloader, testloader, attack, num_iters=5, num_epochs=20):\n",
    "    results = {\n",
    "        'pre_train_results': {\n",
    "            'attack_test_acc': 0,\n",
    "            'test_acc': 0,\n",
    "        },\n",
    "        'training_results': [],\n",
    "    }\n",
    "    \n",
    "    attacktestset = AdversarialDataset(testloader, model, attack)\n",
    "    attacktestloader = torch.utils.data.DataLoader(attacktestset, batch_size=batch_size, shuffle=True)\n",
    "    \n",
    "    attack_test_acc = evaluate_attack(model, None, attacktestloader)\n",
    "    test_acc = evaluate_attack(model, None, testloader)\n",
    "    print(f'Test: attack testset accuracy: {attack_test_acc:.2f}%')\n",
    "    print(f'Test: testset accuracy: {test_acc:.2f}%')\n",
    "    results['pre_train_results']['attack_test_acc'] = attack_test_acc\n",
    "    results['pre_train_results']['test_acc'] = test_acc\n",
    "\n",
    "    criterion = nn.CrossEntropyLoss()\n",
    "    optimizer = optim.SGD(model.parameters(), lr=0.001,\n",
    "                      momentum=0.9, weight_decay=5e-4)\n",
    "    scheduler = torch.optim.lr_scheduler.CosineAnnealingLR(optimizer, T_max=num_epochs)\n",
    "\n",
    "    for i in range(num_iters):\n",
    "        print(f'#### Iteration: {i} ####', flush=True)\n",
    "\n",
    "        results['training_results'].append({'epochs_acc': [], 'attack_test_acc': 0, 'test_acc': 0, 'combined_acc': 0, 'oneshot_attack_test_acc': 0})\n",
    "\n",
    "        attacktrainset = AdversarialDataset(trainloader, model, attack)\n",
    "\n",
    "        combinedset = torch.utils.data.ConcatDataset([trainloader.dataset, attacktrainset])\n",
    "        combinedloader = torch.utils.data.DataLoader(combinedset, batch_size=batch_size, shuffle=True)\n",
    "\n",
    "        for epoch in range(num_epochs):\n",
    "            model.train()\n",
    "            running_loss = 0.0\n",
    "\n",
    "            with tqdm(combinedloader, unit=\"batch\") as tepoch:\n",
    "                tepoch.set_description(f\"Epoch [{epoch+1}/{num_epochs}]\")\n",
    "                for inputs, labels in tepoch:\n",
    "                    inputs, labels = inputs.to(device), labels.to(device)\n",
    "\n",
    "                    optimizer.zero_grad()\n",
    "                    outputs = model(inputs)\n",
    "                    loss = criterion(outputs, labels)\n",
    "                    loss.backward()\n",
    "                    optimizer.step()\n",
    "\n",
    "                    running_loss += loss.item()\n",
    "                    tepoch.set_postfix(loss=loss.item())\n",
    "            scheduler.step()\n",
    "\n",
    "            epoch_loss = running_loss / len(combinedloader)\n",
    "            epoch_acc = evaluate_attack(model, None, combinedloader)\n",
    "            epoch_test_acc = evaluate_attack(model, None, testloader)\n",
    "            print(f\"Epoch [{epoch+1}/{num_epochs}]: Average Loss: {epoch_loss:.4f}\")\n",
    "            print(f\"Epoch [{epoch+1}/{num_epochs}]: Train combinedset accuracy: {epoch_acc:.2f}%\")\n",
    "            print(f\"Epoch [{epoch+1}/{num_epochs}]: Test: testset accuracy: {epoch_test_acc:.2f}%\")\n",
    "            results['training_results'][-1]['epochs_acc'].append(epoch_acc)\n",
    "\n",
    "        oneshotattacktestset = AdversarialDataset(testloader, model, attack)\n",
    "        oneshotattacktestloader = torch.utils.data.DataLoader(oneshotattacktestset, batch_size=batch_size, shuffle=True)\n",
    "\n",
    "        attack_test_acc = evaluate_attack(model, None, attacktestloader)\n",
    "        test_acc = evaluate_attack(model, None, testloader)\n",
    "        combined_acc = evaluate_attack(model, None, combinedloader)\n",
    "        oneshot_attack_test_acc = evaluate_attack(model, None, oneshotattacktestloader)\n",
    "        print(f'Test: attack testset accuracy: {attack_test_acc:.2f}%')\n",
    "        print(f'Test: testset accuracy: {test_acc:.2f}%')\n",
    "        print(f'Train: combinedset accuracy: {combined_acc:.2f}%')\n",
    "        print(f'Test: oneshot attack testset accuracy: {oneshot_attack_test_acc:.2f}%')\n",
    "        results['training_results'][-1]['attack_test_acc'] = attack_test_acc\n",
    "        results['training_results'][-1]['test_acc'] = test_acc\n",
    "        results['training_results'][-1]['combined_acc'] = combined_acc\n",
    "        results['training_results'][-1]['oneshot_attack_test_acc'] = oneshot_attack_test_acc\n",
    "    return results"
   ]
  },
  {
   "cell_type": "code",
   "execution_count": 19,
   "metadata": {},
   "outputs": [],
   "source": [
    "eps = 0.02"
   ]
  },
  {
   "cell_type": "code",
   "execution_count": 20,
   "metadata": {},
   "outputs": [
    {
     "name": "stderr",
     "output_type": "stream",
     "text": [
      "Generating Adversarial Dataset: 100%|██████████| 79/79 [00:08<00:00,  9.23it/s]\n",
      "Evaluation: 100%|██████████| 79/79 [00:03<00:00, 23.86batch/s]\n",
      "Evaluation: 100%|██████████| 79/79 [00:05<00:00, 15.05batch/s]"
     ]
    },
    {
     "name": "stdout",
     "output_type": "stream",
     "text": [
      "Test: attack testset accuracy: 30.06%\n",
      "Test: testset accuracy: 94.98%\n",
      "#### Iteration: 0 ####\n"
     ]
    },
    {
     "name": "stderr",
     "output_type": "stream",
     "text": [
      "\n",
      "Generating Adversarial Dataset: 100%|██████████| 391/391 [00:48<00:00,  8.00it/s]\n",
      "Epoch [1/20]: 100%|██████████| 782/782 [01:46<00:00,  7.33batch/s, loss=0.302]\n",
      "Evaluation: 100%|██████████| 782/782 [00:48<00:00, 16.26batch/s]\n",
      "Evaluation: 100%|██████████| 79/79 [00:04<00:00, 16.15batch/s]\n"
     ]
    },
    {
     "name": "stdout",
     "output_type": "stream",
     "text": [
      "Epoch [1/20]: Average Loss: 0.3827\n",
      "Epoch [1/20]: Train combinedset accuracy: 93.56%\n",
      "Epoch [1/20]: Test: testset accuracy: 90.81%\n"
     ]
    },
    {
     "name": "stderr",
     "output_type": "stream",
     "text": [
      "Epoch [2/20]: 100%|██████████| 782/782 [01:39<00:00,  7.86batch/s, loss=0.201] \n",
      "Evaluation: 100%|██████████| 782/782 [00:46<00:00, 16.75batch/s]\n",
      "Evaluation: 100%|██████████| 79/79 [00:04<00:00, 16.21batch/s]\n"
     ]
    },
    {
     "name": "stdout",
     "output_type": "stream",
     "text": [
      "Epoch [2/20]: Average Loss: 0.1895\n",
      "Epoch [2/20]: Train combinedset accuracy: 95.97%\n",
      "Epoch [2/20]: Test: testset accuracy: 90.83%\n"
     ]
    },
    {
     "name": "stderr",
     "output_type": "stream",
     "text": [
      "Epoch [3/20]: 100%|██████████| 782/782 [01:39<00:00,  7.87batch/s, loss=0.378] \n",
      "Evaluation: 100%|██████████| 782/782 [00:46<00:00, 16.92batch/s]\n",
      "Evaluation: 100%|██████████| 79/79 [00:04<00:00, 16.21batch/s]\n"
     ]
    },
    {
     "name": "stdout",
     "output_type": "stream",
     "text": [
      "Epoch [3/20]: Average Loss: 0.1301\n",
      "Epoch [3/20]: Train combinedset accuracy: 97.66%\n",
      "Epoch [3/20]: Test: testset accuracy: 90.68%\n"
     ]
    },
    {
     "name": "stderr",
     "output_type": "stream",
     "text": [
      "Epoch [4/20]: 100%|██████████| 782/782 [01:39<00:00,  7.86batch/s, loss=0.127] \n",
      "Evaluation: 100%|██████████| 782/782 [00:46<00:00, 16.75batch/s]\n",
      "Evaluation: 100%|██████████| 79/79 [00:04<00:00, 16.00batch/s]\n"
     ]
    },
    {
     "name": "stdout",
     "output_type": "stream",
     "text": [
      "Epoch [4/20]: Average Loss: 0.0867\n",
      "Epoch [4/20]: Train combinedset accuracy: 98.79%\n",
      "Epoch [4/20]: Test: testset accuracy: 91.26%\n"
     ]
    },
    {
     "name": "stderr",
     "output_type": "stream",
     "text": [
      "Epoch [5/20]: 100%|██████████| 782/782 [01:39<00:00,  7.86batch/s, loss=0.0757]\n",
      "Evaluation: 100%|██████████| 782/782 [00:46<00:00, 16.90batch/s]\n",
      "Evaluation: 100%|██████████| 79/79 [00:04<00:00, 16.05batch/s]\n"
     ]
    },
    {
     "name": "stdout",
     "output_type": "stream",
     "text": [
      "Epoch [5/20]: Average Loss: 0.0587\n",
      "Epoch [5/20]: Train combinedset accuracy: 99.26%\n",
      "Epoch [5/20]: Test: testset accuracy: 91.33%\n"
     ]
    },
    {
     "name": "stderr",
     "output_type": "stream",
     "text": [
      "Epoch [6/20]: 100%|██████████| 782/782 [01:39<00:00,  7.86batch/s, loss=0.0745] \n",
      "Evaluation: 100%|██████████| 782/782 [00:46<00:00, 16.92batch/s]\n",
      "Evaluation: 100%|██████████| 79/79 [00:04<00:00, 16.15batch/s]\n"
     ]
    },
    {
     "name": "stdout",
     "output_type": "stream",
     "text": [
      "Epoch [6/20]: Average Loss: 0.0426\n",
      "Epoch [6/20]: Train combinedset accuracy: 99.45%\n",
      "Epoch [6/20]: Test: testset accuracy: 91.22%\n"
     ]
    },
    {
     "name": "stderr",
     "output_type": "stream",
     "text": [
      "Epoch [7/20]: 100%|██████████| 782/782 [01:39<00:00,  7.86batch/s, loss=0.103]  \n",
      "Evaluation: 100%|██████████| 782/782 [00:46<00:00, 16.92batch/s]\n",
      "Evaluation: 100%|██████████| 79/79 [00:04<00:00, 16.10batch/s]\n"
     ]
    },
    {
     "name": "stdout",
     "output_type": "stream",
     "text": [
      "Epoch [7/20]: Average Loss: 0.0337\n",
      "Epoch [7/20]: Train combinedset accuracy: 99.53%\n",
      "Epoch [7/20]: Test: testset accuracy: 91.43%\n"
     ]
    },
    {
     "name": "stderr",
     "output_type": "stream",
     "text": [
      "Epoch [8/20]: 100%|██████████| 782/782 [01:39<00:00,  7.86batch/s, loss=0.0464] \n",
      "Evaluation: 100%|██████████| 782/782 [00:46<00:00, 16.92batch/s]\n",
      "Evaluation: 100%|██████████| 79/79 [00:04<00:00, 16.15batch/s]\n"
     ]
    },
    {
     "name": "stdout",
     "output_type": "stream",
     "text": [
      "Epoch [8/20]: Average Loss: 0.0261\n",
      "Epoch [8/20]: Train combinedset accuracy: 99.64%\n",
      "Epoch [8/20]: Test: testset accuracy: 91.69%\n"
     ]
    },
    {
     "name": "stderr",
     "output_type": "stream",
     "text": [
      "Epoch [9/20]: 100%|██████████| 782/782 [01:38<00:00,  7.90batch/s, loss=0.0174] \n",
      "Evaluation: 100%|██████████| 782/782 [00:45<00:00, 17.00batch/s]\n",
      "Evaluation: 100%|██████████| 79/79 [00:04<00:00, 16.15batch/s]\n"
     ]
    },
    {
     "name": "stdout",
     "output_type": "stream",
     "text": [
      "Epoch [9/20]: Average Loss: 0.0233\n",
      "Epoch [9/20]: Train combinedset accuracy: 99.74%\n",
      "Epoch [9/20]: Test: testset accuracy: 91.54%\n"
     ]
    },
    {
     "name": "stderr",
     "output_type": "stream",
     "text": [
      "Epoch [10/20]: 100%|██████████| 782/782 [01:38<00:00,  7.91batch/s, loss=0.194]  \n",
      "Evaluation: 100%|██████████| 782/782 [00:46<00:00, 16.98batch/s]\n",
      "Evaluation: 100%|██████████| 79/79 [00:04<00:00, 16.15batch/s]\n"
     ]
    },
    {
     "name": "stdout",
     "output_type": "stream",
     "text": [
      "Epoch [10/20]: Average Loss: 0.0187\n",
      "Epoch [10/20]: Train combinedset accuracy: 99.80%\n",
      "Epoch [10/20]: Test: testset accuracy: 91.73%\n"
     ]
    },
    {
     "name": "stderr",
     "output_type": "stream",
     "text": [
      "Epoch [11/20]: 100%|██████████| 782/782 [01:38<00:00,  7.90batch/s, loss=0.0501] \n",
      "Evaluation: 100%|██████████| 782/782 [00:46<00:00, 16.99batch/s]\n",
      "Evaluation: 100%|██████████| 79/79 [00:04<00:00, 16.15batch/s]\n"
     ]
    },
    {
     "name": "stdout",
     "output_type": "stream",
     "text": [
      "Epoch [11/20]: Average Loss: 0.0171\n",
      "Epoch [11/20]: Train combinedset accuracy: 99.83%\n",
      "Epoch [11/20]: Test: testset accuracy: 91.76%\n"
     ]
    },
    {
     "name": "stderr",
     "output_type": "stream",
     "text": [
      "Epoch [12/20]: 100%|██████████| 782/782 [01:38<00:00,  7.90batch/s, loss=0.025]  \n",
      "Evaluation: 100%|██████████| 782/782 [00:46<00:00, 16.95batch/s]\n",
      "Evaluation: 100%|██████████| 79/79 [00:04<00:00, 16.21batch/s]\n"
     ]
    },
    {
     "name": "stdout",
     "output_type": "stream",
     "text": [
      "Epoch [12/20]: Average Loss: 0.0147\n",
      "Epoch [12/20]: Train combinedset accuracy: 99.84%\n",
      "Epoch [12/20]: Test: testset accuracy: 91.73%\n"
     ]
    },
    {
     "name": "stderr",
     "output_type": "stream",
     "text": [
      "Epoch [13/20]: 100%|██████████| 782/782 [01:39<00:00,  7.90batch/s, loss=0.0102] \n",
      "Evaluation: 100%|██████████| 782/782 [00:46<00:00, 17.00batch/s]\n",
      "Evaluation: 100%|██████████| 79/79 [00:04<00:00, 16.21batch/s]\n"
     ]
    },
    {
     "name": "stdout",
     "output_type": "stream",
     "text": [
      "Epoch [13/20]: Average Loss: 0.0129\n",
      "Epoch [13/20]: Train combinedset accuracy: 99.84%\n",
      "Epoch [13/20]: Test: testset accuracy: 91.79%\n"
     ]
    },
    {
     "name": "stderr",
     "output_type": "stream",
     "text": [
      "Epoch [14/20]: 100%|██████████| 782/782 [01:38<00:00,  7.90batch/s, loss=0.00267]\n",
      "Evaluation: 100%|██████████| 782/782 [00:45<00:00, 17.00batch/s]\n",
      "Evaluation: 100%|██████████| 79/79 [00:04<00:00, 16.20batch/s]\n"
     ]
    },
    {
     "name": "stdout",
     "output_type": "stream",
     "text": [
      "Epoch [14/20]: Average Loss: 0.0125\n",
      "Epoch [14/20]: Train combinedset accuracy: 99.89%\n",
      "Epoch [14/20]: Test: testset accuracy: 91.79%\n"
     ]
    },
    {
     "name": "stderr",
     "output_type": "stream",
     "text": [
      "Epoch [15/20]: 100%|██████████| 782/782 [01:39<00:00,  7.90batch/s, loss=0.0633] \n",
      "Evaluation: 100%|██████████| 782/782 [00:46<00:00, 16.99batch/s]\n",
      "Evaluation: 100%|██████████| 79/79 [00:04<00:00, 16.21batch/s]\n"
     ]
    },
    {
     "name": "stdout",
     "output_type": "stream",
     "text": [
      "Epoch [15/20]: Average Loss: 0.0117\n",
      "Epoch [15/20]: Train combinedset accuracy: 99.90%\n",
      "Epoch [15/20]: Test: testset accuracy: 92.00%\n"
     ]
    },
    {
     "name": "stderr",
     "output_type": "stream",
     "text": [
      "Epoch [16/20]: 100%|██████████| 782/782 [01:38<00:00,  7.90batch/s, loss=0.0203] \n",
      "Evaluation: 100%|██████████| 782/782 [00:45<00:00, 17.01batch/s]\n",
      "Evaluation: 100%|██████████| 79/79 [00:04<00:00, 16.15batch/s]\n"
     ]
    },
    {
     "name": "stdout",
     "output_type": "stream",
     "text": [
      "Epoch [16/20]: Average Loss: 0.0108\n",
      "Epoch [16/20]: Train combinedset accuracy: 99.89%\n",
      "Epoch [16/20]: Test: testset accuracy: 91.88%\n"
     ]
    },
    {
     "name": "stderr",
     "output_type": "stream",
     "text": [
      "Epoch [17/20]: 100%|██████████| 782/782 [01:39<00:00,  7.90batch/s, loss=0.0218] \n",
      "Evaluation: 100%|██████████| 782/782 [00:46<00:00, 17.00batch/s]\n",
      "Evaluation: 100%|██████████| 79/79 [00:04<00:00, 16.21batch/s]\n"
     ]
    },
    {
     "name": "stdout",
     "output_type": "stream",
     "text": [
      "Epoch [17/20]: Average Loss: 0.0104\n",
      "Epoch [17/20]: Train combinedset accuracy: 99.89%\n",
      "Epoch [17/20]: Test: testset accuracy: 91.84%\n"
     ]
    },
    {
     "name": "stderr",
     "output_type": "stream",
     "text": [
      "Epoch [18/20]: 100%|██████████| 782/782 [01:38<00:00,  7.90batch/s, loss=0.022]  \n",
      "Evaluation: 100%|██████████| 782/782 [00:46<00:00, 16.98batch/s]\n",
      "Evaluation: 100%|██████████| 79/79 [00:04<00:00, 16.21batch/s]\n"
     ]
    },
    {
     "name": "stdout",
     "output_type": "stream",
     "text": [
      "Epoch [18/20]: Average Loss: 0.0096\n",
      "Epoch [18/20]: Train combinedset accuracy: 99.90%\n",
      "Epoch [18/20]: Test: testset accuracy: 91.93%\n"
     ]
    },
    {
     "name": "stderr",
     "output_type": "stream",
     "text": [
      "Epoch [19/20]: 100%|██████████| 782/782 [01:39<00:00,  7.90batch/s, loss=0.023]  \n",
      "Evaluation: 100%|██████████| 782/782 [00:45<00:00, 17.01batch/s]\n",
      "Evaluation: 100%|██████████| 79/79 [00:04<00:00, 16.20batch/s]\n"
     ]
    },
    {
     "name": "stdout",
     "output_type": "stream",
     "text": [
      "Epoch [19/20]: Average Loss: 0.0101\n",
      "Epoch [19/20]: Train combinedset accuracy: 99.89%\n",
      "Epoch [19/20]: Test: testset accuracy: 91.90%\n"
     ]
    },
    {
     "name": "stderr",
     "output_type": "stream",
     "text": [
      "Epoch [20/20]: 100%|██████████| 782/782 [01:39<00:00,  7.90batch/s, loss=0.0661] \n",
      "Evaluation: 100%|██████████| 782/782 [00:46<00:00, 16.98batch/s]\n",
      "Evaluation: 100%|██████████| 79/79 [00:04<00:00, 16.21batch/s]\n"
     ]
    },
    {
     "name": "stdout",
     "output_type": "stream",
     "text": [
      "Epoch [20/20]: Average Loss: 0.0099\n",
      "Epoch [20/20]: Train combinedset accuracy: 99.91%\n",
      "Epoch [20/20]: Test: testset accuracy: 91.79%\n"
     ]
    },
    {
     "name": "stderr",
     "output_type": "stream",
     "text": [
      "Generating Adversarial Dataset: 100%|██████████| 79/79 [00:07<00:00, 10.34it/s]\n",
      "Evaluation: 100%|██████████| 79/79 [00:02<00:00, 27.04batch/s]\n",
      "Evaluation: 100%|██████████| 79/79 [00:04<00:00, 16.25batch/s]\n",
      "Evaluation: 100%|██████████| 782/782 [00:46<00:00, 16.99batch/s]\n",
      "Evaluation: 100%|██████████| 79/79 [00:02<00:00, 27.04batch/s]"
     ]
    },
    {
     "name": "stdout",
     "output_type": "stream",
     "text": [
      "Test: attack testset accuracy: 81.80%\n",
      "Test: testset accuracy: 91.79%\n",
      "Train: combinedset accuracy: 99.89%\n",
      "Test: oneshot attack testset accuracy: 32.16%\n",
      "#### Iteration: 1 ####\n"
     ]
    },
    {
     "name": "stderr",
     "output_type": "stream",
     "text": [
      "\n",
      "Generating Adversarial Dataset: 100%|██████████| 391/391 [00:45<00:00,  8.54it/s]\n",
      "Epoch [1/20]: 100%|██████████| 782/782 [01:39<00:00,  7.89batch/s, loss=2.55]\n",
      "Evaluation: 100%|██████████| 782/782 [00:46<00:00, 16.98batch/s]\n",
      "Evaluation: 100%|██████████| 79/79 [00:04<00:00, 16.15batch/s]\n"
     ]
    },
    {
     "name": "stdout",
     "output_type": "stream",
     "text": [
      "Epoch [1/20]: Average Loss: 2.0759\n",
      "Epoch [1/20]: Train combinedset accuracy: 69.93%\n",
      "Epoch [1/20]: Test: testset accuracy: 91.88%\n"
     ]
    },
    {
     "name": "stderr",
     "output_type": "stream",
     "text": [
      "Epoch [2/20]: 100%|██████████| 782/782 [01:39<00:00,  7.90batch/s, loss=1.34] \n",
      "Evaluation: 100%|██████████| 782/782 [00:46<00:00, 16.99batch/s]\n",
      "Evaluation: 100%|██████████| 79/79 [00:04<00:00, 16.21batch/s]\n"
     ]
    },
    {
     "name": "stdout",
     "output_type": "stream",
     "text": [
      "Epoch [2/20]: Average Loss: 1.8831\n",
      "Epoch [2/20]: Train combinedset accuracy: 73.05%\n",
      "Epoch [2/20]: Test: testset accuracy: 91.78%\n"
     ]
    },
    {
     "name": "stderr",
     "output_type": "stream",
     "text": [
      "Epoch [3/20]: 100%|██████████| 782/782 [01:39<00:00,  7.90batch/s, loss=0.976]\n",
      "Evaluation: 100%|██████████| 782/782 [00:46<00:00, 16.98batch/s]\n",
      "Evaluation: 100%|██████████| 79/79 [00:04<00:00, 16.10batch/s]\n"
     ]
    },
    {
     "name": "stdout",
     "output_type": "stream",
     "text": [
      "Epoch [3/20]: Average Loss: 1.1461\n",
      "Epoch [3/20]: Train combinedset accuracy: 80.64%\n",
      "Epoch [3/20]: Test: testset accuracy: 89.73%\n"
     ]
    },
    {
     "name": "stderr",
     "output_type": "stream",
     "text": [
      "Epoch [4/20]: 100%|██████████| 782/782 [01:39<00:00,  7.90batch/s, loss=0.586]\n",
      "Evaluation: 100%|██████████| 782/782 [00:46<00:00, 16.98batch/s]\n",
      "Evaluation: 100%|██████████| 79/79 [00:04<00:00, 16.21batch/s]\n"
     ]
    },
    {
     "name": "stdout",
     "output_type": "stream",
     "text": [
      "Epoch [4/20]: Average Loss: 0.5987\n",
      "Epoch [4/20]: Train combinedset accuracy: 85.20%\n",
      "Epoch [4/20]: Test: testset accuracy: 89.05%\n"
     ]
    },
    {
     "name": "stderr",
     "output_type": "stream",
     "text": [
      "Epoch [5/20]: 100%|██████████| 782/782 [01:39<00:00,  7.89batch/s, loss=0.296]\n",
      "Evaluation: 100%|██████████| 782/782 [00:46<00:00, 16.92batch/s]\n",
      "Evaluation: 100%|██████████| 79/79 [00:04<00:00, 16.21batch/s]\n"
     ]
    },
    {
     "name": "stdout",
     "output_type": "stream",
     "text": [
      "Epoch [5/20]: Average Loss: 0.3765\n",
      "Epoch [5/20]: Train combinedset accuracy: 91.08%\n",
      "Epoch [5/20]: Test: testset accuracy: 90.28%\n"
     ]
    },
    {
     "name": "stderr",
     "output_type": "stream",
     "text": [
      "Epoch [6/20]: 100%|██████████| 782/782 [01:39<00:00,  7.90batch/s, loss=0.105] \n",
      "Evaluation: 100%|██████████| 782/782 [00:46<00:00, 16.99batch/s]\n",
      "Evaluation: 100%|██████████| 79/79 [00:04<00:00, 16.15batch/s]\n"
     ]
    },
    {
     "name": "stdout",
     "output_type": "stream",
     "text": [
      "Epoch [6/20]: Average Loss: 0.1648\n",
      "Epoch [6/20]: Train combinedset accuracy: 97.74%\n",
      "Epoch [6/20]: Test: testset accuracy: 91.97%\n"
     ]
    },
    {
     "name": "stderr",
     "output_type": "stream",
     "text": [
      "Epoch [7/20]: 100%|██████████| 782/782 [01:39<00:00,  7.90batch/s, loss=0.0127]\n",
      "Evaluation: 100%|██████████| 782/782 [00:46<00:00, 16.98batch/s]\n",
      "Evaluation: 100%|██████████| 79/79 [00:04<00:00, 16.21batch/s]\n"
     ]
    },
    {
     "name": "stdout",
     "output_type": "stream",
     "text": [
      "Epoch [7/20]: Average Loss: 0.0594\n",
      "Epoch [7/20]: Train combinedset accuracy: 99.17%\n",
      "Epoch [7/20]: Test: testset accuracy: 92.84%\n"
     ]
    },
    {
     "name": "stderr",
     "output_type": "stream",
     "text": [
      "Epoch [8/20]: 100%|██████████| 782/782 [01:39<00:00,  7.90batch/s, loss=0.0969] \n",
      "Evaluation: 100%|██████████| 782/782 [00:46<00:00, 16.99batch/s]\n",
      "Evaluation: 100%|██████████| 79/79 [00:04<00:00, 16.20batch/s]\n"
     ]
    },
    {
     "name": "stdout",
     "output_type": "stream",
     "text": [
      "Epoch [8/20]: Average Loss: 0.0304\n",
      "Epoch [8/20]: Train combinedset accuracy: 99.64%\n",
      "Epoch [8/20]: Test: testset accuracy: 93.12%\n"
     ]
    },
    {
     "name": "stderr",
     "output_type": "stream",
     "text": [
      "Epoch [9/20]: 100%|██████████| 782/782 [01:38<00:00,  7.90batch/s, loss=0.00263]\n",
      "Evaluation: 100%|██████████| 782/782 [00:46<00:00, 16.97batch/s]\n",
      "Evaluation: 100%|██████████| 79/79 [00:04<00:00, 16.21batch/s]\n"
     ]
    },
    {
     "name": "stdout",
     "output_type": "stream",
     "text": [
      "Epoch [9/20]: Average Loss: 0.0178\n",
      "Epoch [9/20]: Train combinedset accuracy: 99.81%\n",
      "Epoch [9/20]: Test: testset accuracy: 93.66%\n"
     ]
    },
    {
     "name": "stderr",
     "output_type": "stream",
     "text": [
      "Epoch [10/20]: 100%|██████████| 782/782 [01:39<00:00,  7.90batch/s, loss=0.0559] \n",
      "Evaluation: 100%|██████████| 782/782 [00:46<00:00, 16.96batch/s]\n",
      "Evaluation: 100%|██████████| 79/79 [00:04<00:00, 16.10batch/s]\n"
     ]
    },
    {
     "name": "stdout",
     "output_type": "stream",
     "text": [
      "Epoch [10/20]: Average Loss: 0.0124\n",
      "Epoch [10/20]: Train combinedset accuracy: 99.90%\n",
      "Epoch [10/20]: Test: testset accuracy: 93.71%\n"
     ]
    },
    {
     "name": "stderr",
     "output_type": "stream",
     "text": [
      "Epoch [11/20]: 100%|██████████| 782/782 [01:39<00:00,  7.90batch/s, loss=0.00192]\n",
      "Evaluation: 100%|██████████| 782/782 [00:45<00:00, 17.01batch/s]\n",
      "Evaluation: 100%|██████████| 79/79 [00:04<00:00, 16.26batch/s]\n"
     ]
    },
    {
     "name": "stdout",
     "output_type": "stream",
     "text": [
      "Epoch [11/20]: Average Loss: 0.0089\n",
      "Epoch [11/20]: Train combinedset accuracy: 99.95%\n",
      "Epoch [11/20]: Test: testset accuracy: 93.74%\n"
     ]
    },
    {
     "name": "stderr",
     "output_type": "stream",
     "text": [
      "Epoch [12/20]: 100%|██████████| 782/782 [01:38<00:00,  7.90batch/s, loss=0.0176] \n",
      "Evaluation: 100%|██████████| 782/782 [00:46<00:00, 16.99batch/s]\n",
      "Evaluation: 100%|██████████| 79/79 [00:04<00:00, 16.10batch/s]\n"
     ]
    },
    {
     "name": "stdout",
     "output_type": "stream",
     "text": [
      "Epoch [12/20]: Average Loss: 0.0070\n",
      "Epoch [12/20]: Train combinedset accuracy: 99.95%\n",
      "Epoch [12/20]: Test: testset accuracy: 93.76%\n"
     ]
    },
    {
     "name": "stderr",
     "output_type": "stream",
     "text": [
      "Epoch [13/20]: 100%|██████████| 782/782 [01:38<00:00,  7.90batch/s, loss=0.0203]  \n",
      "Evaluation: 100%|██████████| 782/782 [00:46<00:00, 16.98batch/s]\n",
      "Evaluation: 100%|██████████| 79/79 [00:04<00:00, 16.26batch/s]\n"
     ]
    },
    {
     "name": "stdout",
     "output_type": "stream",
     "text": [
      "Epoch [13/20]: Average Loss: 0.0054\n",
      "Epoch [13/20]: Train combinedset accuracy: 99.96%\n",
      "Epoch [13/20]: Test: testset accuracy: 93.68%\n"
     ]
    },
    {
     "name": "stderr",
     "output_type": "stream",
     "text": [
      "Epoch [14/20]: 100%|██████████| 782/782 [01:38<00:00,  7.90batch/s, loss=0.0107] \n",
      "Evaluation: 100%|██████████| 782/782 [00:46<00:00, 17.00batch/s]\n",
      "Evaluation: 100%|██████████| 79/79 [00:04<00:00, 16.15batch/s]\n"
     ]
    },
    {
     "name": "stdout",
     "output_type": "stream",
     "text": [
      "Epoch [14/20]: Average Loss: 0.0048\n",
      "Epoch [14/20]: Train combinedset accuracy: 99.98%\n",
      "Epoch [14/20]: Test: testset accuracy: 93.69%\n"
     ]
    },
    {
     "name": "stderr",
     "output_type": "stream",
     "text": [
      "Epoch [15/20]: 100%|██████████| 782/782 [01:39<00:00,  7.90batch/s, loss=0.00143] \n",
      "Evaluation: 100%|██████████| 782/782 [00:46<00:00, 17.00batch/s]\n",
      "Evaluation: 100%|██████████| 79/79 [00:04<00:00, 16.15batch/s]\n"
     ]
    },
    {
     "name": "stdout",
     "output_type": "stream",
     "text": [
      "Epoch [15/20]: Average Loss: 0.0048\n",
      "Epoch [15/20]: Train combinedset accuracy: 99.97%\n",
      "Epoch [15/20]: Test: testset accuracy: 93.86%\n"
     ]
    },
    {
     "name": "stderr",
     "output_type": "stream",
     "text": [
      "Epoch [16/20]: 100%|██████████| 782/782 [01:39<00:00,  7.89batch/s, loss=0.00725] \n",
      "Evaluation: 100%|██████████| 782/782 [00:46<00:00, 16.98batch/s]\n",
      "Evaluation: 100%|██████████| 79/79 [00:04<00:00, 16.26batch/s]\n"
     ]
    },
    {
     "name": "stdout",
     "output_type": "stream",
     "text": [
      "Epoch [16/20]: Average Loss: 0.0040\n",
      "Epoch [16/20]: Train combinedset accuracy: 99.97%\n",
      "Epoch [16/20]: Test: testset accuracy: 93.95%\n"
     ]
    },
    {
     "name": "stderr",
     "output_type": "stream",
     "text": [
      "Epoch [17/20]: 100%|██████████| 782/782 [01:39<00:00,  7.90batch/s, loss=0.00198] \n",
      "Evaluation: 100%|██████████| 782/782 [00:45<00:00, 17.02batch/s]\n",
      "Evaluation: 100%|██████████| 79/79 [00:04<00:00, 16.15batch/s]\n"
     ]
    },
    {
     "name": "stdout",
     "output_type": "stream",
     "text": [
      "Epoch [17/20]: Average Loss: 0.0039\n",
      "Epoch [17/20]: Train combinedset accuracy: 99.99%\n",
      "Epoch [17/20]: Test: testset accuracy: 94.09%\n"
     ]
    },
    {
     "name": "stderr",
     "output_type": "stream",
     "text": [
      "Epoch [18/20]: 100%|██████████| 782/782 [01:39<00:00,  7.90batch/s, loss=0.00156] \n",
      "Evaluation: 100%|██████████| 782/782 [00:45<00:00, 17.02batch/s]\n",
      "Evaluation: 100%|██████████| 79/79 [00:04<00:00, 16.10batch/s]\n"
     ]
    },
    {
     "name": "stdout",
     "output_type": "stream",
     "text": [
      "Epoch [18/20]: Average Loss: 0.0033\n",
      "Epoch [18/20]: Train combinedset accuracy: 99.99%\n",
      "Epoch [18/20]: Test: testset accuracy: 94.07%\n"
     ]
    },
    {
     "name": "stderr",
     "output_type": "stream",
     "text": [
      "Epoch [19/20]: 100%|██████████| 782/782 [01:39<00:00,  7.89batch/s, loss=0.00603] \n",
      "Evaluation: 100%|██████████| 782/782 [00:46<00:00, 17.00batch/s]\n",
      "Evaluation: 100%|██████████| 79/79 [00:04<00:00, 16.15batch/s]\n"
     ]
    },
    {
     "name": "stdout",
     "output_type": "stream",
     "text": [
      "Epoch [19/20]: Average Loss: 0.0031\n",
      "Epoch [19/20]: Train combinedset accuracy: 99.98%\n",
      "Epoch [19/20]: Test: testset accuracy: 94.09%\n"
     ]
    },
    {
     "name": "stderr",
     "output_type": "stream",
     "text": [
      "Epoch [20/20]: 100%|██████████| 782/782 [01:38<00:00,  7.90batch/s, loss=0.00338] \n",
      "Evaluation: 100%|██████████| 782/782 [00:45<00:00, 17.01batch/s]\n",
      "Evaluation: 100%|██████████| 79/79 [00:04<00:00, 16.21batch/s]\n"
     ]
    },
    {
     "name": "stdout",
     "output_type": "stream",
     "text": [
      "Epoch [20/20]: Average Loss: 0.0028\n",
      "Epoch [20/20]: Train combinedset accuracy: 99.99%\n",
      "Epoch [20/20]: Test: testset accuracy: 94.05%\n"
     ]
    },
    {
     "name": "stderr",
     "output_type": "stream",
     "text": [
      "Generating Adversarial Dataset: 100%|██████████| 79/79 [00:07<00:00, 10.36it/s]\n",
      "Evaluation: 100%|██████████| 79/79 [00:02<00:00, 27.04batch/s]\n",
      "Evaluation: 100%|██████████| 79/79 [00:04<00:00, 16.26batch/s]\n",
      "Evaluation: 100%|██████████| 782/782 [00:46<00:00, 16.99batch/s]\n",
      "Evaluation: 100%|██████████| 79/79 [00:02<00:00, 27.18batch/s]"
     ]
    },
    {
     "name": "stdout",
     "output_type": "stream",
     "text": [
      "Test: attack testset accuracy: 49.57%\n",
      "Test: testset accuracy: 94.05%\n",
      "Train: combinedset accuracy: 99.99%\n",
      "Test: oneshot attack testset accuracy: 33.63%\n",
      "#### Iteration: 2 ####\n"
     ]
    },
    {
     "name": "stderr",
     "output_type": "stream",
     "text": [
      "\n",
      "Generating Adversarial Dataset: 100%|██████████| 391/391 [00:45<00:00,  8.64it/s]\n",
      "Epoch [1/20]: 100%|██████████| 782/782 [01:39<00:00,  7.89batch/s, loss=0.0133] \n",
      "Evaluation: 100%|██████████| 782/782 [00:46<00:00, 16.97batch/s]\n",
      "Evaluation: 100%|██████████| 79/79 [00:04<00:00, 16.26batch/s]\n"
     ]
    },
    {
     "name": "stdout",
     "output_type": "stream",
     "text": [
      "Epoch [1/20]: Average Loss: 0.1378\n",
      "Epoch [1/20]: Train combinedset accuracy: 99.80%\n",
      "Epoch [1/20]: Test: testset accuracy: 92.66%\n"
     ]
    },
    {
     "name": "stderr",
     "output_type": "stream",
     "text": [
      "Epoch [2/20]: 100%|██████████| 782/782 [01:39<00:00,  7.89batch/s, loss=0.00609]\n",
      "Evaluation: 100%|██████████| 782/782 [00:46<00:00, 16.98batch/s]\n",
      "Evaluation: 100%|██████████| 79/79 [00:04<00:00, 16.21batch/s]\n"
     ]
    },
    {
     "name": "stdout",
     "output_type": "stream",
     "text": [
      "Epoch [2/20]: Average Loss: 0.0108\n",
      "Epoch [2/20]: Train combinedset accuracy: 99.91%\n",
      "Epoch [2/20]: Test: testset accuracy: 93.07%\n"
     ]
    },
    {
     "name": "stderr",
     "output_type": "stream",
     "text": [
      "Epoch [3/20]: 100%|██████████| 782/782 [01:39<00:00,  7.90batch/s, loss=0.0695] \n",
      "Evaluation: 100%|██████████| 782/782 [00:46<00:00, 16.98batch/s]\n",
      "Evaluation: 100%|██████████| 79/79 [00:04<00:00, 16.26batch/s]\n"
     ]
    },
    {
     "name": "stdout",
     "output_type": "stream",
     "text": [
      "Epoch [3/20]: Average Loss: 0.0070\n",
      "Epoch [3/20]: Train combinedset accuracy: 99.95%\n",
      "Epoch [3/20]: Test: testset accuracy: 93.38%\n"
     ]
    },
    {
     "name": "stderr",
     "output_type": "stream",
     "text": [
      "Epoch [4/20]: 100%|██████████| 782/782 [01:39<00:00,  7.89batch/s, loss=0.00471] \n",
      "Evaluation: 100%|██████████| 782/782 [00:45<00:00, 17.01batch/s]\n",
      "Evaluation: 100%|██████████| 79/79 [00:04<00:00, 16.15batch/s]\n"
     ]
    },
    {
     "name": "stdout",
     "output_type": "stream",
     "text": [
      "Epoch [4/20]: Average Loss: 0.0058\n",
      "Epoch [4/20]: Train combinedset accuracy: 99.96%\n",
      "Epoch [4/20]: Test: testset accuracy: 93.24%\n"
     ]
    },
    {
     "name": "stderr",
     "output_type": "stream",
     "text": [
      "Epoch [5/20]: 100%|██████████| 782/782 [01:39<00:00,  7.89batch/s, loss=0.0179]  \n",
      "Evaluation: 100%|██████████| 782/782 [00:46<00:00, 16.97batch/s]\n",
      "Evaluation: 100%|██████████| 79/79 [00:04<00:00, 16.15batch/s]\n"
     ]
    },
    {
     "name": "stdout",
     "output_type": "stream",
     "text": [
      "Epoch [5/20]: Average Loss: 0.0044\n",
      "Epoch [5/20]: Train combinedset accuracy: 99.97%\n",
      "Epoch [5/20]: Test: testset accuracy: 93.23%\n"
     ]
    },
    {
     "name": "stderr",
     "output_type": "stream",
     "text": [
      "Epoch [6/20]: 100%|██████████| 782/782 [01:39<00:00,  7.90batch/s, loss=0.00593] \n",
      "Evaluation: 100%|██████████| 782/782 [00:46<00:00, 16.99batch/s]\n",
      "Evaluation: 100%|██████████| 79/79 [00:04<00:00, 16.15batch/s]\n"
     ]
    },
    {
     "name": "stdout",
     "output_type": "stream",
     "text": [
      "Epoch [6/20]: Average Loss: 0.0040\n",
      "Epoch [6/20]: Train combinedset accuracy: 99.98%\n",
      "Epoch [6/20]: Test: testset accuracy: 93.36%\n"
     ]
    },
    {
     "name": "stderr",
     "output_type": "stream",
     "text": [
      "Epoch [7/20]: 100%|██████████| 782/782 [01:39<00:00,  7.90batch/s, loss=0.00174] \n",
      "Evaluation: 100%|██████████| 782/782 [00:46<00:00, 16.99batch/s]\n",
      "Evaluation: 100%|██████████| 79/79 [00:04<00:00, 16.21batch/s]\n"
     ]
    },
    {
     "name": "stdout",
     "output_type": "stream",
     "text": [
      "Epoch [7/20]: Average Loss: 0.0036\n",
      "Epoch [7/20]: Train combinedset accuracy: 99.98%\n",
      "Epoch [7/20]: Test: testset accuracy: 93.41%\n"
     ]
    },
    {
     "name": "stderr",
     "output_type": "stream",
     "text": [
      "Epoch [8/20]: 100%|██████████| 782/782 [01:39<00:00,  7.89batch/s, loss=0.0592]  \n",
      "Evaluation: 100%|██████████| 782/782 [00:46<00:00, 16.91batch/s]\n",
      "Evaluation: 100%|██████████| 79/79 [00:04<00:00, 16.10batch/s]\n"
     ]
    },
    {
     "name": "stdout",
     "output_type": "stream",
     "text": [
      "Epoch [8/20]: Average Loss: 0.0034\n",
      "Epoch [8/20]: Train combinedset accuracy: 99.98%\n",
      "Epoch [8/20]: Test: testset accuracy: 93.60%\n"
     ]
    },
    {
     "name": "stderr",
     "output_type": "stream",
     "text": [
      "Epoch [9/20]: 100%|██████████| 782/782 [01:39<00:00,  7.90batch/s, loss=0.00186] \n",
      "Evaluation: 100%|██████████| 782/782 [00:46<00:00, 16.98batch/s]\n",
      "Evaluation: 100%|██████████| 79/79 [00:04<00:00, 16.10batch/s]\n"
     ]
    },
    {
     "name": "stdout",
     "output_type": "stream",
     "text": [
      "Epoch [9/20]: Average Loss: 0.0032\n",
      "Epoch [9/20]: Train combinedset accuracy: 99.98%\n",
      "Epoch [9/20]: Test: testset accuracy: 93.55%\n"
     ]
    },
    {
     "name": "stderr",
     "output_type": "stream",
     "text": [
      "Epoch [10/20]: 100%|██████████| 782/782 [01:39<00:00,  7.90batch/s, loss=0.00294] \n",
      "Evaluation: 100%|██████████| 782/782 [00:46<00:00, 17.00batch/s]\n",
      "Evaluation: 100%|██████████| 79/79 [00:04<00:00, 16.10batch/s]\n"
     ]
    },
    {
     "name": "stdout",
     "output_type": "stream",
     "text": [
      "Epoch [10/20]: Average Loss: 0.0030\n",
      "Epoch [10/20]: Train combinedset accuracy: 99.99%\n",
      "Epoch [10/20]: Test: testset accuracy: 93.69%\n"
     ]
    },
    {
     "name": "stderr",
     "output_type": "stream",
     "text": [
      "Epoch [11/20]: 100%|██████████| 782/782 [01:39<00:00,  7.89batch/s, loss=0.00101] \n",
      "Evaluation: 100%|██████████| 782/782 [00:46<00:00, 16.96batch/s]\n",
      "Evaluation: 100%|██████████| 79/79 [00:04<00:00, 16.26batch/s]\n"
     ]
    },
    {
     "name": "stdout",
     "output_type": "stream",
     "text": [
      "Epoch [11/20]: Average Loss: 0.0026\n",
      "Epoch [11/20]: Train combinedset accuracy: 99.99%\n",
      "Epoch [11/20]: Test: testset accuracy: 93.77%\n"
     ]
    },
    {
     "name": "stderr",
     "output_type": "stream",
     "text": [
      "Epoch [12/20]: 100%|██████████| 782/782 [01:39<00:00,  7.89batch/s, loss=0.00834] \n",
      "Evaluation: 100%|██████████| 782/782 [00:46<00:00, 16.98batch/s]\n",
      "Evaluation: 100%|██████████| 79/79 [00:04<00:00, 16.21batch/s]\n"
     ]
    },
    {
     "name": "stdout",
     "output_type": "stream",
     "text": [
      "Epoch [12/20]: Average Loss: 0.0027\n",
      "Epoch [12/20]: Train combinedset accuracy: 99.99%\n",
      "Epoch [12/20]: Test: testset accuracy: 93.75%\n"
     ]
    },
    {
     "name": "stderr",
     "output_type": "stream",
     "text": [
      "Epoch [13/20]: 100%|██████████| 782/782 [01:39<00:00,  7.89batch/s, loss=0.00977] \n",
      "Evaluation: 100%|██████████| 782/782 [00:46<00:00, 16.97batch/s]\n",
      "Evaluation: 100%|██████████| 79/79 [00:04<00:00, 16.21batch/s]\n"
     ]
    },
    {
     "name": "stdout",
     "output_type": "stream",
     "text": [
      "Epoch [13/20]: Average Loss: 0.0026\n",
      "Epoch [13/20]: Train combinedset accuracy: 99.99%\n",
      "Epoch [13/20]: Test: testset accuracy: 93.67%\n"
     ]
    },
    {
     "name": "stderr",
     "output_type": "stream",
     "text": [
      "Epoch [14/20]: 100%|██████████| 782/782 [01:39<00:00,  7.89batch/s, loss=0.00137] \n",
      "Evaluation: 100%|██████████| 782/782 [00:46<00:00, 16.95batch/s]\n",
      "Evaluation: 100%|██████████| 79/79 [00:04<00:00, 16.21batch/s]\n"
     ]
    },
    {
     "name": "stdout",
     "output_type": "stream",
     "text": [
      "Epoch [14/20]: Average Loss: 0.0025\n",
      "Epoch [14/20]: Train combinedset accuracy: 99.99%\n",
      "Epoch [14/20]: Test: testset accuracy: 93.78%\n"
     ]
    },
    {
     "name": "stderr",
     "output_type": "stream",
     "text": [
      "Epoch [15/20]: 100%|██████████| 782/782 [01:39<00:00,  7.89batch/s, loss=0.00352] \n",
      "Evaluation: 100%|██████████| 782/782 [00:46<00:00, 16.95batch/s]\n",
      "Evaluation: 100%|██████████| 79/79 [00:04<00:00, 16.15batch/s]\n"
     ]
    },
    {
     "name": "stdout",
     "output_type": "stream",
     "text": [
      "Epoch [15/20]: Average Loss: 0.0025\n",
      "Epoch [15/20]: Train combinedset accuracy: 99.99%\n",
      "Epoch [15/20]: Test: testset accuracy: 93.71%\n"
     ]
    },
    {
     "name": "stderr",
     "output_type": "stream",
     "text": [
      "Epoch [16/20]: 100%|██████████| 782/782 [01:39<00:00,  7.89batch/s, loss=0.00149] \n",
      "Evaluation: 100%|██████████| 782/782 [00:46<00:00, 16.97batch/s]\n",
      "Evaluation: 100%|██████████| 79/79 [00:04<00:00, 16.10batch/s]\n"
     ]
    },
    {
     "name": "stdout",
     "output_type": "stream",
     "text": [
      "Epoch [16/20]: Average Loss: 0.0023\n",
      "Epoch [16/20]: Train combinedset accuracy: 99.99%\n",
      "Epoch [16/20]: Test: testset accuracy: 93.75%\n"
     ]
    },
    {
     "name": "stderr",
     "output_type": "stream",
     "text": [
      "Epoch [17/20]: 100%|██████████| 782/782 [01:39<00:00,  7.89batch/s, loss=0.0149]  \n",
      "Evaluation: 100%|██████████| 782/782 [00:46<00:00, 16.98batch/s]\n",
      "Evaluation: 100%|██████████| 79/79 [00:04<00:00, 16.21batch/s]\n"
     ]
    },
    {
     "name": "stdout",
     "output_type": "stream",
     "text": [
      "Epoch [17/20]: Average Loss: 0.0024\n",
      "Epoch [17/20]: Train combinedset accuracy: 99.99%\n",
      "Epoch [17/20]: Test: testset accuracy: 93.79%\n"
     ]
    },
    {
     "name": "stderr",
     "output_type": "stream",
     "text": [
      "Epoch [18/20]: 100%|██████████| 782/782 [01:39<00:00,  7.89batch/s, loss=0.0111]  \n",
      "Evaluation: 100%|██████████| 782/782 [00:46<00:00, 16.96batch/s]\n",
      "Evaluation: 100%|██████████| 79/79 [00:04<00:00, 16.20batch/s]\n"
     ]
    },
    {
     "name": "stdout",
     "output_type": "stream",
     "text": [
      "Epoch [18/20]: Average Loss: 0.0023\n",
      "Epoch [18/20]: Train combinedset accuracy: 100.00%\n",
      "Epoch [18/20]: Test: testset accuracy: 93.91%\n"
     ]
    },
    {
     "name": "stderr",
     "output_type": "stream",
     "text": [
      "Epoch [19/20]: 100%|██████████| 782/782 [01:39<00:00,  7.89batch/s, loss=0.0115]  \n",
      "Evaluation: 100%|██████████| 782/782 [00:46<00:00, 16.97batch/s]\n",
      "Evaluation: 100%|██████████| 79/79 [00:04<00:00, 16.15batch/s]\n"
     ]
    },
    {
     "name": "stdout",
     "output_type": "stream",
     "text": [
      "Epoch [19/20]: Average Loss: 0.0022\n",
      "Epoch [19/20]: Train combinedset accuracy: 99.99%\n",
      "Epoch [19/20]: Test: testset accuracy: 93.95%\n"
     ]
    },
    {
     "name": "stderr",
     "output_type": "stream",
     "text": [
      "Epoch [20/20]: 100%|██████████| 782/782 [01:39<00:00,  7.89batch/s, loss=0.0109]  \n",
      "Evaluation: 100%|██████████| 782/782 [00:46<00:00, 16.98batch/s]\n",
      "Evaluation: 100%|██████████| 79/79 [00:04<00:00, 16.20batch/s]\n"
     ]
    },
    {
     "name": "stdout",
     "output_type": "stream",
     "text": [
      "Epoch [20/20]: Average Loss: 0.0024\n",
      "Epoch [20/20]: Train combinedset accuracy: 99.99%\n",
      "Epoch [20/20]: Test: testset accuracy: 93.84%\n"
     ]
    },
    {
     "name": "stderr",
     "output_type": "stream",
     "text": [
      "Generating Adversarial Dataset: 100%|██████████| 79/79 [00:07<00:00, 10.36it/s]\n",
      "Evaluation: 100%|██████████| 79/79 [00:02<00:00, 27.18batch/s]\n",
      "Evaluation: 100%|██████████| 79/79 [00:04<00:00, 16.21batch/s]\n",
      "Evaluation: 100%|██████████| 782/782 [00:46<00:00, 17.00batch/s]\n",
      "Evaluation: 100%|██████████| 79/79 [00:02<00:00, 27.04batch/s]"
     ]
    },
    {
     "name": "stdout",
     "output_type": "stream",
     "text": [
      "Test: attack testset accuracy: 71.46%\n",
      "Test: testset accuracy: 93.84%\n",
      "Train: combinedset accuracy: 99.99%\n",
      "Test: oneshot attack testset accuracy: 33.64%\n",
      "#### Iteration: 3 ####\n"
     ]
    },
    {
     "name": "stderr",
     "output_type": "stream",
     "text": [
      "\n",
      "Generating Adversarial Dataset: 100%|██████████| 391/391 [00:45<00:00,  8.61it/s]\n",
      "Epoch [1/20]: 100%|██████████| 782/782 [01:39<00:00,  7.89batch/s, loss=2.21] \n",
      "Evaluation: 100%|██████████| 782/782 [00:46<00:00, 16.97batch/s]\n",
      "Evaluation: 100%|██████████| 79/79 [00:04<00:00, 16.15batch/s]\n"
     ]
    },
    {
     "name": "stdout",
     "output_type": "stream",
     "text": [
      "Epoch [1/20]: Average Loss: 1.7640\n",
      "Epoch [1/20]: Train combinedset accuracy: 71.96%\n",
      "Epoch [1/20]: Test: testset accuracy: 93.80%\n"
     ]
    },
    {
     "name": "stderr",
     "output_type": "stream",
     "text": [
      "Epoch [2/20]: 100%|██████████| 782/782 [01:39<00:00,  7.89batch/s, loss=0.585]\n",
      "Evaluation: 100%|██████████| 782/782 [00:46<00:00, 17.00batch/s]\n",
      "Evaluation: 100%|██████████| 79/79 [00:04<00:00, 16.15batch/s]\n"
     ]
    },
    {
     "name": "stdout",
     "output_type": "stream",
     "text": [
      "Epoch [2/20]: Average Loss: 1.5594\n",
      "Epoch [2/20]: Train combinedset accuracy: 76.20%\n",
      "Epoch [2/20]: Test: testset accuracy: 93.67%\n"
     ]
    },
    {
     "name": "stderr",
     "output_type": "stream",
     "text": [
      "Epoch [3/20]: 100%|██████████| 782/782 [01:39<00:00,  7.89batch/s, loss=0.43] \n",
      "Evaluation: 100%|██████████| 782/782 [00:46<00:00, 16.98batch/s]\n",
      "Evaluation: 100%|██████████| 79/79 [00:04<00:00, 16.26batch/s]\n"
     ]
    },
    {
     "name": "stdout",
     "output_type": "stream",
     "text": [
      "Epoch [3/20]: Average Loss: 0.7814\n",
      "Epoch [3/20]: Train combinedset accuracy: 87.32%\n",
      "Epoch [3/20]: Test: testset accuracy: 91.48%\n"
     ]
    },
    {
     "name": "stderr",
     "output_type": "stream",
     "text": [
      "Epoch [4/20]: 100%|██████████| 782/782 [01:39<00:00,  7.89batch/s, loss=0.221] \n",
      "Evaluation: 100%|██████████| 782/782 [00:46<00:00, 16.97batch/s]\n",
      "Evaluation: 100%|██████████| 79/79 [00:04<00:00, 16.15batch/s]\n"
     ]
    },
    {
     "name": "stdout",
     "output_type": "stream",
     "text": [
      "Epoch [4/20]: Average Loss: 0.3022\n",
      "Epoch [4/20]: Train combinedset accuracy: 92.67%\n",
      "Epoch [4/20]: Test: testset accuracy: 90.81%\n"
     ]
    },
    {
     "name": "stderr",
     "output_type": "stream",
     "text": [
      "Epoch [5/20]: 100%|██████████| 782/782 [01:39<00:00,  7.89batch/s, loss=0.0683]\n",
      "Evaluation: 100%|██████████| 782/782 [00:46<00:00, 16.99batch/s]\n",
      "Evaluation: 100%|██████████| 79/79 [00:04<00:00, 16.15batch/s]\n"
     ]
    },
    {
     "name": "stdout",
     "output_type": "stream",
     "text": [
      "Epoch [5/20]: Average Loss: 0.1628\n",
      "Epoch [5/20]: Train combinedset accuracy: 97.43%\n",
      "Epoch [5/20]: Test: testset accuracy: 91.73%\n"
     ]
    },
    {
     "name": "stderr",
     "output_type": "stream",
     "text": [
      "Epoch [6/20]: 100%|██████████| 782/782 [01:39<00:00,  7.89batch/s, loss=0.0128] \n",
      "Evaluation: 100%|██████████| 782/782 [00:46<00:00, 16.99batch/s]\n",
      "Evaluation: 100%|██████████| 79/79 [00:04<00:00, 16.10batch/s]\n"
     ]
    },
    {
     "name": "stdout",
     "output_type": "stream",
     "text": [
      "Epoch [6/20]: Average Loss: 0.0425\n",
      "Epoch [6/20]: Train combinedset accuracy: 99.79%\n",
      "Epoch [6/20]: Test: testset accuracy: 92.65%\n"
     ]
    },
    {
     "name": "stderr",
     "output_type": "stream",
     "text": [
      "Epoch [7/20]: 100%|██████████| 782/782 [01:39<00:00,  7.89batch/s, loss=0.00714]\n",
      "Evaluation: 100%|██████████| 782/782 [00:46<00:00, 16.98batch/s]\n",
      "Evaluation: 100%|██████████| 79/79 [00:04<00:00, 16.15batch/s]\n"
     ]
    },
    {
     "name": "stdout",
     "output_type": "stream",
     "text": [
      "Epoch [7/20]: Average Loss: 0.0112\n",
      "Epoch [7/20]: Train combinedset accuracy: 99.94%\n",
      "Epoch [7/20]: Test: testset accuracy: 93.16%\n"
     ]
    },
    {
     "name": "stderr",
     "output_type": "stream",
     "text": [
      "Epoch [8/20]: 100%|██████████| 782/782 [01:39<00:00,  7.89batch/s, loss=0.0173] \n",
      "Evaluation: 100%|██████████| 782/782 [00:46<00:00, 16.98batch/s]\n",
      "Evaluation: 100%|██████████| 79/79 [00:04<00:00, 16.21batch/s]\n"
     ]
    },
    {
     "name": "stdout",
     "output_type": "stream",
     "text": [
      "Epoch [8/20]: Average Loss: 0.0062\n",
      "Epoch [8/20]: Train combinedset accuracy: 99.97%\n",
      "Epoch [8/20]: Test: testset accuracy: 93.25%\n"
     ]
    },
    {
     "name": "stderr",
     "output_type": "stream",
     "text": [
      "Epoch [9/20]: 100%|██████████| 782/782 [01:39<00:00,  7.89batch/s, loss=0.0115]  \n",
      "Evaluation: 100%|██████████| 782/782 [00:46<00:00, 16.99batch/s]\n",
      "Evaluation: 100%|██████████| 79/79 [00:04<00:00, 16.20batch/s]\n"
     ]
    },
    {
     "name": "stdout",
     "output_type": "stream",
     "text": [
      "Epoch [9/20]: Average Loss: 0.0048\n",
      "Epoch [9/20]: Train combinedset accuracy: 99.98%\n",
      "Epoch [9/20]: Test: testset accuracy: 93.54%\n"
     ]
    },
    {
     "name": "stderr",
     "output_type": "stream",
     "text": [
      "Epoch [10/20]: 100%|██████████| 782/782 [01:39<00:00,  7.89batch/s, loss=0.00111] \n",
      "Evaluation: 100%|██████████| 782/782 [00:46<00:00, 16.98batch/s]\n",
      "Evaluation: 100%|██████████| 79/79 [00:04<00:00, 16.21batch/s]\n"
     ]
    },
    {
     "name": "stdout",
     "output_type": "stream",
     "text": [
      "Epoch [10/20]: Average Loss: 0.0036\n",
      "Epoch [10/20]: Train combinedset accuracy: 99.99%\n",
      "Epoch [10/20]: Test: testset accuracy: 93.70%\n"
     ]
    },
    {
     "name": "stderr",
     "output_type": "stream",
     "text": [
      "Epoch [11/20]: 100%|██████████| 782/782 [01:39<00:00,  7.89batch/s, loss=0.00482] \n",
      "Evaluation: 100%|██████████| 782/782 [00:46<00:00, 16.98batch/s]\n",
      "Evaluation: 100%|██████████| 79/79 [00:04<00:00, 16.10batch/s]\n"
     ]
    },
    {
     "name": "stdout",
     "output_type": "stream",
     "text": [
      "Epoch [11/20]: Average Loss: 0.0034\n",
      "Epoch [11/20]: Train combinedset accuracy: 99.99%\n",
      "Epoch [11/20]: Test: testset accuracy: 93.70%\n"
     ]
    },
    {
     "name": "stderr",
     "output_type": "stream",
     "text": [
      "Epoch [12/20]: 100%|██████████| 782/782 [01:39<00:00,  7.88batch/s, loss=0.00147] \n",
      "Evaluation: 100%|██████████| 782/782 [00:46<00:00, 16.98batch/s]\n",
      "Evaluation: 100%|██████████| 79/79 [00:04<00:00, 16.21batch/s]\n"
     ]
    },
    {
     "name": "stdout",
     "output_type": "stream",
     "text": [
      "Epoch [12/20]: Average Loss: 0.0030\n",
      "Epoch [12/20]: Train combinedset accuracy: 99.99%\n",
      "Epoch [12/20]: Test: testset accuracy: 93.78%\n"
     ]
    },
    {
     "name": "stderr",
     "output_type": "stream",
     "text": [
      "Epoch [13/20]: 100%|██████████| 782/782 [01:39<00:00,  7.89batch/s, loss=0.0023]  \n",
      "Evaluation: 100%|██████████| 782/782 [00:46<00:00, 16.99batch/s]\n",
      "Evaluation: 100%|██████████| 79/79 [00:04<00:00, 16.15batch/s]\n"
     ]
    },
    {
     "name": "stdout",
     "output_type": "stream",
     "text": [
      "Epoch [13/20]: Average Loss: 0.0025\n",
      "Epoch [13/20]: Train combinedset accuracy: 99.99%\n",
      "Epoch [13/20]: Test: testset accuracy: 93.83%\n"
     ]
    },
    {
     "name": "stderr",
     "output_type": "stream",
     "text": [
      "Epoch [14/20]: 100%|██████████| 782/782 [01:39<00:00,  7.89batch/s, loss=0.00981] \n",
      "Evaluation: 100%|██████████| 782/782 [00:46<00:00, 16.99batch/s]\n",
      "Evaluation: 100%|██████████| 79/79 [00:04<00:00, 16.21batch/s]\n"
     ]
    },
    {
     "name": "stdout",
     "output_type": "stream",
     "text": [
      "Epoch [14/20]: Average Loss: 0.0023\n",
      "Epoch [14/20]: Train combinedset accuracy: 100.00%\n",
      "Epoch [14/20]: Test: testset accuracy: 93.91%\n"
     ]
    },
    {
     "name": "stderr",
     "output_type": "stream",
     "text": [
      "Epoch [15/20]: 100%|██████████| 782/782 [01:39<00:00,  7.90batch/s, loss=0.000976]\n",
      "Evaluation: 100%|██████████| 782/782 [00:45<00:00, 17.00batch/s]\n",
      "Evaluation: 100%|██████████| 79/79 [00:04<00:00, 16.21batch/s]\n"
     ]
    },
    {
     "name": "stdout",
     "output_type": "stream",
     "text": [
      "Epoch [15/20]: Average Loss: 0.0022\n",
      "Epoch [15/20]: Train combinedset accuracy: 99.99%\n",
      "Epoch [15/20]: Test: testset accuracy: 93.91%\n"
     ]
    },
    {
     "name": "stderr",
     "output_type": "stream",
     "text": [
      "Epoch [16/20]: 100%|██████████| 782/782 [01:39<00:00,  7.90batch/s, loss=0.00227] \n",
      "Evaluation: 100%|██████████| 782/782 [00:46<00:00, 17.00batch/s]\n",
      "Evaluation: 100%|██████████| 79/79 [00:04<00:00, 16.15batch/s]\n"
     ]
    },
    {
     "name": "stdout",
     "output_type": "stream",
     "text": [
      "Epoch [16/20]: Average Loss: 0.0021\n",
      "Epoch [16/20]: Train combinedset accuracy: 100.00%\n",
      "Epoch [16/20]: Test: testset accuracy: 93.94%\n"
     ]
    },
    {
     "name": "stderr",
     "output_type": "stream",
     "text": [
      "Epoch [17/20]: 100%|██████████| 782/782 [01:39<00:00,  7.89batch/s, loss=0.00211] \n",
      "Evaluation: 100%|██████████| 782/782 [00:46<00:00, 16.99batch/s]\n",
      "Evaluation: 100%|██████████| 79/79 [00:04<00:00, 16.31batch/s]\n"
     ]
    },
    {
     "name": "stdout",
     "output_type": "stream",
     "text": [
      "Epoch [17/20]: Average Loss: 0.0022\n",
      "Epoch [17/20]: Train combinedset accuracy: 100.00%\n",
      "Epoch [17/20]: Test: testset accuracy: 93.98%\n"
     ]
    },
    {
     "name": "stderr",
     "output_type": "stream",
     "text": [
      "Epoch [18/20]: 100%|██████████| 782/782 [01:39<00:00,  7.90batch/s, loss=0.00126] \n",
      "Evaluation: 100%|██████████| 782/782 [00:46<00:00, 16.99batch/s]\n",
      "Evaluation: 100%|██████████| 79/79 [00:04<00:00, 16.15batch/s]\n"
     ]
    },
    {
     "name": "stdout",
     "output_type": "stream",
     "text": [
      "Epoch [18/20]: Average Loss: 0.0021\n",
      "Epoch [18/20]: Train combinedset accuracy: 99.99%\n",
      "Epoch [18/20]: Test: testset accuracy: 94.09%\n"
     ]
    },
    {
     "name": "stderr",
     "output_type": "stream",
     "text": [
      "Epoch [19/20]: 100%|██████████| 782/782 [01:39<00:00,  7.89batch/s, loss=0.0146]  \n",
      "Evaluation: 100%|██████████| 782/782 [00:46<00:00, 16.99batch/s]\n",
      "Evaluation: 100%|██████████| 79/79 [00:04<00:00, 16.05batch/s]\n"
     ]
    },
    {
     "name": "stdout",
     "output_type": "stream",
     "text": [
      "Epoch [19/20]: Average Loss: 0.0020\n",
      "Epoch [19/20]: Train combinedset accuracy: 100.00%\n",
      "Epoch [19/20]: Test: testset accuracy: 93.96%\n"
     ]
    },
    {
     "name": "stderr",
     "output_type": "stream",
     "text": [
      "Epoch [20/20]: 100%|██████████| 782/782 [01:39<00:00,  7.85batch/s, loss=0.00167] \n",
      "Evaluation: 100%|██████████| 782/782 [00:47<00:00, 16.56batch/s]\n",
      "Evaluation: 100%|██████████| 79/79 [00:04<00:00, 15.85batch/s]\n"
     ]
    },
    {
     "name": "stdout",
     "output_type": "stream",
     "text": [
      "Epoch [20/20]: Average Loss: 0.0022\n",
      "Epoch [20/20]: Train combinedset accuracy: 100.00%\n",
      "Epoch [20/20]: Test: testset accuracy: 94.00%\n"
     ]
    },
    {
     "name": "stderr",
     "output_type": "stream",
     "text": [
      "Generating Adversarial Dataset: 100%|██████████| 79/79 [00:07<00:00, 10.28it/s]\n",
      "Evaluation: 100%|██████████| 79/79 [00:02<00:00, 26.89batch/s]\n",
      "Evaluation: 100%|██████████| 79/79 [00:04<00:00, 15.95batch/s]\n",
      "Evaluation: 100%|██████████| 782/782 [00:46<00:00, 16.69batch/s]\n",
      "Evaluation: 100%|██████████| 79/79 [00:02<00:00, 26.89batch/s]"
     ]
    },
    {
     "name": "stdout",
     "output_type": "stream",
     "text": [
      "Test: attack testset accuracy: 54.94%\n",
      "Test: testset accuracy: 94.00%\n",
      "Train: combinedset accuracy: 99.99%\n",
      "Test: oneshot attack testset accuracy: 36.14%\n",
      "#### Iteration: 4 ####\n"
     ]
    },
    {
     "name": "stderr",
     "output_type": "stream",
     "text": [
      "\n",
      "Generating Adversarial Dataset: 100%|██████████| 391/391 [00:45<00:00,  8.54it/s]\n",
      "Epoch [1/20]: 100%|██████████| 782/782 [01:40<00:00,  7.75batch/s, loss=0.00139]\n",
      "Evaluation: 100%|██████████| 782/782 [00:46<00:00, 16.97batch/s]\n",
      "Evaluation: 100%|██████████| 79/79 [00:04<00:00, 16.05batch/s]\n"
     ]
    },
    {
     "name": "stdout",
     "output_type": "stream",
     "text": [
      "Epoch [1/20]: Average Loss: 0.0772\n",
      "Epoch [1/20]: Train combinedset accuracy: 99.96%\n",
      "Epoch [1/20]: Test: testset accuracy: 93.20%\n"
     ]
    },
    {
     "name": "stderr",
     "output_type": "stream",
     "text": [
      "Epoch [2/20]: 100%|██████████| 782/782 [01:39<00:00,  7.90batch/s, loss=0.00156]\n",
      "Evaluation: 100%|██████████| 782/782 [00:46<00:00, 16.99batch/s]\n",
      "Evaluation: 100%|██████████| 79/79 [00:04<00:00, 16.15batch/s]\n"
     ]
    },
    {
     "name": "stdout",
     "output_type": "stream",
     "text": [
      "Epoch [2/20]: Average Loss: 0.0046\n",
      "Epoch [2/20]: Train combinedset accuracy: 99.99%\n",
      "Epoch [2/20]: Test: testset accuracy: 93.46%\n"
     ]
    },
    {
     "name": "stderr",
     "output_type": "stream",
     "text": [
      "Epoch [3/20]: 100%|██████████| 782/782 [01:39<00:00,  7.90batch/s, loss=0.0535]  \n",
      "Evaluation: 100%|██████████| 782/782 [00:46<00:00, 16.98batch/s]\n",
      "Evaluation: 100%|██████████| 79/79 [00:04<00:00, 16.15batch/s]\n"
     ]
    },
    {
     "name": "stdout",
     "output_type": "stream",
     "text": [
      "Epoch [3/20]: Average Loss: 0.0036\n",
      "Epoch [3/20]: Train combinedset accuracy: 99.99%\n",
      "Epoch [3/20]: Test: testset accuracy: 93.81%\n"
     ]
    },
    {
     "name": "stderr",
     "output_type": "stream",
     "text": [
      "Epoch [4/20]: 100%|██████████| 782/782 [01:39<00:00,  7.89batch/s, loss=0.00262] \n",
      "Evaluation: 100%|██████████| 782/782 [00:46<00:00, 16.99batch/s]\n",
      "Evaluation: 100%|██████████| 79/79 [00:04<00:00, 16.20batch/s]\n"
     ]
    },
    {
     "name": "stdout",
     "output_type": "stream",
     "text": [
      "Epoch [4/20]: Average Loss: 0.0032\n",
      "Epoch [4/20]: Train combinedset accuracy: 99.99%\n",
      "Epoch [4/20]: Test: testset accuracy: 93.84%\n"
     ]
    },
    {
     "name": "stderr",
     "output_type": "stream",
     "text": [
      "Epoch [5/20]: 100%|██████████| 782/782 [01:39<00:00,  7.89batch/s, loss=0.0037]  \n",
      "Evaluation: 100%|██████████| 782/782 [00:46<00:00, 16.98batch/s]\n",
      "Evaluation: 100%|██████████| 79/79 [00:04<00:00, 16.15batch/s]\n"
     ]
    },
    {
     "name": "stdout",
     "output_type": "stream",
     "text": [
      "Epoch [5/20]: Average Loss: 0.0029\n",
      "Epoch [5/20]: Train combinedset accuracy: 99.99%\n",
      "Epoch [5/20]: Test: testset accuracy: 93.90%\n"
     ]
    },
    {
     "name": "stderr",
     "output_type": "stream",
     "text": [
      "Epoch [6/20]: 100%|██████████| 782/782 [01:39<00:00,  7.90batch/s, loss=0.00936] \n",
      "Evaluation: 100%|██████████| 782/782 [00:45<00:00, 17.00batch/s]\n",
      "Evaluation: 100%|██████████| 79/79 [00:04<00:00, 16.07batch/s]\n"
     ]
    },
    {
     "name": "stdout",
     "output_type": "stream",
     "text": [
      "Epoch [6/20]: Average Loss: 0.0025\n",
      "Epoch [6/20]: Train combinedset accuracy: 99.99%\n",
      "Epoch [6/20]: Test: testset accuracy: 93.72%\n"
     ]
    },
    {
     "name": "stderr",
     "output_type": "stream",
     "text": [
      "Epoch [7/20]: 100%|██████████| 782/782 [01:39<00:00,  7.89batch/s, loss=0.00119] \n",
      "Evaluation: 100%|██████████| 782/782 [00:46<00:00, 16.98batch/s]\n",
      "Evaluation: 100%|██████████| 79/79 [00:04<00:00, 16.15batch/s]\n"
     ]
    },
    {
     "name": "stdout",
     "output_type": "stream",
     "text": [
      "Epoch [7/20]: Average Loss: 0.0024\n",
      "Epoch [7/20]: Train combinedset accuracy: 99.99%\n",
      "Epoch [7/20]: Test: testset accuracy: 93.96%\n"
     ]
    },
    {
     "name": "stderr",
     "output_type": "stream",
     "text": [
      "Epoch [8/20]: 100%|██████████| 782/782 [01:39<00:00,  7.89batch/s, loss=0.00123] \n",
      "Evaluation: 100%|██████████| 782/782 [00:46<00:00, 16.98batch/s]\n",
      "Evaluation: 100%|██████████| 79/79 [00:04<00:00, 16.15batch/s]\n"
     ]
    },
    {
     "name": "stdout",
     "output_type": "stream",
     "text": [
      "Epoch [8/20]: Average Loss: 0.0022\n",
      "Epoch [8/20]: Train combinedset accuracy: 99.99%\n",
      "Epoch [8/20]: Test: testset accuracy: 94.03%\n"
     ]
    },
    {
     "name": "stderr",
     "output_type": "stream",
     "text": [
      "Epoch [9/20]: 100%|██████████| 782/782 [01:39<00:00,  7.89batch/s, loss=0.0485]  \n",
      "Evaluation: 100%|██████████| 782/782 [00:46<00:00, 16.98batch/s]\n",
      "Evaluation: 100%|██████████| 79/79 [00:04<00:00, 16.20batch/s]\n"
     ]
    },
    {
     "name": "stdout",
     "output_type": "stream",
     "text": [
      "Epoch [9/20]: Average Loss: 0.0022\n",
      "Epoch [9/20]: Train combinedset accuracy: 99.99%\n",
      "Epoch [9/20]: Test: testset accuracy: 94.13%\n"
     ]
    },
    {
     "name": "stderr",
     "output_type": "stream",
     "text": [
      "Epoch [10/20]: 100%|██████████| 782/782 [01:39<00:00,  7.89batch/s, loss=0.00781] \n",
      "Evaluation: 100%|██████████| 782/782 [00:46<00:00, 16.99batch/s]\n",
      "Evaluation: 100%|██████████| 79/79 [00:04<00:00, 16.15batch/s]\n"
     ]
    },
    {
     "name": "stdout",
     "output_type": "stream",
     "text": [
      "Epoch [10/20]: Average Loss: 0.0022\n",
      "Epoch [10/20]: Train combinedset accuracy: 99.99%\n",
      "Epoch [10/20]: Test: testset accuracy: 94.04%\n"
     ]
    },
    {
     "name": "stderr",
     "output_type": "stream",
     "text": [
      "Epoch [11/20]: 100%|██████████| 782/782 [01:39<00:00,  7.89batch/s, loss=0.00275] \n",
      "Evaluation: 100%|██████████| 782/782 [00:46<00:00, 16.99batch/s]\n",
      "Evaluation: 100%|██████████| 79/79 [00:04<00:00, 16.15batch/s]\n"
     ]
    },
    {
     "name": "stdout",
     "output_type": "stream",
     "text": [
      "Epoch [11/20]: Average Loss: 0.0020\n",
      "Epoch [11/20]: Train combinedset accuracy: 100.00%\n",
      "Epoch [11/20]: Test: testset accuracy: 94.03%\n"
     ]
    },
    {
     "name": "stderr",
     "output_type": "stream",
     "text": [
      "Epoch [12/20]: 100%|██████████| 782/782 [01:39<00:00,  7.89batch/s, loss=0.00501] \n",
      "Evaluation: 100%|██████████| 782/782 [00:45<00:00, 17.01batch/s]\n",
      "Evaluation: 100%|██████████| 79/79 [00:04<00:00, 16.26batch/s]\n"
     ]
    },
    {
     "name": "stdout",
     "output_type": "stream",
     "text": [
      "Epoch [12/20]: Average Loss: 0.0020\n",
      "Epoch [12/20]: Train combinedset accuracy: 99.99%\n",
      "Epoch [12/20]: Test: testset accuracy: 94.06%\n"
     ]
    },
    {
     "name": "stderr",
     "output_type": "stream",
     "text": [
      "Epoch [13/20]: 100%|██████████| 782/782 [01:39<00:00,  7.89batch/s, loss=0.00656] \n",
      "Evaluation: 100%|██████████| 782/782 [00:46<00:00, 17.00batch/s]\n",
      "Evaluation: 100%|██████████| 79/79 [00:04<00:00, 16.15batch/s]\n"
     ]
    },
    {
     "name": "stdout",
     "output_type": "stream",
     "text": [
      "Epoch [13/20]: Average Loss: 0.0018\n",
      "Epoch [13/20]: Train combinedset accuracy: 100.00%\n",
      "Epoch [13/20]: Test: testset accuracy: 94.19%\n"
     ]
    },
    {
     "name": "stderr",
     "output_type": "stream",
     "text": [
      "Epoch [14/20]: 100%|██████████| 782/782 [01:39<00:00,  7.89batch/s, loss=0.00148] \n",
      "Evaluation: 100%|██████████| 782/782 [00:45<00:00, 17.02batch/s]\n",
      "Evaluation: 100%|██████████| 79/79 [00:04<00:00, 16.25batch/s]\n"
     ]
    },
    {
     "name": "stdout",
     "output_type": "stream",
     "text": [
      "Epoch [14/20]: Average Loss: 0.0018\n",
      "Epoch [14/20]: Train combinedset accuracy: 100.00%\n",
      "Epoch [14/20]: Test: testset accuracy: 94.24%\n"
     ]
    },
    {
     "name": "stderr",
     "output_type": "stream",
     "text": [
      "Epoch [15/20]: 100%|██████████| 782/782 [01:39<00:00,  7.88batch/s, loss=0.0225]  \n",
      "Evaluation: 100%|██████████| 782/782 [00:46<00:00, 16.98batch/s]\n",
      "Evaluation: 100%|██████████| 79/79 [00:04<00:00, 16.26batch/s]\n"
     ]
    },
    {
     "name": "stdout",
     "output_type": "stream",
     "text": [
      "Epoch [15/20]: Average Loss: 0.0018\n",
      "Epoch [15/20]: Train combinedset accuracy: 100.00%\n",
      "Epoch [15/20]: Test: testset accuracy: 94.07%\n"
     ]
    },
    {
     "name": "stderr",
     "output_type": "stream",
     "text": [
      "Epoch [16/20]: 100%|██████████| 782/782 [01:39<00:00,  7.89batch/s, loss=0.00119] \n",
      "Evaluation: 100%|██████████| 782/782 [00:46<00:00, 16.99batch/s]\n",
      "Evaluation: 100%|██████████| 79/79 [00:04<00:00, 16.10batch/s]\n"
     ]
    },
    {
     "name": "stdout",
     "output_type": "stream",
     "text": [
      "Epoch [16/20]: Average Loss: 0.0018\n",
      "Epoch [16/20]: Train combinedset accuracy: 100.00%\n",
      "Epoch [16/20]: Test: testset accuracy: 94.01%\n"
     ]
    },
    {
     "name": "stderr",
     "output_type": "stream",
     "text": [
      "Epoch [17/20]: 100%|██████████| 782/782 [01:39<00:00,  7.90batch/s, loss=0.00193] \n",
      "Evaluation: 100%|██████████| 782/782 [00:46<00:00, 17.00batch/s]\n",
      "Evaluation: 100%|██████████| 79/79 [00:04<00:00, 16.15batch/s]\n"
     ]
    },
    {
     "name": "stdout",
     "output_type": "stream",
     "text": [
      "Epoch [17/20]: Average Loss: 0.0016\n",
      "Epoch [17/20]: Train combinedset accuracy: 100.00%\n",
      "Epoch [17/20]: Test: testset accuracy: 94.11%\n"
     ]
    },
    {
     "name": "stderr",
     "output_type": "stream",
     "text": [
      "Epoch [18/20]: 100%|██████████| 782/782 [01:39<00:00,  7.89batch/s, loss=0.00623] \n",
      "Evaluation: 100%|██████████| 782/782 [00:46<00:00, 16.98batch/s]\n",
      "Evaluation: 100%|██████████| 79/79 [00:04<00:00, 16.17batch/s]\n"
     ]
    },
    {
     "name": "stdout",
     "output_type": "stream",
     "text": [
      "Epoch [18/20]: Average Loss: 0.0017\n",
      "Epoch [18/20]: Train combinedset accuracy: 100.00%\n",
      "Epoch [18/20]: Test: testset accuracy: 94.06%\n"
     ]
    },
    {
     "name": "stderr",
     "output_type": "stream",
     "text": [
      "Epoch [19/20]: 100%|██████████| 782/782 [01:39<00:00,  7.89batch/s, loss=0.00114] \n",
      "Evaluation: 100%|██████████| 782/782 [00:46<00:00, 16.98batch/s]\n",
      "Evaluation: 100%|██████████| 79/79 [00:04<00:00, 16.15batch/s]\n"
     ]
    },
    {
     "name": "stdout",
     "output_type": "stream",
     "text": [
      "Epoch [19/20]: Average Loss: 0.0017\n",
      "Epoch [19/20]: Train combinedset accuracy: 100.00%\n",
      "Epoch [19/20]: Test: testset accuracy: 94.00%\n"
     ]
    },
    {
     "name": "stderr",
     "output_type": "stream",
     "text": [
      "Epoch [20/20]: 100%|██████████| 782/782 [01:39<00:00,  7.89batch/s, loss=0.00235] \n",
      "Evaluation: 100%|██████████| 782/782 [00:46<00:00, 17.00batch/s]\n",
      "Evaluation: 100%|██████████| 79/79 [00:04<00:00, 16.10batch/s]\n"
     ]
    },
    {
     "name": "stdout",
     "output_type": "stream",
     "text": [
      "Epoch [20/20]: Average Loss: 0.0017\n",
      "Epoch [20/20]: Train combinedset accuracy: 99.99%\n",
      "Epoch [20/20]: Test: testset accuracy: 94.18%\n"
     ]
    },
    {
     "name": "stderr",
     "output_type": "stream",
     "text": [
      "Generating Adversarial Dataset: 100%|██████████| 79/79 [00:07<00:00, 10.36it/s]\n",
      "Evaluation: 100%|██████████| 79/79 [00:02<00:00, 27.04batch/s]\n",
      "Evaluation: 100%|██████████| 79/79 [00:04<00:00, 16.21batch/s]\n",
      "Evaluation: 100%|██████████| 782/782 [00:46<00:00, 17.00batch/s]\n",
      "Evaluation: 100%|██████████| 79/79 [00:02<00:00, 27.04batch/s]"
     ]
    },
    {
     "name": "stdout",
     "output_type": "stream",
     "text": [
      "Test: attack testset accuracy: 68.53%\n",
      "Test: testset accuracy: 94.18%\n",
      "Train: combinedset accuracy: 100.00%\n",
      "Test: oneshot attack testset accuracy: 36.43%\n"
     ]
    },
    {
     "name": "stderr",
     "output_type": "stream",
     "text": [
      "\n"
     ]
    }
   ],
   "source": [
    "model = get_pretrainded_model()\n",
    "\n",
    "fgsm = torchattacks.FGSM(model, eps=eps)\n",
    "fgsm.set_normalization_used(mean=norm_mean, std=norm_std)\n",
    "\n",
    "fgsm_results = run_experiment(model, trainloader, testloader, fgsm)\n",
    "\n",
    "with open(\"fgsm_results.json\", \"w\") as json_file:\n",
    "    json.dump(fgsm_results, json_file, indent=4)"
   ]
  },
  {
   "cell_type": "code",
   "execution_count": 21,
   "metadata": {},
   "outputs": [
    {
     "name": "stderr",
     "output_type": "stream",
     "text": [
      "Generating Adversarial Dataset: 100%|██████████| 79/79 [00:56<00:00,  1.40it/s]\n",
      "Evaluation: 100%|██████████| 79/79 [00:02<00:00, 27.04batch/s]\n",
      "Evaluation: 100%|██████████| 79/79 [00:04<00:00, 16.10batch/s]"
     ]
    },
    {
     "name": "stdout",
     "output_type": "stream",
     "text": [
      "Test: attack testset accuracy: 0.04%\n",
      "Test: testset accuracy: 94.98%\n",
      "#### Iteration: 0 ####\n"
     ]
    },
    {
     "name": "stderr",
     "output_type": "stream",
     "text": [
      "\n",
      "Generating Adversarial Dataset: 100%|██████████| 391/391 [04:50<00:00,  1.35it/s]\n",
      "Epoch [1/20]: 100%|██████████| 782/782 [01:39<00:00,  7.89batch/s, loss=0.369] \n",
      "Evaluation: 100%|██████████| 782/782 [00:46<00:00, 17.00batch/s]\n",
      "Evaluation: 100%|██████████| 79/79 [00:04<00:00, 16.26batch/s]\n"
     ]
    },
    {
     "name": "stdout",
     "output_type": "stream",
     "text": [
      "Epoch [1/20]: Average Loss: 0.3808\n",
      "Epoch [1/20]: Train combinedset accuracy: 95.19%\n",
      "Epoch [1/20]: Test: testset accuracy: 91.24%\n"
     ]
    },
    {
     "name": "stderr",
     "output_type": "stream",
     "text": [
      "Epoch [2/20]: 100%|██████████| 782/782 [01:39<00:00,  7.89batch/s, loss=0.171] \n",
      "Evaluation: 100%|██████████| 782/782 [00:45<00:00, 17.02batch/s]\n",
      "Evaluation: 100%|██████████| 79/79 [00:04<00:00, 16.20batch/s]\n"
     ]
    },
    {
     "name": "stdout",
     "output_type": "stream",
     "text": [
      "Epoch [2/20]: Average Loss: 0.1494\n",
      "Epoch [2/20]: Train combinedset accuracy: 97.39%\n",
      "Epoch [2/20]: Test: testset accuracy: 91.64%\n"
     ]
    },
    {
     "name": "stderr",
     "output_type": "stream",
     "text": [
      "Epoch [3/20]: 100%|██████████| 782/782 [01:39<00:00,  7.90batch/s, loss=0.105] \n",
      "Evaluation: 100%|██████████| 782/782 [00:46<00:00, 16.99batch/s]\n",
      "Evaluation: 100%|██████████| 79/79 [00:04<00:00, 16.21batch/s]\n"
     ]
    },
    {
     "name": "stdout",
     "output_type": "stream",
     "text": [
      "Epoch [3/20]: Average Loss: 0.0936\n",
      "Epoch [3/20]: Train combinedset accuracy: 98.63%\n",
      "Epoch [3/20]: Test: testset accuracy: 91.66%\n"
     ]
    },
    {
     "name": "stderr",
     "output_type": "stream",
     "text": [
      "Epoch [4/20]: 100%|██████████| 782/782 [01:39<00:00,  7.89batch/s, loss=0.146] \n",
      "Evaluation: 100%|██████████| 782/782 [00:45<00:00, 17.02batch/s]\n",
      "Evaluation: 100%|██████████| 79/79 [00:04<00:00, 16.20batch/s]\n"
     ]
    },
    {
     "name": "stdout",
     "output_type": "stream",
     "text": [
      "Epoch [4/20]: Average Loss: 0.0595\n",
      "Epoch [4/20]: Train combinedset accuracy: 99.18%\n",
      "Epoch [4/20]: Test: testset accuracy: 91.62%\n"
     ]
    },
    {
     "name": "stderr",
     "output_type": "stream",
     "text": [
      "Epoch [5/20]: 100%|██████████| 782/782 [01:39<00:00,  7.89batch/s, loss=0.235]  \n",
      "Evaluation: 100%|██████████| 782/782 [00:45<00:00, 17.00batch/s]\n",
      "Evaluation: 100%|██████████| 79/79 [00:04<00:00, 16.20batch/s]\n"
     ]
    },
    {
     "name": "stdout",
     "output_type": "stream",
     "text": [
      "Epoch [5/20]: Average Loss: 0.0416\n",
      "Epoch [5/20]: Train combinedset accuracy: 99.50%\n",
      "Epoch [5/20]: Test: testset accuracy: 91.89%\n"
     ]
    },
    {
     "name": "stderr",
     "output_type": "stream",
     "text": [
      "Epoch [6/20]: 100%|██████████| 782/782 [01:39<00:00,  7.89batch/s, loss=0.0972] \n",
      "Evaluation: 100%|██████████| 782/782 [00:45<00:00, 17.01batch/s]\n",
      "Evaluation: 100%|██████████| 79/79 [00:04<00:00, 16.15batch/s]\n"
     ]
    },
    {
     "name": "stdout",
     "output_type": "stream",
     "text": [
      "Epoch [6/20]: Average Loss: 0.0315\n",
      "Epoch [6/20]: Train combinedset accuracy: 99.63%\n",
      "Epoch [6/20]: Test: testset accuracy: 91.79%\n"
     ]
    },
    {
     "name": "stderr",
     "output_type": "stream",
     "text": [
      "Epoch [7/20]: 100%|██████████| 782/782 [01:39<00:00,  7.90batch/s, loss=0.173]  \n",
      "Evaluation: 100%|██████████| 782/782 [00:46<00:00, 16.99batch/s]\n",
      "Evaluation: 100%|██████████| 79/79 [00:04<00:00, 16.26batch/s]\n"
     ]
    },
    {
     "name": "stdout",
     "output_type": "stream",
     "text": [
      "Epoch [7/20]: Average Loss: 0.0242\n",
      "Epoch [7/20]: Train combinedset accuracy: 99.71%\n",
      "Epoch [7/20]: Test: testset accuracy: 92.05%\n"
     ]
    },
    {
     "name": "stderr",
     "output_type": "stream",
     "text": [
      "Epoch [8/20]: 100%|██████████| 782/782 [01:39<00:00,  7.90batch/s, loss=0.0315] \n",
      "Evaluation: 100%|██████████| 782/782 [00:45<00:00, 17.01batch/s]\n",
      "Evaluation: 100%|██████████| 79/79 [00:04<00:00, 16.25batch/s]\n"
     ]
    },
    {
     "name": "stdout",
     "output_type": "stream",
     "text": [
      "Epoch [8/20]: Average Loss: 0.0208\n",
      "Epoch [8/20]: Train combinedset accuracy: 99.77%\n",
      "Epoch [8/20]: Test: testset accuracy: 92.31%\n"
     ]
    },
    {
     "name": "stderr",
     "output_type": "stream",
     "text": [
      "Epoch [9/20]: 100%|██████████| 782/782 [01:39<00:00,  7.90batch/s, loss=0.0237] \n",
      "Evaluation: 100%|██████████| 782/782 [00:45<00:00, 17.00batch/s]\n",
      "Evaluation: 100%|██████████| 79/79 [00:04<00:00, 16.21batch/s]\n"
     ]
    },
    {
     "name": "stdout",
     "output_type": "stream",
     "text": [
      "Epoch [9/20]: Average Loss: 0.0169\n",
      "Epoch [9/20]: Train combinedset accuracy: 99.81%\n",
      "Epoch [9/20]: Test: testset accuracy: 92.44%\n"
     ]
    },
    {
     "name": "stderr",
     "output_type": "stream",
     "text": [
      "Epoch [10/20]: 100%|██████████| 782/782 [01:38<00:00,  7.90batch/s, loss=0.00719]\n",
      "Evaluation: 100%|██████████| 782/782 [00:46<00:00, 16.98batch/s]\n",
      "Evaluation: 100%|██████████| 79/79 [00:04<00:00, 16.10batch/s]\n"
     ]
    },
    {
     "name": "stdout",
     "output_type": "stream",
     "text": [
      "Epoch [10/20]: Average Loss: 0.0147\n",
      "Epoch [10/20]: Train combinedset accuracy: 99.84%\n",
      "Epoch [10/20]: Test: testset accuracy: 92.57%\n"
     ]
    },
    {
     "name": "stderr",
     "output_type": "stream",
     "text": [
      "Epoch [11/20]: 100%|██████████| 782/782 [01:39<00:00,  7.89batch/s, loss=0.0444] \n",
      "Evaluation: 100%|██████████| 782/782 [00:45<00:00, 17.01batch/s]\n",
      "Evaluation: 100%|██████████| 79/79 [00:04<00:00, 16.31batch/s]\n"
     ]
    },
    {
     "name": "stdout",
     "output_type": "stream",
     "text": [
      "Epoch [11/20]: Average Loss: 0.0132\n",
      "Epoch [11/20]: Train combinedset accuracy: 99.87%\n",
      "Epoch [11/20]: Test: testset accuracy: 92.29%\n"
     ]
    },
    {
     "name": "stderr",
     "output_type": "stream",
     "text": [
      "Epoch [12/20]: 100%|██████████| 782/782 [01:38<00:00,  7.90batch/s, loss=0.022]  \n",
      "Evaluation: 100%|██████████| 782/782 [00:46<00:00, 16.99batch/s]\n",
      "Evaluation: 100%|██████████| 79/79 [00:04<00:00, 16.25batch/s]\n"
     ]
    },
    {
     "name": "stdout",
     "output_type": "stream",
     "text": [
      "Epoch [12/20]: Average Loss: 0.0119\n",
      "Epoch [12/20]: Train combinedset accuracy: 99.88%\n",
      "Epoch [12/20]: Test: testset accuracy: 92.51%\n"
     ]
    },
    {
     "name": "stderr",
     "output_type": "stream",
     "text": [
      "Epoch [13/20]: 100%|██████████| 782/782 [01:39<00:00,  7.90batch/s, loss=0.0846] \n",
      "Evaluation: 100%|██████████| 782/782 [00:46<00:00, 16.98batch/s]\n",
      "Evaluation: 100%|██████████| 79/79 [00:04<00:00, 16.21batch/s]\n"
     ]
    },
    {
     "name": "stdout",
     "output_type": "stream",
     "text": [
      "Epoch [13/20]: Average Loss: 0.0110\n",
      "Epoch [13/20]: Train combinedset accuracy: 99.89%\n",
      "Epoch [13/20]: Test: testset accuracy: 92.54%\n"
     ]
    },
    {
     "name": "stderr",
     "output_type": "stream",
     "text": [
      "Epoch [14/20]: 100%|██████████| 782/782 [01:39<00:00,  7.90batch/s, loss=0.00928]\n",
      "Evaluation: 100%|██████████| 782/782 [00:46<00:00, 16.99batch/s]\n",
      "Evaluation: 100%|██████████| 79/79 [00:04<00:00, 16.15batch/s]\n"
     ]
    },
    {
     "name": "stdout",
     "output_type": "stream",
     "text": [
      "Epoch [14/20]: Average Loss: 0.0102\n",
      "Epoch [14/20]: Train combinedset accuracy: 99.91%\n",
      "Epoch [14/20]: Test: testset accuracy: 92.62%\n"
     ]
    },
    {
     "name": "stderr",
     "output_type": "stream",
     "text": [
      "Epoch [15/20]: 100%|██████████| 782/782 [01:39<00:00,  7.90batch/s, loss=0.0267] \n",
      "Evaluation: 100%|██████████| 782/782 [00:46<00:00, 16.99batch/s]\n",
      "Evaluation: 100%|██████████| 79/79 [00:04<00:00, 16.31batch/s]\n"
     ]
    },
    {
     "name": "stdout",
     "output_type": "stream",
     "text": [
      "Epoch [15/20]: Average Loss: 0.0095\n",
      "Epoch [15/20]: Train combinedset accuracy: 99.91%\n",
      "Epoch [15/20]: Test: testset accuracy: 92.67%\n"
     ]
    },
    {
     "name": "stderr",
     "output_type": "stream",
     "text": [
      "Epoch [16/20]: 100%|██████████| 782/782 [01:39<00:00,  7.90batch/s, loss=0.0114] \n",
      "Evaluation: 100%|██████████| 782/782 [00:46<00:00, 16.99batch/s]\n",
      "Evaluation: 100%|██████████| 79/79 [00:04<00:00, 16.20batch/s]\n"
     ]
    },
    {
     "name": "stdout",
     "output_type": "stream",
     "text": [
      "Epoch [16/20]: Average Loss: 0.0093\n",
      "Epoch [16/20]: Train combinedset accuracy: 99.92%\n",
      "Epoch [16/20]: Test: testset accuracy: 92.66%\n"
     ]
    },
    {
     "name": "stderr",
     "output_type": "stream",
     "text": [
      "Epoch [17/20]: 100%|██████████| 782/782 [01:39<00:00,  7.90batch/s, loss=0.0729] \n",
      "Evaluation: 100%|██████████| 782/782 [00:46<00:00, 17.00batch/s]\n",
      "Evaluation: 100%|██████████| 79/79 [00:04<00:00, 16.15batch/s]\n"
     ]
    },
    {
     "name": "stdout",
     "output_type": "stream",
     "text": [
      "Epoch [17/20]: Average Loss: 0.0082\n",
      "Epoch [17/20]: Train combinedset accuracy: 99.93%\n",
      "Epoch [17/20]: Test: testset accuracy: 92.70%\n"
     ]
    },
    {
     "name": "stderr",
     "output_type": "stream",
     "text": [
      "Epoch [18/20]: 100%|██████████| 782/782 [01:39<00:00,  7.89batch/s, loss=0.011]  \n",
      "Evaluation: 100%|██████████| 782/782 [00:46<00:00, 16.77batch/s]\n",
      "Evaluation: 100%|██████████| 79/79 [00:04<00:00, 15.90batch/s]\n"
     ]
    },
    {
     "name": "stdout",
     "output_type": "stream",
     "text": [
      "Epoch [18/20]: Average Loss: 0.0084\n",
      "Epoch [18/20]: Train combinedset accuracy: 99.90%\n",
      "Epoch [18/20]: Test: testset accuracy: 92.77%\n"
     ]
    },
    {
     "name": "stderr",
     "output_type": "stream",
     "text": [
      "Epoch [19/20]: 100%|██████████| 782/782 [01:38<00:00,  7.90batch/s, loss=0.0505] \n",
      "Evaluation: 100%|██████████| 782/782 [00:46<00:00, 16.99batch/s]\n",
      "Evaluation: 100%|██████████| 79/79 [00:04<00:00, 16.15batch/s]\n"
     ]
    },
    {
     "name": "stdout",
     "output_type": "stream",
     "text": [
      "Epoch [19/20]: Average Loss: 0.0086\n",
      "Epoch [19/20]: Train combinedset accuracy: 99.92%\n",
      "Epoch [19/20]: Test: testset accuracy: 92.64%\n"
     ]
    },
    {
     "name": "stderr",
     "output_type": "stream",
     "text": [
      "Epoch [20/20]: 100%|██████████| 782/782 [01:39<00:00,  7.90batch/s, loss=0.213]  \n",
      "Evaluation: 100%|██████████| 782/782 [00:46<00:00, 16.98batch/s]\n",
      "Evaluation: 100%|██████████| 79/79 [00:04<00:00, 16.20batch/s]\n"
     ]
    },
    {
     "name": "stdout",
     "output_type": "stream",
     "text": [
      "Epoch [20/20]: Average Loss: 0.0084\n",
      "Epoch [20/20]: Train combinedset accuracy: 99.92%\n",
      "Epoch [20/20]: Test: testset accuracy: 92.67%\n"
     ]
    },
    {
     "name": "stderr",
     "output_type": "stream",
     "text": [
      "Generating Adversarial Dataset: 100%|██████████| 79/79 [00:56<00:00,  1.40it/s]\n",
      "Evaluation: 100%|██████████| 79/79 [00:02<00:00, 27.06batch/s]\n",
      "Evaluation: 100%|██████████| 79/79 [00:04<00:00, 16.31batch/s]\n",
      "Evaluation: 100%|██████████| 782/782 [00:46<00:00, 16.96batch/s]\n",
      "Evaluation: 100%|██████████| 79/79 [00:02<00:00, 27.03batch/s]"
     ]
    },
    {
     "name": "stdout",
     "output_type": "stream",
     "text": [
      "Test: attack testset accuracy: 83.67%\n",
      "Test: testset accuracy: 92.67%\n",
      "Train: combinedset accuracy: 99.91%\n",
      "Test: oneshot attack testset accuracy: 3.19%\n",
      "#### Iteration: 1 ####\n"
     ]
    },
    {
     "name": "stderr",
     "output_type": "stream",
     "text": [
      "\n",
      "Generating Adversarial Dataset: 100%|██████████| 391/391 [04:50<00:00,  1.35it/s]\n",
      "Epoch [1/20]: 100%|██████████| 782/782 [01:39<00:00,  7.88batch/s, loss=4.18]\n",
      "Evaluation: 100%|██████████| 782/782 [00:46<00:00, 16.97batch/s]\n",
      "Evaluation: 100%|██████████| 79/79 [00:04<00:00, 16.10batch/s]\n"
     ]
    },
    {
     "name": "stdout",
     "output_type": "stream",
     "text": [
      "Epoch [1/20]: Average Loss: 4.8355\n",
      "Epoch [1/20]: Train combinedset accuracy: 52.43%\n",
      "Epoch [1/20]: Test: testset accuracy: 92.62%\n"
     ]
    },
    {
     "name": "stderr",
     "output_type": "stream",
     "text": [
      "Epoch [2/20]: 100%|██████████| 782/782 [01:39<00:00,  7.89batch/s, loss=1.26]\n",
      "Evaluation: 100%|██████████| 782/782 [00:46<00:00, 16.98batch/s]\n",
      "Evaluation: 100%|██████████| 79/79 [00:04<00:00, 16.10batch/s]\n"
     ]
    },
    {
     "name": "stdout",
     "output_type": "stream",
     "text": [
      "Epoch [2/20]: Average Loss: 3.2440\n",
      "Epoch [2/20]: Train combinedset accuracy: 69.85%\n",
      "Epoch [2/20]: Test: testset accuracy: 89.70%\n"
     ]
    },
    {
     "name": "stderr",
     "output_type": "stream",
     "text": [
      "Epoch [3/20]: 100%|██████████| 782/782 [01:39<00:00,  7.89batch/s, loss=0.746]\n",
      "Evaluation: 100%|██████████| 782/782 [00:46<00:00, 16.97batch/s]\n",
      "Evaluation: 100%|██████████| 79/79 [00:04<00:00, 16.20batch/s]\n"
     ]
    },
    {
     "name": "stdout",
     "output_type": "stream",
     "text": [
      "Epoch [3/20]: Average Loss: 0.9708\n",
      "Epoch [3/20]: Train combinedset accuracy: 80.75%\n",
      "Epoch [3/20]: Test: testset accuracy: 86.78%\n"
     ]
    },
    {
     "name": "stderr",
     "output_type": "stream",
     "text": [
      "Epoch [4/20]: 100%|██████████| 782/782 [01:39<00:00,  7.89batch/s, loss=0.515]\n",
      "Evaluation: 100%|██████████| 782/782 [00:46<00:00, 16.96batch/s]\n",
      "Evaluation: 100%|██████████| 79/79 [00:04<00:00, 16.26batch/s]\n"
     ]
    },
    {
     "name": "stdout",
     "output_type": "stream",
     "text": [
      "Epoch [4/20]: Average Loss: 0.6063\n",
      "Epoch [4/20]: Train combinedset accuracy: 84.16%\n",
      "Epoch [4/20]: Test: testset accuracy: 87.35%\n"
     ]
    },
    {
     "name": "stderr",
     "output_type": "stream",
     "text": [
      "Epoch [5/20]: 100%|██████████| 782/782 [01:39<00:00,  7.89batch/s, loss=0.602]\n",
      "Evaluation: 100%|██████████| 782/782 [00:46<00:00, 16.98batch/s]\n",
      "Evaluation: 100%|██████████| 79/79 [00:04<00:00, 16.10batch/s]\n"
     ]
    },
    {
     "name": "stdout",
     "output_type": "stream",
     "text": [
      "Epoch [5/20]: Average Loss: 0.4462\n",
      "Epoch [5/20]: Train combinedset accuracy: 87.48%\n",
      "Epoch [5/20]: Test: testset accuracy: 88.64%\n"
     ]
    },
    {
     "name": "stderr",
     "output_type": "stream",
     "text": [
      "Epoch [6/20]: 100%|██████████| 782/782 [01:39<00:00,  7.90batch/s, loss=0.0448]\n",
      "Evaluation: 100%|██████████| 782/782 [00:46<00:00, 16.97batch/s]\n",
      "Evaluation: 100%|██████████| 79/79 [00:04<00:00, 16.15batch/s]\n"
     ]
    },
    {
     "name": "stdout",
     "output_type": "stream",
     "text": [
      "Epoch [6/20]: Average Loss: 0.3181\n",
      "Epoch [6/20]: Train combinedset accuracy: 92.60%\n",
      "Epoch [6/20]: Test: testset accuracy: 90.11%\n"
     ]
    },
    {
     "name": "stderr",
     "output_type": "stream",
     "text": [
      "Epoch [7/20]: 100%|██████████| 782/782 [01:39<00:00,  7.90batch/s, loss=0.0248]\n",
      "Evaluation: 100%|██████████| 782/782 [00:46<00:00, 16.97batch/s]\n",
      "Evaluation: 100%|██████████| 79/79 [00:04<00:00, 16.15batch/s]\n"
     ]
    },
    {
     "name": "stdout",
     "output_type": "stream",
     "text": [
      "Epoch [7/20]: Average Loss: 0.1467\n",
      "Epoch [7/20]: Train combinedset accuracy: 97.81%\n",
      "Epoch [7/20]: Test: testset accuracy: 91.56%\n"
     ]
    },
    {
     "name": "stderr",
     "output_type": "stream",
     "text": [
      "Epoch [8/20]: 100%|██████████| 782/782 [01:39<00:00,  7.90batch/s, loss=0.0373] \n",
      "Evaluation: 100%|██████████| 782/782 [00:46<00:00, 16.98batch/s]\n",
      "Evaluation: 100%|██████████| 79/79 [00:04<00:00, 16.10batch/s]\n"
     ]
    },
    {
     "name": "stdout",
     "output_type": "stream",
     "text": [
      "Epoch [8/20]: Average Loss: 0.0615\n",
      "Epoch [8/20]: Train combinedset accuracy: 99.10%\n",
      "Epoch [8/20]: Test: testset accuracy: 92.58%\n"
     ]
    },
    {
     "name": "stderr",
     "output_type": "stream",
     "text": [
      "Epoch [9/20]: 100%|██████████| 782/782 [01:39<00:00,  7.90batch/s, loss=0.0843] \n",
      "Evaluation: 100%|██████████| 782/782 [00:46<00:00, 16.98batch/s]\n",
      "Evaluation: 100%|██████████| 79/79 [00:04<00:00, 16.10batch/s]\n"
     ]
    },
    {
     "name": "stdout",
     "output_type": "stream",
     "text": [
      "Epoch [9/20]: Average Loss: 0.0339\n",
      "Epoch [9/20]: Train combinedset accuracy: 99.64%\n",
      "Epoch [9/20]: Test: testset accuracy: 92.86%\n"
     ]
    },
    {
     "name": "stderr",
     "output_type": "stream",
     "text": [
      "Epoch [10/20]: 100%|██████████| 782/782 [01:39<00:00,  7.90batch/s, loss=0.214]  \n",
      "Evaluation: 100%|██████████| 782/782 [00:46<00:00, 16.99batch/s]\n",
      "Evaluation: 100%|██████████| 79/79 [00:04<00:00, 16.26batch/s]\n"
     ]
    },
    {
     "name": "stdout",
     "output_type": "stream",
     "text": [
      "Epoch [10/20]: Average Loss: 0.0204\n",
      "Epoch [10/20]: Train combinedset accuracy: 99.81%\n",
      "Epoch [10/20]: Test: testset accuracy: 93.43%\n"
     ]
    },
    {
     "name": "stderr",
     "output_type": "stream",
     "text": [
      "Epoch [11/20]: 100%|██████████| 782/782 [01:39<00:00,  7.90batch/s, loss=0.0389] \n",
      "Evaluation: 100%|██████████| 782/782 [00:46<00:00, 16.98batch/s]\n",
      "Evaluation: 100%|██████████| 79/79 [00:04<00:00, 16.15batch/s]\n"
     ]
    },
    {
     "name": "stdout",
     "output_type": "stream",
     "text": [
      "Epoch [11/20]: Average Loss: 0.0137\n",
      "Epoch [11/20]: Train combinedset accuracy: 99.89%\n",
      "Epoch [11/20]: Test: testset accuracy: 93.43%\n"
     ]
    },
    {
     "name": "stderr",
     "output_type": "stream",
     "text": [
      "Epoch [12/20]: 100%|██████████| 782/782 [01:38<00:00,  7.90batch/s, loss=0.0778] \n",
      "Evaluation: 100%|██████████| 782/782 [00:46<00:00, 16.97batch/s]\n",
      "Evaluation: 100%|██████████| 79/79 [00:04<00:00, 16.20batch/s]\n"
     ]
    },
    {
     "name": "stdout",
     "output_type": "stream",
     "text": [
      "Epoch [12/20]: Average Loss: 0.0101\n",
      "Epoch [12/20]: Train combinedset accuracy: 99.92%\n",
      "Epoch [12/20]: Test: testset accuracy: 93.59%\n"
     ]
    },
    {
     "name": "stderr",
     "output_type": "stream",
     "text": [
      "Epoch [13/20]: 100%|██████████| 782/782 [01:38<00:00,  7.90batch/s, loss=0.101]  \n",
      "Evaluation: 100%|██████████| 782/782 [00:46<00:00, 16.97batch/s]\n",
      "Evaluation: 100%|██████████| 79/79 [00:04<00:00, 16.10batch/s]\n"
     ]
    },
    {
     "name": "stdout",
     "output_type": "stream",
     "text": [
      "Epoch [13/20]: Average Loss: 0.0088\n",
      "Epoch [13/20]: Train combinedset accuracy: 99.95%\n",
      "Epoch [13/20]: Test: testset accuracy: 93.82%\n"
     ]
    },
    {
     "name": "stderr",
     "output_type": "stream",
     "text": [
      "Epoch [14/20]: 100%|██████████| 782/782 [01:39<00:00,  7.90batch/s, loss=0.00633]\n",
      "Evaluation: 100%|██████████| 782/782 [00:46<00:00, 16.98batch/s]\n",
      "Evaluation: 100%|██████████| 79/79 [00:04<00:00, 16.10batch/s]\n"
     ]
    },
    {
     "name": "stdout",
     "output_type": "stream",
     "text": [
      "Epoch [14/20]: Average Loss: 0.0074\n",
      "Epoch [14/20]: Train combinedset accuracy: 99.96%\n",
      "Epoch [14/20]: Test: testset accuracy: 93.84%\n"
     ]
    },
    {
     "name": "stderr",
     "output_type": "stream",
     "text": [
      "Epoch [15/20]: 100%|██████████| 782/782 [01:39<00:00,  7.90batch/s, loss=0.00115]\n",
      "Evaluation: 100%|██████████| 782/782 [00:46<00:00, 17.00batch/s]\n",
      "Evaluation: 100%|██████████| 79/79 [00:04<00:00, 16.15batch/s]\n"
     ]
    },
    {
     "name": "stdout",
     "output_type": "stream",
     "text": [
      "Epoch [15/20]: Average Loss: 0.0061\n",
      "Epoch [15/20]: Train combinedset accuracy: 99.97%\n",
      "Epoch [15/20]: Test: testset accuracy: 93.91%\n"
     ]
    },
    {
     "name": "stderr",
     "output_type": "stream",
     "text": [
      "Epoch [16/20]: 100%|██████████| 782/782 [01:39<00:00,  7.89batch/s, loss=0.0433] \n",
      "Evaluation: 100%|██████████| 782/782 [00:46<00:00, 16.97batch/s]\n",
      "Evaluation: 100%|██████████| 79/79 [00:04<00:00, 16.26batch/s]\n"
     ]
    },
    {
     "name": "stdout",
     "output_type": "stream",
     "text": [
      "Epoch [16/20]: Average Loss: 0.0057\n",
      "Epoch [16/20]: Train combinedset accuracy: 99.98%\n",
      "Epoch [16/20]: Test: testset accuracy: 94.13%\n"
     ]
    },
    {
     "name": "stderr",
     "output_type": "stream",
     "text": [
      "Epoch [17/20]: 100%|██████████| 782/782 [01:39<00:00,  7.90batch/s, loss=0.00555]\n",
      "Evaluation: 100%|██████████| 782/782 [00:46<00:00, 16.86batch/s]\n",
      "Evaluation: 100%|██████████| 79/79 [00:04<00:00, 16.00batch/s]\n"
     ]
    },
    {
     "name": "stdout",
     "output_type": "stream",
     "text": [
      "Epoch [17/20]: Average Loss: 0.0049\n",
      "Epoch [17/20]: Train combinedset accuracy: 99.98%\n",
      "Epoch [17/20]: Test: testset accuracy: 94.00%\n"
     ]
    },
    {
     "name": "stderr",
     "output_type": "stream",
     "text": [
      "Epoch [18/20]: 100%|██████████| 782/782 [01:39<00:00,  7.89batch/s, loss=0.00176] \n",
      "Evaluation: 100%|██████████| 782/782 [00:46<00:00, 16.99batch/s]\n",
      "Evaluation: 100%|██████████| 79/79 [00:04<00:00, 16.15batch/s]\n"
     ]
    },
    {
     "name": "stdout",
     "output_type": "stream",
     "text": [
      "Epoch [18/20]: Average Loss: 0.0043\n",
      "Epoch [18/20]: Train combinedset accuracy: 99.98%\n",
      "Epoch [18/20]: Test: testset accuracy: 94.06%\n"
     ]
    },
    {
     "name": "stderr",
     "output_type": "stream",
     "text": [
      "Epoch [19/20]: 100%|██████████| 782/782 [01:39<00:00,  7.89batch/s, loss=0.00292] \n",
      "Evaluation: 100%|██████████| 782/782 [00:46<00:00, 16.96batch/s]\n",
      "Evaluation: 100%|██████████| 79/79 [00:04<00:00, 16.05batch/s]\n"
     ]
    },
    {
     "name": "stdout",
     "output_type": "stream",
     "text": [
      "Epoch [19/20]: Average Loss: 0.0041\n",
      "Epoch [19/20]: Train combinedset accuracy: 99.97%\n",
      "Epoch [19/20]: Test: testset accuracy: 93.93%\n"
     ]
    },
    {
     "name": "stderr",
     "output_type": "stream",
     "text": [
      "Epoch [20/20]: 100%|██████████| 782/782 [01:39<00:00,  7.90batch/s, loss=0.00752] \n",
      "Evaluation: 100%|██████████| 782/782 [00:46<00:00, 16.98batch/s]\n",
      "Evaluation: 100%|██████████| 79/79 [00:04<00:00, 16.10batch/s]\n"
     ]
    },
    {
     "name": "stdout",
     "output_type": "stream",
     "text": [
      "Epoch [20/20]: Average Loss: 0.0038\n",
      "Epoch [20/20]: Train combinedset accuracy: 99.98%\n",
      "Epoch [20/20]: Test: testset accuracy: 94.04%\n"
     ]
    },
    {
     "name": "stderr",
     "output_type": "stream",
     "text": [
      "Generating Adversarial Dataset: 100%|██████████| 79/79 [00:56<00:00,  1.40it/s]\n",
      "Evaluation: 100%|██████████| 79/79 [00:02<00:00, 27.04batch/s]\n",
      "Evaluation: 100%|██████████| 79/79 [00:04<00:00, 16.15batch/s]\n",
      "Evaluation: 100%|██████████| 782/782 [00:46<00:00, 16.97batch/s]\n",
      "Evaluation: 100%|██████████| 79/79 [00:02<00:00, 27.04batch/s]"
     ]
    },
    {
     "name": "stdout",
     "output_type": "stream",
     "text": [
      "Test: attack testset accuracy: 31.58%\n",
      "Test: testset accuracy: 94.04%\n",
      "Train: combinedset accuracy: 99.98%\n",
      "Test: oneshot attack testset accuracy: 0.09%\n",
      "#### Iteration: 2 ####\n"
     ]
    },
    {
     "name": "stderr",
     "output_type": "stream",
     "text": [
      "\n",
      "Generating Adversarial Dataset: 100%|██████████| 391/391 [04:50<00:00,  1.35it/s]\n",
      "Epoch [1/20]: 100%|██████████| 782/782 [01:39<00:00,  7.87batch/s, loss=0.112]  \n",
      "Evaluation: 100%|██████████| 782/782 [00:46<00:00, 16.98batch/s]\n",
      "Evaluation: 100%|██████████| 79/79 [00:04<00:00, 16.15batch/s]\n"
     ]
    },
    {
     "name": "stdout",
     "output_type": "stream",
     "text": [
      "Epoch [1/20]: Average Loss: 0.0877\n",
      "Epoch [1/20]: Train combinedset accuracy: 99.89%\n",
      "Epoch [1/20]: Test: testset accuracy: 93.19%\n"
     ]
    },
    {
     "name": "stderr",
     "output_type": "stream",
     "text": [
      "Epoch [2/20]: 100%|██████████| 782/782 [01:39<00:00,  7.90batch/s, loss=0.0017] \n",
      "Evaluation: 100%|██████████| 782/782 [00:46<00:00, 16.99batch/s]\n",
      "Evaluation: 100%|██████████| 79/79 [00:04<00:00, 16.15batch/s]\n"
     ]
    },
    {
     "name": "stdout",
     "output_type": "stream",
     "text": [
      "Epoch [2/20]: Average Loss: 0.0080\n",
      "Epoch [2/20]: Train combinedset accuracy: 99.96%\n",
      "Epoch [2/20]: Test: testset accuracy: 93.49%\n"
     ]
    },
    {
     "name": "stderr",
     "output_type": "stream",
     "text": [
      "Epoch [3/20]: 100%|██████████| 782/782 [01:39<00:00,  7.89batch/s, loss=0.00482] \n",
      "Evaluation: 100%|██████████| 782/782 [00:45<00:00, 17.01batch/s]\n",
      "Evaluation: 100%|██████████| 79/79 [00:04<00:00, 16.15batch/s]\n"
     ]
    },
    {
     "name": "stdout",
     "output_type": "stream",
     "text": [
      "Epoch [3/20]: Average Loss: 0.0049\n",
      "Epoch [3/20]: Train combinedset accuracy: 99.97%\n",
      "Epoch [3/20]: Test: testset accuracy: 93.60%\n"
     ]
    },
    {
     "name": "stderr",
     "output_type": "stream",
     "text": [
      "Epoch [4/20]: 100%|██████████| 782/782 [01:38<00:00,  7.90batch/s, loss=0.0704]  \n",
      "Evaluation: 100%|██████████| 782/782 [00:46<00:00, 16.96batch/s]\n",
      "Evaluation: 100%|██████████| 79/79 [00:04<00:00, 16.20batch/s]\n"
     ]
    },
    {
     "name": "stdout",
     "output_type": "stream",
     "text": [
      "Epoch [4/20]: Average Loss: 0.0040\n",
      "Epoch [4/20]: Train combinedset accuracy: 99.98%\n",
      "Epoch [4/20]: Test: testset accuracy: 93.82%\n"
     ]
    },
    {
     "name": "stderr",
     "output_type": "stream",
     "text": [
      "Epoch [5/20]: 100%|██████████| 782/782 [01:39<00:00,  7.89batch/s, loss=0.00103] \n",
      "Evaluation: 100%|██████████| 782/782 [00:46<00:00, 16.98batch/s]\n",
      "Evaluation: 100%|██████████| 79/79 [00:04<00:00, 16.05batch/s]\n"
     ]
    },
    {
     "name": "stdout",
     "output_type": "stream",
     "text": [
      "Epoch [5/20]: Average Loss: 0.0039\n",
      "Epoch [5/20]: Train combinedset accuracy: 99.98%\n",
      "Epoch [5/20]: Test: testset accuracy: 93.74%\n"
     ]
    },
    {
     "name": "stderr",
     "output_type": "stream",
     "text": [
      "Epoch [6/20]: 100%|██████████| 782/782 [01:38<00:00,  7.90batch/s, loss=0.0292]  \n",
      "Evaluation: 100%|██████████| 782/782 [00:46<00:00, 16.99batch/s]\n",
      "Evaluation: 100%|██████████| 79/79 [00:04<00:00, 16.10batch/s]\n"
     ]
    },
    {
     "name": "stdout",
     "output_type": "stream",
     "text": [
      "Epoch [6/20]: Average Loss: 0.0033\n",
      "Epoch [6/20]: Train combinedset accuracy: 99.97%\n",
      "Epoch [6/20]: Test: testset accuracy: 93.75%\n"
     ]
    },
    {
     "name": "stderr",
     "output_type": "stream",
     "text": [
      "Epoch [7/20]: 100%|██████████| 782/782 [01:39<00:00,  7.89batch/s, loss=0.00132] \n",
      "Evaluation: 100%|██████████| 782/782 [00:46<00:00, 16.98batch/s]\n",
      "Evaluation: 100%|██████████| 79/79 [00:04<00:00, 16.26batch/s]\n"
     ]
    },
    {
     "name": "stdout",
     "output_type": "stream",
     "text": [
      "Epoch [7/20]: Average Loss: 0.0029\n",
      "Epoch [7/20]: Train combinedset accuracy: 99.99%\n",
      "Epoch [7/20]: Test: testset accuracy: 93.85%\n"
     ]
    },
    {
     "name": "stderr",
     "output_type": "stream",
     "text": [
      "Epoch [8/20]: 100%|██████████| 782/782 [01:39<00:00,  7.90batch/s, loss=0.00989] \n",
      "Evaluation: 100%|██████████| 782/782 [00:46<00:00, 16.98batch/s]\n",
      "Evaluation: 100%|██████████| 79/79 [00:04<00:00, 16.15batch/s]\n"
     ]
    },
    {
     "name": "stdout",
     "output_type": "stream",
     "text": [
      "Epoch [8/20]: Average Loss: 0.0029\n",
      "Epoch [8/20]: Train combinedset accuracy: 99.99%\n",
      "Epoch [8/20]: Test: testset accuracy: 93.71%\n"
     ]
    },
    {
     "name": "stderr",
     "output_type": "stream",
     "text": [
      "Epoch [9/20]: 100%|██████████| 782/782 [01:39<00:00,  7.89batch/s, loss=0.0604]  \n",
      "Evaluation: 100%|██████████| 782/782 [00:46<00:00, 16.99batch/s]\n",
      "Evaluation: 100%|██████████| 79/79 [00:04<00:00, 16.15batch/s]\n"
     ]
    },
    {
     "name": "stdout",
     "output_type": "stream",
     "text": [
      "Epoch [9/20]: Average Loss: 0.0028\n",
      "Epoch [9/20]: Train combinedset accuracy: 99.99%\n",
      "Epoch [9/20]: Test: testset accuracy: 93.83%\n"
     ]
    },
    {
     "name": "stderr",
     "output_type": "stream",
     "text": [
      "Epoch [10/20]: 100%|██████████| 782/782 [01:39<00:00,  7.90batch/s, loss=0.00149] \n",
      "Evaluation: 100%|██████████| 782/782 [00:46<00:00, 16.96batch/s]\n",
      "Evaluation: 100%|██████████| 79/79 [00:04<00:00, 16.21batch/s]\n"
     ]
    },
    {
     "name": "stdout",
     "output_type": "stream",
     "text": [
      "Epoch [10/20]: Average Loss: 0.0026\n",
      "Epoch [10/20]: Train combinedset accuracy: 99.99%\n",
      "Epoch [10/20]: Test: testset accuracy: 93.98%\n"
     ]
    },
    {
     "name": "stderr",
     "output_type": "stream",
     "text": [
      "Epoch [11/20]: 100%|██████████| 782/782 [01:39<00:00,  7.89batch/s, loss=0.00148] \n",
      "Evaluation: 100%|██████████| 782/782 [00:46<00:00, 16.97batch/s]\n",
      "Evaluation: 100%|██████████| 79/79 [00:04<00:00, 16.10batch/s]\n"
     ]
    },
    {
     "name": "stdout",
     "output_type": "stream",
     "text": [
      "Epoch [11/20]: Average Loss: 0.0023\n",
      "Epoch [11/20]: Train combinedset accuracy: 100.00%\n",
      "Epoch [11/20]: Test: testset accuracy: 94.00%\n"
     ]
    },
    {
     "name": "stderr",
     "output_type": "stream",
     "text": [
      "Epoch [12/20]: 100%|██████████| 782/782 [01:39<00:00,  7.90batch/s, loss=0.00206] \n",
      "Evaluation: 100%|██████████| 782/782 [00:46<00:00, 16.98batch/s]\n",
      "Evaluation: 100%|██████████| 79/79 [00:04<00:00, 16.21batch/s]\n"
     ]
    },
    {
     "name": "stdout",
     "output_type": "stream",
     "text": [
      "Epoch [12/20]: Average Loss: 0.0022\n",
      "Epoch [12/20]: Train combinedset accuracy: 99.99%\n",
      "Epoch [12/20]: Test: testset accuracy: 93.94%\n"
     ]
    },
    {
     "name": "stderr",
     "output_type": "stream",
     "text": [
      "Epoch [13/20]: 100%|██████████| 782/782 [01:39<00:00,  7.89batch/s, loss=0.00286] \n",
      "Evaluation: 100%|██████████| 782/782 [00:46<00:00, 16.97batch/s]\n",
      "Evaluation: 100%|██████████| 79/79 [00:04<00:00, 16.20batch/s]\n"
     ]
    },
    {
     "name": "stdout",
     "output_type": "stream",
     "text": [
      "Epoch [13/20]: Average Loss: 0.0021\n",
      "Epoch [13/20]: Train combinedset accuracy: 99.99%\n",
      "Epoch [13/20]: Test: testset accuracy: 94.07%\n"
     ]
    },
    {
     "name": "stderr",
     "output_type": "stream",
     "text": [
      "Epoch [14/20]: 100%|██████████| 782/782 [01:39<00:00,  7.89batch/s, loss=0.0163]  \n",
      "Evaluation: 100%|██████████| 782/782 [00:46<00:00, 17.00batch/s]\n",
      "Evaluation: 100%|██████████| 79/79 [00:04<00:00, 16.21batch/s]\n"
     ]
    },
    {
     "name": "stdout",
     "output_type": "stream",
     "text": [
      "Epoch [14/20]: Average Loss: 0.0021\n",
      "Epoch [14/20]: Train combinedset accuracy: 100.00%\n",
      "Epoch [14/20]: Test: testset accuracy: 93.96%\n"
     ]
    },
    {
     "name": "stderr",
     "output_type": "stream",
     "text": [
      "Epoch [15/20]: 100%|██████████| 782/782 [01:39<00:00,  7.90batch/s, loss=0.00384] \n",
      "Evaluation: 100%|██████████| 782/782 [00:46<00:00, 16.98batch/s]\n",
      "Evaluation: 100%|██████████| 79/79 [00:04<00:00, 16.20batch/s]\n"
     ]
    },
    {
     "name": "stdout",
     "output_type": "stream",
     "text": [
      "Epoch [15/20]: Average Loss: 0.0021\n",
      "Epoch [15/20]: Train combinedset accuracy: 100.00%\n",
      "Epoch [15/20]: Test: testset accuracy: 94.06%\n"
     ]
    },
    {
     "name": "stderr",
     "output_type": "stream",
     "text": [
      "Epoch [16/20]: 100%|██████████| 782/782 [01:39<00:00,  7.90batch/s, loss=0.00375] \n",
      "Evaluation: 100%|██████████| 782/782 [00:46<00:00, 16.97batch/s]\n",
      "Evaluation: 100%|██████████| 79/79 [00:04<00:00, 16.21batch/s]\n"
     ]
    },
    {
     "name": "stdout",
     "output_type": "stream",
     "text": [
      "Epoch [16/20]: Average Loss: 0.0020\n",
      "Epoch [16/20]: Train combinedset accuracy: 99.99%\n",
      "Epoch [16/20]: Test: testset accuracy: 94.09%\n"
     ]
    },
    {
     "name": "stderr",
     "output_type": "stream",
     "text": [
      "Epoch [17/20]: 100%|██████████| 782/782 [01:39<00:00,  7.89batch/s, loss=0.0312]  \n",
      "Evaluation: 100%|██████████| 782/782 [00:46<00:00, 16.99batch/s]\n",
      "Evaluation: 100%|██████████| 79/79 [00:04<00:00, 16.10batch/s]\n"
     ]
    },
    {
     "name": "stdout",
     "output_type": "stream",
     "text": [
      "Epoch [17/20]: Average Loss: 0.0020\n",
      "Epoch [17/20]: Train combinedset accuracy: 99.99%\n",
      "Epoch [17/20]: Test: testset accuracy: 94.12%\n"
     ]
    },
    {
     "name": "stderr",
     "output_type": "stream",
     "text": [
      "Epoch [18/20]: 100%|██████████| 782/782 [01:39<00:00,  7.89batch/s, loss=0.00359] \n",
      "Evaluation: 100%|██████████| 782/782 [00:46<00:00, 16.97batch/s]\n",
      "Evaluation: 100%|██████████| 79/79 [00:04<00:00, 16.26batch/s]\n"
     ]
    },
    {
     "name": "stdout",
     "output_type": "stream",
     "text": [
      "Epoch [18/20]: Average Loss: 0.0020\n",
      "Epoch [18/20]: Train combinedset accuracy: 100.00%\n",
      "Epoch [18/20]: Test: testset accuracy: 94.07%\n"
     ]
    },
    {
     "name": "stderr",
     "output_type": "stream",
     "text": [
      "Epoch [19/20]: 100%|██████████| 782/782 [01:39<00:00,  7.88batch/s, loss=0.0082]  \n",
      "Evaluation: 100%|██████████| 782/782 [00:46<00:00, 16.97batch/s]\n",
      "Evaluation: 100%|██████████| 79/79 [00:04<00:00, 16.10batch/s]\n"
     ]
    },
    {
     "name": "stdout",
     "output_type": "stream",
     "text": [
      "Epoch [19/20]: Average Loss: 0.0019\n",
      "Epoch [19/20]: Train combinedset accuracy: 100.00%\n",
      "Epoch [19/20]: Test: testset accuracy: 93.97%\n"
     ]
    },
    {
     "name": "stderr",
     "output_type": "stream",
     "text": [
      "Epoch [20/20]: 100%|██████████| 782/782 [01:39<00:00,  7.89batch/s, loss=0.00225] \n",
      "Evaluation: 100%|██████████| 782/782 [00:46<00:00, 16.97batch/s]\n",
      "Evaluation: 100%|██████████| 79/79 [00:04<00:00, 16.15batch/s]\n"
     ]
    },
    {
     "name": "stdout",
     "output_type": "stream",
     "text": [
      "Epoch [20/20]: Average Loss: 0.0018\n",
      "Epoch [20/20]: Train combinedset accuracy: 99.99%\n",
      "Epoch [20/20]: Test: testset accuracy: 93.99%\n"
     ]
    },
    {
     "name": "stderr",
     "output_type": "stream",
     "text": [
      "Generating Adversarial Dataset: 100%|██████████| 79/79 [00:56<00:00,  1.40it/s]\n",
      "Evaluation: 100%|██████████| 79/79 [00:02<00:00, 27.04batch/s]\n",
      "Evaluation: 100%|██████████| 79/79 [00:04<00:00, 16.15batch/s]\n",
      "Evaluation: 100%|██████████| 782/782 [00:46<00:00, 16.98batch/s]\n",
      "Evaluation: 100%|██████████| 79/79 [00:02<00:00, 27.04batch/s]"
     ]
    },
    {
     "name": "stdout",
     "output_type": "stream",
     "text": [
      "Test: attack testset accuracy: 67.45%\n",
      "Test: testset accuracy: 93.99%\n",
      "Train: combinedset accuracy: 99.99%\n",
      "Test: oneshot attack testset accuracy: 0.82%\n",
      "#### Iteration: 3 ####\n"
     ]
    },
    {
     "name": "stderr",
     "output_type": "stream",
     "text": [
      "\n",
      "Generating Adversarial Dataset: 100%|██████████| 391/391 [04:50<00:00,  1.35it/s]\n",
      "Epoch [1/20]: 100%|██████████| 782/782 [01:39<00:00,  7.88batch/s, loss=5.36]\n",
      "Evaluation: 100%|██████████| 782/782 [00:46<00:00, 16.99batch/s]\n",
      "Evaluation: 100%|██████████| 79/79 [00:04<00:00, 16.15batch/s]\n"
     ]
    },
    {
     "name": "stdout",
     "output_type": "stream",
     "text": [
      "Epoch [1/20]: Average Loss: 4.9424\n",
      "Epoch [1/20]: Train combinedset accuracy: 51.06%\n",
      "Epoch [1/20]: Test: testset accuracy: 93.97%\n"
     ]
    },
    {
     "name": "stderr",
     "output_type": "stream",
     "text": [
      "Epoch [2/20]: 100%|██████████| 782/782 [01:39<00:00,  7.89batch/s, loss=1.2]  \n",
      "Evaluation: 100%|██████████| 782/782 [00:46<00:00, 17.00batch/s]\n",
      "Evaluation: 100%|██████████| 79/79 [00:04<00:00, 16.15batch/s]\n"
     ]
    },
    {
     "name": "stdout",
     "output_type": "stream",
     "text": [
      "Epoch [2/20]: Average Loss: 2.9290\n",
      "Epoch [2/20]: Train combinedset accuracy: 79.40%\n",
      "Epoch [2/20]: Test: testset accuracy: 91.24%\n"
     ]
    },
    {
     "name": "stderr",
     "output_type": "stream",
     "text": [
      "Epoch [3/20]: 100%|██████████| 782/782 [01:39<00:00,  7.90batch/s, loss=0.422]\n",
      "Evaluation: 100%|██████████| 782/782 [00:46<00:00, 16.98batch/s]\n",
      "Evaluation: 100%|██████████| 79/79 [00:04<00:00, 16.20batch/s]\n"
     ]
    },
    {
     "name": "stdout",
     "output_type": "stream",
     "text": [
      "Epoch [3/20]: Average Loss: 0.4776\n",
      "Epoch [3/20]: Train combinedset accuracy: 89.97%\n",
      "Epoch [3/20]: Test: testset accuracy: 90.05%\n"
     ]
    },
    {
     "name": "stderr",
     "output_type": "stream",
     "text": [
      "Epoch [4/20]: 100%|██████████| 782/782 [01:39<00:00,  7.89batch/s, loss=0.127] \n",
      "Evaluation: 100%|██████████| 782/782 [00:46<00:00, 16.98batch/s]\n",
      "Evaluation: 100%|██████████| 79/79 [00:04<00:00, 16.05batch/s]\n"
     ]
    },
    {
     "name": "stdout",
     "output_type": "stream",
     "text": [
      "Epoch [4/20]: Average Loss: 0.2802\n",
      "Epoch [4/20]: Train combinedset accuracy: 92.67%\n",
      "Epoch [4/20]: Test: testset accuracy: 90.04%\n"
     ]
    },
    {
     "name": "stderr",
     "output_type": "stream",
     "text": [
      "Epoch [5/20]: 100%|██████████| 782/782 [01:39<00:00,  7.89batch/s, loss=0.0624]\n",
      "Evaluation: 100%|██████████| 782/782 [00:46<00:00, 16.95batch/s]\n",
      "Evaluation: 100%|██████████| 79/79 [00:04<00:00, 16.10batch/s]\n"
     ]
    },
    {
     "name": "stdout",
     "output_type": "stream",
     "text": [
      "Epoch [5/20]: Average Loss: 0.2010\n",
      "Epoch [5/20]: Train combinedset accuracy: 95.08%\n",
      "Epoch [5/20]: Test: testset accuracy: 90.60%\n"
     ]
    },
    {
     "name": "stderr",
     "output_type": "stream",
     "text": [
      "Epoch [6/20]: 100%|██████████| 782/782 [01:39<00:00,  7.90batch/s, loss=0.107] \n",
      "Evaluation: 100%|██████████| 782/782 [00:46<00:00, 16.97batch/s]\n",
      "Evaluation: 100%|██████████| 79/79 [00:04<00:00, 16.21batch/s]\n"
     ]
    },
    {
     "name": "stdout",
     "output_type": "stream",
     "text": [
      "Epoch [6/20]: Average Loss: 0.1334\n",
      "Epoch [6/20]: Train combinedset accuracy: 97.64%\n",
      "Epoch [6/20]: Test: testset accuracy: 91.21%\n"
     ]
    },
    {
     "name": "stderr",
     "output_type": "stream",
     "text": [
      "Epoch [7/20]: 100%|██████████| 782/782 [01:39<00:00,  7.90batch/s, loss=0.0442] \n",
      "Evaluation: 100%|██████████| 782/782 [00:46<00:00, 16.95batch/s]\n",
      "Evaluation: 100%|██████████| 79/79 [00:04<00:00, 16.15batch/s]\n"
     ]
    },
    {
     "name": "stdout",
     "output_type": "stream",
     "text": [
      "Epoch [7/20]: Average Loss: 0.0639\n",
      "Epoch [7/20]: Train combinedset accuracy: 99.39%\n",
      "Epoch [7/20]: Test: testset accuracy: 92.02%\n"
     ]
    },
    {
     "name": "stderr",
     "output_type": "stream",
     "text": [
      "Epoch [8/20]: 100%|██████████| 782/782 [01:39<00:00,  7.89batch/s, loss=0.0138] \n",
      "Evaluation: 100%|██████████| 782/782 [00:46<00:00, 16.95batch/s]\n",
      "Evaluation: 100%|██████████| 79/79 [00:04<00:00, 16.15batch/s]\n"
     ]
    },
    {
     "name": "stdout",
     "output_type": "stream",
     "text": [
      "Epoch [8/20]: Average Loss: 0.0243\n",
      "Epoch [8/20]: Train combinedset accuracy: 99.85%\n",
      "Epoch [8/20]: Test: testset accuracy: 92.55%\n"
     ]
    },
    {
     "name": "stderr",
     "output_type": "stream",
     "text": [
      "Epoch [9/20]: 100%|██████████| 782/782 [01:39<00:00,  7.90batch/s, loss=0.0141] \n",
      "Evaluation: 100%|██████████| 782/782 [00:46<00:00, 16.96batch/s]\n",
      "Evaluation: 100%|██████████| 79/79 [00:04<00:00, 16.21batch/s]\n"
     ]
    },
    {
     "name": "stdout",
     "output_type": "stream",
     "text": [
      "Epoch [9/20]: Average Loss: 0.0119\n",
      "Epoch [9/20]: Train combinedset accuracy: 99.92%\n",
      "Epoch [9/20]: Test: testset accuracy: 92.83%\n"
     ]
    },
    {
     "name": "stderr",
     "output_type": "stream",
     "text": [
      "Epoch [10/20]: 100%|██████████| 782/782 [01:39<00:00,  7.89batch/s, loss=0.148]  \n",
      "Evaluation: 100%|██████████| 782/782 [00:46<00:00, 16.97batch/s]\n",
      "Evaluation: 100%|██████████| 79/79 [00:04<00:00, 16.21batch/s]\n"
     ]
    },
    {
     "name": "stdout",
     "output_type": "stream",
     "text": [
      "Epoch [10/20]: Average Loss: 0.0084\n",
      "Epoch [10/20]: Train combinedset accuracy: 99.94%\n",
      "Epoch [10/20]: Test: testset accuracy: 93.09%\n"
     ]
    },
    {
     "name": "stderr",
     "output_type": "stream",
     "text": [
      "Epoch [11/20]: 100%|██████████| 782/782 [01:39<00:00,  7.89batch/s, loss=0.0108] \n",
      "Evaluation: 100%|██████████| 782/782 [00:46<00:00, 16.96batch/s]\n",
      "Evaluation: 100%|██████████| 79/79 [00:04<00:00, 16.15batch/s]\n"
     ]
    },
    {
     "name": "stdout",
     "output_type": "stream",
     "text": [
      "Epoch [11/20]: Average Loss: 0.0063\n",
      "Epoch [11/20]: Train combinedset accuracy: 99.96%\n",
      "Epoch [11/20]: Test: testset accuracy: 93.28%\n"
     ]
    },
    {
     "name": "stderr",
     "output_type": "stream",
     "text": [
      "Epoch [12/20]: 100%|██████████| 782/782 [01:39<00:00,  7.89batch/s, loss=0.00493]\n",
      "Evaluation: 100%|██████████| 782/782 [00:46<00:00, 16.96batch/s]\n",
      "Evaluation: 100%|██████████| 79/79 [00:04<00:00, 16.10batch/s]\n"
     ]
    },
    {
     "name": "stdout",
     "output_type": "stream",
     "text": [
      "Epoch [12/20]: Average Loss: 0.0051\n",
      "Epoch [12/20]: Train combinedset accuracy: 99.97%\n",
      "Epoch [12/20]: Test: testset accuracy: 93.29%\n"
     ]
    },
    {
     "name": "stderr",
     "output_type": "stream",
     "text": [
      "Epoch [13/20]: 100%|██████████| 782/782 [01:39<00:00,  7.90batch/s, loss=0.00279]\n",
      "Evaluation: 100%|██████████| 782/782 [00:46<00:00, 16.95batch/s]\n",
      "Evaluation: 100%|██████████| 79/79 [00:04<00:00, 16.15batch/s]\n"
     ]
    },
    {
     "name": "stdout",
     "output_type": "stream",
     "text": [
      "Epoch [13/20]: Average Loss: 0.0043\n",
      "Epoch [13/20]: Train combinedset accuracy: 99.97%\n",
      "Epoch [13/20]: Test: testset accuracy: 93.48%\n"
     ]
    },
    {
     "name": "stderr",
     "output_type": "stream",
     "text": [
      "Epoch [14/20]: 100%|██████████| 782/782 [01:39<00:00,  7.89batch/s, loss=0.00885] \n",
      "Evaluation: 100%|██████████| 782/782 [00:46<00:00, 16.95batch/s]\n",
      "Evaluation: 100%|██████████| 79/79 [00:04<00:00, 16.21batch/s]\n"
     ]
    },
    {
     "name": "stdout",
     "output_type": "stream",
     "text": [
      "Epoch [14/20]: Average Loss: 0.0039\n",
      "Epoch [14/20]: Train combinedset accuracy: 99.98%\n",
      "Epoch [14/20]: Test: testset accuracy: 93.57%\n"
     ]
    },
    {
     "name": "stderr",
     "output_type": "stream",
     "text": [
      "Epoch [15/20]: 100%|██████████| 782/782 [01:39<00:00,  7.89batch/s, loss=0.00638] \n",
      "Evaluation: 100%|██████████| 782/782 [00:46<00:00, 16.96batch/s]\n",
      "Evaluation: 100%|██████████| 79/79 [00:04<00:00, 16.05batch/s]\n"
     ]
    },
    {
     "name": "stdout",
     "output_type": "stream",
     "text": [
      "Epoch [15/20]: Average Loss: 0.0035\n",
      "Epoch [15/20]: Train combinedset accuracy: 99.97%\n",
      "Epoch [15/20]: Test: testset accuracy: 93.73%\n"
     ]
    },
    {
     "name": "stderr",
     "output_type": "stream",
     "text": [
      "Epoch [16/20]: 100%|██████████| 782/782 [01:39<00:00,  7.89batch/s, loss=0.0375]  \n",
      "Evaluation: 100%|██████████| 782/782 [00:46<00:00, 16.95batch/s]\n",
      "Evaluation: 100%|██████████| 79/79 [00:04<00:00, 16.10batch/s]\n"
     ]
    },
    {
     "name": "stdout",
     "output_type": "stream",
     "text": [
      "Epoch [16/20]: Average Loss: 0.0034\n",
      "Epoch [16/20]: Train combinedset accuracy: 99.99%\n",
      "Epoch [16/20]: Test: testset accuracy: 93.59%\n"
     ]
    },
    {
     "name": "stderr",
     "output_type": "stream",
     "text": [
      "Epoch [17/20]: 100%|██████████| 782/782 [01:39<00:00,  7.90batch/s, loss=0.00279] \n",
      "Evaluation: 100%|██████████| 782/782 [00:46<00:00, 16.94batch/s]\n",
      "Evaluation: 100%|██████████| 79/79 [00:04<00:00, 16.10batch/s]\n"
     ]
    },
    {
     "name": "stdout",
     "output_type": "stream",
     "text": [
      "Epoch [17/20]: Average Loss: 0.0033\n",
      "Epoch [17/20]: Train combinedset accuracy: 99.99%\n",
      "Epoch [17/20]: Test: testset accuracy: 93.71%\n"
     ]
    },
    {
     "name": "stderr",
     "output_type": "stream",
     "text": [
      "Epoch [18/20]: 100%|██████████| 782/782 [01:39<00:00,  7.89batch/s, loss=0.0068]  \n",
      "Evaluation: 100%|██████████| 782/782 [00:46<00:00, 16.95batch/s]\n",
      "Evaluation: 100%|██████████| 79/79 [00:04<00:00, 16.10batch/s]\n"
     ]
    },
    {
     "name": "stdout",
     "output_type": "stream",
     "text": [
      "Epoch [18/20]: Average Loss: 0.0032\n",
      "Epoch [18/20]: Train combinedset accuracy: 99.99%\n",
      "Epoch [18/20]: Test: testset accuracy: 93.81%\n"
     ]
    },
    {
     "name": "stderr",
     "output_type": "stream",
     "text": [
      "Epoch [19/20]: 100%|██████████| 782/782 [01:39<00:00,  7.89batch/s, loss=0.00504] \n",
      "Evaluation: 100%|██████████| 782/782 [00:46<00:00, 16.96batch/s]\n",
      "Evaluation: 100%|██████████| 79/79 [00:04<00:00, 16.21batch/s]\n"
     ]
    },
    {
     "name": "stdout",
     "output_type": "stream",
     "text": [
      "Epoch [19/20]: Average Loss: 0.0026\n",
      "Epoch [19/20]: Train combinedset accuracy: 99.99%\n",
      "Epoch [19/20]: Test: testset accuracy: 93.78%\n"
     ]
    },
    {
     "name": "stderr",
     "output_type": "stream",
     "text": [
      "Epoch [20/20]: 100%|██████████| 782/782 [01:39<00:00,  7.88batch/s, loss=0.00357] \n",
      "Evaluation: 100%|██████████| 782/782 [00:46<00:00, 16.99batch/s]\n",
      "Evaluation: 100%|██████████| 79/79 [00:04<00:00, 16.21batch/s]\n"
     ]
    },
    {
     "name": "stdout",
     "output_type": "stream",
     "text": [
      "Epoch [20/20]: Average Loss: 0.0027\n",
      "Epoch [20/20]: Train combinedset accuracy: 100.00%\n",
      "Epoch [20/20]: Test: testset accuracy: 93.96%\n"
     ]
    },
    {
     "name": "stderr",
     "output_type": "stream",
     "text": [
      "Generating Adversarial Dataset: 100%|██████████| 79/79 [00:56<00:00,  1.40it/s]\n",
      "Evaluation: 100%|██████████| 79/79 [00:02<00:00, 27.04batch/s]\n",
      "Evaluation: 100%|██████████| 79/79 [00:04<00:00, 16.21batch/s]\n",
      "Evaluation: 100%|██████████| 782/782 [00:46<00:00, 16.97batch/s]\n",
      "Evaluation: 100%|██████████| 79/79 [00:02<00:00, 27.18batch/s]"
     ]
    },
    {
     "name": "stdout",
     "output_type": "stream",
     "text": [
      "Test: attack testset accuracy: 57.64%\n",
      "Test: testset accuracy: 93.96%\n",
      "Train: combinedset accuracy: 99.99%\n",
      "Test: oneshot attack testset accuracy: 0.24%\n",
      "#### Iteration: 4 ####\n"
     ]
    },
    {
     "name": "stderr",
     "output_type": "stream",
     "text": [
      "\n",
      "Generating Adversarial Dataset: 100%|██████████| 391/391 [04:50<00:00,  1.35it/s]\n",
      "Epoch [1/20]: 100%|██████████| 782/782 [01:39<00:00,  7.89batch/s, loss=0.0761] \n",
      "Evaluation: 100%|██████████| 782/782 [00:46<00:00, 16.96batch/s]\n",
      "Evaluation: 100%|██████████| 79/79 [00:04<00:00, 16.10batch/s]\n"
     ]
    },
    {
     "name": "stdout",
     "output_type": "stream",
     "text": [
      "Epoch [1/20]: Average Loss: 0.0748\n",
      "Epoch [1/20]: Train combinedset accuracy: 99.96%\n",
      "Epoch [1/20]: Test: testset accuracy: 93.71%\n"
     ]
    },
    {
     "name": "stderr",
     "output_type": "stream",
     "text": [
      "Epoch [2/20]: 100%|██████████| 782/782 [01:39<00:00,  7.90batch/s, loss=0.105]  \n",
      "Evaluation: 100%|██████████| 782/782 [00:46<00:00, 16.97batch/s]\n",
      "Evaluation: 100%|██████████| 79/79 [00:04<00:00, 16.10batch/s]\n"
     ]
    },
    {
     "name": "stdout",
     "output_type": "stream",
     "text": [
      "Epoch [2/20]: Average Loss: 0.0051\n",
      "Epoch [2/20]: Train combinedset accuracy: 99.99%\n",
      "Epoch [2/20]: Test: testset accuracy: 93.72%\n"
     ]
    },
    {
     "name": "stderr",
     "output_type": "stream",
     "text": [
      "Epoch [3/20]: 100%|██████████| 782/782 [01:39<00:00,  7.89batch/s, loss=0.00446] \n",
      "Evaluation: 100%|██████████| 782/782 [00:46<00:00, 16.99batch/s]\n",
      "Evaluation: 100%|██████████| 79/79 [00:04<00:00, 16.21batch/s]\n"
     ]
    },
    {
     "name": "stdout",
     "output_type": "stream",
     "text": [
      "Epoch [3/20]: Average Loss: 0.0036\n",
      "Epoch [3/20]: Train combinedset accuracy: 99.98%\n",
      "Epoch [3/20]: Test: testset accuracy: 93.95%\n"
     ]
    },
    {
     "name": "stderr",
     "output_type": "stream",
     "text": [
      "Epoch [4/20]: 100%|██████████| 782/782 [01:39<00:00,  7.89batch/s, loss=0.00242] \n",
      "Evaluation: 100%|██████████| 782/782 [00:46<00:00, 16.99batch/s]\n",
      "Evaluation: 100%|██████████| 79/79 [00:04<00:00, 16.21batch/s]\n"
     ]
    },
    {
     "name": "stdout",
     "output_type": "stream",
     "text": [
      "Epoch [4/20]: Average Loss: 0.0029\n",
      "Epoch [4/20]: Train combinedset accuracy: 99.99%\n",
      "Epoch [4/20]: Test: testset accuracy: 93.97%\n"
     ]
    },
    {
     "name": "stderr",
     "output_type": "stream",
     "text": [
      "Epoch [5/20]: 100%|██████████| 782/782 [01:39<00:00,  7.89batch/s, loss=0.0182]  \n",
      "Evaluation: 100%|██████████| 782/782 [00:46<00:00, 16.95batch/s]\n",
      "Evaluation: 100%|██████████| 79/79 [00:04<00:00, 16.10batch/s]\n"
     ]
    },
    {
     "name": "stdout",
     "output_type": "stream",
     "text": [
      "Epoch [5/20]: Average Loss: 0.0024\n",
      "Epoch [5/20]: Train combinedset accuracy: 99.99%\n",
      "Epoch [5/20]: Test: testset accuracy: 93.97%\n"
     ]
    },
    {
     "name": "stderr",
     "output_type": "stream",
     "text": [
      "Epoch [6/20]: 100%|██████████| 782/782 [01:39<00:00,  7.89batch/s, loss=0.00294] \n",
      "Evaluation: 100%|██████████| 782/782 [00:46<00:00, 16.97batch/s]\n",
      "Evaluation: 100%|██████████| 79/79 [00:04<00:00, 16.21batch/s]\n"
     ]
    },
    {
     "name": "stdout",
     "output_type": "stream",
     "text": [
      "Epoch [6/20]: Average Loss: 0.0021\n",
      "Epoch [6/20]: Train combinedset accuracy: 100.00%\n",
      "Epoch [6/20]: Test: testset accuracy: 94.20%\n"
     ]
    },
    {
     "name": "stderr",
     "output_type": "stream",
     "text": [
      "Epoch [7/20]: 100%|██████████| 782/782 [01:39<00:00,  7.89batch/s, loss=0.00956] \n",
      "Evaluation: 100%|██████████| 782/782 [00:46<00:00, 16.98batch/s]\n",
      "Evaluation: 100%|██████████| 79/79 [00:04<00:00, 16.10batch/s]\n"
     ]
    },
    {
     "name": "stdout",
     "output_type": "stream",
     "text": [
      "Epoch [7/20]: Average Loss: 0.0021\n",
      "Epoch [7/20]: Train combinedset accuracy: 99.99%\n",
      "Epoch [7/20]: Test: testset accuracy: 94.14%\n"
     ]
    },
    {
     "name": "stderr",
     "output_type": "stream",
     "text": [
      "Epoch [8/20]: 100%|██████████| 782/782 [01:39<00:00,  7.90batch/s, loss=0.00297] \n",
      "Evaluation: 100%|██████████| 782/782 [00:46<00:00, 16.97batch/s]\n",
      "Evaluation: 100%|██████████| 79/79 [00:04<00:00, 16.15batch/s]\n"
     ]
    },
    {
     "name": "stdout",
     "output_type": "stream",
     "text": [
      "Epoch [8/20]: Average Loss: 0.0020\n",
      "Epoch [8/20]: Train combinedset accuracy: 100.00%\n",
      "Epoch [8/20]: Test: testset accuracy: 94.25%\n"
     ]
    },
    {
     "name": "stderr",
     "output_type": "stream",
     "text": [
      "Epoch [9/20]: 100%|██████████| 782/782 [01:39<00:00,  7.89batch/s, loss=0.00661] \n",
      "Evaluation: 100%|██████████| 782/782 [00:46<00:00, 16.99batch/s]\n",
      "Evaluation: 100%|██████████| 79/79 [00:04<00:00, 16.15batch/s]\n"
     ]
    },
    {
     "name": "stdout",
     "output_type": "stream",
     "text": [
      "Epoch [9/20]: Average Loss: 0.0020\n",
      "Epoch [9/20]: Train combinedset accuracy: 99.99%\n",
      "Epoch [9/20]: Test: testset accuracy: 94.16%\n"
     ]
    },
    {
     "name": "stderr",
     "output_type": "stream",
     "text": [
      "Epoch [10/20]: 100%|██████████| 782/782 [01:39<00:00,  7.89batch/s, loss=0.005]   \n",
      "Evaluation: 100%|██████████| 782/782 [00:46<00:00, 16.98batch/s]\n",
      "Evaluation: 100%|██████████| 79/79 [00:04<00:00, 16.21batch/s]\n"
     ]
    },
    {
     "name": "stdout",
     "output_type": "stream",
     "text": [
      "Epoch [10/20]: Average Loss: 0.0018\n",
      "Epoch [10/20]: Train combinedset accuracy: 99.99%\n",
      "Epoch [10/20]: Test: testset accuracy: 94.27%\n"
     ]
    },
    {
     "name": "stderr",
     "output_type": "stream",
     "text": [
      "Epoch [11/20]: 100%|██████████| 782/782 [01:39<00:00,  7.89batch/s, loss=0.02]    \n",
      "Evaluation: 100%|██████████| 782/782 [00:46<00:00, 16.98batch/s]\n",
      "Evaluation: 100%|██████████| 79/79 [00:04<00:00, 16.10batch/s]\n"
     ]
    },
    {
     "name": "stdout",
     "output_type": "stream",
     "text": [
      "Epoch [11/20]: Average Loss: 0.0019\n",
      "Epoch [11/20]: Train combinedset accuracy: 100.00%\n",
      "Epoch [11/20]: Test: testset accuracy: 94.17%\n"
     ]
    },
    {
     "name": "stderr",
     "output_type": "stream",
     "text": [
      "Epoch [12/20]: 100%|██████████| 782/782 [01:39<00:00,  7.89batch/s, loss=0.00145] \n",
      "Evaluation: 100%|██████████| 782/782 [00:46<00:00, 16.98batch/s]\n",
      "Evaluation: 100%|██████████| 79/79 [00:04<00:00, 16.21batch/s]\n"
     ]
    },
    {
     "name": "stdout",
     "output_type": "stream",
     "text": [
      "Epoch [12/20]: Average Loss: 0.0017\n",
      "Epoch [12/20]: Train combinedset accuracy: 100.00%\n",
      "Epoch [12/20]: Test: testset accuracy: 94.26%\n"
     ]
    },
    {
     "name": "stderr",
     "output_type": "stream",
     "text": [
      "Epoch [13/20]: 100%|██████████| 782/782 [01:39<00:00,  7.89batch/s, loss=0.00781] \n",
      "Evaluation: 100%|██████████| 782/782 [00:46<00:00, 16.98batch/s]\n",
      "Evaluation: 100%|██████████| 79/79 [00:04<00:00, 16.21batch/s]\n"
     ]
    },
    {
     "name": "stdout",
     "output_type": "stream",
     "text": [
      "Epoch [13/20]: Average Loss: 0.0016\n",
      "Epoch [13/20]: Train combinedset accuracy: 100.00%\n",
      "Epoch [13/20]: Test: testset accuracy: 94.28%\n"
     ]
    },
    {
     "name": "stderr",
     "output_type": "stream",
     "text": [
      "Epoch [14/20]: 100%|██████████| 782/782 [01:39<00:00,  7.86batch/s, loss=0.00296] \n",
      "Evaluation: 100%|██████████| 782/782 [00:48<00:00, 16.05batch/s]\n",
      "Evaluation: 100%|██████████| 79/79 [00:05<00:00, 14.24batch/s]\n"
     ]
    },
    {
     "name": "stdout",
     "output_type": "stream",
     "text": [
      "Epoch [14/20]: Average Loss: 0.0017\n",
      "Epoch [14/20]: Train combinedset accuracy: 100.00%\n",
      "Epoch [14/20]: Test: testset accuracy: 94.30%\n"
     ]
    },
    {
     "name": "stderr",
     "output_type": "stream",
     "text": [
      "Epoch [15/20]: 100%|██████████| 782/782 [01:46<00:00,  7.31batch/s, loss=0.0151]  \n",
      "Evaluation: 100%|██████████| 782/782 [00:51<00:00, 15.27batch/s]\n",
      "Evaluation: 100%|██████████| 79/79 [00:05<00:00, 13.97batch/s]\n"
     ]
    },
    {
     "name": "stdout",
     "output_type": "stream",
     "text": [
      "Epoch [15/20]: Average Loss: 0.0017\n",
      "Epoch [15/20]: Train combinedset accuracy: 100.00%\n",
      "Epoch [15/20]: Test: testset accuracy: 94.18%\n"
     ]
    },
    {
     "name": "stderr",
     "output_type": "stream",
     "text": [
      "Epoch [16/20]: 100%|██████████| 782/782 [01:45<00:00,  7.43batch/s, loss=0.00135] \n",
      "Evaluation: 100%|██████████| 782/782 [00:48<00:00, 16.09batch/s]\n",
      "Evaluation: 100%|██████████| 79/79 [00:05<00:00, 15.26batch/s]\n"
     ]
    },
    {
     "name": "stdout",
     "output_type": "stream",
     "text": [
      "Epoch [16/20]: Average Loss: 0.0017\n",
      "Epoch [16/20]: Train combinedset accuracy: 100.00%\n",
      "Epoch [16/20]: Test: testset accuracy: 94.27%\n"
     ]
    },
    {
     "name": "stderr",
     "output_type": "stream",
     "text": [
      "Epoch [17/20]: 100%|██████████| 782/782 [01:44<00:00,  7.47batch/s, loss=0.00233] \n",
      "Evaluation: 100%|██████████| 782/782 [00:48<00:00, 16.17batch/s]\n",
      "Evaluation: 100%|██████████| 79/79 [00:05<00:00, 15.15batch/s]\n"
     ]
    },
    {
     "name": "stdout",
     "output_type": "stream",
     "text": [
      "Epoch [17/20]: Average Loss: 0.0016\n",
      "Epoch [17/20]: Train combinedset accuracy: 100.00%\n",
      "Epoch [17/20]: Test: testset accuracy: 94.34%\n"
     ]
    },
    {
     "name": "stderr",
     "output_type": "stream",
     "text": [
      "Epoch [18/20]: 100%|██████████| 782/782 [01:44<00:00,  7.51batch/s, loss=0.00303] \n",
      "Evaluation: 100%|██████████| 782/782 [00:48<00:00, 16.13batch/s]\n",
      "Evaluation: 100%|██████████| 79/79 [00:05<00:00, 15.24batch/s]\n"
     ]
    },
    {
     "name": "stdout",
     "output_type": "stream",
     "text": [
      "Epoch [18/20]: Average Loss: 0.0015\n",
      "Epoch [18/20]: Train combinedset accuracy: 100.00%\n",
      "Epoch [18/20]: Test: testset accuracy: 94.33%\n"
     ]
    },
    {
     "name": "stderr",
     "output_type": "stream",
     "text": [
      "Epoch [19/20]: 100%|██████████| 782/782 [01:42<00:00,  7.63batch/s, loss=0.0075]  \n",
      "Evaluation: 100%|██████████| 782/782 [00:46<00:00, 16.66batch/s]\n",
      "Evaluation: 100%|██████████| 79/79 [00:04<00:00, 15.92batch/s]\n"
     ]
    },
    {
     "name": "stdout",
     "output_type": "stream",
     "text": [
      "Epoch [19/20]: Average Loss: 0.0016\n",
      "Epoch [19/20]: Train combinedset accuracy: 100.00%\n",
      "Epoch [19/20]: Test: testset accuracy: 94.26%\n"
     ]
    },
    {
     "name": "stderr",
     "output_type": "stream",
     "text": [
      "Epoch [20/20]: 100%|██████████| 782/782 [01:52<00:00,  6.95batch/s, loss=0.00131] \n",
      "Evaluation: 100%|██████████| 782/782 [00:53<00:00, 14.56batch/s]\n",
      "Evaluation: 100%|██████████| 79/79 [00:05<00:00, 14.38batch/s]\n"
     ]
    },
    {
     "name": "stdout",
     "output_type": "stream",
     "text": [
      "Epoch [20/20]: Average Loss: 0.0016\n",
      "Epoch [20/20]: Train combinedset accuracy: 100.00%\n",
      "Epoch [20/20]: Test: testset accuracy: 94.30%\n"
     ]
    },
    {
     "name": "stderr",
     "output_type": "stream",
     "text": [
      "Generating Adversarial Dataset: 100%|██████████| 79/79 [01:06<00:00,  1.19it/s]\n",
      "Evaluation: 100%|██████████| 79/79 [00:03<00:00, 22.64batch/s]\n",
      "Evaluation: 100%|██████████| 79/79 [00:05<00:00, 13.50batch/s]\n",
      "Evaluation: 100%|██████████| 782/782 [00:52<00:00, 14.90batch/s]\n",
      "Evaluation: 100%|██████████| 79/79 [00:03<00:00, 23.69batch/s]"
     ]
    },
    {
     "name": "stdout",
     "output_type": "stream",
     "text": [
      "Test: attack testset accuracy: 60.83%\n",
      "Test: testset accuracy: 94.30%\n",
      "Train: combinedset accuracy: 100.00%\n",
      "Test: oneshot attack testset accuracy: 0.73%\n"
     ]
    },
    {
     "name": "stderr",
     "output_type": "stream",
     "text": [
      "\n"
     ]
    }
   ],
   "source": [
    "model = get_pretrainded_model()\n",
    "\n",
    "bim = torchattacks.BIM(model, eps=eps, alpha=0.01, steps=10)\n",
    "bim.set_normalization_used(mean=norm_mean, std=norm_std)\n",
    "\n",
    "bim_results = run_experiment(model, trainloader, testloader, bim)\n",
    "\n",
    "with open(\"bim_results.json\", \"w\") as json_file:\n",
    "    json.dump(bim_results, json_file, indent=4)"
   ]
  },
  {
   "cell_type": "code",
   "execution_count": null,
   "metadata": {},
   "outputs": [
    {
     "name": "stderr",
     "output_type": "stream",
     "text": [
      "Generating Adversarial Dataset: 100%|██████████| 79/79 [04:15<00:00,  3.23s/it]\n",
      "Evaluation: 100%|██████████| 79/79 [00:03<00:00, 23.16batch/s]\n",
      "Evaluation: 100%|██████████| 79/79 [00:05<00:00, 14.07batch/s]"
     ]
    },
    {
     "name": "stdout",
     "output_type": "stream",
     "text": [
      "Test: attack testset accuracy: 0.01%\n",
      "Test: testset accuracy: 94.98%\n",
      "#### Iteration: 0 ####\n"
     ]
    },
    {
     "name": "stderr",
     "output_type": "stream",
     "text": [
      "\n",
      "Generating Adversarial Dataset: 100%|██████████| 391/391 [20:41<00:00,  3.18s/it]\n",
      "Epoch [1/20]: 100%|██████████| 782/782 [01:50<00:00,  7.10batch/s, loss=0.274] \n",
      "Evaluation: 100%|██████████| 782/782 [00:52<00:00, 14.97batch/s]\n",
      "Evaluation: 100%|██████████| 79/79 [00:05<00:00, 14.25batch/s]\n"
     ]
    },
    {
     "name": "stdout",
     "output_type": "stream",
     "text": [
      "Epoch [1/20]: Average Loss: 0.3425\n",
      "Epoch [1/20]: Train combinedset accuracy: 96.07%\n",
      "Epoch [1/20]: Test: testset accuracy: 91.79%\n"
     ]
    },
    {
     "name": "stderr",
     "output_type": "stream",
     "text": [
      "Epoch [2/20]: 100%|██████████| 782/782 [01:50<00:00,  7.10batch/s, loss=0.319] \n",
      "Evaluation: 100%|██████████| 782/782 [00:51<00:00, 15.08batch/s]\n",
      "Evaluation: 100%|██████████| 79/79 [00:05<00:00, 13.79batch/s]\n"
     ]
    },
    {
     "name": "stdout",
     "output_type": "stream",
     "text": [
      "Epoch [2/20]: Average Loss: 0.1262\n",
      "Epoch [2/20]: Train combinedset accuracy: 97.93%\n",
      "Epoch [2/20]: Test: testset accuracy: 91.94%\n"
     ]
    },
    {
     "name": "stderr",
     "output_type": "stream",
     "text": [
      "Epoch [3/20]: 100%|██████████| 782/782 [01:52<00:00,  6.95batch/s, loss=0.0367]\n",
      "Evaluation: 100%|██████████| 782/782 [00:51<00:00, 15.23batch/s]\n",
      "Evaluation: 100%|██████████| 79/79 [00:05<00:00, 14.53batch/s]\n"
     ]
    },
    {
     "name": "stdout",
     "output_type": "stream",
     "text": [
      "Epoch [3/20]: Average Loss: 0.0743\n",
      "Epoch [3/20]: Train combinedset accuracy: 99.00%\n",
      "Epoch [3/20]: Test: testset accuracy: 92.12%\n"
     ]
    },
    {
     "name": "stderr",
     "output_type": "stream",
     "text": [
      "Epoch [4/20]: 100%|██████████| 782/782 [01:54<00:00,  6.81batch/s, loss=0.107] \n",
      "Evaluation: 100%|██████████| 782/782 [00:47<00:00, 16.57batch/s]\n",
      "Evaluation: 100%|██████████| 79/79 [00:04<00:00, 15.87batch/s]\n"
     ]
    },
    {
     "name": "stdout",
     "output_type": "stream",
     "text": [
      "Epoch [4/20]: Average Loss: 0.0480\n",
      "Epoch [4/20]: Train combinedset accuracy: 99.44%\n",
      "Epoch [4/20]: Test: testset accuracy: 92.13%\n"
     ]
    },
    {
     "name": "stderr",
     "output_type": "stream",
     "text": [
      "Epoch [5/20]: 100%|██████████| 782/782 [01:44<00:00,  7.50batch/s, loss=0.0635] \n",
      "Evaluation: 100%|██████████| 782/782 [00:48<00:00, 16.16batch/s]\n",
      "Evaluation: 100%|██████████| 79/79 [00:05<00:00, 15.40batch/s]\n"
     ]
    },
    {
     "name": "stdout",
     "output_type": "stream",
     "text": [
      "Epoch [5/20]: Average Loss: 0.0331\n",
      "Epoch [5/20]: Train combinedset accuracy: 99.62%\n",
      "Epoch [5/20]: Test: testset accuracy: 92.26%\n"
     ]
    },
    {
     "name": "stderr",
     "output_type": "stream",
     "text": [
      "Epoch [6/20]: 100%|██████████| 782/782 [01:43<00:00,  7.53batch/s, loss=0.0774] \n",
      "Evaluation: 100%|██████████| 782/782 [00:48<00:00, 16.18batch/s]\n",
      "Evaluation: 100%|██████████| 79/79 [00:05<00:00, 15.35batch/s]\n"
     ]
    },
    {
     "name": "stdout",
     "output_type": "stream",
     "text": [
      "Epoch [6/20]: Average Loss: 0.0266\n",
      "Epoch [6/20]: Train combinedset accuracy: 99.73%\n",
      "Epoch [6/20]: Test: testset accuracy: 92.37%\n"
     ]
    },
    {
     "name": "stderr",
     "output_type": "stream",
     "text": [
      "Epoch [7/20]: 100%|██████████| 782/782 [01:43<00:00,  7.53batch/s, loss=0.011]  \n",
      "Evaluation: 100%|██████████| 782/782 [00:48<00:00, 16.19batch/s]\n",
      "Evaluation: 100%|██████████| 79/79 [00:05<00:00, 15.40batch/s]\n"
     ]
    },
    {
     "name": "stdout",
     "output_type": "stream",
     "text": [
      "Epoch [7/20]: Average Loss: 0.0205\n",
      "Epoch [7/20]: Train combinedset accuracy: 99.79%\n",
      "Epoch [7/20]: Test: testset accuracy: 92.41%\n"
     ]
    },
    {
     "name": "stderr",
     "output_type": "stream",
     "text": [
      "Epoch [8/20]: 100%|██████████| 782/782 [01:43<00:00,  7.53batch/s, loss=0.00485]\n",
      "Evaluation: 100%|██████████| 782/782 [00:48<00:00, 16.18batch/s]\n",
      "Evaluation: 100%|██████████| 79/79 [00:05<00:00, 15.40batch/s]\n"
     ]
    },
    {
     "name": "stdout",
     "output_type": "stream",
     "text": [
      "Epoch [8/20]: Average Loss: 0.0167\n",
      "Epoch [8/20]: Train combinedset accuracy: 99.82%\n",
      "Epoch [8/20]: Test: testset accuracy: 92.40%\n"
     ]
    },
    {
     "name": "stderr",
     "output_type": "stream",
     "text": [
      "Epoch [9/20]: 100%|██████████| 782/782 [01:43<00:00,  7.54batch/s, loss=0.00456]\n",
      "Evaluation: 100%|██████████| 782/782 [00:48<00:00, 16.21batch/s]\n",
      "Evaluation: 100%|██████████| 79/79 [00:05<00:00, 15.36batch/s]\n"
     ]
    },
    {
     "name": "stdout",
     "output_type": "stream",
     "text": [
      "Epoch [9/20]: Average Loss: 0.0149\n",
      "Epoch [9/20]: Train combinedset accuracy: 99.84%\n",
      "Epoch [9/20]: Test: testset accuracy: 92.47%\n"
     ]
    },
    {
     "name": "stderr",
     "output_type": "stream",
     "text": [
      "Epoch [10/20]: 100%|██████████| 782/782 [01:45<00:00,  7.42batch/s, loss=0.00269]\n",
      "Evaluation: 100%|██████████| 782/782 [00:48<00:00, 16.22batch/s]\n",
      "Evaluation: 100%|██████████| 79/79 [00:05<00:00, 15.32batch/s]\n"
     ]
    },
    {
     "name": "stdout",
     "output_type": "stream",
     "text": [
      "Epoch [10/20]: Average Loss: 0.0133\n",
      "Epoch [10/20]: Train combinedset accuracy: 99.88%\n",
      "Epoch [10/20]: Test: testset accuracy: 92.62%\n"
     ]
    },
    {
     "name": "stderr",
     "output_type": "stream",
     "text": [
      "Epoch [11/20]: 100%|██████████| 782/782 [01:43<00:00,  7.54batch/s, loss=0.0187] \n",
      "Evaluation: 100%|██████████| 782/782 [00:48<00:00, 16.20batch/s]\n",
      "Evaluation: 100%|██████████| 79/79 [00:05<00:00, 15.43batch/s]\n"
     ]
    },
    {
     "name": "stdout",
     "output_type": "stream",
     "text": [
      "Epoch [11/20]: Average Loss: 0.0114\n",
      "Epoch [11/20]: Train combinedset accuracy: 99.90%\n",
      "Epoch [11/20]: Test: testset accuracy: 92.60%\n"
     ]
    },
    {
     "name": "stderr",
     "output_type": "stream",
     "text": [
      "Epoch [12/20]: 100%|██████████| 782/782 [01:43<00:00,  7.55batch/s, loss=0.0275] \n",
      "Evaluation: 100%|██████████| 782/782 [00:48<00:00, 16.16batch/s]\n",
      "Evaluation: 100%|██████████| 79/79 [00:05<00:00, 15.34batch/s]\n"
     ]
    },
    {
     "name": "stdout",
     "output_type": "stream",
     "text": [
      "Epoch [12/20]: Average Loss: 0.0100\n",
      "Epoch [12/20]: Train combinedset accuracy: 99.89%\n",
      "Epoch [12/20]: Test: testset accuracy: 92.45%\n"
     ]
    },
    {
     "name": "stderr",
     "output_type": "stream",
     "text": [
      "Epoch [13/20]: 100%|██████████| 782/782 [01:44<00:00,  7.52batch/s, loss=0.00422]\n",
      "Evaluation: 100%|██████████| 782/782 [00:48<00:00, 16.24batch/s]\n",
      "Evaluation: 100%|██████████| 79/79 [00:05<00:00, 15.18batch/s]\n"
     ]
    },
    {
     "name": "stdout",
     "output_type": "stream",
     "text": [
      "Epoch [13/20]: Average Loss: 0.0096\n",
      "Epoch [13/20]: Train combinedset accuracy: 99.92%\n",
      "Epoch [13/20]: Test: testset accuracy: 92.72%\n"
     ]
    },
    {
     "name": "stderr",
     "output_type": "stream",
     "text": [
      "Epoch [14/20]: 100%|██████████| 782/782 [01:43<00:00,  7.55batch/s, loss=0.0631] \n",
      "Evaluation: 100%|██████████| 782/782 [00:48<00:00, 16.22batch/s]\n",
      "Evaluation: 100%|██████████| 79/79 [00:05<00:00, 15.26batch/s]\n"
     ]
    },
    {
     "name": "stdout",
     "output_type": "stream",
     "text": [
      "Epoch [14/20]: Average Loss: 0.0092\n",
      "Epoch [14/20]: Train combinedset accuracy: 99.92%\n",
      "Epoch [14/20]: Test: testset accuracy: 92.62%\n"
     ]
    },
    {
     "name": "stderr",
     "output_type": "stream",
     "text": [
      "Epoch [15/20]: 100%|██████████| 782/782 [01:43<00:00,  7.55batch/s, loss=0.00704]\n",
      "Evaluation: 100%|██████████| 782/782 [00:48<00:00, 16.26batch/s]\n",
      "Evaluation: 100%|██████████| 79/79 [00:05<00:00, 15.27batch/s]\n"
     ]
    },
    {
     "name": "stdout",
     "output_type": "stream",
     "text": [
      "Epoch [15/20]: Average Loss: 0.0082\n",
      "Epoch [15/20]: Train combinedset accuracy: 99.93%\n",
      "Epoch [15/20]: Test: testset accuracy: 92.59%\n"
     ]
    },
    {
     "name": "stderr",
     "output_type": "stream",
     "text": [
      "Epoch [16/20]: 100%|██████████| 782/782 [01:44<00:00,  7.50batch/s, loss=0.00357]\n",
      "Evaluation: 100%|██████████| 782/782 [00:48<00:00, 16.10batch/s]\n",
      "Evaluation: 100%|██████████| 79/79 [00:05<00:00, 15.27batch/s]\n"
     ]
    },
    {
     "name": "stdout",
     "output_type": "stream",
     "text": [
      "Epoch [16/20]: Average Loss: 0.0083\n",
      "Epoch [16/20]: Train combinedset accuracy: 99.94%\n",
      "Epoch [16/20]: Test: testset accuracy: 92.77%\n"
     ]
    },
    {
     "name": "stderr",
     "output_type": "stream",
     "text": [
      "Epoch [17/20]: 100%|██████████| 782/782 [01:43<00:00,  7.55batch/s, loss=0.00232]\n",
      "Evaluation: 100%|██████████| 782/782 [00:48<00:00, 16.18batch/s]\n",
      "Evaluation: 100%|██████████| 79/79 [00:05<00:00, 15.34batch/s]\n"
     ]
    },
    {
     "name": "stdout",
     "output_type": "stream",
     "text": [
      "Epoch [17/20]: Average Loss: 0.0078\n",
      "Epoch [17/20]: Train combinedset accuracy: 99.94%\n",
      "Epoch [17/20]: Test: testset accuracy: 92.64%\n"
     ]
    },
    {
     "name": "stderr",
     "output_type": "stream",
     "text": [
      "Epoch [18/20]: 100%|██████████| 782/782 [01:43<00:00,  7.55batch/s, loss=0.00371]\n",
      "Evaluation: 100%|██████████| 782/782 [00:48<00:00, 16.23batch/s]\n",
      "Evaluation: 100%|██████████| 79/79 [00:05<00:00, 15.21batch/s]\n"
     ]
    },
    {
     "name": "stdout",
     "output_type": "stream",
     "text": [
      "Epoch [18/20]: Average Loss: 0.0073\n",
      "Epoch [18/20]: Train combinedset accuracy: 99.92%\n",
      "Epoch [18/20]: Test: testset accuracy: 92.61%\n"
     ]
    },
    {
     "name": "stderr",
     "output_type": "stream",
     "text": [
      "Epoch [19/20]: 100%|██████████| 782/782 [01:43<00:00,  7.56batch/s, loss=0.00379]\n",
      "Evaluation: 100%|██████████| 782/782 [00:48<00:00, 16.12batch/s]\n",
      "Evaluation: 100%|██████████| 79/79 [00:05<00:00, 15.15batch/s]\n"
     ]
    },
    {
     "name": "stdout",
     "output_type": "stream",
     "text": [
      "Epoch [19/20]: Average Loss: 0.0076\n",
      "Epoch [19/20]: Train combinedset accuracy: 99.94%\n",
      "Epoch [19/20]: Test: testset accuracy: 92.69%\n"
     ]
    },
    {
     "name": "stderr",
     "output_type": "stream",
     "text": [
      "Epoch [20/20]: 100%|██████████| 782/782 [01:43<00:00,  7.55batch/s, loss=0.195]  \n",
      "Evaluation: 100%|██████████| 782/782 [00:48<00:00, 16.21batch/s]\n",
      "Evaluation: 100%|██████████| 79/79 [00:05<00:00, 15.40batch/s]\n"
     ]
    },
    {
     "name": "stdout",
     "output_type": "stream",
     "text": [
      "Epoch [20/20]: Average Loss: 0.0076\n",
      "Epoch [20/20]: Train combinedset accuracy: 99.92%\n",
      "Epoch [20/20]: Test: testset accuracy: 92.73%\n"
     ]
    },
    {
     "name": "stderr",
     "output_type": "stream",
     "text": [
      "Generating Adversarial Dataset: 100%|██████████| 79/79 [03:50<00:00,  2.92s/it]\n",
      "Evaluation: 100%|██████████| 79/79 [00:03<00:00, 24.55batch/s]\n",
      "Evaluation: 100%|██████████| 79/79 [00:05<00:00, 15.37batch/s]\n",
      "Evaluation: 100%|██████████| 782/782 [00:48<00:00, 16.22batch/s]\n",
      "Evaluation: 100%|██████████| 79/79 [00:03<00:00, 25.19batch/s]"
     ]
    },
    {
     "name": "stdout",
     "output_type": "stream",
     "text": [
      "Test: attack testset accuracy: 84.45%\n",
      "Test: testset accuracy: 92.73%\n",
      "Train: combinedset accuracy: 99.93%\n",
      "Test: oneshot attack testset accuracy: 1.73%\n",
      "#### Iteration: 1 ####\n"
     ]
    },
    {
     "name": "stderr",
     "output_type": "stream",
     "text": [
      "\n",
      "Generating Adversarial Dataset: 100%|██████████| 391/391 [18:42<00:00,  2.87s/it]\n",
      "Epoch [1/20]: 100%|██████████| 782/782 [01:40<00:00,  7.76batch/s, loss=3.93]\n",
      "Evaluation: 100%|██████████| 782/782 [00:47<00:00, 16.62batch/s]\n",
      "Evaluation: 100%|██████████| 79/79 [00:05<00:00, 15.57batch/s]\n"
     ]
    },
    {
     "name": "stdout",
     "output_type": "stream",
     "text": [
      "Epoch [1/20]: Average Loss: 5.0426\n",
      "Epoch [1/20]: Train combinedset accuracy: 51.48%\n",
      "Epoch [1/20]: Test: testset accuracy: 92.51%\n"
     ]
    },
    {
     "name": "stderr",
     "output_type": "stream",
     "text": [
      "Epoch [2/20]: 100%|██████████| 782/782 [01:42<00:00,  7.65batch/s, loss=1.09]\n",
      "Evaluation: 100%|██████████| 782/782 [00:47<00:00, 16.53batch/s]\n",
      "Evaluation: 100%|██████████| 79/79 [00:05<00:00, 15.78batch/s]\n"
     ]
    },
    {
     "name": "stdout",
     "output_type": "stream",
     "text": [
      "Epoch [2/20]: Average Loss: 3.1568\n",
      "Epoch [2/20]: Train combinedset accuracy: 71.70%\n",
      "Epoch [2/20]: Test: testset accuracy: 89.65%\n"
     ]
    },
    {
     "name": "stderr",
     "output_type": "stream",
     "text": [
      "Epoch [3/20]: 100%|██████████| 782/782 [01:42<00:00,  7.62batch/s, loss=0.214]\n",
      "Evaluation: 100%|██████████| 782/782 [00:47<00:00, 16.53batch/s]\n",
      "Evaluation: 100%|██████████| 79/79 [00:04<00:00, 15.99batch/s]\n"
     ]
    },
    {
     "name": "stdout",
     "output_type": "stream",
     "text": [
      "Epoch [3/20]: Average Loss: 0.9224\n",
      "Epoch [3/20]: Train combinedset accuracy: 81.64%\n",
      "Epoch [3/20]: Test: testset accuracy: 87.37%\n"
     ]
    },
    {
     "name": "stderr",
     "output_type": "stream",
     "text": [
      "Epoch [4/20]: 100%|██████████| 782/782 [01:41<00:00,  7.74batch/s, loss=0.415]\n",
      "Evaluation: 100%|██████████| 782/782 [00:47<00:00, 16.39batch/s]\n",
      "Evaluation: 100%|██████████| 79/79 [00:05<00:00, 15.69batch/s]\n"
     ]
    },
    {
     "name": "stdout",
     "output_type": "stream",
     "text": [
      "Epoch [4/20]: Average Loss: 0.5835\n",
      "Epoch [4/20]: Train combinedset accuracy: 84.92%\n",
      "Epoch [4/20]: Test: testset accuracy: 87.77%\n"
     ]
    },
    {
     "name": "stderr",
     "output_type": "stream",
     "text": [
      "Epoch [5/20]: 100%|██████████| 782/782 [01:40<00:00,  7.80batch/s, loss=0.338]\n",
      "Evaluation: 100%|██████████| 782/782 [00:46<00:00, 16.76batch/s]\n",
      "Evaluation: 100%|██████████| 79/79 [00:05<00:00, 15.62batch/s]\n"
     ]
    },
    {
     "name": "stdout",
     "output_type": "stream",
     "text": [
      "Epoch [5/20]: Average Loss: 0.4368\n",
      "Epoch [5/20]: Train combinedset accuracy: 87.66%\n",
      "Epoch [5/20]: Test: testset accuracy: 88.90%\n"
     ]
    },
    {
     "name": "stderr",
     "output_type": "stream",
     "text": [
      "Epoch [6/20]: 100%|██████████| 782/782 [01:40<00:00,  7.77batch/s, loss=0.483]\n",
      "Evaluation: 100%|██████████| 782/782 [00:46<00:00, 16.86batch/s]\n",
      "Evaluation: 100%|██████████| 79/79 [00:04<00:00, 15.97batch/s]\n"
     ]
    },
    {
     "name": "stdout",
     "output_type": "stream",
     "text": [
      "Epoch [6/20]: Average Loss: 0.3334\n",
      "Epoch [6/20]: Train combinedset accuracy: 91.09%\n",
      "Epoch [6/20]: Test: testset accuracy: 89.78%\n"
     ]
    },
    {
     "name": "stderr",
     "output_type": "stream",
     "text": [
      "Epoch [7/20]: 100%|██████████| 782/782 [01:39<00:00,  7.85batch/s, loss=0.433] \n",
      "Evaluation: 100%|██████████| 782/782 [00:46<00:00, 16.87batch/s]\n",
      "Evaluation: 100%|██████████| 79/79 [00:04<00:00, 16.08batch/s]\n"
     ]
    },
    {
     "name": "stdout",
     "output_type": "stream",
     "text": [
      "Epoch [7/20]: Average Loss: 0.2027\n",
      "Epoch [7/20]: Train combinedset accuracy: 96.47%\n",
      "Epoch [7/20]: Test: testset accuracy: 91.07%\n"
     ]
    },
    {
     "name": "stderr",
     "output_type": "stream",
     "text": [
      "Epoch [8/20]: 100%|██████████| 782/782 [01:40<00:00,  7.80batch/s, loss=0.0185]\n",
      "Evaluation: 100%|██████████| 782/782 [00:47<00:00, 16.41batch/s]\n",
      "Evaluation: 100%|██████████| 79/79 [00:04<00:00, 16.00batch/s]\n"
     ]
    },
    {
     "name": "stdout",
     "output_type": "stream",
     "text": [
      "Epoch [8/20]: Average Loss: 0.0910\n",
      "Epoch [8/20]: Train combinedset accuracy: 98.55%\n",
      "Epoch [8/20]: Test: testset accuracy: 92.12%\n"
     ]
    },
    {
     "name": "stderr",
     "output_type": "stream",
     "text": [
      "Epoch [9/20]: 100%|██████████| 782/782 [01:40<00:00,  7.77batch/s, loss=0.00971]\n",
      "Evaluation: 100%|██████████| 782/782 [00:46<00:00, 16.71batch/s]\n",
      "Evaluation: 100%|██████████| 79/79 [00:04<00:00, 16.00batch/s]\n"
     ]
    },
    {
     "name": "stdout",
     "output_type": "stream",
     "text": [
      "Epoch [9/20]: Average Loss: 0.0474\n",
      "Epoch [9/20]: Train combinedset accuracy: 99.41%\n",
      "Epoch [9/20]: Test: testset accuracy: 92.78%\n"
     ]
    },
    {
     "name": "stderr",
     "output_type": "stream",
     "text": [
      "Epoch [10/20]: 100%|██████████| 782/782 [01:39<00:00,  7.82batch/s, loss=0.0219] \n",
      "Evaluation: 100%|██████████| 782/782 [00:46<00:00, 16.81batch/s]\n",
      "Evaluation: 100%|██████████| 79/79 [00:04<00:00, 16.03batch/s]\n"
     ]
    },
    {
     "name": "stdout",
     "output_type": "stream",
     "text": [
      "Epoch [10/20]: Average Loss: 0.0273\n",
      "Epoch [10/20]: Train combinedset accuracy: 99.73%\n",
      "Epoch [10/20]: Test: testset accuracy: 93.05%\n"
     ]
    },
    {
     "name": "stderr",
     "output_type": "stream",
     "text": [
      "Epoch [11/20]: 100%|██████████| 782/782 [01:39<00:00,  7.83batch/s, loss=0.0745] \n",
      "Evaluation: 100%|██████████| 782/782 [00:46<00:00, 16.72batch/s]\n",
      "Evaluation: 100%|██████████| 79/79 [00:04<00:00, 15.84batch/s]\n"
     ]
    },
    {
     "name": "stdout",
     "output_type": "stream",
     "text": [
      "Epoch [11/20]: Average Loss: 0.0178\n",
      "Epoch [11/20]: Train combinedset accuracy: 99.84%\n",
      "Epoch [11/20]: Test: testset accuracy: 92.95%\n"
     ]
    },
    {
     "name": "stderr",
     "output_type": "stream",
     "text": [
      "Epoch [12/20]: 100%|██████████| 782/782 [01:40<00:00,  7.76batch/s, loss=0.0553] \n",
      "Evaluation: 100%|██████████| 782/782 [00:46<00:00, 16.90batch/s]\n",
      "Evaluation: 100%|██████████| 79/79 [00:04<00:00, 16.07batch/s]\n"
     ]
    },
    {
     "name": "stdout",
     "output_type": "stream",
     "text": [
      "Epoch [12/20]: Average Loss: 0.0127\n",
      "Epoch [12/20]: Train combinedset accuracy: 99.92%\n",
      "Epoch [12/20]: Test: testset accuracy: 93.44%\n"
     ]
    },
    {
     "name": "stderr",
     "output_type": "stream",
     "text": [
      "Epoch [13/20]: 100%|██████████| 782/782 [01:39<00:00,  7.85batch/s, loss=0.0464] \n",
      "Evaluation: 100%|██████████| 782/782 [00:46<00:00, 16.84batch/s]\n",
      "Evaluation: 100%|██████████| 79/79 [00:04<00:00, 16.02batch/s]\n"
     ]
    },
    {
     "name": "stdout",
     "output_type": "stream",
     "text": [
      "Epoch [13/20]: Average Loss: 0.0103\n",
      "Epoch [13/20]: Train combinedset accuracy: 99.92%\n",
      "Epoch [13/20]: Test: testset accuracy: 93.57%\n"
     ]
    },
    {
     "name": "stderr",
     "output_type": "stream",
     "text": [
      "Epoch [14/20]: 100%|██████████| 782/782 [01:39<00:00,  7.83batch/s, loss=0.0465] \n",
      "Evaluation: 100%|██████████| 782/782 [00:46<00:00, 16.72batch/s]\n",
      "Evaluation: 100%|██████████| 79/79 [00:04<00:00, 16.07batch/s]\n"
     ]
    },
    {
     "name": "stdout",
     "output_type": "stream",
     "text": [
      "Epoch [14/20]: Average Loss: 0.0081\n",
      "Epoch [14/20]: Train combinedset accuracy: 99.94%\n",
      "Epoch [14/20]: Test: testset accuracy: 93.53%\n"
     ]
    },
    {
     "name": "stderr",
     "output_type": "stream",
     "text": [
      "Epoch [15/20]: 100%|██████████| 782/782 [01:39<00:00,  7.83batch/s, loss=0.0459] \n",
      "Evaluation: 100%|██████████| 782/782 [00:46<00:00, 16.83batch/s]\n",
      "Evaluation: 100%|██████████| 79/79 [00:04<00:00, 16.02batch/s]\n"
     ]
    },
    {
     "name": "stdout",
     "output_type": "stream",
     "text": [
      "Epoch [15/20]: Average Loss: 0.0073\n",
      "Epoch [15/20]: Train combinedset accuracy: 99.95%\n",
      "Epoch [15/20]: Test: testset accuracy: 93.55%\n"
     ]
    },
    {
     "name": "stderr",
     "output_type": "stream",
     "text": [
      "Epoch [16/20]: 100%|██████████| 782/782 [01:39<00:00,  7.86batch/s, loss=0.00233]\n",
      "Evaluation: 100%|██████████| 782/782 [00:46<00:00, 16.79batch/s]\n",
      "Evaluation: 100%|██████████| 79/79 [00:04<00:00, 16.07batch/s]\n"
     ]
    },
    {
     "name": "stdout",
     "output_type": "stream",
     "text": [
      "Epoch [16/20]: Average Loss: 0.0069\n",
      "Epoch [16/20]: Train combinedset accuracy: 99.97%\n",
      "Epoch [16/20]: Test: testset accuracy: 93.46%\n"
     ]
    },
    {
     "name": "stderr",
     "output_type": "stream",
     "text": [
      "Epoch [17/20]: 100%|██████████| 782/782 [01:39<00:00,  7.84batch/s, loss=0.0792]  \n",
      "Evaluation: 100%|██████████| 782/782 [00:46<00:00, 16.81batch/s]\n",
      "Evaluation: 100%|██████████| 79/79 [00:04<00:00, 16.00batch/s]\n"
     ]
    },
    {
     "name": "stdout",
     "output_type": "stream",
     "text": [
      "Epoch [17/20]: Average Loss: 0.0060\n",
      "Epoch [17/20]: Train combinedset accuracy: 99.96%\n",
      "Epoch [17/20]: Test: testset accuracy: 93.56%\n"
     ]
    },
    {
     "name": "stderr",
     "output_type": "stream",
     "text": [
      "Epoch [18/20]: 100%|██████████| 782/782 [01:39<00:00,  7.85batch/s, loss=0.00118] \n",
      "Evaluation: 100%|██████████| 782/782 [00:46<00:00, 16.69batch/s]\n",
      "Evaluation: 100%|██████████| 79/79 [00:05<00:00, 15.33batch/s]\n"
     ]
    },
    {
     "name": "stdout",
     "output_type": "stream",
     "text": [
      "Epoch [18/20]: Average Loss: 0.0059\n",
      "Epoch [18/20]: Train combinedset accuracy: 99.98%\n",
      "Epoch [18/20]: Test: testset accuracy: 93.64%\n"
     ]
    },
    {
     "name": "stderr",
     "output_type": "stream",
     "text": [
      "Epoch [19/20]: 100%|██████████| 782/782 [01:40<00:00,  7.77batch/s, loss=0.00315] \n",
      "Evaluation: 100%|██████████| 782/782 [00:46<00:00, 16.83batch/s]\n",
      "Evaluation: 100%|██████████| 79/79 [00:04<00:00, 16.05batch/s]\n"
     ]
    },
    {
     "name": "stdout",
     "output_type": "stream",
     "text": [
      "Epoch [19/20]: Average Loss: 0.0048\n",
      "Epoch [19/20]: Train combinedset accuracy: 99.97%\n",
      "Epoch [19/20]: Test: testset accuracy: 93.82%\n"
     ]
    },
    {
     "name": "stderr",
     "output_type": "stream",
     "text": [
      "Epoch [20/20]: 100%|██████████| 782/782 [01:39<00:00,  7.85batch/s, loss=0.00554] \n",
      "Evaluation: 100%|██████████| 782/782 [00:46<00:00, 16.79batch/s]\n",
      "Evaluation: 100%|██████████| 79/79 [00:04<00:00, 16.05batch/s]\n"
     ]
    },
    {
     "name": "stdout",
     "output_type": "stream",
     "text": [
      "Epoch [20/20]: Average Loss: 0.0041\n",
      "Epoch [20/20]: Train combinedset accuracy: 99.98%\n",
      "Epoch [20/20]: Test: testset accuracy: 93.84%\n"
     ]
    },
    {
     "name": "stderr",
     "output_type": "stream",
     "text": [
      "Generating Adversarial Dataset: 100%|██████████| 79/79 [03:42<00:00,  2.82s/it]\n",
      "Evaluation: 100%|██████████| 79/79 [00:03<00:00, 23.95batch/s]\n",
      "Evaluation: 100%|██████████| 79/79 [00:04<00:00, 15.81batch/s]\n",
      "Evaluation: 100%|██████████| 782/782 [00:46<00:00, 16.85batch/s]\n",
      "Evaluation: 100%|██████████| 79/79 [00:02<00:00, 26.79batch/s]"
     ]
    },
    {
     "name": "stdout",
     "output_type": "stream",
     "text": [
      "Test: attack testset accuracy: 30.08%\n",
      "Test: testset accuracy: 93.84%\n",
      "Train: combinedset accuracy: 99.98%\n",
      "Test: oneshot attack testset accuracy: 0.02%\n",
      "#### Iteration: 2 ####\n"
     ]
    },
    {
     "name": "stderr",
     "output_type": "stream",
     "text": [
      "\n",
      "Generating Adversarial Dataset: 100%|██████████| 391/391 [18:39<00:00,  2.86s/it]\n",
      "Epoch [1/20]: 100%|██████████| 782/782 [01:41<00:00,  7.71batch/s, loss=0.0101] \n",
      "Evaluation: 100%|██████████| 782/782 [00:47<00:00, 16.54batch/s]\n",
      "Evaluation: 100%|██████████| 79/79 [00:04<00:00, 15.81batch/s]\n"
     ]
    },
    {
     "name": "stdout",
     "output_type": "stream",
     "text": [
      "Epoch [1/20]: Average Loss: 0.0705\n",
      "Epoch [1/20]: Train combinedset accuracy: 99.90%\n",
      "Epoch [1/20]: Test: testset accuracy: 93.51%\n"
     ]
    },
    {
     "name": "stderr",
     "output_type": "stream",
     "text": [
      "Epoch [2/20]: 100%|██████████| 782/782 [01:42<00:00,  7.63batch/s, loss=0.00514]\n",
      "Evaluation: 100%|██████████| 782/782 [00:46<00:00, 16.76batch/s]\n",
      "Evaluation: 100%|██████████| 79/79 [00:04<00:00, 16.08batch/s]\n"
     ]
    },
    {
     "name": "stdout",
     "output_type": "stream",
     "text": [
      "Epoch [2/20]: Average Loss: 0.0079\n",
      "Epoch [2/20]: Train combinedset accuracy: 99.96%\n",
      "Epoch [2/20]: Test: testset accuracy: 93.65%\n"
     ]
    },
    {
     "name": "stderr",
     "output_type": "stream",
     "text": [
      "Epoch [3/20]: 100%|██████████| 782/782 [01:39<00:00,  7.85batch/s, loss=0.00958]\n",
      "Evaluation: 100%|██████████| 782/782 [00:46<00:00, 16.85batch/s]\n",
      "Evaluation: 100%|██████████| 79/79 [00:04<00:00, 16.14batch/s]\n"
     ]
    },
    {
     "name": "stdout",
     "output_type": "stream",
     "text": [
      "Epoch [3/20]: Average Loss: 0.0049\n",
      "Epoch [3/20]: Train combinedset accuracy: 99.97%\n",
      "Epoch [3/20]: Test: testset accuracy: 93.80%\n"
     ]
    },
    {
     "name": "stderr",
     "output_type": "stream",
     "text": [
      "Epoch [4/20]: 100%|██████████| 782/782 [01:39<00:00,  7.86batch/s, loss=0.00104] \n",
      "Evaluation: 100%|██████████| 782/782 [00:46<00:00, 16.81batch/s]\n",
      "Evaluation: 100%|██████████| 79/79 [00:05<00:00, 15.68batch/s]\n"
     ]
    },
    {
     "name": "stdout",
     "output_type": "stream",
     "text": [
      "Epoch [4/20]: Average Loss: 0.0044\n",
      "Epoch [4/20]: Train combinedset accuracy: 99.99%\n",
      "Epoch [4/20]: Test: testset accuracy: 94.02%\n"
     ]
    },
    {
     "name": "stderr",
     "output_type": "stream",
     "text": [
      "Epoch [5/20]: 100%|██████████| 782/782 [01:39<00:00,  7.86batch/s, loss=0.00149] \n",
      "Evaluation: 100%|██████████| 782/782 [00:46<00:00, 16.91batch/s]\n",
      "Evaluation: 100%|██████████| 79/79 [00:04<00:00, 16.04batch/s]\n"
     ]
    },
    {
     "name": "stdout",
     "output_type": "stream",
     "text": [
      "Epoch [5/20]: Average Loss: 0.0034\n",
      "Epoch [5/20]: Train combinedset accuracy: 99.98%\n",
      "Epoch [5/20]: Test: testset accuracy: 93.99%\n"
     ]
    },
    {
     "name": "stderr",
     "output_type": "stream",
     "text": [
      "Epoch [6/20]: 100%|██████████| 782/782 [01:39<00:00,  7.86batch/s, loss=0.0211]  \n",
      "Evaluation: 100%|██████████| 782/782 [00:46<00:00, 16.74batch/s]\n",
      "Evaluation: 100%|██████████| 79/79 [00:04<00:00, 16.00batch/s]\n"
     ]
    },
    {
     "name": "stdout",
     "output_type": "stream",
     "text": [
      "Epoch [6/20]: Average Loss: 0.0030\n",
      "Epoch [6/20]: Train combinedset accuracy: 99.99%\n",
      "Epoch [6/20]: Test: testset accuracy: 94.12%\n"
     ]
    },
    {
     "name": "stderr",
     "output_type": "stream",
     "text": [
      "Epoch [7/20]: 100%|██████████| 782/782 [01:39<00:00,  7.86batch/s, loss=0.0107]  \n",
      "Evaluation: 100%|██████████| 782/782 [00:46<00:00, 16.85batch/s]\n",
      "Evaluation: 100%|██████████| 79/79 [00:04<00:00, 16.07batch/s]\n"
     ]
    },
    {
     "name": "stdout",
     "output_type": "stream",
     "text": [
      "Epoch [7/20]: Average Loss: 0.0028\n",
      "Epoch [7/20]: Train combinedset accuracy: 99.99%\n",
      "Epoch [7/20]: Test: testset accuracy: 94.09%\n"
     ]
    },
    {
     "name": "stderr",
     "output_type": "stream",
     "text": [
      "Epoch [8/20]: 100%|██████████| 782/782 [01:39<00:00,  7.86batch/s, loss=0.00384] \n",
      "Evaluation: 100%|██████████| 782/782 [00:46<00:00, 16.82batch/s]\n",
      "Evaluation: 100%|██████████| 79/79 [00:04<00:00, 16.02batch/s]\n"
     ]
    },
    {
     "name": "stdout",
     "output_type": "stream",
     "text": [
      "Epoch [8/20]: Average Loss: 0.0028\n",
      "Epoch [8/20]: Train combinedset accuracy: 99.99%\n",
      "Epoch [8/20]: Test: testset accuracy: 94.08%\n"
     ]
    },
    {
     "name": "stderr",
     "output_type": "stream",
     "text": [
      "Epoch [9/20]: 100%|██████████| 782/782 [01:39<00:00,  7.85batch/s, loss=0.00105] \n",
      "Evaluation: 100%|██████████| 782/782 [00:46<00:00, 16.82batch/s]\n",
      "Evaluation: 100%|██████████| 79/79 [00:04<00:00, 16.02batch/s]\n"
     ]
    },
    {
     "name": "stdout",
     "output_type": "stream",
     "text": [
      "Epoch [9/20]: Average Loss: 0.0024\n",
      "Epoch [9/20]: Train combinedset accuracy: 100.00%\n",
      "Epoch [9/20]: Test: testset accuracy: 94.17%\n"
     ]
    },
    {
     "name": "stderr",
     "output_type": "stream",
     "text": [
      "Epoch [10/20]: 100%|██████████| 782/782 [01:39<00:00,  7.85batch/s, loss=0.00266] \n",
      "Evaluation: 100%|██████████| 782/782 [00:46<00:00, 16.93batch/s]\n",
      "Evaluation: 100%|██████████| 79/79 [00:04<00:00, 16.13batch/s]\n"
     ]
    },
    {
     "name": "stdout",
     "output_type": "stream",
     "text": [
      "Epoch [10/20]: Average Loss: 0.0023\n",
      "Epoch [10/20]: Train combinedset accuracy: 99.99%\n",
      "Epoch [10/20]: Test: testset accuracy: 94.11%\n"
     ]
    },
    {
     "name": "stderr",
     "output_type": "stream",
     "text": [
      "Epoch [11/20]: 100%|██████████| 782/782 [01:39<00:00,  7.86batch/s, loss=0.00216] \n",
      "Evaluation: 100%|██████████| 782/782 [00:46<00:00, 16.87batch/s]\n",
      "Evaluation: 100%|██████████| 79/79 [00:04<00:00, 16.11batch/s]\n"
     ]
    },
    {
     "name": "stdout",
     "output_type": "stream",
     "text": [
      "Epoch [11/20]: Average Loss: 0.0024\n",
      "Epoch [11/20]: Train combinedset accuracy: 100.00%\n",
      "Epoch [11/20]: Test: testset accuracy: 94.20%\n"
     ]
    },
    {
     "name": "stderr",
     "output_type": "stream",
     "text": [
      "Epoch [12/20]: 100%|██████████| 782/782 [01:39<00:00,  7.86batch/s, loss=0.00297] \n",
      "Evaluation: 100%|██████████| 782/782 [00:46<00:00, 16.87batch/s]\n",
      "Evaluation: 100%|██████████| 79/79 [00:04<00:00, 15.85batch/s]\n"
     ]
    },
    {
     "name": "stdout",
     "output_type": "stream",
     "text": [
      "Epoch [12/20]: Average Loss: 0.0022\n",
      "Epoch [12/20]: Train combinedset accuracy: 99.99%\n",
      "Epoch [12/20]: Test: testset accuracy: 94.03%\n"
     ]
    },
    {
     "name": "stderr",
     "output_type": "stream",
     "text": [
      "Epoch [13/20]: 100%|██████████| 782/782 [01:39<00:00,  7.86batch/s, loss=0.0129]  \n",
      "Evaluation: 100%|██████████| 782/782 [00:46<00:00, 16.90batch/s]\n",
      "Evaluation: 100%|██████████| 79/79 [00:04<00:00, 16.12batch/s]\n"
     ]
    },
    {
     "name": "stdout",
     "output_type": "stream",
     "text": [
      "Epoch [13/20]: Average Loss: 0.0021\n",
      "Epoch [13/20]: Train combinedset accuracy: 100.00%\n",
      "Epoch [13/20]: Test: testset accuracy: 94.27%\n"
     ]
    },
    {
     "name": "stderr",
     "output_type": "stream",
     "text": [
      "Epoch [14/20]: 100%|██████████| 782/782 [01:39<00:00,  7.86batch/s, loss=0.0033]  \n",
      "Evaluation: 100%|██████████| 782/782 [00:47<00:00, 16.57batch/s]\n",
      "Evaluation: 100%|██████████| 79/79 [00:05<00:00, 15.75batch/s]\n"
     ]
    },
    {
     "name": "stdout",
     "output_type": "stream",
     "text": [
      "Epoch [14/20]: Average Loss: 0.0020\n",
      "Epoch [14/20]: Train combinedset accuracy: 100.00%\n",
      "Epoch [14/20]: Test: testset accuracy: 94.26%\n"
     ]
    },
    {
     "name": "stderr",
     "output_type": "stream",
     "text": [
      "Epoch [15/20]: 100%|██████████| 782/782 [01:39<00:00,  7.85batch/s, loss=0.00632] \n",
      "Evaluation: 100%|██████████| 782/782 [00:46<00:00, 16.85batch/s]\n",
      "Evaluation: 100%|██████████| 79/79 [00:04<00:00, 15.98batch/s]\n"
     ]
    },
    {
     "name": "stdout",
     "output_type": "stream",
     "text": [
      "Epoch [15/20]: Average Loss: 0.0018\n",
      "Epoch [15/20]: Train combinedset accuracy: 100.00%\n",
      "Epoch [15/20]: Test: testset accuracy: 94.11%\n"
     ]
    },
    {
     "name": "stderr",
     "output_type": "stream",
     "text": [
      "Epoch [16/20]: 100%|██████████| 782/782 [01:39<00:00,  7.85batch/s, loss=0.0112]  \n",
      "Evaluation: 100%|██████████| 782/782 [00:46<00:00, 16.92batch/s]\n",
      "Evaluation: 100%|██████████| 79/79 [00:04<00:00, 16.12batch/s]\n"
     ]
    },
    {
     "name": "stdout",
     "output_type": "stream",
     "text": [
      "Epoch [16/20]: Average Loss: 0.0018\n",
      "Epoch [16/20]: Train combinedset accuracy: 100.00%\n",
      "Epoch [16/20]: Test: testset accuracy: 94.16%\n"
     ]
    },
    {
     "name": "stderr",
     "output_type": "stream",
     "text": [
      "Epoch [17/20]: 100%|██████████| 782/782 [01:39<00:00,  7.86batch/s, loss=0.00278] \n",
      "Evaluation: 100%|██████████| 782/782 [00:46<00:00, 16.85batch/s]\n",
      "Evaluation: 100%|██████████| 79/79 [00:04<00:00, 16.13batch/s]\n"
     ]
    },
    {
     "name": "stdout",
     "output_type": "stream",
     "text": [
      "Epoch [17/20]: Average Loss: 0.0019\n",
      "Epoch [17/20]: Train combinedset accuracy: 100.00%\n",
      "Epoch [17/20]: Test: testset accuracy: 94.34%\n"
     ]
    },
    {
     "name": "stderr",
     "output_type": "stream",
     "text": [
      "Epoch [18/20]: 100%|██████████| 782/782 [01:39<00:00,  7.85batch/s, loss=0.113]   \n",
      "Evaluation: 100%|██████████| 782/782 [00:46<00:00, 16.84batch/s]\n",
      "Evaluation: 100%|██████████| 79/79 [00:04<00:00, 16.01batch/s]\n"
     ]
    },
    {
     "name": "stdout",
     "output_type": "stream",
     "text": [
      "Epoch [18/20]: Average Loss: 0.0020\n",
      "Epoch [18/20]: Train combinedset accuracy: 100.00%\n",
      "Epoch [18/20]: Test: testset accuracy: 94.24%\n"
     ]
    },
    {
     "name": "stderr",
     "output_type": "stream",
     "text": [
      "Epoch [19/20]: 100%|██████████| 782/782 [01:39<00:00,  7.85batch/s, loss=0.00192] \n",
      "Evaluation: 100%|██████████| 782/782 [00:46<00:00, 16.83batch/s]\n",
      "Evaluation: 100%|██████████| 79/79 [00:04<00:00, 16.03batch/s]\n"
     ]
    },
    {
     "name": "stdout",
     "output_type": "stream",
     "text": [
      "Epoch [19/20]: Average Loss: 0.0019\n",
      "Epoch [19/20]: Train combinedset accuracy: 100.00%\n",
      "Epoch [19/20]: Test: testset accuracy: 94.27%\n"
     ]
    },
    {
     "name": "stderr",
     "output_type": "stream",
     "text": [
      "Epoch [20/20]: 100%|██████████| 782/782 [01:39<00:00,  7.86batch/s, loss=0.00201] \n",
      "Evaluation: 100%|██████████| 782/782 [00:46<00:00, 16.84batch/s]\n",
      "Evaluation: 100%|██████████| 79/79 [00:04<00:00, 16.10batch/s]\n"
     ]
    },
    {
     "name": "stdout",
     "output_type": "stream",
     "text": [
      "Epoch [20/20]: Average Loss: 0.0019\n",
      "Epoch [20/20]: Train combinedset accuracy: 100.00%\n",
      "Epoch [20/20]: Test: testset accuracy: 94.22%\n"
     ]
    },
    {
     "name": "stderr",
     "output_type": "stream",
     "text": [
      "Generating Adversarial Dataset: 100%|██████████| 79/79 [03:41<00:00,  2.80s/it]\n",
      "Evaluation: 100%|██████████| 79/79 [00:03<00:00, 24.55batch/s]\n",
      "Evaluation: 100%|██████████| 79/79 [00:04<00:00, 15.89batch/s]\n",
      "Evaluation: 100%|██████████| 782/782 [00:46<00:00, 16.88batch/s]\n",
      "Evaluation: 100%|██████████| 79/79 [00:02<00:00, 26.69batch/s]"
     ]
    },
    {
     "name": "stdout",
     "output_type": "stream",
     "text": [
      "Test: attack testset accuracy: 68.16%\n",
      "Test: testset accuracy: 94.22%\n",
      "Train: combinedset accuracy: 100.00%\n",
      "Test: oneshot attack testset accuracy: 0.60%\n",
      "#### Iteration: 3 ####\n"
     ]
    },
    {
     "name": "stderr",
     "output_type": "stream",
     "text": [
      "\n",
      "Generating Adversarial Dataset: 100%|██████████| 391/391 [18:33<00:00,  2.85s/it]\n",
      "Epoch [1/20]: 100%|██████████| 782/782 [01:41<00:00,  7.68batch/s, loss=5.29]\n",
      "Evaluation: 100%|██████████| 782/782 [00:49<00:00, 15.94batch/s]\n",
      "Evaluation: 100%|██████████| 79/79 [00:05<00:00, 15.80batch/s]\n"
     ]
    },
    {
     "name": "stdout",
     "output_type": "stream",
     "text": [
      "Epoch [1/20]: Average Loss: 5.0248\n",
      "Epoch [1/20]: Train combinedset accuracy: 50.63%\n",
      "Epoch [1/20]: Test: testset accuracy: 94.24%\n"
     ]
    },
    {
     "name": "stderr",
     "output_type": "stream",
     "text": [
      "Epoch [2/20]: 100%|██████████| 782/782 [01:40<00:00,  7.77batch/s, loss=1.27] \n",
      "Evaluation: 100%|██████████| 782/782 [00:48<00:00, 16.23batch/s]\n",
      "Evaluation: 100%|██████████| 79/79 [00:05<00:00, 15.60batch/s]\n"
     ]
    },
    {
     "name": "stdout",
     "output_type": "stream",
     "text": [
      "Epoch [2/20]: Average Loss: 2.5849\n",
      "Epoch [2/20]: Train combinedset accuracy: 82.12%\n",
      "Epoch [2/20]: Test: testset accuracy: 91.45%\n"
     ]
    },
    {
     "name": "stderr",
     "output_type": "stream",
     "text": [
      "Epoch [3/20]: 100%|██████████| 782/782 [01:41<00:00,  7.68batch/s, loss=0.386] \n",
      "Evaluation: 100%|██████████| 782/782 [00:47<00:00, 16.54batch/s]\n",
      "Evaluation: 100%|██████████| 79/79 [00:05<00:00, 15.27batch/s]\n"
     ]
    },
    {
     "name": "stdout",
     "output_type": "stream",
     "text": [
      "Epoch [3/20]: Average Loss: 0.4428\n",
      "Epoch [3/20]: Train combinedset accuracy: 90.48%\n",
      "Epoch [3/20]: Test: testset accuracy: 90.23%\n"
     ]
    },
    {
     "name": "stderr",
     "output_type": "stream",
     "text": [
      "Epoch [4/20]: 100%|██████████| 782/782 [01:41<00:00,  7.74batch/s, loss=0.18]  \n",
      "Evaluation: 100%|██████████| 782/782 [00:46<00:00, 16.70batch/s]\n",
      "Evaluation: 100%|██████████| 79/79 [00:04<00:00, 15.82batch/s]\n"
     ]
    },
    {
     "name": "stdout",
     "output_type": "stream",
     "text": [
      "Epoch [4/20]: Average Loss: 0.2738\n",
      "Epoch [4/20]: Train combinedset accuracy: 92.80%\n",
      "Epoch [4/20]: Test: testset accuracy: 90.42%\n"
     ]
    },
    {
     "name": "stderr",
     "output_type": "stream",
     "text": [
      "Epoch [5/20]: 100%|██████████| 782/782 [01:40<00:00,  7.81batch/s, loss=0.139] \n",
      "Evaluation: 100%|██████████| 782/782 [00:46<00:00, 16.65batch/s]\n",
      "Evaluation: 100%|██████████| 79/79 [00:04<00:00, 16.03batch/s]\n"
     ]
    },
    {
     "name": "stdout",
     "output_type": "stream",
     "text": [
      "Epoch [5/20]: Average Loss: 0.2103\n",
      "Epoch [5/20]: Train combinedset accuracy: 94.57%\n",
      "Epoch [5/20]: Test: testset accuracy: 90.63%\n"
     ]
    },
    {
     "name": "stderr",
     "output_type": "stream",
     "text": [
      "Epoch [6/20]: 100%|██████████| 782/782 [01:40<00:00,  7.79batch/s, loss=0.188] \n",
      "Evaluation: 100%|██████████| 782/782 [00:46<00:00, 16.71batch/s]\n",
      "Evaluation: 100%|██████████| 79/79 [00:05<00:00, 15.75batch/s]\n"
     ]
    },
    {
     "name": "stdout",
     "output_type": "stream",
     "text": [
      "Epoch [6/20]: Average Loss: 0.1611\n",
      "Epoch [6/20]: Train combinedset accuracy: 96.46%\n",
      "Epoch [6/20]: Test: testset accuracy: 90.78%\n"
     ]
    },
    {
     "name": "stderr",
     "output_type": "stream",
     "text": [
      "Epoch [7/20]: 100%|██████████| 782/782 [01:41<00:00,  7.68batch/s, loss=0.0928]\n",
      "Evaluation: 100%|██████████| 782/782 [00:53<00:00, 14.73batch/s]\n",
      "Evaluation: 100%|██████████| 79/79 [00:05<00:00, 13.86batch/s]\n"
     ]
    },
    {
     "name": "stdout",
     "output_type": "stream",
     "text": [
      "Epoch [7/20]: Average Loss: 0.1122\n",
      "Epoch [7/20]: Train combinedset accuracy: 98.22%\n",
      "Epoch [7/20]: Test: testset accuracy: 91.27%\n"
     ]
    },
    {
     "name": "stderr",
     "output_type": "stream",
     "text": [
      "Epoch [8/20]: 100%|██████████| 782/782 [01:41<00:00,  7.73batch/s, loss=0.016]  \n",
      "Evaluation: 100%|██████████| 782/782 [00:46<00:00, 16.77batch/s]\n",
      "Evaluation: 100%|██████████| 79/79 [00:04<00:00, 16.11batch/s]\n"
     ]
    },
    {
     "name": "stdout",
     "output_type": "stream",
     "text": [
      "Epoch [8/20]: Average Loss: 0.0599\n",
      "Epoch [8/20]: Train combinedset accuracy: 99.34%\n",
      "Epoch [8/20]: Test: testset accuracy: 91.58%\n"
     ]
    },
    {
     "name": "stderr",
     "output_type": "stream",
     "text": [
      "Epoch [9/20]: 100%|██████████| 782/782 [01:40<00:00,  7.80batch/s, loss=0.0704] \n",
      "Evaluation: 100%|██████████| 782/782 [00:47<00:00, 16.46batch/s]\n",
      "Evaluation: 100%|██████████| 79/79 [00:05<00:00, 15.73batch/s]\n"
     ]
    },
    {
     "name": "stdout",
     "output_type": "stream",
     "text": [
      "Epoch [9/20]: Average Loss: 0.0276\n",
      "Epoch [9/20]: Train combinedset accuracy: 99.75%\n",
      "Epoch [9/20]: Test: testset accuracy: 92.16%\n"
     ]
    },
    {
     "name": "stderr",
     "output_type": "stream",
     "text": [
      "Epoch [10/20]: 100%|██████████| 782/782 [01:41<00:00,  7.74batch/s, loss=0.00472]\n",
      "Evaluation: 100%|██████████| 782/782 [00:47<00:00, 16.53batch/s]\n",
      "Evaluation: 100%|██████████| 79/79 [00:05<00:00, 15.71batch/s]\n"
     ]
    },
    {
     "name": "stdout",
     "output_type": "stream",
     "text": [
      "Epoch [10/20]: Average Loss: 0.0155\n",
      "Epoch [10/20]: Train combinedset accuracy: 99.89%\n",
      "Epoch [10/20]: Test: testset accuracy: 92.40%\n"
     ]
    },
    {
     "name": "stderr",
     "output_type": "stream",
     "text": [
      "Epoch [11/20]: 100%|██████████| 782/782 [01:40<00:00,  7.77batch/s, loss=0.0287] \n",
      "Evaluation: 100%|██████████| 782/782 [00:46<00:00, 16.83batch/s]\n",
      "Evaluation: 100%|██████████| 79/79 [00:04<00:00, 16.03batch/s]\n"
     ]
    },
    {
     "name": "stdout",
     "output_type": "stream",
     "text": [
      "Epoch [11/20]: Average Loss: 0.0104\n",
      "Epoch [11/20]: Train combinedset accuracy: 99.93%\n",
      "Epoch [11/20]: Test: testset accuracy: 92.85%\n"
     ]
    },
    {
     "name": "stderr",
     "output_type": "stream",
     "text": [
      "Epoch [12/20]: 100%|██████████| 782/782 [01:39<00:00,  7.86batch/s, loss=0.0129] \n",
      "Evaluation: 100%|██████████| 782/782 [00:47<00:00, 16.54batch/s]\n",
      "Evaluation: 100%|██████████| 79/79 [00:04<00:00, 15.89batch/s]\n"
     ]
    },
    {
     "name": "stdout",
     "output_type": "stream",
     "text": [
      "Epoch [12/20]: Average Loss: 0.0084\n",
      "Epoch [12/20]: Train combinedset accuracy: 99.97%\n",
      "Epoch [12/20]: Test: testset accuracy: 92.71%\n"
     ]
    },
    {
     "name": "stderr",
     "output_type": "stream",
     "text": [
      "Epoch [13/20]: 100%|██████████| 782/782 [01:39<00:00,  7.85batch/s, loss=0.00531]\n",
      "Evaluation: 100%|██████████| 782/782 [00:46<00:00, 16.89batch/s]\n",
      "Evaluation: 100%|██████████| 79/79 [00:04<00:00, 16.05batch/s]\n"
     ]
    },
    {
     "name": "stdout",
     "output_type": "stream",
     "text": [
      "Epoch [13/20]: Average Loss: 0.0070\n",
      "Epoch [13/20]: Train combinedset accuracy: 99.96%\n",
      "Epoch [13/20]: Test: testset accuracy: 93.01%\n"
     ]
    },
    {
     "name": "stderr",
     "output_type": "stream",
     "text": [
      "Epoch [14/20]: 100%|██████████| 782/782 [01:39<00:00,  7.85batch/s, loss=0.0807] \n",
      "Evaluation: 100%|██████████| 782/782 [00:46<00:00, 16.82batch/s]\n",
      "Evaluation: 100%|██████████| 79/79 [00:04<00:00, 15.98batch/s]\n"
     ]
    },
    {
     "name": "stdout",
     "output_type": "stream",
     "text": [
      "Epoch [14/20]: Average Loss: 0.0060\n",
      "Epoch [14/20]: Train combinedset accuracy: 99.95%\n",
      "Epoch [14/20]: Test: testset accuracy: 93.12%\n"
     ]
    },
    {
     "name": "stderr",
     "output_type": "stream",
     "text": [
      "Epoch [15/20]: 100%|██████████| 782/782 [01:39<00:00,  7.85batch/s, loss=0.0178] \n",
      "Evaluation: 100%|██████████| 782/782 [00:47<00:00, 16.38batch/s]\n",
      "Evaluation: 100%|██████████| 79/79 [00:05<00:00, 15.64batch/s]\n"
     ]
    },
    {
     "name": "stdout",
     "output_type": "stream",
     "text": [
      "Epoch [15/20]: Average Loss: 0.0053\n",
      "Epoch [15/20]: Train combinedset accuracy: 99.98%\n",
      "Epoch [15/20]: Test: testset accuracy: 93.16%\n"
     ]
    },
    {
     "name": "stderr",
     "output_type": "stream",
     "text": [
      "Epoch [16/20]: 100%|██████████| 782/782 [01:39<00:00,  7.82batch/s, loss=0.0506]  \n",
      "Evaluation: 100%|██████████| 782/782 [00:46<00:00, 16.74batch/s]\n",
      "Evaluation: 100%|██████████| 79/79 [00:04<00:00, 16.07batch/s]\n"
     ]
    },
    {
     "name": "stdout",
     "output_type": "stream",
     "text": [
      "Epoch [16/20]: Average Loss: 0.0049\n",
      "Epoch [16/20]: Train combinedset accuracy: 99.97%\n",
      "Epoch [16/20]: Test: testset accuracy: 93.44%\n"
     ]
    },
    {
     "name": "stderr",
     "output_type": "stream",
     "text": [
      "Epoch [17/20]: 100%|██████████| 782/782 [01:40<00:00,  7.80batch/s, loss=0.00444] \n",
      "Evaluation: 100%|██████████| 782/782 [00:48<00:00, 15.98batch/s]\n",
      "Evaluation: 100%|██████████| 79/79 [00:04<00:00, 15.92batch/s]\n"
     ]
    },
    {
     "name": "stdout",
     "output_type": "stream",
     "text": [
      "Epoch [17/20]: Average Loss: 0.0049\n",
      "Epoch [17/20]: Train combinedset accuracy: 99.97%\n",
      "Epoch [17/20]: Test: testset accuracy: 93.24%\n"
     ]
    },
    {
     "name": "stderr",
     "output_type": "stream",
     "text": [
      "Epoch [18/20]: 100%|██████████| 782/782 [01:42<00:00,  7.63batch/s, loss=0.00245] \n",
      "Evaluation: 100%|██████████| 782/782 [00:49<00:00, 15.87batch/s]\n",
      "Evaluation: 100%|██████████| 79/79 [00:04<00:00, 15.84batch/s]\n"
     ]
    },
    {
     "name": "stdout",
     "output_type": "stream",
     "text": [
      "Epoch [18/20]: Average Loss: 0.0041\n",
      "Epoch [18/20]: Train combinedset accuracy: 99.97%\n",
      "Epoch [18/20]: Test: testset accuracy: 93.35%\n"
     ]
    },
    {
     "name": "stderr",
     "output_type": "stream",
     "text": [
      "Epoch [19/20]: 100%|██████████| 782/782 [01:45<00:00,  7.44batch/s, loss=0.00181] \n",
      "Evaluation: 100%|██████████| 782/782 [00:48<00:00, 15.97batch/s]\n",
      "Evaluation: 100%|██████████| 79/79 [00:05<00:00, 15.42batch/s]\n"
     ]
    },
    {
     "name": "stdout",
     "output_type": "stream",
     "text": [
      "Epoch [19/20]: Average Loss: 0.0040\n",
      "Epoch [19/20]: Train combinedset accuracy: 99.98%\n",
      "Epoch [19/20]: Test: testset accuracy: 93.29%\n"
     ]
    },
    {
     "name": "stderr",
     "output_type": "stream",
     "text": [
      "Epoch [20/20]: 100%|██████████| 782/782 [01:44<00:00,  7.46batch/s, loss=0.0128]  \n",
      "Evaluation: 100%|██████████| 782/782 [00:49<00:00, 15.73batch/s]\n",
      "Evaluation: 100%|██████████| 79/79 [00:05<00:00, 15.40batch/s]\n"
     ]
    },
    {
     "name": "stdout",
     "output_type": "stream",
     "text": [
      "Epoch [20/20]: Average Loss: 0.0035\n",
      "Epoch [20/20]: Train combinedset accuracy: 99.99%\n",
      "Epoch [20/20]: Test: testset accuracy: 93.60%\n"
     ]
    },
    {
     "name": "stderr",
     "output_type": "stream",
     "text": [
      "Generating Adversarial Dataset: 100%|██████████| 79/79 [03:52<00:00,  2.95s/it]\n",
      "Evaluation: 100%|██████████| 79/79 [00:03<00:00, 23.33batch/s]\n",
      "Evaluation: 100%|██████████| 79/79 [00:05<00:00, 15.30batch/s]\n",
      "Evaluation: 100%|██████████| 782/782 [00:48<00:00, 16.00batch/s]\n",
      "Evaluation: 100%|██████████| 79/79 [00:03<00:00, 25.23batch/s]"
     ]
    },
    {
     "name": "stdout",
     "output_type": "stream",
     "text": [
      "Test: attack testset accuracy: 69.93%\n",
      "Test: testset accuracy: 93.60%\n",
      "Train: combinedset accuracy: 99.99%\n",
      "Test: oneshot attack testset accuracy: 0.01%\n",
      "#### Iteration: 4 ####\n"
     ]
    },
    {
     "name": "stderr",
     "output_type": "stream",
     "text": [
      "\n",
      "Generating Adversarial Dataset:  72%|███████▏  | 283/391 [14:03<05:24,  3.01s/it]"
     ]
    }
   ],
   "source": [
    "model = get_pretrainded_model()\n",
    "\n",
    "pgd = torchattacks.PGD(model, eps=eps, alpha=0.01, steps=40)\n",
    "pgd.set_normalization_used(mean=norm_mean, std=norm_std)\n",
    "\n",
    "pgd_results = run_experiment(model, trainloader, testloader, pgd)\n",
    "\n",
    "with open(\"pgd_results.json\", \"w\") as json_file:\n",
    "    json.dump(pgd_results, json_file, indent=4)"
   ]
  }
 ],
 "metadata": {
  "kernelspec": {
   "display_name": "Python 3",
   "language": "python",
   "name": "python3"
  },
  "language_info": {
   "codemirror_mode": {
    "name": "ipython",
    "version": 3
   },
   "file_extension": ".py",
   "mimetype": "text/x-python",
   "name": "python",
   "nbconvert_exporter": "python",
   "pygments_lexer": "ipython3",
   "version": "3.9.4"
  }
 },
 "nbformat": 4,
 "nbformat_minor": 2
}
