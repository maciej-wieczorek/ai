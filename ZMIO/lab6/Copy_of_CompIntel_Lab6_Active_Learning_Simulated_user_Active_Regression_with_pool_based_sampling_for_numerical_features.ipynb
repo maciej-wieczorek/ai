{
  "cells": [
    {
      "cell_type": "markdown",
      "metadata": {
        "id": "k45UD3DuQ_P-"
      },
      "source": [
        "#CompIntel-Lab6: Active Learning: Simulated-user Active Regression with pool-based sampling for numerical features"
      ]
    },
    {
      "cell_type": "markdown",
      "metadata": {
        "id": "0ONWsRL6SDF4"
      },
      "source": [
        "Based on:\n",
        "\n",
        "* https://scikit-learn.org/stable/_downloads/21b82d82985712b5de6347f382c77c86/plot_partial_dependence.ipynb\n",
        "* https://modal-python.readthedocs.io/en/latest/content/examples/active_regression.html\n",
        "* https://modal-python.readthedocs.io/en/latest/content/examples/ensemble_regression.html\n",
        "* https://modal-python.readthedocs.io/en/latest/content/examples/query_by_committee.html\n",
        "* https://modal-python.readthedocs.io/en/latest/content/examples/bootstrapping_and_bagging.html"
      ]
    },
    {
      "cell_type": "code",
      "execution_count": null,
      "metadata": {
        "id": "j8EINShGSkgl"
      },
      "outputs": [],
      "source": [
        "%matplotlib inline"
      ]
    },
    {
      "cell_type": "code",
      "execution_count": null,
      "metadata": {
        "colab": {
          "base_uri": "https://localhost:8080/"
        },
        "id": "Ijs7XjaYbtNd",
        "outputId": "e5e74003-272e-45df-ed17-259a9d5a4209"
      },
      "outputs": [],
      "source": [
        "!pip install -U scikit-learn==1.0.2"
      ]
    },
    {
      "cell_type": "code",
      "execution_count": null,
      "metadata": {
        "id": "T3feT8ztSkgy"
      },
      "outputs": [],
      "source": [
        "import pandas as pd\n",
        "from sklearn.datasets import fetch_california_housing\n",
        "from sklearn.model_selection import train_test_split\n",
        "\n",
        "cal_housing = fetch_california_housing()\n",
        "X = pd.DataFrame(cal_housing.data, columns=cal_housing.feature_names)\n",
        "y = cal_housing.target\n",
        "\n",
        "#y -= y.mean()\n",
        "\n",
        "X_train, X_test, y_train, y_test = train_test_split(X, y, test_size=0.1, random_state=0)"
      ]
    },
    {
      "cell_type": "code",
      "execution_count": null,
      "metadata": {
        "colab": {
          "base_uri": "https://localhost:8080/",
          "height": 423
        },
        "id": "ADVlo3WkTED1",
        "outputId": "2dbaa651-35c6-4f26-9267-9fbaa22d619f"
      },
      "outputs": [],
      "source": [
        "X"
      ]
    },
    {
      "cell_type": "code",
      "execution_count": null,
      "metadata": {
        "colab": {
          "base_uri": "https://localhost:8080/",
          "height": 423
        },
        "id": "equ6it_qf_JK",
        "outputId": "343768fa-8a22-4936-bfec-b983f349684f"
      },
      "outputs": [],
      "source": [
        "X_train"
      ]
    },
    {
      "cell_type": "code",
      "execution_count": null,
      "metadata": {
        "colab": {
          "base_uri": "https://localhost:8080/"
        },
        "id": "eBsfIIE6gF0H",
        "outputId": "53daab48-a486-45c8-8279-05af98fd9130"
      },
      "outputs": [],
      "source": [
        "y_train"
      ]
    },
    {
      "cell_type": "code",
      "execution_count": null,
      "metadata": {
        "colab": {
          "base_uri": "https://localhost:8080/"
        },
        "id": "gakpZtN6Skg1",
        "outputId": "1efdea13-360b-40fd-99f9-5a8d0a89bd8a"
      },
      "outputs": [],
      "source": [
        "from time import time\n",
        "from sklearn.pipeline import make_pipeline\n",
        "from sklearn.preprocessing import QuantileTransformer\n",
        "from sklearn.neural_network import MLPRegressor\n",
        "\n",
        "print(\"Training MLPRegressor...\")\n",
        "tic = time()\n",
        "est = make_pipeline(\n",
        "    QuantileTransformer(),\n",
        "    MLPRegressor(\n",
        "        hidden_layer_sizes=(30, 15),\n",
        "        learning_rate_init=0.01,\n",
        "        early_stopping=True,\n",
        "        random_state=0,\n",
        "    ),\n",
        ")\n",
        "est.fit(X_train, y_train)\n",
        "print(f\"done in {time() - tic:.3f}s\")\n",
        "print(f\"Test R2 score: {est.score(X_test, y_test):.2f}\")"
      ]
    },
    {
      "cell_type": "code",
      "execution_count": null,
      "metadata": {
        "id": "9sNDs3A5td6w"
      },
      "outputs": [],
      "source": [
        "import numpy as np"
      ]
    },
    {
      "cell_type": "code",
      "execution_count": null,
      "metadata": {
        "colab": {
          "base_uri": "https://localhost:8080/"
        },
        "id": "01sfymJSfA_V",
        "outputId": "e438a9f1-04a0-4835-dcf1-378066fd7a33"
      },
      "outputs": [],
      "source": [
        "print([np.random.randint(10) for _ in range(10)])\n",
        "print([np.random.randint(10) for _ in range(10)])\n",
        "# Szwabe: What is it for?\n",
        "# 148141: Sprawdzenie czy losowaość działa"
      ]
    },
    {
      "cell_type": "markdown",
      "metadata": {
        "id": "3pJva5guVIOi"
      },
      "source": [
        "#One-dimensional active regression toy example\n",
        "\n",
        "In this example, we are going to demonstrate how can the ActiveLearner be used for active regression using Gaussian processes. Since Gaussian processes provide a way to quantify uncertainty of the predictions as the covariance function of the process, they can be used in an active learning setting."
      ]
    },
    {
      "cell_type": "code",
      "execution_count": null,
      "metadata": {
        "colab": {
          "base_uri": "https://localhost:8080/"
        },
        "id": "-Y2wAwUIU8z0",
        "outputId": "5eedabd2-d519-4f04-e949-7b99dc3f71a2"
      },
      "outputs": [],
      "source": [
        "#!pip install modAL\n",
        "!pip install modAL-python"
      ]
    },
    {
      "cell_type": "code",
      "execution_count": null,
      "metadata": {
        "id": "8rrkmfe_UCXF"
      },
      "outputs": [],
      "source": [
        "import numpy as np\n",
        "import matplotlib.pyplot as plt\n",
        "from sklearn.gaussian_process import GaussianProcessRegressor\n",
        "from sklearn.gaussian_process.kernels import WhiteKernel, RBF\n",
        "from modAL.models import ActiveLearner\n",
        "\n",
        "%matplotlib inline"
      ]
    },
    {
      "cell_type": "code",
      "execution_count": null,
      "metadata": {
        "id": "eoAsNi_fUg_P"
      },
      "outputs": [],
      "source": [
        "X = np.random.choice(np.linspace(0, 20, 10000), size=200, replace=False).reshape(-1, 1)\n",
        "y = np.sin(X) + np.random.normal(scale=0.3, size=X.shape)"
      ]
    },
    {
      "cell_type": "code",
      "execution_count": null,
      "metadata": {
        "colab": {
          "base_uri": "https://localhost:8080/",
          "height": 461
        },
        "id": "__kshZ3RUhBf",
        "outputId": "d856e8e1-d578-4a16-8ecd-79e56dc280fd"
      },
      "outputs": [],
      "source": [
        "with plt.style.context('seaborn-white'):\n",
        "    plt.figure(figsize=(10, 5))\n",
        "    plt.scatter(X, y, c='k', s=20)\n",
        "    plt.title('sin(x) + noise')\n",
        "    plt.show()"
      ]
    },
    {
      "cell_type": "code",
      "execution_count": null,
      "metadata": {
        "id": "3B11B3NQUqOf"
      },
      "outputs": [],
      "source": [
        "def GP_regression_std(regressor, X):\n",
        "    _, std = regressor.predict(X, return_std=True)\n",
        "    query_idx = np.argmax(std)\n",
        "    return query_idx, X[query_idx]"
      ]
    },
    {
      "cell_type": "code",
      "execution_count": null,
      "metadata": {
        "id": "ZLptAaSrUtaw"
      },
      "outputs": [],
      "source": [
        "n_initial = 5\n",
        "initial_idx = np.random.choice(range(len(X)), size=n_initial, replace=False)\n",
        "X_training, y_training = X[initial_idx], y[initial_idx]\n",
        "\n",
        "kernel = RBF(length_scale=1.0, length_scale_bounds=(1e-2, 1e3)) \\\n",
        "         + WhiteKernel(noise_level=1, noise_level_bounds=(1e-10, 1e+1))\n",
        "\n",
        "regressor = ActiveLearner(\n",
        "    estimator=GaussianProcessRegressor(kernel=kernel),\n",
        "    query_strategy=GP_regression_std,\n",
        "    X_training=X_training.reshape(-1, 1), y_training=y_training.reshape(-1, 1)\n",
        ")"
      ]
    },
    {
      "cell_type": "code",
      "execution_count": null,
      "metadata": {
        "id": "gH_afjYFUv6F"
      },
      "outputs": [],
      "source": [
        "X_grid = np.linspace(0, 20, 1000)\n",
        "y_pred, y_std = regressor.predict(X_grid.reshape(-1, 1), return_std=True)\n",
        "y_pred, y_std = y_pred.ravel(), y_std.ravel()"
      ]
    },
    {
      "cell_type": "code",
      "execution_count": null,
      "metadata": {
        "colab": {
          "base_uri": "https://localhost:8080/",
          "height": 461
        },
        "id": "6NDKz5C9UygO",
        "outputId": "45fee0d1-73fe-4515-f8ca-6e0629e12812"
      },
      "outputs": [],
      "source": [
        "with plt.style.context('seaborn-white'):\n",
        "    plt.figure(figsize=(10, 5))\n",
        "    plt.plot(X_grid, y_pred)\n",
        "    plt.fill_between(X_grid, y_pred - y_std, y_pred + y_std, alpha=0.2)\n",
        "    plt.scatter(X, y, c='k', s=20)\n",
        "    plt.title('Initial prediction')\n",
        "    plt.show()"
      ]
    },
    {
      "cell_type": "code",
      "execution_count": null,
      "metadata": {
        "id": "j41aSpSZU07f"
      },
      "outputs": [],
      "source": [
        "n_queries = 10\n",
        "for idx in range(n_queries):\n",
        "    query_idx, query_instance = regressor.query(X)\n",
        "    regressor.teach(X[query_idx].reshape(1, -1), y[query_idx].reshape(1, -1))"
      ]
    },
    {
      "cell_type": "code",
      "execution_count": null,
      "metadata": {
        "id": "QHesjxYKU26h"
      },
      "outputs": [],
      "source": [
        "y_pred_final, y_std_final = regressor.predict(X_grid.reshape(-1, 1), return_std=True)\n",
        "y_pred_final, y_std_final = y_pred_final.ravel(), y_std_final.ravel()"
      ]
    },
    {
      "cell_type": "code",
      "execution_count": null,
      "metadata": {
        "colab": {
          "base_uri": "https://localhost:8080/",
          "height": 692
        },
        "id": "HcGqKEKeU5qW",
        "outputId": "190e910d-39bb-4092-9338-72a5179a229d"
      },
      "outputs": [],
      "source": [
        "with plt.style.context('seaborn-white'):\n",
        "    plt.figure(figsize=(10, 8))\n",
        "    plt.plot(X_grid, y_pred_final)\n",
        "    plt.fill_between(X_grid, y_pred_final - y_std_final, y_pred_final + y_std_final, alpha=0.2)\n",
        "    plt.scatter(X, y, c='k', s=20)\n",
        "    plt.title('Prediction after active learning')\n",
        "    plt.show()"
      ]
    },
    {
      "cell_type": "markdown",
      "metadata": {
        "id": "aEfnAeqnQGSB"
      },
      "source": [
        "### Despite variance underestimation (light blue area), GPR with a 'standard' kernel function parameters space enables both: accurate expected value prediction (dark blue curve) and sufficient exploration:   "
      ]
    },
    {
      "cell_type": "code",
      "execution_count": null,
      "metadata": {
        "id": "DNDZ6DFGaAuY"
      },
      "outputs": [],
      "source": [
        "n_initial = 5\n",
        "initial_idx = np.random.choice(range(len(X)), size=n_initial, replace=False)\n",
        "X_training, y_training = X[initial_idx], y[initial_idx]\n",
        "\n",
        "kernel = RBF(length_scale=1.0, length_scale_bounds=(1e-2, 1e3)) \\\n",
        "         + WhiteKernel(noise_level=1, noise_level_bounds=(1e-10, 1e+1))\n",
        "\n",
        "regressor = ActiveLearner(\n",
        "    estimator=GaussianProcessRegressor(kernel=kernel),\n",
        "    query_strategy=GP_regression_std,\n",
        "    X_training=X_training.reshape(-1, 1), y_training=y_training.reshape(-1, 1)\n",
        ")"
      ]
    },
    {
      "cell_type": "code",
      "execution_count": null,
      "metadata": {
        "id": "vMqBKXXmaAud"
      },
      "outputs": [],
      "source": [
        "X_grid = np.linspace(0, 20, 1000)\n",
        "y_pred, y_std = regressor.predict(X_grid.reshape(-1, 1), return_std=True)\n",
        "y_pred, y_std = y_pred.ravel(), y_std.ravel()"
      ]
    },
    {
      "cell_type": "code",
      "execution_count": null,
      "metadata": {
        "colab": {
          "base_uri": "https://localhost:8080/",
          "height": 1000
        },
        "id": "DWU_vd1CQMkv",
        "outputId": "71ecbcc4-611a-427f-94e8-e352f21c910a"
      },
      "outputs": [],
      "source": [
        "n_queries = 11\n",
        "for idx in range(n_queries):\n",
        "    query_idx, query_instance = regressor.query(X)\n",
        "    regressor.teach(X[query_idx].reshape(1, -1), y[query_idx].reshape(1, -1))\n",
        "    y_pred_temp, y_std_temp = regressor.predict(X_grid.reshape(-1, 1), return_std=True)\n",
        "    y_pred_temp, y_std_temp = y_pred_temp.ravel(), y_std_temp.ravel()\n",
        "    y_pred_temp_aux, _ = regressor.predict(X.reshape(-1, 1), return_std=True)\n",
        "    y_pred_temp_aux = y_pred_temp_aux.ravel()\n",
        "    temp_X_train = regressor.X_training\n",
        "    temp_y_train = regressor.y_training\n",
        "    if idx > 0:\n",
        "      with plt.style.context('seaborn-white'):\n",
        "        plt.figure(figsize=(10, 8))\n",
        "        plt.plot(X_grid_old, y_pred_temp_old)\n",
        "        plt.fill_between(X_grid_old, y_pred_temp_old - y_std_temp_old, y_pred_temp_old + y_std_temp_old, alpha=0.2)\n",
        "        plt.scatter(X, y, c='k', s=20)\n",
        "        #plt.scatter(X[query_idx], y_pred_temp_aux_old[query_idx], c='r', s=100, marker=\"X\")\n",
        "        plt.scatter(temp_X_train, temp_y_train, c='green', s=100, marker=\"X\")\n",
        "        plt.scatter(X[query_idx], y_pred_temp_aux_old[query_idx], c='orange', s=200, marker=\"*\")\n",
        "        plt.title('Prediction after active learning' + \" - step \" + str(idx))\n",
        "        plt.show()\n",
        "    y_pred_temp_old = y_pred_temp\n",
        "    y_std_temp_old = y_std_temp\n",
        "    X_grid_old = X_grid\n",
        "    query_idx_old = query_idx\n",
        "    y_pred_temp_aux_old = y_pred_temp_aux"
      ]
    },
    {
      "cell_type": "code",
      "execution_count": null,
      "metadata": {
        "colab": {
          "base_uri": "https://localhost:8080/"
        },
        "id": "mj3F8fdeV9cl",
        "outputId": "b71d410e-e444-4795-b1a0-7f4b6c669ee3"
      },
      "outputs": [],
      "source": [
        "regressor.estimator.get_params()"
      ]
    },
    {
      "cell_type": "markdown",
      "metadata": {
        "id": "vsQpDuO6d5zG"
      },
      "source": [
        "#The impact of the Gaussian process regression kernel function parameters optimization on the variance prediction quality"
      ]
    },
    {
      "cell_type": "markdown",
      "metadata": {
        "id": "xFjrjDp-Rh6L"
      },
      "source": [
        "## GRP kernel parameters are not fixed - their ranges are:"
      ]
    },
    {
      "cell_type": "markdown",
      "metadata": {
        "id": "-Vgn-1vbhorV"
      },
      "source": [
        "\"kernelkernel instance, default=None\n",
        "\n",
        "The kernel specifying the covariance function of the GP. If None is passed, the kernel ConstantKernel(1.0, constant_value_bounds=\"fixed\" * RBF(1.0, length_scale_bounds=\"fixed\") is used as default. Note that the kernel hyperparameters are optimized during fitting unless the bounds are marked as “fixed”.\n",
        "alphafloat or ndarray of shape (n_samples,), default=1e-10\n",
        "\n",
        "Value added to the diagonal of the kernel matrix during fitting. This can prevent a potential numerical issue during fitting, by ensuring that the calculated values form a positive definite matrix. It can also be interpreted as the variance of additional Gaussian measurement noise on the training observations. Note that this is different from using a WhiteKernel. If an array is passed, it must have the same number of entries as the data used for fitting and is used as datapoint-dependent noise level. Allowing to specify the noise level directly as a parameter is mainly for convenience and for consistency with Ridge.\n",
        "optimizer“fmin_l_bfgs_b” or callable, default=”fmin_l_bfgs_b”\n",
        "\n",
        "Can either be one of the internally supported optimizers for optimizing the kernel’s parameters, specified by a string, or an externally defined optimizer passed as a callable. If a callable is passed, it must have the signature:\n",
        "\n",
        "    def optimizer(obj_func, initial_theta, bounds):\n",
        "        # * 'obj_func': the objective function to be minimized, which\n",
        "        #   takes the hyperparameters theta as a parameter and an\n",
        "        #   optional flag eval_gradient, which determines if the\n",
        "        #   gradient is returned additionally to the function value\n",
        "        # * 'initial_theta': the initial value for theta, which can be\n",
        "        #   used by local optimizers\n",
        "        # * 'bounds': the bounds on the values of theta\n",
        "        ....\n",
        "        # Returned are the best found hyperparameters theta and\n",
        "        # the corresponding value of the target function.\n",
        "        return theta_opt, func_min\n",
        "\n",
        "Per default, the L-BFGS-B algorithm from scipy.optimize.minimize is used. If None is passed, the kernel’s parameters are kept fixed. Available internal optimizers are: {'fmin_l_bfgs_b'}.\n",
        "n_restarts_optimizerint, default=0\n",
        "\n",
        "The number of restarts of the optimizer for finding the kernel’s parameters which maximize the log-marginal likelihood. The first run of the optimizer is performed from the kernel’s initial parameters, the remaining ones (if any) from thetas sampled log-uniform randomly from the space of allowed theta-values. If greater than 0, all bounds must be finite. Note that n_restarts_optimizer == 0 implies that one run is performed.\"\n",
        "\n",
        "[https://scikit-learn.org/stable/modules/generated/sklearn.gaussian_process.GaussianProcessRegressor.html]"
      ]
    },
    {
      "cell_type": "markdown",
      "metadata": {
        "id": "UW43ZQwLg8J6"
      },
      "source": [
        "###Szwabe: What may be the impact of setting the GPR kernel parameters to fixed values (i.e. turning off the default optimization function) to the AR performance? Does variance overestimation inavoidably lead to poor exploration?\n",
        "\n",
        "# 148141: Wariancja jest przeestymowana. Eksploracja działa jak random sampling, ale nie oznacza to że działa słabo."
      ]
    },
    {
      "cell_type": "code",
      "execution_count": null,
      "metadata": {
        "id": "eSzU7-Jpea1s"
      },
      "outputs": [],
      "source": [
        "kernel = RBF(length_scale=1.0,length_scale_bounds=\"fixed\") + WhiteKernel(noise_level=1, noise_level_bounds=\"fixed\")"
      ]
    },
    {
      "cell_type": "code",
      "execution_count": null,
      "metadata": {
        "id": "4kD94Lk6d3Rh"
      },
      "outputs": [],
      "source": [
        "n_initial = 5\n",
        "initial_idx = np.random.choice(range(len(X)), size=n_initial, replace=False)\n",
        "X_training, y_training = X[initial_idx], y[initial_idx]\n",
        "\n",
        "#kernel = RBF(length_scale=1.0, length_scale_bounds=(1e-2, 1e3)) \\\n",
        "#         + WhiteKernel(noise_level=1, noise_level_bounds=(1e-10, 1e+1))\n",
        "\n",
        "regressor = ActiveLearner(\n",
        "    estimator=GaussianProcessRegressor(kernel=kernel),\n",
        "    query_strategy=GP_regression_std,\n",
        "    X_training=X_training.reshape(-1, 1), y_training=y_training.reshape(-1, 1)\n",
        ")"
      ]
    },
    {
      "cell_type": "code",
      "execution_count": null,
      "metadata": {
        "id": "OZtxcKabd3Rl"
      },
      "outputs": [],
      "source": [
        "X_grid = np.linspace(0, 20, 1000)\n",
        "y_pred, y_std = regressor.predict(X_grid.reshape(-1, 1), return_std=True)\n",
        "y_pred, y_std = y_pred.ravel(), y_std.ravel()"
      ]
    },
    {
      "cell_type": "code",
      "execution_count": null,
      "metadata": {
        "colab": {
          "base_uri": "https://localhost:8080/",
          "height": 1000
        },
        "id": "i0HKqEDpd3Ro",
        "outputId": "101f476d-202d-4b29-d24f-4f4300e323f3"
      },
      "outputs": [],
      "source": [
        "n_queries = 11\n",
        "for idx in range(n_queries):\n",
        "    query_idx, query_instance = regressor.query(X)\n",
        "    regressor.teach(X[query_idx].reshape(1, -1), y[query_idx].reshape(1, -1))\n",
        "    y_pred_temp, y_std_temp = regressor.predict(X_grid.reshape(-1, 1), return_std=True)\n",
        "    y_pred_temp, y_std_temp = y_pred_temp.ravel(), y_std_temp.ravel()\n",
        "    y_pred_temp_aux, _ = regressor.predict(X.reshape(-1, 1), return_std=True)\n",
        "    y_pred_temp_aux = y_pred_temp_aux.ravel()\n",
        "    temp_X_train = regressor.X_training\n",
        "    temp_y_train = regressor.y_training\n",
        "    if idx > 0:\n",
        "      with plt.style.context('seaborn-white'):\n",
        "        plt.figure(figsize=(10, 8))\n",
        "        plt.plot(X_grid_old, y_pred_temp_old)\n",
        "        plt.fill_between(X_grid_old, y_pred_temp_old - y_std_temp_old, y_pred_temp_old + y_std_temp_old, alpha=0.2)\n",
        "        plt.scatter(X, y, c='k', s=20)\n",
        "        #plt.scatter(X[query_idx], y_pred_temp_aux_old[query_idx], c='r', s=100, marker=\"X\")\n",
        "        plt.scatter(temp_X_train, temp_y_train, c='green', s=100, marker=\"X\")\n",
        "        plt.scatter(X[query_idx], y_pred_temp_aux_old[query_idx], c='orange', s=200, marker=\"*\")\n",
        "        plt.title('Prediction after active learning' + \" - step \" + str(idx))\n",
        "        plt.show()\n",
        "    y_pred_temp_old = y_pred_temp\n",
        "    y_std_temp_old = y_std_temp\n",
        "    X_grid_old = X_grid\n",
        "    query_idx_old = query_idx\n",
        "    y_pred_temp_aux_old = y_pred_temp_aux"
      ]
    },
    {
      "cell_type": "markdown",
      "metadata": {
        "id": "dEq6IKX_TYFk"
      },
      "source": [
        "###Szwabe: Can a radical (10 orders of magnitude) increase of the lower range of the homoskedastic ('white') factor of the GPR kernel make both mean and variance predictions more robust? Is the improvement possible for very few training samples?\n",
        "\n",
        "### 148141: "
      ]
    },
    {
      "cell_type": "code",
      "execution_count": null,
      "metadata": {
        "id": "CsJ_TGVZeqq3"
      },
      "outputs": [],
      "source": [
        "kernel = RBF(length_scale=1.0,length_scale_bounds=(1e-2, 1e3)) + WhiteKernel(noise_level=1, noise_level_bounds=(1e-1, 1e+1))"
      ]
    },
    {
      "cell_type": "markdown",
      "metadata": {
        "id": "RUkhW2LGlOTv"
      },
      "source": []
    },
    {
      "cell_type": "code",
      "execution_count": null,
      "metadata": {
        "colab": {
          "base_uri": "https://localhost:8080/"
        },
        "id": "DWobGex3eqq6",
        "outputId": "4e435be0-35ff-4d69-91ff-6acf92ed604d"
      },
      "outputs": [],
      "source": [
        "n_initial = 5\n",
        "initial_idx = np.random.choice(range(len(X)), size=n_initial, replace=False)\n",
        "X_training, y_training = X[initial_idx], y[initial_idx]\n",
        "\n",
        "#kernel = RBF(length_scale=1.0, length_scale_bounds=(1e-2, 1e3)) \\\n",
        "#         + WhiteKernel(noise_level=1, noise_level_bounds=(1e-10, 1e+1))\n",
        "\n",
        "regressor = ActiveLearner(\n",
        "    estimator=GaussianProcessRegressor(kernel=kernel),\n",
        "    query_strategy=GP_regression_std,\n",
        "    X_training=X_training.reshape(-1, 1), y_training=y_training.reshape(-1, 1)\n",
        ")"
      ]
    },
    {
      "cell_type": "code",
      "execution_count": null,
      "metadata": {
        "id": "q5oSGVdfeqq8"
      },
      "outputs": [],
      "source": [
        "X_grid = np.linspace(0, 20, 1000)\n",
        "y_pred, y_std = regressor.predict(X_grid.reshape(-1, 1), return_std=True)\n",
        "y_pred, y_std = y_pred.ravel(), y_std.ravel()"
      ]
    },
    {
      "cell_type": "code",
      "execution_count": null,
      "metadata": {
        "colab": {
          "base_uri": "https://localhost:8080/",
          "height": 1000
        },
        "id": "20B-eVgveqq-",
        "outputId": "0da56c1b-6fcc-4800-9635-35d1848eb2ab"
      },
      "outputs": [],
      "source": [
        "n_queries = 11\n",
        "for idx in range(n_queries):\n",
        "    query_idx, query_instance = regressor.query(X)\n",
        "    regressor.teach(X[query_idx].reshape(1, -1), y[query_idx].reshape(1, -1))\n",
        "    y_pred_temp, y_std_temp = regressor.predict(X_grid.reshape(-1, 1), return_std=True)\n",
        "    y_pred_temp, y_std_temp = y_pred_temp.ravel(), y_std_temp.ravel()\n",
        "    y_pred_temp_aux, _ = regressor.predict(X.reshape(-1, 1), return_std=True)\n",
        "    y_pred_temp_aux = y_pred_temp_aux.ravel()\n",
        "    temp_X_train = regressor.X_training\n",
        "    temp_y_train = regressor.y_training\n",
        "    if idx > 0:\n",
        "      with plt.style.context('seaborn-white'):\n",
        "        plt.figure(figsize=(10, 8))\n",
        "        plt.plot(X_grid_old, y_pred_temp_old)\n",
        "        plt.fill_between(X_grid_old, y_pred_temp_old - y_std_temp_old, y_pred_temp_old + y_std_temp_old, alpha=0.2)\n",
        "        plt.scatter(X, y, c='k', s=20)\n",
        "        #plt.scatter(X[query_idx], y_pred_temp_aux_old[query_idx], c='r', s=100, marker=\"X\")\n",
        "        plt.scatter(temp_X_train, temp_y_train, c='green', s=100, marker=\"X\")\n",
        "        plt.scatter(X[query_idx], y_pred_temp_aux_old[query_idx], c='orange', s=200, marker=\"*\")\n",
        "        plt.title('Prediction after active learning' + \" - step \" + str(idx))\n",
        "        plt.show()\n",
        "    y_pred_temp_old = y_pred_temp\n",
        "    y_std_temp_old = y_std_temp\n",
        "    X_grid_old = X_grid\n",
        "    query_idx_old = query_idx\n",
        "    y_pred_temp_aux_old = y_pred_temp_aux"
      ]
    },
    {
      "cell_type": "markdown",
      "metadata": {
        "id": "Fog68agIojvK"
      },
      "source": [
        "## Szwabe: What if we knew the optimal kernel parameters... Wait! In this particular toy example we actually know them! Let's fix just the most important one. Can it improve the robustness of the predictions for a very low number of training samples? Is the exploration capability compromised by fixing the parameter of the homoskedastic 'ingredient' of the GPR kernel?  \n",
        "\n",
        "# 148141: Tak pomogło otrzymać dobre rezultaty znając niewiele próbek"
      ]
    },
    {
      "cell_type": "code",
      "execution_count": null,
      "metadata": {
        "id": "7nVBobbiol1p"
      },
      "outputs": [],
      "source": [
        "kernel = RBF(length_scale=1.0,length_scale_bounds=(1e-2, 1e3)) + WhiteKernel(noise_level=0.3, noise_level_bounds=\"fixed\")"
      ]
    },
    {
      "cell_type": "code",
      "execution_count": null,
      "metadata": {
        "id": "RbOg2NQ3ol1r"
      },
      "outputs": [],
      "source": [
        "n_initial = 5\n",
        "initial_idx = np.random.choice(range(len(X)), size=n_initial, replace=False)\n",
        "X_training, y_training = X[initial_idx], y[initial_idx]\n",
        "\n",
        "#kernel = RBF(length_scale=1.0, length_scale_bounds=(1e-2, 1e3)) \\\n",
        "#         + WhiteKernel(noise_level=1, noise_level_bounds=(1e-10, 1e+1))\n",
        "\n",
        "regressor = ActiveLearner(\n",
        "    estimator=GaussianProcessRegressor(kernel=kernel),\n",
        "    query_strategy=GP_regression_std,\n",
        "    X_training=X_training.reshape(-1, 1), y_training=y_training.reshape(-1, 1)\n",
        ")"
      ]
    },
    {
      "cell_type": "code",
      "execution_count": null,
      "metadata": {
        "id": "Q2YiHcSxol1u"
      },
      "outputs": [],
      "source": [
        "X_grid = np.linspace(0, 20, 1000)\n",
        "y_pred, y_std = regressor.predict(X_grid.reshape(-1, 1), return_std=True)\n",
        "y_pred, y_std = y_pred.ravel(), y_std.ravel()"
      ]
    },
    {
      "cell_type": "code",
      "execution_count": null,
      "metadata": {
        "colab": {
          "base_uri": "https://localhost:8080/",
          "height": 1000
        },
        "id": "1T-H-DULol1u",
        "outputId": "a09d3e66-100f-461e-e126-3f68fa96d009"
      },
      "outputs": [],
      "source": [
        "n_queries = 21\n",
        "for idx in range(n_queries):\n",
        "    query_idx, query_instance = regressor.query(X)\n",
        "    regressor.teach(X[query_idx].reshape(1, -1), y[query_idx].reshape(1, -1))\n",
        "    y_pred_temp, y_std_temp = regressor.predict(X_grid.reshape(-1, 1), return_std=True)\n",
        "    y_pred_temp, y_std_temp = y_pred_temp.ravel(), y_std_temp.ravel()\n",
        "    y_pred_temp_aux, _ = regressor.predict(X.reshape(-1, 1), return_std=True)\n",
        "    y_pred_temp_aux = y_pred_temp_aux.ravel()\n",
        "    temp_X_train = regressor.X_training\n",
        "    temp_y_train = regressor.y_training\n",
        "    if idx > 0:\n",
        "      with plt.style.context('seaborn-white'):\n",
        "        plt.figure(figsize=(10, 8))\n",
        "        plt.plot(X_grid_old, y_pred_temp_old)\n",
        "        plt.fill_between(X_grid_old, y_pred_temp_old - y_std_temp_old, y_pred_temp_old + y_std_temp_old, alpha=0.2)\n",
        "        plt.scatter(X, y, c='k', s=20)\n",
        "        #plt.scatter(X[query_idx], y_pred_temp_aux_old[query_idx], c='r', s=100, marker=\"X\")\n",
        "        plt.scatter(temp_X_train, temp_y_train, c='green', s=100, marker=\"X\")\n",
        "        plt.scatter(X[query_idx], y_pred_temp_aux_old[query_idx], c='orange', s=200, marker=\"*\")\n",
        "        plt.title('Prediction after active learning' + \" - step \" + str(idx))\n",
        "        plt.show()\n",
        "    y_pred_temp_old = y_pred_temp\n",
        "    y_std_temp_old = y_std_temp\n",
        "    X_grid_old = X_grid\n",
        "    query_idx_old = query_idx\n",
        "    y_pred_temp_aux_old = y_pred_temp_aux"
      ]
    },
    {
      "cell_type": "code",
      "execution_count": null,
      "metadata": {
        "colab": {
          "base_uri": "https://localhost:8080/"
        },
        "id": "9NnqI-QFpYNn",
        "outputId": "e1a21b98-7cfa-4f53-9edd-2ee8fd726092"
      },
      "outputs": [],
      "source": [
        "regressor.estimator.get_params()"
      ]
    },
    {
      "cell_type": "code",
      "execution_count": null,
      "metadata": {
        "colab": {
          "base_uri": "https://localhost:8080/"
        },
        "id": "A9Hf45Fd1Z5T",
        "outputId": "1fdf72ad-5e28-492f-d278-e0c4517d1bec"
      },
      "outputs": [],
      "source": [
        "np.pi"
      ]
    },
    {
      "cell_type": "markdown",
      "metadata": {
        "id": "BQufObhRpd51"
      },
      "source": [
        "##Szwabe: What if we fix the kernel length scale as well? To what value?\n",
        "# 148141: To rozwiązanie również pomaga uzyskać dobre resultaty po poznaniu niewielu punktów. Length scale = 1.0"
      ]
    },
    {
      "cell_type": "code",
      "execution_count": null,
      "metadata": {
        "colab": {
          "base_uri": "https://localhost:8080/",
          "height": 461
        },
        "id": "8J_iMt2ZqYrt",
        "outputId": "fb0d3c55-6be0-48e5-81e8-a8920c110e8d"
      },
      "outputs": [],
      "source": [
        "with plt.style.context('seaborn-white'):\n",
        "    plt.figure(figsize=(10, 5))\n",
        "    plt.scatter(X, np.sin(X), c='k', s=20)\n",
        "    plt.title('sin(x)')\n",
        "    plt.show()"
      ]
    },
    {
      "cell_type": "code",
      "execution_count": null,
      "metadata": {
        "id": "eW8yX07XtNIt"
      },
      "outputs": [],
      "source": [
        "import scipy.stats as stats\n",
        "import math"
      ]
    },
    {
      "cell_type": "code",
      "execution_count": null,
      "metadata": {
        "colab": {
          "base_uri": "https://localhost:8080/"
        },
        "id": "1HxhbHaltVd8",
        "outputId": "65d68769-90fe-4ae6-89ec-3bec59681dac"
      },
      "outputs": [],
      "source": [
        "#temp_length_scale = math.sqrt(np.pi/2)\n",
        "temp_length_scale = 1.0\n",
        "temp_kernel = RBF(length_scale=temp_length_scale)\n",
        "temp_estimator = GaussianProcessRegressor(kernel=temp_kernel)\n",
        "temp_estimator.fit([[np.pi/2]],[1.0])"
      ]
    },
    {
      "cell_type": "code",
      "execution_count": null,
      "metadata": {
        "colab": {
          "base_uri": "https://localhost:8080/",
          "height": 440
        },
        "id": "Cp3CgAaOqtTx",
        "outputId": "317ad97d-996f-4e0a-896d-ab0e4d8320a7"
      },
      "outputs": [],
      "source": [
        "X_aux = np.linspace(-np.pi/2, np.pi*1.5, 100)\n",
        "mu = np.pi/2\n",
        "variance = 1\n",
        "sigma = math.sqrt(variance)\n",
        "sigma2 = sigma\n",
        "with plt.style.context('seaborn-white'):\n",
        "    plt.figure(figsize=(10, 5))\n",
        "    plt.plot(X_aux, np.sin(X_aux), label=\"sin(x)\")\n",
        "    plt.plot(X_aux, 2*stats.norm.pdf(X_aux, mu, sigma2)/stats.norm.pdf(mu, mu, sigma2)-1.0, label=\"scaled N(pi/2,\"+str(sigma2*2)+\"1)(x)-1.0\")\n",
        "    plt.plot(X_aux, 0.01 + 2*temp_estimator.predict(X_aux.reshape(-1, 1))-1.0, label=\"2*RBF(length_scale=\"+str(temp_length_scale)+\")-1.0\")\n",
        "    plt.legend()\n",
        "    plt.show()"
      ]
    },
    {
      "cell_type": "code",
      "execution_count": null,
      "metadata": {
        "colab": {
          "base_uri": "https://localhost:8080/"
        },
        "id": "1I-BUezpJ4ln",
        "outputId": "ccaeba85-2470-4cd0-ca8e-3169aa2cf0b4"
      },
      "outputs": [],
      "source": [
        "temp_estimator.get_params()"
      ]
    },
    {
      "cell_type": "code",
      "execution_count": null,
      "metadata": {
        "id": "w7CMzeFhpcKz"
      },
      "outputs": [],
      "source": [
        "#kernel = RBF(length_scale=np.pi,length_scale_bounds=\"fixed\") + WhiteKernel(noise_level=0.3, noise_level_bounds=\"fixed\")\n",
        "kernel = RBF(length_scale=1.0,length_scale_bounds=\"fixed\") + WhiteKernel()"
      ]
    },
    {
      "cell_type": "code",
      "execution_count": null,
      "metadata": {
        "colab": {
          "base_uri": "https://localhost:8080/"
        },
        "id": "XgX2VlYzpcK1",
        "outputId": "0d4b1a2c-d3b2-4a6b-f82f-064319da1b58"
      },
      "outputs": [],
      "source": [
        "n_initial = 5\n",
        "initial_idx = np.random.choice(range(len(X)), size=n_initial, replace=False)\n",
        "X_training, y_training = X[initial_idx], y[initial_idx]\n",
        "\n",
        "#kernel = RBF(length_scale=1.0, length_scale_bounds=(1e-2, 1e3)) \\\n",
        "#         + WhiteKernel(noise_level=1, noise_level_bounds=(1e-10, 1e+1))\n",
        "\n",
        "regressor = ActiveLearner(\n",
        "    estimator=GaussianProcessRegressor(kernel=kernel),\n",
        "    query_strategy=GP_regression_std,\n",
        "    X_training=X_training.reshape(-1, 1), y_training=y_training.reshape(-1, 1)\n",
        ")"
      ]
    },
    {
      "cell_type": "code",
      "execution_count": null,
      "metadata": {
        "id": "TvYtOSOIpcK3"
      },
      "outputs": [],
      "source": [
        "X_grid = np.linspace(0, 20, 1000)\n",
        "y_pred, y_std = regressor.predict(X_grid.reshape(-1, 1), return_std=True)\n",
        "y_pred, y_std = y_pred.ravel(), y_std.ravel()"
      ]
    },
    {
      "cell_type": "code",
      "execution_count": null,
      "metadata": {
        "colab": {
          "base_uri": "https://localhost:8080/",
          "height": 1000
        },
        "id": "QlTR0ukHpcK4",
        "outputId": "4c72b6c0-17d6-412d-d58a-81bd352ec028"
      },
      "outputs": [],
      "source": [
        "n_queries = 11\n",
        "for idx in range(n_queries):\n",
        "    query_idx, query_instance = regressor.query(X)\n",
        "    regressor.teach(X[query_idx].reshape(1, -1), y[query_idx].reshape(1, -1))\n",
        "    y_pred_temp, y_std_temp = regressor.predict(X_grid.reshape(-1, 1), return_std=True)\n",
        "    y_pred_temp, y_std_temp = y_pred_temp.ravel(), y_std_temp.ravel()\n",
        "    y_pred_temp_aux, _ = regressor.predict(X.reshape(-1, 1), return_std=True)\n",
        "    y_pred_temp_aux = y_pred_temp_aux.ravel()\n",
        "    temp_X_train = regressor.X_training\n",
        "    temp_y_train = regressor.y_training\n",
        "    if idx > 0:\n",
        "      with plt.style.context('seaborn-white'):\n",
        "        plt.figure(figsize=(10, 8))\n",
        "        plt.plot(X_grid_old, y_pred_temp_old)\n",
        "        plt.fill_between(X_grid_old, y_pred_temp_old - y_std_temp_old, y_pred_temp_old + y_std_temp_old, alpha=0.2)\n",
        "        plt.scatter(X, y, c='k', s=20)\n",
        "        #plt.scatter(X[query_idx], y_pred_temp_aux_old[query_idx], c='r', s=100, marker=\"X\")\n",
        "        plt.scatter(temp_X_train, temp_y_train, c='green', s=100, marker=\"X\")\n",
        "        plt.scatter(X[query_idx], y_pred_temp_aux_old[query_idx], c='orange', s=200, marker=\"*\")\n",
        "        plt.title('Prediction after active learning' + \" - step \" + str(idx))\n",
        "        plt.show()\n",
        "    y_pred_temp_old = y_pred_temp\n",
        "    y_std_temp_old = y_std_temp\n",
        "    X_grid_old = X_grid\n",
        "    query_idx_old = query_idx\n",
        "    y_pred_temp_aux_old = y_pred_temp_aux"
      ]
    },
    {
      "cell_type": "code",
      "execution_count": null,
      "metadata": {
        "colab": {
          "base_uri": "https://localhost:8080/"
        },
        "id": "dO6KCwuZHTFA",
        "outputId": "de315e47-17af-4091-d09a-a0a41a2d56e8"
      },
      "outputs": [],
      "source": [
        "regressor.estimator.get_params()"
      ]
    },
    {
      "cell_type": "code",
      "execution_count": null,
      "metadata": {
        "id": "3zjagQh8Kd4y"
      },
      "outputs": [],
      "source": [
        "from sklearn.gaussian_process.kernels import ExpSineSquared\n",
        "\n",
        "seasonal_kernel = (RBF(length_scale=1.0, length_scale_bounds=\"fixed\") * ExpSineSquared(length_scale=np.pi, periodicity=1.0))"
      ]
    },
    {
      "cell_type": "code",
      "execution_count": null,
      "metadata": {
        "id": "azU-KO0uLKWa"
      },
      "outputs": [],
      "source": [
        "#kernel = RBF(length_scale=np.pi,length_scale_bounds=\"fixed\") + WhiteKernel(noise_level=0.3, noise_level_bounds=\"fixed\")\n",
        "#kernel = ExpSineSquared(length_scale=1.0, periodicity=np.pi/2, periodicity_bounds=\"fixed\")\n",
        "kernel = seasonal_kernel"
      ]
    },
    {
      "cell_type": "code",
      "execution_count": null,
      "metadata": {
        "id": "SXcNrOWNLKWb"
      },
      "outputs": [],
      "source": [
        "n_initial = 5\n",
        "initial_idx = np.random.choice(range(len(X)), size=n_initial, replace=False)\n",
        "X_training, y_training = X[initial_idx], y[initial_idx]\n",
        "\n",
        "#kernel = RBF(length_scale=1.0, length_scale_bounds=(1e-2, 1e3)) \\\n",
        "#         + WhiteKernel(noise_level=1, noise_level_bounds=(1e-10, 1e+1))\n",
        "\n",
        "regressor = ActiveLearner(\n",
        "    estimator=GaussianProcessRegressor(kernel=kernel),\n",
        "    query_strategy=GP_regression_std,\n",
        "    X_training=X_training.reshape(-1, 1), y_training=y_training.reshape(-1, 1)\n",
        ")"
      ]
    },
    {
      "cell_type": "code",
      "execution_count": null,
      "metadata": {
        "id": "xD-GSjHyLKWd"
      },
      "outputs": [],
      "source": [
        "X_grid = np.linspace(0, 20, 1000)\n",
        "y_pred, y_std = regressor.predict(X_grid.reshape(-1, 1), return_std=True)\n",
        "y_pred, y_std = y_pred.ravel(), y_std.ravel()"
      ]
    },
    {
      "cell_type": "code",
      "execution_count": null,
      "metadata": {
        "colab": {
          "base_uri": "https://localhost:8080/",
          "height": 1000
        },
        "id": "mP_JvwfHLKWd",
        "outputId": "b3ee517b-0bc9-45a7-bdcd-13c4613c92ef"
      },
      "outputs": [],
      "source": [
        "n_queries = 11\n",
        "for idx in range(n_queries):\n",
        "    query_idx, query_instance = regressor.query(X)\n",
        "    regressor.teach(X[query_idx].reshape(1, -1), y[query_idx].reshape(1, -1))\n",
        "    y_pred_temp, y_std_temp = regressor.predict(X_grid.reshape(-1, 1), return_std=True)\n",
        "    y_pred_temp, y_std_temp = y_pred_temp.ravel(), y_std_temp.ravel()\n",
        "    y_pred_temp_aux, _ = regressor.predict(X.reshape(-1, 1), return_std=True)\n",
        "    y_pred_temp_aux = y_pred_temp_aux.ravel()\n",
        "    temp_X_train = regressor.X_training\n",
        "    temp_y_train = regressor.y_training\n",
        "    if idx > 0:\n",
        "      with plt.style.context('seaborn-white'):\n",
        "        plt.figure(figsize=(10, 8))\n",
        "        plt.plot(X_grid_old, y_pred_temp_old)\n",
        "        plt.fill_between(X_grid_old, y_pred_temp_old - y_std_temp_old, y_pred_temp_old + y_std_temp_old, alpha=0.2)\n",
        "        plt.scatter(X, y, c='k', s=20)\n",
        "        #plt.scatter(X[query_idx], y_pred_temp_aux_old[query_idx], c='r', s=100, marker=\"X\")\n",
        "        plt.scatter(temp_X_train, temp_y_train, c='green', s=100, marker=\"X\")\n",
        "        plt.scatter(X[query_idx], y_pred_temp_aux_old[query_idx], c='orange', s=200, marker=\"*\")\n",
        "        plt.title('Prediction after active learning' + \" - step \" + str(idx))\n",
        "        plt.show()\n",
        "    y_pred_temp_old = y_pred_temp\n",
        "    y_std_temp_old = y_std_temp\n",
        "    X_grid_old = X_grid\n",
        "    query_idx_old = query_idx\n",
        "    y_pred_temp_aux_old = y_pred_temp_aux"
      ]
    },
    {
      "cell_type": "code",
      "execution_count": null,
      "metadata": {
        "colab": {
          "base_uri": "https://localhost:8080/"
        },
        "id": "ppUwiUWyLKWf",
        "outputId": "d7864bda-3497-411c-a6e5-cdcfbd49dcd0"
      },
      "outputs": [],
      "source": [
        "regressor.estimator.get_params()"
      ]
    },
    {
      "cell_type": "markdown",
      "metadata": {
        "id": "vvs8I3vTnQaz"
      },
      "source": [
        "#Szwabe: Can using an tree-based variance-aware regressor (computationally much less complex) instead of GPR help? What is the difference between the default configurations of ET regressors for the generic use of Scikit-Learn and for the case of using ETR for BO? Why? Why are the exploration capabilities of AR based on ETR of BO-like parameters limited?  "
      ]
    },
    {
      "cell_type": "code",
      "execution_count": null,
      "metadata": {
        "colab": {
          "base_uri": "https://localhost:8080/"
        },
        "id": "dF2lVUBGihMC",
        "outputId": "a1c78769-c7de-4660-e6e8-de82c274fa79"
      },
      "outputs": [],
      "source": [
        "!pip install scikit-optimize"
      ]
    },
    {
      "cell_type": "code",
      "execution_count": null,
      "metadata": {
        "colab": {
          "base_uri": "https://localhost:8080/"
        },
        "id": "vMyHP8Wckpmr",
        "outputId": "623ba0e0-2998-4160-e840-4c95c9f1b7ef"
      },
      "outputs": [],
      "source": [
        "!pip install scikit-learn"
      ]
    },
    {
      "cell_type": "code",
      "execution_count": null,
      "metadata": {
        "id": "nsWpazG-lupP"
      },
      "outputs": [],
      "source": [
        "import sklearn"
      ]
    },
    {
      "cell_type": "code",
      "execution_count": null,
      "metadata": {
        "colab": {
          "base_uri": "https://localhost:8080/"
        },
        "id": "wzawUBVafZRV",
        "outputId": "57a3cd6f-f1e6-45fa-b458-af7f0edb9f2d"
      },
      "outputs": [],
      "source": [
        "SklearnExtraTreesRegressor = sklearn.ensemble.ExtraTreesRegressor()\n",
        "SklearnExtraTreesRegressor.get_params()"
      ]
    },
    {
      "cell_type": "code",
      "execution_count": null,
      "metadata": {
        "id": "bUhGrtNHi1RV"
      },
      "outputs": [],
      "source": [
        "from skopt.learning import ExtraTreesRegressor"
      ]
    },
    {
      "cell_type": "code",
      "execution_count": null,
      "metadata": {
        "id": "mSq4y112Y-V2"
      },
      "outputs": [],
      "source": [
        "TreeBasedRegressor = ExtraTreesRegressor()"
      ]
    },
    {
      "cell_type": "code",
      "execution_count": null,
      "metadata": {
        "colab": {
          "base_uri": "https://localhost:8080/"
        },
        "id": "2tnY4OSvZCco",
        "outputId": "3342b3b9-4fcc-4e3c-8ea6-cb94628c04dd"
      },
      "outputs": [],
      "source": [
        "TreeBasedRegressor.get_params()"
      ]
    },
    {
      "cell_type": "code",
      "execution_count": null,
      "metadata": {
        "id": "znhvwfBSi9B4"
      },
      "outputs": [],
      "source": [
        "TreeBasedRegressor = ExtraTreesRegressor(n_estimators=10, min_samples_split=2, min_samples_leaf=1)"
      ]
    },
    {
      "cell_type": "code",
      "execution_count": null,
      "metadata": {
        "id": "zwOdY0AYbUJJ"
      },
      "outputs": [],
      "source": [
        "#!pip install -U scikit-learn==1.0.2"
      ]
    },
    {
      "cell_type": "code",
      "execution_count": null,
      "metadata": {
        "colab": {
          "base_uri": "https://localhost:8080/"
        },
        "id": "jtlOyRZZihpx",
        "outputId": "26cdd7f6-1d69-4dab-b92c-624283df4405"
      },
      "outputs": [],
      "source": [
        "n_initial = 5\n",
        "initial_idx = np.random.choice(range(len(X)), size=n_initial, replace=False)\n",
        "X_training, y_training = X[initial_idx], y[initial_idx]\n",
        "\n",
        "#kernel = RBF(length_scale=1.0, length_scale_bounds=(1e-2, 1e3)) \\\n",
        "#         + WhiteKernel(noise_level=1, noise_level_bounds=(1e-10, 1e+1))\n",
        "\n",
        "regressor = ActiveLearner(\n",
        "    estimator=TreeBasedRegressor,\n",
        "    query_strategy=GP_regression_std,\n",
        "    X_training=X_training.reshape(-1, 1), y_training=y_training.reshape(-1, 1)\n",
        ")"
      ]
    },
    {
      "cell_type": "code",
      "execution_count": null,
      "metadata": {
        "id": "ktu9Dlz2ihpz"
      },
      "outputs": [],
      "source": [
        "X_grid = np.linspace(0, 20, 1000)\n",
        "y_pred, y_std = regressor.predict(X_grid.reshape(-1, 1), return_std=True)\n",
        "y_pred, y_std = y_pred.ravel(), y_std.ravel()"
      ]
    },
    {
      "cell_type": "code",
      "execution_count": null,
      "metadata": {
        "colab": {
          "base_uri": "https://localhost:8080/",
          "height": 1000
        },
        "id": "NALf1fb-ihp0",
        "outputId": "e87f7ac0-244e-4292-986c-420fbce038ad"
      },
      "outputs": [],
      "source": [
        "n_queries = 11\n",
        "for idx in range(n_queries):\n",
        "    query_idx, query_instance = regressor.query(X)\n",
        "    regressor.teach(X[query_idx].reshape(1, -1), y[query_idx].reshape(1, -1))\n",
        "    y_pred_temp, y_std_temp = regressor.predict(X_grid.reshape(-1, 1), return_std=True)\n",
        "    y_pred_temp, y_std_temp = y_pred_temp.ravel(), y_std_temp.ravel()\n",
        "    y_pred_temp_aux, _ = regressor.predict(X.reshape(-1, 1), return_std=True)\n",
        "    y_pred_temp_aux = y_pred_temp_aux.ravel()\n",
        "    temp_X_train = regressor.X_training\n",
        "    temp_y_train = regressor.y_training\n",
        "    if idx > 0:\n",
        "      with plt.style.context('seaborn-white'):\n",
        "        plt.figure(figsize=(10, 8))\n",
        "        plt.plot(X_grid_old, y_pred_temp_old)\n",
        "        plt.fill_between(X_grid_old, y_pred_temp_old - y_std_temp_old, y_pred_temp_old + y_std_temp_old, alpha=0.2)\n",
        "        plt.scatter(X, y, c='k', s=20)\n",
        "        #plt.scatter(X[query_idx], y_pred_temp_aux_old[query_idx], c='r', s=100, marker=\"X\")\n",
        "        plt.scatter(temp_X_train, temp_y_train, c='green', s=100, marker=\"X\")\n",
        "        plt.scatter(X[query_idx], y_pred_temp_aux_old[query_idx], c='orange', s=200, marker=\"*\")\n",
        "        plt.title('Prediction after active learning' + \" - step \" + str(idx))\n",
        "        plt.show()\n",
        "    y_pred_temp_old = y_pred_temp\n",
        "    y_std_temp_old = y_std_temp\n",
        "    X_grid_old = X_grid\n",
        "    query_idx_old = query_idx\n",
        "    y_pred_temp_aux_old = y_pred_temp_aux"
      ]
    },
    {
      "cell_type": "code",
      "execution_count": null,
      "metadata": {
        "id": "d7Ox84bAjbSw"
      },
      "outputs": [],
      "source": []
    },
    {
      "cell_type": "markdown",
      "metadata": {
        "id": "XSiusyAwnpBL"
      },
      "source": [
        "##Szwabe: The impact of the tree-based regressor... hyperparameters (!) (kind-of chicken and egg or infinite number of optimizers of other optimizers)\n",
        "### What makes the AR exploration problem different from analogical BO exploration problem?\n",
        "### Poor exploration capablities of AR based on ETR of 'genereric' hyperparameters' configuration:\n"
      ]
    },
    {
      "cell_type": "code",
      "execution_count": null,
      "metadata": {
        "id": "zu8DL40Bjbon"
      },
      "outputs": [],
      "source": [
        "TreeBasedRegressor = ExtraTreesRegressor(n_estimators=100, min_samples_split=2, min_samples_leaf=1)"
      ]
    },
    {
      "cell_type": "code",
      "execution_count": null,
      "metadata": {
        "colab": {
          "base_uri": "https://localhost:8080/"
        },
        "id": "IIwNrtLAjbop",
        "outputId": "227b5957-21b2-47bc-896f-b5b02285623f"
      },
      "outputs": [],
      "source": [
        "n_initial = 5\n",
        "initial_idx = np.random.choice(range(len(X)), size=n_initial, replace=False)\n",
        "X_training, y_training = X[initial_idx], y[initial_idx]\n",
        "\n",
        "#kernel = RBF(length_scale=1.0, length_scale_bounds=(1e-2, 1e3)) \\\n",
        "#         + WhiteKernel(noise_level=1, noise_level_bounds=(1e-10, 1e+1))\n",
        "\n",
        "regressor = ActiveLearner(\n",
        "    estimator=TreeBasedRegressor,\n",
        "    query_strategy=GP_regression_std,\n",
        "    X_training=X_training.reshape(-1, 1), y_training=y_training.reshape(-1, 1)\n",
        ")"
      ]
    },
    {
      "cell_type": "code",
      "execution_count": null,
      "metadata": {
        "id": "iTbx1TTUjboq"
      },
      "outputs": [],
      "source": [
        "X_grid = np.linspace(0, 20, 1000)\n",
        "y_pred, y_std = regressor.predict(X_grid.reshape(-1, 1), return_std=True)\n",
        "y_pred, y_std = y_pred.ravel(), y_std.ravel()"
      ]
    },
    {
      "cell_type": "code",
      "execution_count": null,
      "metadata": {
        "colab": {
          "base_uri": "https://localhost:8080/",
          "height": 1000
        },
        "id": "CuwlrC7wjbos",
        "outputId": "2b3ca0eb-ddbb-4856-c7a0-2f6b32a9f59e"
      },
      "outputs": [],
      "source": [
        "n_queries = 11\n",
        "for idx in range(n_queries):\n",
        "    query_idx, query_instance = regressor.query(X)\n",
        "    regressor.teach(X[query_idx].reshape(1, -1), y[query_idx].reshape(1, -1))\n",
        "    y_pred_temp, y_std_temp = regressor.predict(X_grid.reshape(-1, 1), return_std=True)\n",
        "    y_pred_temp, y_std_temp = y_pred_temp.ravel(), y_std_temp.ravel()\n",
        "    y_pred_temp_aux, _ = regressor.predict(X.reshape(-1, 1), return_std=True)\n",
        "    y_pred_temp_aux = y_pred_temp_aux.ravel()\n",
        "    temp_X_train = regressor.X_training\n",
        "    temp_y_train = regressor.y_training\n",
        "    if idx > 0:\n",
        "      with plt.style.context('seaborn-white'):\n",
        "        plt.figure(figsize=(10, 8))\n",
        "        plt.plot(X_grid_old, y_pred_temp_old)\n",
        "        plt.fill_between(X_grid_old, y_pred_temp_old - y_std_temp_old, y_pred_temp_old + y_std_temp_old, alpha=0.2)\n",
        "        plt.scatter(X, y, c='k', s=20)\n",
        "        #plt.scatter(X[query_idx], y_pred_temp_aux_old[query_idx], c='r', s=100, marker=\"X\")\n",
        "        plt.scatter(temp_X_train, temp_y_train, c='green', s=100, marker=\"X\")\n",
        "        plt.scatter(X[query_idx], y_pred_temp_aux_old[query_idx], c='orange', s=200, marker=\"*\")\n",
        "        plt.title('Prediction after active learning' + \" - step \" + str(idx))\n",
        "        plt.show()\n",
        "    y_pred_temp_old = y_pred_temp\n",
        "    y_std_temp_old = y_std_temp\n",
        "    X_grid_old = X_grid\n",
        "    query_idx_old = query_idx\n",
        "    y_pred_temp_aux_old = y_pred_temp_aux"
      ]
    },
    {
      "cell_type": "markdown",
      "metadata": {
        "id": "9tVp9AaVrVgM"
      },
      "source": [
        "### Can changing values of ETR hyperparameters other than the most important one help?"
      ]
    },
    {
      "cell_type": "code",
      "execution_count": null,
      "metadata": {
        "id": "UQhKxhCxjzCP"
      },
      "outputs": [],
      "source": [
        "TreeBasedRegressor = ExtraTreesRegressor(n_estimators=10, min_samples_split=2*2, min_samples_leaf=1*1)"
      ]
    },
    {
      "cell_type": "code",
      "execution_count": null,
      "metadata": {
        "colab": {
          "base_uri": "https://localhost:8080/"
        },
        "id": "QVM-85-hjzCR",
        "outputId": "608f966b-c4a3-4e26-b40d-8b4aff39d14b"
      },
      "outputs": [],
      "source": [
        "n_initial = 5\n",
        "initial_idx = np.random.choice(range(len(X)), size=n_initial, replace=False)\n",
        "X_training, y_training = X[initial_idx], y[initial_idx]\n",
        "\n",
        "#kernel = RBF(length_scale=1.0, length_scale_bounds=(1e-2, 1e3)) \\\n",
        "#         + WhiteKernel(noise_level=1, noise_level_bounds=(1e-10, 1e+1))\n",
        "\n",
        "regressor = ActiveLearner(\n",
        "    estimator=TreeBasedRegressor,\n",
        "    query_strategy=GP_regression_std,\n",
        "    X_training=X_training.reshape(-1, 1), y_training=y_training.reshape(-1, 1)\n",
        ")"
      ]
    },
    {
      "cell_type": "code",
      "execution_count": null,
      "metadata": {
        "id": "7cxSU9B6jzCS"
      },
      "outputs": [],
      "source": [
        "X_grid = np.linspace(0, 20, 1000)\n",
        "y_pred, y_std = regressor.predict(X_grid.reshape(-1, 1), return_std=True)\n",
        "y_pred, y_std = y_pred.ravel(), y_std.ravel()"
      ]
    },
    {
      "cell_type": "code",
      "execution_count": null,
      "metadata": {
        "colab": {
          "base_uri": "https://localhost:8080/",
          "height": 1000
        },
        "id": "KWNNHArXjzCU",
        "outputId": "c90c752e-3513-402f-bc3b-b4f73bb4b07b"
      },
      "outputs": [],
      "source": [
        "n_queries = 11\n",
        "for idx in range(n_queries):\n",
        "    query_idx, query_instance = regressor.query(X)\n",
        "    regressor.teach(X[query_idx].reshape(1, -1), y[query_idx].reshape(1, -1))\n",
        "    y_pred_temp, y_std_temp = regressor.predict(X_grid.reshape(-1, 1), return_std=True)\n",
        "    y_pred_temp, y_std_temp = y_pred_temp.ravel(), y_std_temp.ravel()\n",
        "    y_pred_temp_aux, _ = regressor.predict(X.reshape(-1, 1), return_std=True)\n",
        "    y_pred_temp_aux = y_pred_temp_aux.ravel()\n",
        "    temp_X_train = regressor.X_training\n",
        "    temp_y_train = regressor.y_training\n",
        "    if idx > 0:\n",
        "      with plt.style.context('seaborn-white'):\n",
        "        plt.figure(figsize=(10, 8))\n",
        "        plt.plot(X_grid_old, y_pred_temp_old)\n",
        "        plt.fill_between(X_grid_old, y_pred_temp_old - y_std_temp_old, y_pred_temp_old + y_std_temp_old, alpha=0.2)\n",
        "        plt.scatter(X, y, c='k', s=20)\n",
        "        #plt.scatter(X[query_idx], y_pred_temp_aux_old[query_idx], c='r', s=100, marker=\"X\")\n",
        "        plt.scatter(temp_X_train, temp_y_train, c='green', s=100, marker=\"X\")\n",
        "        plt.scatter(X[query_idx], y_pred_temp_aux_old[query_idx], c='orange', s=200, marker=\"*\")\n",
        "        plt.title('Prediction after active learning' + \" - step \" + str(idx))\n",
        "        plt.show()\n",
        "    y_pred_temp_old = y_pred_temp\n",
        "    y_std_temp_old = y_std_temp\n",
        "    X_grid_old = X_grid\n",
        "    query_idx_old = query_idx\n",
        "    y_pred_temp_aux_old = y_pred_temp_aux"
      ]
    },
    {
      "cell_type": "code",
      "execution_count": null,
      "metadata": {
        "id": "3p7ZqRE-bwWt"
      },
      "outputs": [],
      "source": [
        "X = pd.DataFrame(cal_housing.data, columns=cal_housing.feature_names).values\n",
        "y = cal_housing.target"
      ]
    },
    {
      "cell_type": "code",
      "execution_count": null,
      "metadata": {
        "id": "j05bzAKtbHQZ"
      },
      "outputs": [],
      "source": [
        "n_initial = 5\n",
        "initial_idx = np.random.choice(range(len(X)), size=n_initial, replace=False)\n",
        "X_training, y_training = X[initial_idx], y[initial_idx]\n",
        "\n",
        "kernel = RBF(length_scale=1.0, length_scale_bounds=(1e-2, 1e3)) \\\n",
        "         + WhiteKernel(noise_level=1, noise_level_bounds=(1e-10, 1e+1))"
      ]
    },
    {
      "cell_type": "markdown",
      "metadata": {
        "id": "mkHzuOomUYiu"
      },
      "source": [
        "#The not-so-correct methodology of AR evaluation presented in ModAL\n",
        "\n",
        "Based on https://modal-python.readthedocs.io/en/latest/content/examples/pool-based_sampling.html"
      ]
    },
    {
      "cell_type": "code",
      "execution_count": null,
      "metadata": {
        "id": "HQDcIr_-U1ui"
      },
      "outputs": [],
      "source": [
        "learner = ActiveLearner(\n",
        "    estimator=GaussianProcessRegressor(kernel=kernel),\n",
        "    query_strategy=GP_regression_std,\n",
        "    X_training=X_training, y_training=y_training.reshape(-1, 1)\n",
        ")"
      ]
    },
    {
      "cell_type": "markdown",
      "metadata": {
        "id": "AmHOqMwjd1NO"
      },
      "source": [
        "Mind the score method in https://scikit-learn.org/stable/modules/generated/sklearn.gaussian_process.GaussianProcessRegressor.html#sklearn.gaussian_process.GaussianProcessRegressor.score"
      ]
    },
    {
      "cell_type": "code",
      "execution_count": null,
      "metadata": {
        "id": "7FG0-cUcVqBP"
      },
      "outputs": [],
      "source": [
        "X_raw = pd.DataFrame(cal_housing.data, columns=cal_housing.feature_names)\n",
        "y_raw = cal_housing.target"
      ]
    },
    {
      "cell_type": "code",
      "execution_count": null,
      "metadata": {
        "colab": {
          "base_uri": "https://localhost:8080/",
          "height": 423
        },
        "id": "eNb0-ymOgRb8",
        "outputId": "88c4adae-3aa6-42e5-ef89-a3fcc4e8dd2b"
      },
      "outputs": [],
      "source": [
        "X_raw"
      ]
    },
    {
      "cell_type": "code",
      "execution_count": null,
      "metadata": {
        "colab": {
          "base_uri": "https://localhost:8080/"
        },
        "id": "oEY72jxsgW7b",
        "outputId": "6851231d-44e0-4e97-d1a8-c5c53af284db"
      },
      "outputs": [],
      "source": [
        "y_raw"
      ]
    },
    {
      "cell_type": "code",
      "execution_count": null,
      "metadata": {
        "id": "32M-vzYcUPsI"
      },
      "outputs": [],
      "source": [
        "X = pd.DataFrame(cal_housing.data, columns=cal_housing.feature_names).values\n",
        "y = cal_housing.target"
      ]
    },
    {
      "cell_type": "code",
      "execution_count": null,
      "metadata": {
        "colab": {
          "base_uri": "https://localhost:8080/"
        },
        "id": "IeiRPa9t1Lb2",
        "outputId": "e2ef5a84-146c-4f3c-9215-495cde85263a"
      },
      "outputs": [],
      "source": [
        "initial_idx"
      ]
    },
    {
      "cell_type": "code",
      "execution_count": null,
      "metadata": {
        "colab": {
          "base_uri": "https://localhost:8080/"
        },
        "id": "vAKmbpC3d6N1",
        "outputId": "5f212e57-c2d3-4332-c4a4-028370d66767"
      },
      "outputs": [],
      "source": [
        "X_training.shape"
      ]
    },
    {
      "cell_type": "code",
      "execution_count": null,
      "metadata": {
        "colab": {
          "base_uri": "https://localhost:8080/"
        },
        "id": "lU8gpt4yecbB",
        "outputId": "6f848cec-bfdb-4784-ca78-02a39f29a967"
      },
      "outputs": [],
      "source": [
        "X.shape"
      ]
    },
    {
      "cell_type": "code",
      "execution_count": null,
      "metadata": {
        "colab": {
          "base_uri": "https://localhost:8080/"
        },
        "id": "YpdOSemrep2-",
        "outputId": "4545a55d-e41e-44ff-baf6-6a33be3378cd"
      },
      "outputs": [],
      "source": [
        "X_training.reshape(-1, 1).shape"
      ]
    },
    {
      "cell_type": "code",
      "execution_count": null,
      "metadata": {
        "id": "pyETj_Gkdy9I"
      },
      "outputs": [],
      "source": [
        "regressor = ActiveLearner(\n",
        "    estimator=GaussianProcessRegressor(kernel=kernel),\n",
        "    query_strategy=GP_regression_std,\n",
        "    X_training=X_training, y_training=y_training.reshape(-1, 1)\n",
        ")"
      ]
    },
    {
      "cell_type": "code",
      "execution_count": null,
      "metadata": {
        "id": "2KbrXuWUVxpk"
      },
      "outputs": [],
      "source": [
        "n_queries = 10\n",
        "for idx in range(n_queries):\n",
        "    query_idx, query_instance = regressor.query(X)\n",
        "    regressor.teach(X[query_idx].reshape(1, -1), y[query_idx].reshape(1, -1))"
      ]
    },
    {
      "cell_type": "code",
      "execution_count": null,
      "metadata": {
        "id": "mA8847PwiRze"
      },
      "outputs": [],
      "source": [
        "from sklearn.metrics import mean_squared_error, mean_absolute_error"
      ]
    },
    {
      "cell_type": "code",
      "execution_count": null,
      "metadata": {
        "colab": {
          "base_uri": "https://localhost:8080/"
        },
        "id": "faW0B-1Te3kh",
        "outputId": "ce1f24b7-29a9-45f7-df27-d117e84642de"
      },
      "outputs": [],
      "source": [
        "#regressor = ActiveLearner(\n",
        "#    estimator=GaussianProcessRegressor(kernel=kernel),\n",
        "#    query_strategy=GP_regression_std,\n",
        "#    X_training=X_training, y_training=y_training.reshape(-1, 1)\n",
        "#)\n",
        "\n",
        "n_initial = 5\n",
        "initial_idx = np.random.choice(range(len(X)), size=n_initial, replace=False)\n",
        "initial_idx = np.array([18234, 3571, 18557, 13201, 12983])\n",
        "#old_X_training, old_y_training = X[initial_idx], y[initial_idx]\n",
        "\n",
        "MSE_scores_of_GaussianProcessRegressor = []\n",
        "MAE_scores_of_GaussianProcessRegressor = []\n",
        "\n",
        "known_idx = initial_idx.tolist()\n",
        "print(\"known_idx: \", known_idx)\n",
        "\n",
        "X_train = X[known_idx]\n",
        "y_train = y[known_idx]\n",
        "\n",
        "\n",
        "unknown_idx = set(range(len(X))).difference(set(known_idx))\n",
        "print(\"unknown_idx: \", unknown_idx)\n",
        "\n",
        "X_query = X[list(unknown_idx)]\n",
        "y_query = y[list(unknown_idx)]\n",
        "\n",
        "#n_queries = 1000\n",
        "n_queries = 100\n",
        "for idx in range(n_queries):\n",
        "    X_train = X[known_idx]\n",
        "    y_train = y[known_idx]\n",
        "    regressor = ActiveLearner(estimator=GaussianProcessRegressor(kernel=kernel), query_strategy=GP_regression_std, X_training=X_train, y_training=y_train.reshape(-1, 1))\n",
        "    query_idx, query_instance = regressor.query(X)\n",
        "    known_idx.append(query_idx)\n",
        "    #print(\"query_instance: \", query_instance)\n",
        "\n",
        "    #regressor.teach(X[query_idx].reshape(1, -1), y[query_idx].reshape(1, -1))\n",
        "    temp_shape = X_train.shape\n",
        "    print(\"X_train_shape: \", temp_shape)\n",
        "    temp_shape = X_query.shape\n",
        "    print(\"X_query_shape: \", temp_shape)\n",
        "    #y_query =\n",
        "    #temp_predictions =\n",
        "    #temp_score = mean_squared_error(y_query, temp_predictions)\n",
        "    #MSE_scores_of_GaussianProcessRegressor.append(temp_score)\n",
        "    #temp_score = mean_absolute_error(y_query, temp_predictions)\n",
        "    #MAE_scores_of_GaussianProcessRegressor.append(temp_score)\n",
        "    print(\"known_idx: \", known_idx)\n",
        "    #X_query = X_query[np.arange(len(X)) not in known_idx]\n",
        "    #y_query = y_query[np.arange(len(y)) not in known_idx]"
      ]
    },
    {
      "cell_type": "markdown",
      "metadata": {
        "id": "jRZ9PCToZYEz"
      },
      "source": [
        "###The order of samples in the raw/original dataset should be random, so one should be suspicious about any order of samples selected by the query strategy:\n",
        "\n"
      ]
    },
    {
      "cell_type": "code",
      "execution_count": null,
      "metadata": {
        "colab": {
          "base_uri": "https://localhost:8080/",
          "height": 447
        },
        "id": "aUxTlIzTBxPB",
        "outputId": "5a29f547-2b57-46e4-c6e8-25c993d3bdb6"
      },
      "outputs": [],
      "source": [
        "plt.plot(known_idx[20:])"
      ]
    },
    {
      "cell_type": "code",
      "execution_count": null,
      "metadata": {
        "colab": {
          "base_uri": "https://localhost:8080/"
        },
        "id": "ekO3FfbHDxYQ",
        "outputId": "043e4984-8685-478b-db80-9789450a50f2"
      },
      "outputs": [],
      "source": [
        "8510 in unknown_idx"
      ]
    },
    {
      "cell_type": "code",
      "execution_count": null,
      "metadata": {
        "colab": {
          "base_uri": "https://localhost:8080/"
        },
        "id": "siPFhhpnHj_9",
        "outputId": "be47550b-9259-48a6-cab3-dbbb5f2819cb"
      },
      "outputs": [],
      "source": [
        "X.shape"
      ]
    },
    {
      "cell_type": "code",
      "execution_count": null,
      "metadata": {
        "colab": {
          "base_uri": "https://localhost:8080/"
        },
        "id": "KQFYOEFJIhy0",
        "outputId": "5099dcda-f3c2-442d-9a3c-2a6c2c080720"
      },
      "outputs": [],
      "source": [
        "X_query.shape"
      ]
    },
    {
      "cell_type": "code",
      "execution_count": null,
      "metadata": {
        "id": "EXzW6dJeIsC3"
      },
      "outputs": [],
      "source": [
        "#np.arange(len(X)) not in np.array(known_idx)"
      ]
    },
    {
      "cell_type": "code",
      "execution_count": null,
      "metadata": {
        "colab": {
          "base_uri": "https://localhost:8080/"
        },
        "id": "QsxE0dch_q3j",
        "outputId": "f06f26ac-23f7-408f-c854-d3e2f945b58b"
      },
      "outputs": [],
      "source": [
        "set(known_idx)"
      ]
    },
    {
      "cell_type": "code",
      "execution_count": null,
      "metadata": {
        "colab": {
          "base_uri": "https://localhost:8080/"
        },
        "id": "WrVEXT-4k85L",
        "outputId": "0bc31e1f-fbd1-4d5b-ffc8-a6fe3988f806"
      },
      "outputs": [],
      "source": [
        "regressor.X_training.shape"
      ]
    },
    {
      "cell_type": "code",
      "execution_count": null,
      "metadata": {
        "colab": {
          "base_uri": "https://localhost:8080/"
        },
        "id": "BlyaE7Dm-Tq1",
        "outputId": "f9a9df3a-914e-4ffd-80d4-d2c6456c2947"
      },
      "outputs": [],
      "source": [
        "known_idx"
      ]
    },
    {
      "cell_type": "code",
      "execution_count": null,
      "metadata": {
        "colab": {
          "base_uri": "https://localhost:8080/"
        },
        "id": "LrmmYiAAkvS-",
        "outputId": "5aa22984-180e-47de-ba8a-e88af5550366"
      },
      "outputs": [],
      "source": [
        "regressor.estimator"
      ]
    },
    {
      "cell_type": "markdown",
      "metadata": {
        "id": "PeZj53Q0r7tT"
      },
      "source": [
        "#Sanity check based on Scikit-Optimize - with additional randomization of the order of samples in the dataset ('just in case'). One should remain suspicious about any order of samples selected by the query strategy:"
      ]
    },
    {
      "cell_type": "code",
      "execution_count": null,
      "metadata": {
        "colab": {
          "base_uri": "https://localhost:8080/"
        },
        "id": "9NER231tsEGb",
        "outputId": "73fe5ea4-a47b-4950-dd4b-6115dacad6ee"
      },
      "outputs": [],
      "source": [
        "#regressor = ActiveLearner(\n",
        "#    estimator=GaussianProcessRegressor(kernel=kernel),\n",
        "#    query_strategy=GP_regression_std,\n",
        "#    X_training=X_training, y_training=y_training.reshape(-1, 1)\n",
        "#)\n",
        "\n",
        "n_initial = 5\n",
        "initial_idx = np.random.choice(range(len(X)), size=n_initial, replace=False)\n",
        "initial_idx = np.array([18234, 3571, 18557, 13201, 12983])\n",
        "\n",
        "#old_X_training, old_y_training = X[initial_idx], y[initial_idx]\n",
        "\n",
        "MSE_scores_of_GaussianProcessRegressor = []\n",
        "MAE_scores_of_GaussianProcessRegressor = []\n",
        "\n",
        "known_idx = initial_idx.tolist()\n",
        "print(\"known_idx: \", known_idx)\n",
        "\n",
        "X_train = X[known_idx]\n",
        "y_train = y[known_idx]\n",
        "\n",
        "\n",
        "unknown_idx = set(range(len(X))).difference(set(known_idx))\n",
        "print(\"unknown_idx: \", unknown_idx)\n",
        "\n",
        "X_query = X[list(unknown_idx)]\n",
        "y_query = y[list(unknown_idx)]\n",
        "\n",
        "#n_queries = 1000\n",
        "n_queries = 100\n",
        "for idx in range(n_queries):\n",
        "    X_train = X[known_idx]\n",
        "    y_train = y[known_idx]\n",
        "    regressor = GaussianProcessRegressor(kernel=kernel)\n",
        "    X_training = X_train\n",
        "    y_training = y_train.reshape(-1, 1)\n",
        "    regressor.fit(X_training, y_training)\n",
        "    #query_idx, query_instance = regressor.query(X)\n",
        "    X_query = X[list(unknown_idx)]\n",
        "    y_query = y[list(unknown_idx)]\n",
        "    y_pred, y_pred_STD = regressor.predict(X_query, return_std=True)\n",
        "    highest_STD_unknown_idx = np.argmax(y_pred_STD)\n",
        "    query_idx = list(unknown_idx)[highest_STD_unknown_idx]\n",
        "    known_idx.append(query_idx)\n",
        "    #print(\"query_instance: \", query_instance)\n",
        "\n",
        "    #regressor.teach(X[query_idx].reshape(1, -1), y[query_idx].reshape(1, -1))\n",
        "    temp_shape = X_train.shape\n",
        "    print(\"X_train_shape: \", temp_shape)\n",
        "    temp_shape = X_query.shape\n",
        "    print(\"X_query_shape: \", temp_shape)\n",
        "    #y_query =\n",
        "    #temp_predictions =\n",
        "    #temp_score = mean_squared_error(y_query, temp_predictions)\n",
        "    #MSE_scores_of_GaussianProcessRegressor.append(temp_score)\n",
        "    #temp_score = mean_absolute_error(y_query, temp_predictions)\n",
        "    #MAE_scores_of_GaussianProcessRegressor.append(temp_score)\n",
        "    print(\"known_idx: \", known_idx)\n",
        "    #X_query = X_query[np.arange(len(X)) not in known_idx]\n",
        "    #y_query = y_query[np.arange(len(y)) not in known_idx]"
      ]
    },
    {
      "cell_type": "code",
      "execution_count": null,
      "metadata": {
        "colab": {
          "base_uri": "https://localhost:8080/",
          "height": 447
        },
        "id": "4vrnsSNa1ceD",
        "outputId": "30b4d6d6-5730-4785-afb2-d36ba6968017"
      },
      "outputs": [],
      "source": [
        "plt.plot(known_idx[20:])"
      ]
    },
    {
      "cell_type": "code",
      "execution_count": null,
      "metadata": {
        "id": "rORJO7MURyTk"
      },
      "outputs": [],
      "source": [
        "cal_housing = fetch_california_housing()"
      ]
    },
    {
      "cell_type": "code",
      "execution_count": null,
      "metadata": {
        "colab": {
          "base_uri": "https://localhost:8080/"
        },
        "id": "9EQehNAkR77F",
        "outputId": "456bb445-dfe8-4c06-8fd4-ebc7937522aa"
      },
      "outputs": [],
      "source": [
        "cal_housing.data"
      ]
    },
    {
      "cell_type": "code",
      "execution_count": null,
      "metadata": {
        "colab": {
          "base_uri": "https://localhost:8080/",
          "height": 423
        },
        "id": "L9P574wsTbI-",
        "outputId": "4f815527-01b3-4300-eddc-61786a3bb817"
      },
      "outputs": [],
      "source": [
        "pd.DataFrame(cal_housing.data, columns=cal_housing.feature_names)"
      ]
    },
    {
      "cell_type": "code",
      "execution_count": null,
      "metadata": {
        "colab": {
          "base_uri": "https://localhost:8080/",
          "height": 423
        },
        "id": "XOMhIlI2SLVS",
        "outputId": "e2de8c91-7b95-42cf-c188-08be82ab471d"
      },
      "outputs": [],
      "source": [
        "cal_housing_df = pd.concat([pd.DataFrame(cal_housing.data, columns=cal_housing.feature_names), pd.DataFrame(cal_housing.target, columns=[\"target\"])], axis=1)\n",
        "cal_housing_df"
      ]
    },
    {
      "cell_type": "code",
      "execution_count": null,
      "metadata": {
        "colab": {
          "base_uri": "https://localhost:8080/"
        },
        "id": "68yvj3ecwRbm",
        "outputId": "5c166995-b618-49d3-c812-6555877e9eac"
      },
      "outputs": [],
      "source": [
        "print(cal_housing.DESCR)"
      ]
    },
    {
      "cell_type": "markdown",
      "metadata": {
        "id": "RlA8n54EayQ4"
      },
      "source": [
        "### Quick exploratory data analysis (EDA) of the dataset:"
      ]
    },
    {
      "cell_type": "code",
      "execution_count": null,
      "metadata": {
        "id": "zCiB9uDkUx5f"
      },
      "outputs": [],
      "source": [
        "import seaborn as sns"
      ]
    },
    {
      "cell_type": "code",
      "execution_count": null,
      "metadata": {
        "colab": {
          "base_uri": "https://localhost:8080/",
          "height": 1000
        },
        "id": "DobAndTvV_E7",
        "outputId": "576d5edd-c19b-46c9-a9e9-3bdfaf3168c8"
      },
      "outputs": [],
      "source": [
        "#sns.pairplot(cal_housing_df, hue='target', palette=\"tab10\")\n",
        "sns.pairplot(cal_housing_df)"
      ]
    },
    {
      "cell_type": "code",
      "execution_count": null,
      "metadata": {
        "id": "zI0bQnfxQ521"
      },
      "outputs": [],
      "source": [
        "#cal_housing_df = pd.DataFrame(cal_housing.data, columns=cal_housing.feature_names)"
      ]
    },
    {
      "cell_type": "code",
      "execution_count": null,
      "metadata": {
        "colab": {
          "base_uri": "https://localhost:8080/",
          "height": 423
        },
        "id": "HJbxYTuIRE1k",
        "outputId": "2f136549-0d7f-4e34-8807-8b2c249f1ab6"
      },
      "outputs": [],
      "source": [
        "cal_housing_df.sample(frac=1).reset_index(drop=True)"
      ]
    },
    {
      "cell_type": "code",
      "execution_count": null,
      "metadata": {
        "id": "niCwVm1mB9jC"
      },
      "outputs": [],
      "source": [
        "X = cal_housing_df[cal_housing.feature_names].values\n",
        "y = cal_housing_df.target.values"
      ]
    },
    {
      "cell_type": "code",
      "execution_count": null,
      "metadata": {
        "id": "C8L-7rl_JJyp"
      },
      "outputs": [],
      "source": [
        "#X, _X, y, _y = train_test_split(X, y, test_size=0.5)"
      ]
    },
    {
      "cell_type": "code",
      "execution_count": null,
      "metadata": {
        "colab": {
          "base_uri": "https://localhost:8080/"
        },
        "id": "82NxVZGEJKLd",
        "outputId": "949a9e92-c25a-4584-a024-01eb258bbe6b"
      },
      "outputs": [],
      "source": [
        "#regressor = ActiveLearner(\n",
        "#    estimator=GaussianProcessRegressor(kernel=kernel),\n",
        "#    query_strategy=GP_regression_std,\n",
        "#    X_training=X_training, y_training=y_training.reshape(-1, 1)\n",
        "#)\n",
        "\n",
        "n_initial = 5\n",
        "initial_idx = np.random.choice(range(len(X)), size=n_initial, replace=False)\n",
        "#initial_idx = np.array([18234, 3571, 18557, 13201, 12983])\n",
        "#old_X_training, old_y_training = X[initial_idx], y[initial_idx]\n",
        "\n",
        "MSE_scores_of_GaussianProcessRegressor = []\n",
        "MAE_scores_of_GaussianProcessRegressor = []\n",
        "\n",
        "known_idx = initial_idx.tolist()\n",
        "print(\"known_idx: \", known_idx)\n",
        "\n",
        "X_train = X[known_idx]\n",
        "y_train = y[known_idx]\n",
        "\n",
        "\n",
        "unknown_idx = set(range(len(X))).difference(set(known_idx))\n",
        "print(\"unknown_idx: \", unknown_idx)\n",
        "\n",
        "X_query = X[list(unknown_idx)]\n",
        "y_query = y[list(unknown_idx)]\n",
        "\n",
        "#n_queries = 1000\n",
        "n_queries = 100\n",
        "for idx in range(n_queries):\n",
        "    X_train = X[known_idx]\n",
        "    y_train = y[known_idx]\n",
        "    regressor = ActiveLearner(estimator=GaussianProcessRegressor(kernel=kernel), query_strategy=GP_regression_std, X_training=X_train, y_training=y_train.reshape(-1, 1))\n",
        "    query_idx, query_instance = regressor.query(X)\n",
        "    known_idx.append(query_idx)\n",
        "    #print(\"query_instance: \", query_instance)\n",
        "\n",
        "    #regressor.teach(X[query_idx].reshape(1, -1), y[query_idx].reshape(1, -1))\n",
        "    temp_shape = X_train.shape\n",
        "    print(\"X_train_shape: \", temp_shape)\n",
        "    temp_shape = X_query.shape\n",
        "    print(\"X_query_shape: \", temp_shape)\n",
        "    #y_query =\n",
        "    #temp_predictions =\n",
        "    #temp_score = mean_squared_error(y_query, temp_predictions)\n",
        "    #MSE_scores_of_GaussianProcessRegressor.append(temp_score)\n",
        "    #temp_score = mean_absolute_error(y_query, temp_predictions)\n",
        "    #MAE_scores_of_GaussianProcessRegressor.append(temp_score)\n",
        "    print(\"known_idx: \", known_idx)\n",
        "    #X_query = X_query[np.arange(len(X)) not in known_idx]\n",
        "    #y_query = y_query[np.arange(len(y)) not in known_idx]"
      ]
    },
    {
      "cell_type": "code",
      "execution_count": null,
      "metadata": {
        "colab": {
          "base_uri": "https://localhost:8080/",
          "height": 447
        },
        "id": "rtiSf0HyJKLh",
        "outputId": "a7e92b29-5852-4fba-9cc4-50403ff96022"
      },
      "outputs": [],
      "source": [
        "plt.plot(known_idx[20:])"
      ]
    },
    {
      "cell_type": "code",
      "execution_count": null,
      "metadata": {
        "colab": {
          "base_uri": "https://localhost:8080/"
        },
        "id": "UEGWoBrDJKLj",
        "outputId": "5079da91-adda-4b17-9745-5f955bdba876"
      },
      "outputs": [],
      "source": [
        "8510 in unknown_idx"
      ]
    },
    {
      "cell_type": "code",
      "execution_count": null,
      "metadata": {
        "colab": {
          "base_uri": "https://localhost:8080/"
        },
        "id": "RRaa0FmQJKLl",
        "outputId": "aa270f9f-7761-423a-8064-b0001757d0cb"
      },
      "outputs": [],
      "source": [
        "X.shape"
      ]
    },
    {
      "cell_type": "code",
      "execution_count": null,
      "metadata": {
        "colab": {
          "base_uri": "https://localhost:8080/"
        },
        "id": "qVd4tU9yJKLn",
        "outputId": "22e172d2-764f-43f3-e5f1-d4115e729e22"
      },
      "outputs": [],
      "source": [
        "X_query.shape"
      ]
    },
    {
      "cell_type": "code",
      "execution_count": null,
      "metadata": {
        "id": "7EpbORKWJKLp"
      },
      "outputs": [],
      "source": [
        "#np.arange(len(X)) not in np.array(known_idx)"
      ]
    },
    {
      "cell_type": "code",
      "execution_count": null,
      "metadata": {
        "colab": {
          "base_uri": "https://localhost:8080/"
        },
        "id": "VlSunWaLJKLr",
        "outputId": "7348de08-101d-434a-e3ba-5b7318d8b46e"
      },
      "outputs": [],
      "source": [
        "set(known_idx)"
      ]
    },
    {
      "cell_type": "code",
      "execution_count": null,
      "metadata": {
        "colab": {
          "base_uri": "https://localhost:8080/"
        },
        "id": "Mefki9QFJKLt",
        "outputId": "455afc26-834b-4610-ea18-e5f625fc1736"
      },
      "outputs": [],
      "source": [
        "regressor.X_training.shape"
      ]
    },
    {
      "cell_type": "code",
      "execution_count": null,
      "metadata": {
        "colab": {
          "base_uri": "https://localhost:8080/"
        },
        "id": "gIGIH7HsJKLv",
        "outputId": "a1c79859-d82f-4121-ebc4-6dea310b4e0d"
      },
      "outputs": [],
      "source": [
        "known_idx"
      ]
    },
    {
      "cell_type": "code",
      "execution_count": null,
      "metadata": {
        "colab": {
          "base_uri": "https://localhost:8080/"
        },
        "id": "A92ms-rFJKLw",
        "outputId": "b728ad42-8f8a-43b8-b902-6ecfedec3f97"
      },
      "outputs": [],
      "source": [
        "regressor.estimator"
      ]
    },
    {
      "cell_type": "markdown",
      "metadata": {
        "id": "_cCJWcGpJKLy"
      },
      "source": [
        "#Sanity check based on Scikit-Optimize"
      ]
    },
    {
      "cell_type": "code",
      "execution_count": null,
      "metadata": {
        "colab": {
          "base_uri": "https://localhost:8080/"
        },
        "id": "9LY3Mah_JKLz",
        "outputId": "36f86c70-e6fa-4c60-9bbf-95eca6e61cef"
      },
      "outputs": [],
      "source": [
        "#regressor = ActiveLearner(\n",
        "#    estimator=GaussianProcessRegressor(kernel=kernel),\n",
        "#    query_strategy=GP_regression_std,\n",
        "#    X_training=X_training, y_training=y_training.reshape(-1, 1)\n",
        "#)\n",
        "\n",
        "n_initial = 5\n",
        "initial_idx = np.random.choice(range(len(X)), size=n_initial, replace=False)\n",
        "#initial_idx = np.array([18234, 3571, 18557, 13201, 12983])\n",
        "\n",
        "#old_X_training, old_y_training = X[initial_idx], y[initial_idx]\n",
        "\n",
        "MSE_scores_of_GaussianProcessRegressor = []\n",
        "MAE_scores_of_GaussianProcessRegressor = []\n",
        "\n",
        "known_idx = initial_idx.tolist()\n",
        "print(\"known_idx: \", known_idx)\n",
        "\n",
        "X_train = X[known_idx]\n",
        "y_train = y[known_idx]\n",
        "\n",
        "\n",
        "unknown_idx = set(range(len(X))).difference(set(known_idx))\n",
        "print(\"unknown_idx: \", unknown_idx)\n",
        "\n",
        "X_query = X[list(unknown_idx)]\n",
        "y_query = y[list(unknown_idx)]\n",
        "\n",
        "#n_queries = 1000\n",
        "n_queries = 100\n",
        "for idx in range(n_queries):\n",
        "    X_train = X[known_idx]\n",
        "    y_train = y[known_idx]\n",
        "    regressor = GaussianProcessRegressor(kernel=kernel)\n",
        "    X_training = X_train\n",
        "    y_training = y_train.reshape(-1, 1)\n",
        "    regressor.fit(X_training, y_training)\n",
        "    #query_idx, query_instance = regressor.query(X)\n",
        "    X_query = X[list(unknown_idx)]\n",
        "    y_query = y[list(unknown_idx)]\n",
        "    y_pred, y_pred_STD = regressor.predict(X_query, return_std=True)\n",
        "    highest_STD_unknown_idx = np.argmax(y_pred_STD)\n",
        "    query_idx = list(unknown_idx)[highest_STD_unknown_idx]\n",
        "    known_idx.append(query_idx)\n",
        "    #print(\"query_instance: \", query_instance)\n",
        "\n",
        "    #regressor.teach(X[query_idx].reshape(1, -1), y[query_idx].reshape(1, -1))\n",
        "    temp_shape = X_train.shape\n",
        "    print(\"X_train_shape: \", temp_shape)\n",
        "    temp_shape = X_query.shape\n",
        "    print(\"X_query_shape: \", temp_shape)\n",
        "    #y_query =\n",
        "    #temp_predictions =\n",
        "    #temp_score = mean_squared_error(y_query, temp_predictions)\n",
        "    #MSE_scores_of_GaussianProcessRegressor.append(temp_score)\n",
        "    #temp_score = mean_absolute_error(y_query, temp_predictions)\n",
        "    #MAE_scores_of_GaussianProcessRegressor.append(temp_score)\n",
        "    print(\"known_idx: \", known_idx)\n",
        "    #X_query = X_query[np.arange(len(X)) not in known_idx]\n",
        "    #y_query = y_query[np.arange(len(y)) not in known_idx]"
      ]
    },
    {
      "cell_type": "code",
      "execution_count": null,
      "metadata": {
        "colab": {
          "base_uri": "https://localhost:8080/",
          "height": 447
        },
        "id": "d3BS77n9JKL2",
        "outputId": "71b35c24-e968-44f8-cd6e-7dba5f0ff878"
      },
      "outputs": [],
      "source": [
        "plt.plot(known_idx[20:])"
      ]
    },
    {
      "cell_type": "code",
      "execution_count": null,
      "metadata": {
        "colab": {
          "base_uri": "https://localhost:8080/",
          "height": 447
        },
        "id": "lP1d8asm9txd",
        "outputId": "981e22fd-f45b-48e9-a04c-e8370fdee354"
      },
      "outputs": [],
      "source": [
        "plt.plot(y_pred_STD)"
      ]
    },
    {
      "cell_type": "code",
      "execution_count": null,
      "metadata": {
        "id": "f1m_O_ED9uRO"
      },
      "outputs": [],
      "source": [
        "kernel = RBF(length_scale=1.0,) + WhiteKernel(noise_level=1, noise_level_bounds=(1e-2, 1e+1))"
      ]
    },
    {
      "cell_type": "code",
      "execution_count": null,
      "metadata": {
        "colab": {
          "base_uri": "https://localhost:8080/"
        },
        "id": "BkOzt-bTp20F",
        "outputId": "25dd02f6-ab32-4ab7-ce66-21c27c12874b"
      },
      "outputs": [],
      "source": [
        "#regressor = ActiveLearner(\n",
        "#    estimator=GaussianProcessRegressor(kernel=kernel),\n",
        "#    query_strategy=GP_regression_std,\n",
        "#    X_training=X_training, y_training=y_training.reshape(-1, 1)\n",
        "#)\n",
        "\n",
        "n_initial = 5\n",
        "initial_idx = np.random.choice(range(len(X)), size=n_initial, replace=False)\n",
        "#initial_idx = np.array([18234, 3571, 18557, 13201, 12983])\n",
        "\n",
        "#old_X_training, old_y_training = X[initial_idx], y[initial_idx]\n",
        "\n",
        "MSE_scores_of_GaussianProcessRegressor = []\n",
        "MAE_scores_of_GaussianProcessRegressor = []\n",
        "\n",
        "known_idx = initial_idx.tolist()\n",
        "print(\"known_idx: \", known_idx)\n",
        "\n",
        "X_train = X[known_idx]\n",
        "y_train = y[known_idx]\n",
        "\n",
        "\n",
        "unknown_idx = set(range(len(X))).difference(set(known_idx))\n",
        "print(\"unknown_idx: \", unknown_idx)\n",
        "\n",
        "X_query = X[list(unknown_idx)]\n",
        "y_query = y[list(unknown_idx)]\n",
        "\n",
        "n_queries = 100\n",
        "for idx in range(n_queries):\n",
        "    X_train = X[known_idx]\n",
        "    y_train = y[known_idx]\n",
        "    regressor = GaussianProcessRegressor(kernel=kernel)\n",
        "    X_training = X_train\n",
        "    y_training = y_train.reshape(-1, 1)\n",
        "    regressor.fit(X_training, y_training)\n",
        "    #query_idx, query_instance = regressor.query(X)\n",
        "    X_query = X[list(unknown_idx)]\n",
        "    y_query = y[list(unknown_idx)]\n",
        "    y_pred, y_pred_STD = regressor.predict(X_query, return_std=True)\n",
        "    highest_STD_unknown_idx = np.argmax(y_pred_STD)\n",
        "    query_idx = list(unknown_idx)[highest_STD_unknown_idx]\n",
        "    known_idx.append(query_idx)\n",
        "    #print(\"query_instance: \", query_instance)\n",
        "\n",
        "    #regressor.teach(X[query_idx].reshape(1, -1), y[query_idx].reshape(1, -1))\n",
        "    temp_shape = X_train.shape\n",
        "    print(\"X_train_shape: \", temp_shape)\n",
        "    temp_shape = X_query.shape\n",
        "    print(\"X_query_shape: \", temp_shape)\n",
        "    #y_query =\n",
        "    #temp_predictions =\n",
        "    #temp_score = mean_squared_error(y_query, temp_predictions)\n",
        "    #MSE_scores_of_GaussianProcessRegressor.append(temp_score)\n",
        "    #temp_score = mean_absolute_error(y_query, temp_predictions)\n",
        "    #MAE_scores_of_GaussianProcessRegressor.append(temp_score)\n",
        "    print(\"known_idx: \", known_idx)\n",
        "    #X_query = X_query[np.arange(len(X)) not in known_idx]\n",
        "    #y_query = y_query[np.arange(len(y)) not in known_idx]"
      ]
    },
    {
      "cell_type": "code",
      "execution_count": null,
      "metadata": {
        "colab": {
          "base_uri": "https://localhost:8080/",
          "height": 447
        },
        "id": "gR1H2-mmp20H",
        "outputId": "51d73b76-a8a6-45bd-b5cd-46a16e0e44f5"
      },
      "outputs": [],
      "source": [
        "plt.plot(known_idx[20:])"
      ]
    },
    {
      "cell_type": "code",
      "execution_count": null,
      "metadata": {
        "colab": {
          "base_uri": "https://localhost:8080/",
          "height": 447
        },
        "id": "TLZ-DQ3bp20I",
        "outputId": "04cbc986-83f9-426d-e427-b94a87353d7f"
      },
      "outputs": [],
      "source": [
        "plt.plot(y_pred_STD)"
      ]
    },
    {
      "cell_type": "code",
      "execution_count": null,
      "metadata": {
        "id": "A7Q1sj8C1Hlq"
      },
      "outputs": [],
      "source": [
        "kernel = RBF(length_scale=1.0,) + WhiteKernel(noise_level=1, noise_level_bounds=(10, 100))"
      ]
    },
    {
      "cell_type": "code",
      "execution_count": null,
      "metadata": {
        "colab": {
          "base_uri": "https://localhost:8080/"
        },
        "id": "TomvVDcP1Hls",
        "outputId": "7e406610-422f-41ea-b92f-24875b913236"
      },
      "outputs": [],
      "source": [
        "#regressor = ActiveLearner(\n",
        "#    estimator=GaussianProcessRegressor(kernel=kernel),\n",
        "#    query_strategy=GP_regression_std,\n",
        "#    X_training=X_training, y_training=y_training.reshape(-1, 1)\n",
        "#)\n",
        "\n",
        "n_initial = 5\n",
        "initial_idx = np.random.choice(range(len(X)), size=n_initial, replace=False)\n",
        "#initial_idx = np.array([18234, 3571, 18557, 13201, 12983])\n",
        "\n",
        "#old_X_training, old_y_training = X[initial_idx], y[initial_idx]\n",
        "\n",
        "MSE_scores_of_GaussianProcessRegressor = []\n",
        "MAE_scores_of_GaussianProcessRegressor = []\n",
        "\n",
        "known_idx = initial_idx.tolist()\n",
        "print(\"known_idx: \", known_idx)\n",
        "\n",
        "X_train = X[known_idx]\n",
        "y_train = y[known_idx]\n",
        "\n",
        "\n",
        "unknown_idx = set(range(len(X))).difference(set(known_idx))\n",
        "print(\"unknown_idx: \", unknown_idx)\n",
        "\n",
        "X_query = X[list(unknown_idx)]\n",
        "y_query = y[list(unknown_idx)]\n",
        "\n",
        "n_queries = 100\n",
        "for idx in range(n_queries):\n",
        "    X_train = X[known_idx]\n",
        "    y_train = y[known_idx]\n",
        "    regressor = GaussianProcessRegressor(kernel=kernel)\n",
        "    X_training = X_train\n",
        "    y_training = y_train.reshape(-1, 1)\n",
        "    regressor.fit(X_training, y_training)\n",
        "    #query_idx, query_instance = regressor.query(X)\n",
        "    X_query = X[list(unknown_idx)]\n",
        "    y_query = y[list(unknown_idx)]\n",
        "    y_pred, y_pred_STD = regressor.predict(X_query, return_std=True)\n",
        "    highest_STD_unknown_idx = np.argmax(y_pred_STD)\n",
        "    query_idx = list(unknown_idx)[highest_STD_unknown_idx]\n",
        "    known_idx.append(query_idx)\n",
        "    #print(\"query_instance: \", query_instance)\n",
        "\n",
        "    #regressor.teach(X[query_idx].reshape(1, -1), y[query_idx].reshape(1, -1))\n",
        "    temp_shape = X_train.shape\n",
        "    print(\"X_train_shape: \", temp_shape)\n",
        "    temp_shape = X_query.shape\n",
        "    print(\"X_query_shape: \", temp_shape)\n",
        "    #y_query =\n",
        "    #temp_predictions =\n",
        "    #temp_score = mean_squared_error(y_query, temp_predictions)\n",
        "    #MSE_scores_of_GaussianProcessRegressor.append(temp_score)\n",
        "    #temp_score = mean_absolute_error(y_query, temp_predictions)\n",
        "    #MAE_scores_of_GaussianProcessRegressor.append(temp_score)\n",
        "    print(\"known_idx: \", known_idx)\n",
        "    #X_query = X_query[np.arange(len(X)) not in known_idx]\n",
        "    #y_query = y_query[np.arange(len(y)) not in known_idx]"
      ]
    },
    {
      "cell_type": "code",
      "execution_count": null,
      "metadata": {
        "colab": {
          "base_uri": "https://localhost:8080/",
          "height": 447
        },
        "id": "3lfmjj8n1Hlv",
        "outputId": "3903c1c4-746d-4022-c9f5-6ea4454e05d9"
      },
      "outputs": [],
      "source": [
        "plt.plot(known_idx[20:])"
      ]
    },
    {
      "cell_type": "code",
      "execution_count": null,
      "metadata": {
        "colab": {
          "base_uri": "https://localhost:8080/",
          "height": 447
        },
        "id": "bnTGnQmH1Hlw",
        "outputId": "c834c766-020e-40a2-aefd-ac6c9c6a2bf6"
      },
      "outputs": [],
      "source": [
        "plt.plot(y_pred_STD)"
      ]
    },
    {
      "cell_type": "markdown",
      "metadata": {
        "id": "cMLXlwtD-Z8T"
      },
      "source": [
        "#Szwabe: Are the GPR kernel parameters really well \"optimized\"?"
      ]
    },
    {
      "cell_type": "markdown",
      "metadata": {
        "id": "NlkHs6Ri-93D"
      },
      "source": [
        "\"kernelkernel instance, default=None\n",
        "\n",
        "The kernel specifying the covariance function of the GP.\n",
        "        \n",
        "If None is passed, the kernel ConstantKernel(1.0, constant_value_bounds=\"fixed\" * RBF(1.0, length_scale_bounds=\"fixed\") is used as default.\n",
        "        \n",
        "**Note that the kernel hyperparameters are optimized during fitting unless the bounds are marked as “fixed”.**\"\n",
        "\n",
        "[https://scikit-learn.org/stable/modules/generated/sklearn.gaussian_process.GaussianProcessRegressor.html]"
      ]
    },
    {
      "cell_type": "code",
      "execution_count": null,
      "metadata": {
        "id": "wVrXliuW-yf9"
      },
      "outputs": [],
      "source": [
        "kernel = RBF(length_scale=1.0,length_scale_bounds=\"fixed\") + WhiteKernel(noise_level=1, noise_level_bounds=\"fixed\")"
      ]
    },
    {
      "cell_type": "code",
      "execution_count": null,
      "metadata": {
        "colab": {
          "base_uri": "https://localhost:8080/"
        },
        "id": "WwW8cgyg-yf_",
        "outputId": "5a31d230-6775-4303-dcd1-8f4e00d6fe99"
      },
      "outputs": [],
      "source": [
        "#regressor = ActiveLearner(\n",
        "#    estimator=GaussianProcessRegressor(kernel=kernel),\n",
        "#    query_strategy=GP_regression_std,\n",
        "#    X_training=X_training, y_training=y_training.reshape(-1, 1)\n",
        "#)\n",
        "\n",
        "n_initial = 5\n",
        "initial_idx = np.random.choice(range(len(X)), size=n_initial, replace=False)\n",
        "#initial_idx = np.array([18234, 3571, 18557, 13201, 12983])\n",
        "\n",
        "#old_X_training, old_y_training = X[initial_idx], y[initial_idx]\n",
        "\n",
        "MSE_scores_of_GaussianProcessRegressor = []\n",
        "MAE_scores_of_GaussianProcessRegressor = []\n",
        "\n",
        "known_idx = initial_idx.tolist()\n",
        "print(\"known_idx: \", known_idx)\n",
        "\n",
        "X_train = X[known_idx]\n",
        "y_train = y[known_idx]\n",
        "\n",
        "\n",
        "unknown_idx = set(range(len(X))).difference(set(known_idx))\n",
        "print(\"unknown_idx: \", unknown_idx)\n",
        "\n",
        "X_query = X[list(unknown_idx)]\n",
        "y_query = y[list(unknown_idx)]\n",
        "\n",
        "n_queries = 100\n",
        "for idx in range(n_queries):\n",
        "    X_train = X[known_idx]\n",
        "    y_train = y[known_idx]\n",
        "    regressor = GaussianProcessRegressor(kernel=kernel)\n",
        "    X_training = X_train\n",
        "    y_training = y_train.reshape(-1, 1)\n",
        "    regressor.fit(X_training, y_training)\n",
        "    #query_idx, query_instance = regressor.query(X)\n",
        "    X_query = X[list(unknown_idx)]\n",
        "    y_query = y[list(unknown_idx)]\n",
        "    y_pred, y_pred_STD = regressor.predict(X_query, return_std=True)\n",
        "    highest_STD_unknown_idx = np.argmax(y_pred_STD)\n",
        "    query_idx = list(unknown_idx)[highest_STD_unknown_idx]\n",
        "    known_idx.append(query_idx)\n",
        "    #print(\"query_instance: \", query_instance)\n",
        "\n",
        "    #regressor.teach(X[query_idx].reshape(1, -1), y[query_idx].reshape(1, -1))\n",
        "    temp_shape = X_train.shape\n",
        "    print(\"X_train_shape: \", temp_shape)\n",
        "    temp_shape = X_query.shape\n",
        "    print(\"X_query_shape: \", temp_shape)\n",
        "    #y_query =\n",
        "    #temp_predictions =\n",
        "    #temp_score = mean_squared_error(y_query, temp_predictions)\n",
        "    #MSE_scores_of_GaussianProcessRegressor.append(temp_score)\n",
        "    #temp_score = mean_absolute_error(y_query, temp_predictions)\n",
        "    #MAE_scores_of_GaussianProcessRegressor.append(temp_score)\n",
        "    print(\"known_idx: \", known_idx)\n",
        "    #X_query = X_query[np.arange(len(X)) not in known_idx]\n",
        "    #y_query = y_query[np.arange(len(y)) not in known_idx]"
      ]
    },
    {
      "cell_type": "code",
      "execution_count": null,
      "metadata": {
        "colab": {
          "base_uri": "https://localhost:8080/",
          "height": 447
        },
        "id": "pnTR7rdV-ygD",
        "outputId": "e4c52393-c441-42e2-e912-4ae8cab2c69b"
      },
      "outputs": [],
      "source": [
        "plt.plot(known_idx[20:])"
      ]
    },
    {
      "cell_type": "code",
      "execution_count": null,
      "metadata": {
        "colab": {
          "base_uri": "https://localhost:8080/",
          "height": 447
        },
        "id": "ZEl_DVCd-ygE",
        "outputId": "40a54ed1-42aa-445f-b45f-d6343d9c7a9c"
      },
      "outputs": [],
      "source": [
        "plt.plot(y_pred_STD)"
      ]
    },
    {
      "cell_type": "markdown",
      "metadata": {
        "id": "VIIWO-2tsSeF"
      },
      "source": [
        "#Szwabe: What do the above-seen results indicate?"
      ]
    },
    {
      "cell_type": "markdown",
      "metadata": {
        "id": "c8QbQx1HX0y2"
      },
      "source": [
        "#Szwabe: Can using a extra trees regressor (instead of GPR) help to diversify target variable predictions (i.e. to actually enable 'real AR')? To what extent?"
      ]
    },
    {
      "cell_type": "code",
      "execution_count": null,
      "metadata": {
        "colab": {
          "base_uri": "https://localhost:8080/"
        },
        "id": "1mjG0K-a31UB",
        "outputId": "8c352a3c-a17f-4dba-ecc0-1a1b3ae7c944"
      },
      "outputs": [],
      "source": [
        "!pip install scikit-optimize"
      ]
    },
    {
      "cell_type": "code",
      "execution_count": null,
      "metadata": {
        "id": "qcI_kfRf2b66"
      },
      "outputs": [],
      "source": [
        "from skopt.learning import ExtraTreesRegressor"
      ]
    },
    {
      "cell_type": "code",
      "execution_count": null,
      "metadata": {
        "id": "4gO17rYV1sli"
      },
      "outputs": [],
      "source": [
        "TreeBasedRegressor = ExtraTreesRegressor"
      ]
    },
    {
      "cell_type": "code",
      "execution_count": null,
      "metadata": {
        "colab": {
          "base_uri": "https://localhost:8080/"
        },
        "id": "NbZLTb6o1s4l",
        "outputId": "7bd5ef83-400c-4759-c2cb-b2b859cbab07"
      },
      "outputs": [],
      "source": [
        "#regressor = ActiveLearner(\n",
        "#    estimator=GaussianProcessRegressor(kernel=kernel),\n",
        "#    query_strategy=GP_regression_std,\n",
        "#    X_training=X_training, y_training=y_training.reshape(-1, 1)\n",
        "#)\n",
        "\n",
        "n_initial = 5\n",
        "initial_idx = np.random.choice(range(len(X)), size=n_initial, replace=False)\n",
        "#initial_idx = np.array([18234, 3571, 18557, 13201, 12983])\n",
        "\n",
        "#old_X_training, old_y_training = X[initial_idx], y[initial_idx]\n",
        "\n",
        "MSE_scores_of_TreeBasedRegressor = []\n",
        "MAE_scores_of_TreeBasedRegressor = []\n",
        "\n",
        "known_idx = initial_idx.tolist()\n",
        "print(\"known_idx: \", known_idx)\n",
        "\n",
        "X_train = X[known_idx]\n",
        "y_train = y[known_idx]\n",
        "\n",
        "\n",
        "unknown_idx = set(range(len(X))).difference(set(known_idx))\n",
        "print(\"unknown_idx: \", unknown_idx)\n",
        "\n",
        "X_query = X[list(unknown_idx)]\n",
        "y_query = y[list(unknown_idx)]\n",
        "\n",
        "n_queries = 100\n",
        "for idx in range(n_queries):\n",
        "    X_train = X[known_idx]\n",
        "    y_train = y[known_idx]\n",
        "    #regressor = GaussianProcessRegressor(kernel=kernel)\n",
        "    regressor = TreeBasedRegressor()\n",
        "    X_training = X_train\n",
        "    y_training = y_train.reshape(-1, 1)\n",
        "    regressor.fit(X_training, y_training)\n",
        "    #query_idx, query_instance = regressor.query(X)\n",
        "    X_query = X[list(unknown_idx)]\n",
        "    y_query = y[list(unknown_idx)]\n",
        "    y_pred, y_pred_STD = regressor.predict(X_query, return_std=True)\n",
        "    highest_STD_unknown_idx = np.argmax(y_pred_STD)\n",
        "    query_idx = list(unknown_idx)[highest_STD_unknown_idx]\n",
        "    known_idx.append(query_idx)\n",
        "    #print(\"query_instance: \", query_instance)\n",
        "\n",
        "    #regressor.teach(X[query_idx].reshape(1, -1), y[query_idx].reshape(1, -1))\n",
        "    temp_shape = X_train.shape\n",
        "    print(\"X_train_shape: \", temp_shape)\n",
        "    temp_shape = X_query.shape\n",
        "    print(\"X_query_shape: \", temp_shape)\n",
        "    #y_query =\n",
        "    #temp_predictions =\n",
        "    #temp_score = mean_squared_error(y_query, temp_predictions)\n",
        "    #MSE_scores_of_TreeBasedRegressor.append(temp_score)\n",
        "    #temp_score = mean_absolute_error(y_query, temp_predictions)\n",
        "    #MAE_scores_of_TreeBasedRegressor.append(temp_score)\n",
        "    print(\"known_idx: \", known_idx)\n",
        "    #X_query = X_query[np.arange(len(X)) not in known_idx]\n",
        "    #y_query = y_query[np.arange(len(y)) not in known_idx]"
      ]
    },
    {
      "cell_type": "code",
      "execution_count": null,
      "metadata": {
        "colab": {
          "base_uri": "https://localhost:8080/",
          "height": 447
        },
        "id": "Hp_V-kgJ1s4o",
        "outputId": "bb254ed4-56f6-477f-8634-32d294f2f726"
      },
      "outputs": [],
      "source": [
        "plt.plot(known_idx[20:])"
      ]
    },
    {
      "cell_type": "code",
      "execution_count": null,
      "metadata": {
        "colab": {
          "base_uri": "https://localhost:8080/",
          "height": 447
        },
        "id": "5r71hpkN1s4q",
        "outputId": "97f38c07-c482-4a54-a5ec-2a0c06d62104"
      },
      "outputs": [],
      "source": [
        "plt.plot(y_pred_STD)"
      ]
    },
    {
      "cell_type": "markdown",
      "metadata": {
        "id": "6lyyqfXXZQQq"
      },
      "source": [
        "#Szwabe: Can ETR hyperparameters tuning help to deal with the problem of some predictions equal to zero?"
      ]
    },
    {
      "cell_type": "code",
      "execution_count": null,
      "metadata": {
        "id": "rWB1ExfL4hFd"
      },
      "outputs": [],
      "source": [
        "TreeBasedRegressor = ExtraTreesRegressor(n_estimators=10, min_samples_split=2, min_samples_leaf=1)"
      ]
    },
    {
      "cell_type": "code",
      "execution_count": null,
      "metadata": {
        "colab": {
          "base_uri": "https://localhost:8080/"
        },
        "id": "0d7kZHHF4hFf",
        "outputId": "16e8a392-2825-4799-9351-a19597be5d59"
      },
      "outputs": [],
      "source": [
        "#regressor = ActiveLearner(\n",
        "#    estimator=GaussianProcessRegressor(kernel=kernel),\n",
        "#    query_strategy=GP_regression_std,\n",
        "#    X_training=X_training, y_training=y_training.reshape(-1, 1)\n",
        "#)\n",
        "\n",
        "n_initial = 5\n",
        "initial_idx = np.random.choice(range(len(X)), size=n_initial, replace=False)\n",
        "#initial_idx = np.array([18234, 3571, 18557, 13201, 12983])\n",
        "\n",
        "#old_X_training, old_y_training = X[initial_idx], y[initial_idx]\n",
        "\n",
        "MSE_scores_of_TreeBasedRegressor = []\n",
        "MAE_scores_of_TreeBasedRegressor = []\n",
        "\n",
        "known_idx = initial_idx.tolist()\n",
        "print(\"known_idx: \", known_idx)\n",
        "\n",
        "X_train = X[known_idx]\n",
        "y_train = y[known_idx]\n",
        "\n",
        "\n",
        "unknown_idx = set(range(len(X))).difference(set(known_idx))\n",
        "print(\"unknown_idx: \", unknown_idx)\n",
        "\n",
        "X_query = X[list(unknown_idx)]\n",
        "y_query = y[list(unknown_idx)]\n",
        "\n",
        "n_queries = 100\n",
        "for idx in range(n_queries):\n",
        "    X_train = X[known_idx]\n",
        "    y_train = y[known_idx]\n",
        "    #regressor = GaussianProcessRegressor(kernel=kernel)\n",
        "    #regressor = TreeBasedRegressor(n_estimators=10, criterion='mse', max_depth=None, min_samples_split=2, min_samples_leaf=1)\n",
        "    regressor = TreeBasedRegressor\n",
        "    X_training = X_train\n",
        "    y_training = y_train.reshape(-1, 1)\n",
        "    regressor.fit(X_training, y_training)\n",
        "    #query_idx, query_instance = regressor.query(X)\n",
        "    X_query = X[list(unknown_idx)]\n",
        "    y_query = y[list(unknown_idx)]\n",
        "    y_pred, y_pred_STD = regressor.predict(X_query, return_std=True)\n",
        "    highest_STD_unknown_idx = np.argmax(y_pred_STD)\n",
        "    query_idx = list(unknown_idx)[highest_STD_unknown_idx]\n",
        "    known_idx.append(query_idx)\n",
        "    #print(\"query_instance: \", query_instance)\n",
        "\n",
        "    #regressor.teach(X[query_idx].reshape(1, -1), y[query_idx].reshape(1, -1))\n",
        "    temp_shape = X_train.shape\n",
        "    print(\"X_train_shape: \", temp_shape)\n",
        "    temp_shape = X_query.shape\n",
        "    print(\"X_query_shape: \", temp_shape)\n",
        "    #y_query =\n",
        "    #temp_predictions =\n",
        "    #temp_score = mean_squared_error(y_query, temp_predictions)\n",
        "    #MSE_scores_of_TreeBasedRegressor.append(temp_score)\n",
        "    #temp_score = mean_absolute_error(y_query, temp_predictions)\n",
        "    #MAE_scores_of_TreeBasedRegressor.append(temp_score)\n",
        "    print(\"known_idx: \", known_idx)\n",
        "    #X_query = X_query[np.arange(len(X)) not in known_idx]\n",
        "    #y_query = y_query[np.arange(len(y)) not in known_idx]"
      ]
    },
    {
      "cell_type": "code",
      "execution_count": null,
      "metadata": {
        "colab": {
          "base_uri": "https://localhost:8080/",
          "height": 447
        },
        "id": "ls-_tm7r4hFh",
        "outputId": "87840f1d-a576-421b-eed6-cf092a9487c0"
      },
      "outputs": [],
      "source": [
        "plt.plot(known_idx[20:])"
      ]
    },
    {
      "cell_type": "code",
      "execution_count": null,
      "metadata": {
        "colab": {
          "base_uri": "https://localhost:8080/",
          "height": 447
        },
        "id": "OsO6g-hs4hFi",
        "outputId": "84a61012-ea7e-494d-f8de-39bf257f8b25"
      },
      "outputs": [],
      "source": [
        "plt.plot(y_pred_STD)"
      ]
    },
    {
      "cell_type": "markdown",
      "metadata": {
        "id": "Yv_3JnvxaICQ"
      },
      "source": [
        "#Szwabe: Which ETR hyperparameter requires especially careful tuning? Why?"
      ]
    },
    {
      "cell_type": "code",
      "execution_count": null,
      "metadata": {
        "id": "SJgg4Fe-5U7L"
      },
      "outputs": [],
      "source": [
        "#TreeBasedRegressor = ExtraTreesRegressor(n_estimators=20, min_samples_split=2*2, min_samples_leaf=1)"
      ]
    },
    {
      "cell_type": "code",
      "execution_count": null,
      "metadata": {
        "colab": {
          "base_uri": "https://localhost:8080/"
        },
        "id": "HZadiV1M5U7N",
        "outputId": "3288f1b4-3dab-4293-a267-5ff88c77fb0f"
      },
      "outputs": [],
      "source": [
        "#regressor = ActiveLearner(\n",
        "#    estimator=GaussianProcessRegressor(kernel=kernel),\n",
        "#    query_strategy=GP_regression_std,\n",
        "#    X_training=X_training, y_training=y_training.reshape(-1, 1)\n",
        "#)\n",
        "\n",
        "n_initial = 5\n",
        "initial_idx = np.random.choice(range(len(X)), size=n_initial, replace=False)\n",
        "#initial_idx = np.array([18234, 3571, 18557, 13201, 12983])\n",
        "\n",
        "#old_X_training, old_y_training = X[initial_idx], y[initial_idx]\n",
        "\n",
        "MSE_scores_of_TreeBasedRegressor = []\n",
        "MAE_scores_of_TreeBasedRegressor = []\n",
        "\n",
        "known_idx = initial_idx.tolist()\n",
        "print(\"known_idx: \", known_idx)\n",
        "\n",
        "X_train = X[known_idx]\n",
        "y_train = y[known_idx]\n",
        "\n",
        "\n",
        "unknown_idx = set(range(len(X))).difference(set(known_idx))\n",
        "print(\"unknown_idx: \", unknown_idx)\n",
        "\n",
        "X_query = X[list(unknown_idx)]\n",
        "y_query = y[list(unknown_idx)]\n",
        "\n",
        "n_queries = 100\n",
        "for idx in range(n_queries):\n",
        "    X_train = X[known_idx]\n",
        "    y_train = y[known_idx]\n",
        "    #regressor = GaussianProcessRegressor(kernel=kernel)\n",
        "    #regressor = TreeBasedRegressor(n_estimators=10, criterion='mse', max_depth=None, min_samples_split=2, min_samples_leaf=1)\n",
        "    #regressor = TreeBasedRegressor\n",
        "    regressor = ExtraTreesRegressor(n_estimators=20, min_samples_split=2*2, min_samples_leaf=1)\n",
        "    X_training = X_train\n",
        "    y_training = y_train.reshape(-1, 1)\n",
        "    regressor.fit(X_training, y_training)\n",
        "    #query_idx, query_instance = regressor.query(X)\n",
        "    X_query = X[list(unknown_idx)]\n",
        "    y_query = y[list(unknown_idx)]\n",
        "    y_pred, y_pred_STD = regressor.predict(X_query, return_std=True)\n",
        "    highest_STD_unknown_idx = np.argmax(y_pred_STD)\n",
        "    query_idx = list(unknown_idx)[highest_STD_unknown_idx]\n",
        "    known_idx.append(query_idx)\n",
        "    #print(\"query_instance: \", query_instance)\n",
        "\n",
        "    #regressor.teach(X[query_idx].reshape(1, -1), y[query_idx].reshape(1, -1))\n",
        "    temp_shape = X_train.shape\n",
        "    print(\"X_train_shape: \", temp_shape)\n",
        "    temp_shape = X_query.shape\n",
        "    print(\"X_query_shape: \", temp_shape)\n",
        "    #y_query =\n",
        "    #temp_predictions =\n",
        "    #temp_score = mean_squared_error(y_query, temp_predictions)\n",
        "    #MSE_scores_of_TreeBasedRegressor.append(temp_score)\n",
        "    #temp_score = mean_absolute_error(y_query, temp_predictions)\n",
        "    #MAE_scores_of_TreeBasedRegressor.append(temp_score)\n",
        "    print(\"known_idx: \", known_idx)\n",
        "    #X_query = X_query[np.arange(len(X)) not in known_idx]\n",
        "    #y_query = y_query[np.arange(len(y)) not in known_idx]"
      ]
    },
    {
      "cell_type": "code",
      "execution_count": null,
      "metadata": {
        "colab": {
          "base_uri": "https://localhost:8080/",
          "height": 447
        },
        "id": "pNQcVtNw5U7Q",
        "outputId": "1a15006a-fabc-4a1d-e685-7394ec84808a"
      },
      "outputs": [],
      "source": [
        "plt.plot(known_idx[20:])"
      ]
    },
    {
      "cell_type": "code",
      "execution_count": null,
      "metadata": {
        "colab": {
          "base_uri": "https://localhost:8080/",
          "height": 447
        },
        "id": "AvTkprJq5U7R",
        "outputId": "d584814f-b7e7-4d56-c0fc-d8e1c105be38"
      },
      "outputs": [],
      "source": [
        "plt.plot(y_pred_STD)"
      ]
    },
    {
      "cell_type": "code",
      "execution_count": null,
      "metadata": {
        "id": "7ARZNVWg65kU"
      },
      "outputs": [],
      "source": [
        "from sklearn.neural_network import MLPRegressor\n",
        "from sklearn.ensemble import GradientBoostingRegressor\n",
        "from sklearn.linear_model import LinearRegression"
      ]
    },
    {
      "cell_type": "markdown",
      "metadata": {
        "id": "jn39E32lVhWT"
      },
      "source": [
        "#Szwabe: Can a piggybacked gradient boosting regressor enable to achieve a higher performance? Are these results deterministic?"
      ]
    },
    {
      "cell_type": "code",
      "execution_count": null,
      "metadata": {
        "colab": {
          "base_uri": "https://localhost:8080/"
        },
        "id": "_EBX8IwN657L",
        "outputId": "cc424366-b227-4419-c687-5ef778cb0128"
      },
      "outputs": [],
      "source": [
        "#regressor = ActiveLearner(\n",
        "#    estimator=GaussianProcessRegressor(kernel=kernel),\n",
        "#    query_strategy=GP_regression_std,\n",
        "#    X_training=X_training, y_training=y_training.reshape(-1, 1)\n",
        "#)\n",
        "\n",
        "\n",
        "n_initial = 5\n",
        "initial_idx = np.random.choice(range(len(X)), size=n_initial, replace=False)\n",
        "#initial_idx = np.array([18234, 3571, 18557, 13201, 12983])\n",
        "\n",
        "#old_X_training, old_y_training = X[initial_idx], y[initial_idx]\n",
        "\n",
        "MSE_scores_of_TreeBasedRegressor = []\n",
        "MAE_scores_of_TreeBasedRegressor = []\n",
        "\n",
        "MSE_scores_of_piggybackedRegressor = []\n",
        "MAE_scores_of_piggybackedRegressor = []\n",
        "\n",
        "\n",
        "known_idx = initial_idx.tolist()\n",
        "print(\"known_idx: \", known_idx)\n",
        "\n",
        "X_train = X[known_idx]\n",
        "y_train = y[known_idx]\n",
        "\n",
        "\n",
        "unknown_idx = set(range(len(X))).difference(set(known_idx))\n",
        "print(\"unknown_idx: \", unknown_idx)\n",
        "\n",
        "X_query = X[list(unknown_idx)]\n",
        "y_query = y[list(unknown_idx)]\n",
        "\n",
        "n_queries = 100\n",
        "for idx in range(n_queries):\n",
        "    X_train = X[known_idx]\n",
        "    y_train = y[known_idx]\n",
        "    #regressor = GaussianProcessRegressor(kernel=kernel)\n",
        "    regressor = ExtraTreesRegressor(n_estimators=20, min_samples_split=2*2, min_samples_leaf=1)\n",
        "    #regressor = TreeBasedRegressor\n",
        "    #piggybackedRegressor = MLPRegressor()\n",
        "    piggybackedRegressor = GradientBoostingRegressor(n_estimators=200, min_samples_split=2, min_samples_leaf=1, max_depth=4)\n",
        "    #piggybackedRegressor = LinearRegression()\n",
        "    X_training = X_train\n",
        "    y_training = y_train.reshape(-1, 1)\n",
        "    regressor.fit(X_training, y_training)\n",
        "    #query_idx, query_instance = regressor.query(X)\n",
        "    X_query = X[list(unknown_idx)]\n",
        "    y_query = y[list(unknown_idx)]\n",
        "    y_pred, y_pred_STD = regressor.predict(X_query, return_std=True)\n",
        "    highest_STD_unknown_idx = np.argmax(y_pred_STD)\n",
        "    query_idx = list(unknown_idx)[highest_STD_unknown_idx]\n",
        "    known_idx.append(query_idx)\n",
        "    #print(\"query_instance: \", query_instance)\n",
        "\n",
        "    #regressor.teach(X[query_idx].reshape(1, -1), y[query_idx].reshape(1, -1))\n",
        "    temp_shape = X_train.shape\n",
        "    print(\"X_train_shape: \", temp_shape)\n",
        "    temp_shape = X_query.shape\n",
        "    print(\"X_query_shape: \", temp_shape)\n",
        "    #y_query =\n",
        "    temp_predictions = y_pred\n",
        "    temp_score = mean_squared_error(y_query, temp_predictions)\n",
        "    MSE_scores_of_TreeBasedRegressor.append(temp_score)\n",
        "    temp_score = mean_absolute_error(y_query, temp_predictions)\n",
        "    MAE_scores_of_TreeBasedRegressor.append(temp_score)\n",
        "    piggybackedRegressor.fit(X_training, y_training)\n",
        "    temp_predictions = piggybackedRegressor.predict(X_query)\n",
        "    temp_score = mean_squared_error(y_query, temp_predictions)\n",
        "    MSE_scores_of_piggybackedRegressor.append(temp_score)\n",
        "    temp_score = mean_absolute_error(y_query, temp_predictions)\n",
        "    MAE_scores_of_piggybackedRegressor.append(temp_score)\n",
        "    print(\"known_idx: \", known_idx)\n",
        "    #X_query = X_query[np.arange(len(X)) not in known_idx]\n",
        "    #y_query = y_query[np.arange(len(y)) not in known_idx]"
      ]
    },
    {
      "cell_type": "code",
      "execution_count": null,
      "metadata": {
        "colab": {
          "base_uri": "https://localhost:8080/",
          "height": 447
        },
        "id": "6fFNPsx3657O",
        "outputId": "032ced43-9b6b-4e3d-d776-75828a0ba0a3"
      },
      "outputs": [],
      "source": [
        "#plt.plot(known_idx[20:])\n",
        "plt.plot(known_idx)"
      ]
    },
    {
      "cell_type": "code",
      "execution_count": null,
      "metadata": {
        "colab": {
          "base_uri": "https://localhost:8080/",
          "height": 451
        },
        "id": "1piDZbej657P",
        "outputId": "2471ea5a-22bd-453f-9fcd-fff9794b1e74"
      },
      "outputs": [],
      "source": [
        "plt.plot(y_pred_STD)"
      ]
    },
    {
      "cell_type": "code",
      "execution_count": null,
      "metadata": {
        "colab": {
          "base_uri": "https://localhost:8080/",
          "height": 430
        },
        "id": "D50fj1Ap7OT1",
        "outputId": "6cbd54ba-dcd3-40e3-eed7-ed02bcac13a3"
      },
      "outputs": [],
      "source": [
        "plt.plot(MSE_scores_of_TreeBasedRegressor, label=\"ARRegressor\")\n",
        "plt.plot(MSE_scores_of_piggybackedRegressor, label=\"piggybackedRegressor\")\n",
        "plt.legend()\n",
        "plt.show()"
      ]
    },
    {
      "cell_type": "code",
      "execution_count": null,
      "metadata": {
        "colab": {
          "base_uri": "https://localhost:8080/",
          "height": 430
        },
        "id": "aiulWEV37QLU",
        "outputId": "5f270f80-aa35-4dde-8adc-c3b1038b66cf"
      },
      "outputs": [],
      "source": [
        "plt.plot(MAE_scores_of_TreeBasedRegressor, label=\"ARRegressor\")\n",
        "plt.plot(MAE_scores_of_piggybackedRegressor, label=\"piggybackedRegressor\")\n",
        "plt.legend()\n",
        "plt.show()"
      ]
    },
    {
      "cell_type": "code",
      "execution_count": null,
      "metadata": {
        "colab": {
          "base_uri": "https://localhost:8080/"
        },
        "id": "DIoETzs0Vdgz",
        "outputId": "db58a974-a174-43e8-f1d9-d8fd44ed934f"
      },
      "outputs": [],
      "source": [
        "#regressor = ActiveLearner(\n",
        "#    estimator=GaussianProcessRegressor(kernel=kernel),\n",
        "#    query_strategy=GP_regression_std,\n",
        "#    X_training=X_training, y_training=y_training.reshape(-1, 1)\n",
        "#)\n",
        "\n",
        "\n",
        "n_initial = 5\n",
        "initial_idx = np.random.choice(range(len(X)), size=n_initial, replace=False)\n",
        "#initial_idx = np.array([18234, 3571, 18557, 13201, 12983])\n",
        "\n",
        "#old_X_training, old_y_training = X[initial_idx], y[initial_idx]\n",
        "\n",
        "MSE_scores_of_TreeBasedRegressor = []\n",
        "MAE_scores_of_TreeBasedRegressor = []\n",
        "\n",
        "MSE_scores_of_piggybackedRegressor = []\n",
        "MAE_scores_of_piggybackedRegressor = []\n",
        "\n",
        "\n",
        "known_idx = initial_idx.tolist()\n",
        "print(\"known_idx: \", known_idx)\n",
        "\n",
        "X_train = X[known_idx]\n",
        "y_train = y[known_idx]\n",
        "\n",
        "\n",
        "unknown_idx = set(range(len(X))).difference(set(known_idx))\n",
        "print(\"unknown_idx: \", unknown_idx)\n",
        "\n",
        "X_query = X[list(unknown_idx)]\n",
        "y_query = y[list(unknown_idx)]\n",
        "\n",
        "n_queries = 100\n",
        "for idx in range(n_queries):\n",
        "    X_train = X[known_idx]\n",
        "    y_train = y[known_idx]\n",
        "    #regressor = GaussianProcessRegressor(kernel=kernel)\n",
        "    regressor = ExtraTreesRegressor(n_estimators=20, min_samples_split=2*2, min_samples_leaf=1)\n",
        "    #regressor = TreeBasedRegressor\n",
        "    #piggybackedRegressor = MLPRegressor()\n",
        "    piggybackedRegressor = GradientBoostingRegressor(n_estimators=200, min_samples_split=2, min_samples_leaf=1, max_depth=4)\n",
        "    #piggybackedRegressor = LinearRegression()\n",
        "    X_training = X_train\n",
        "    y_training = y_train.reshape(-1, 1)\n",
        "    regressor.fit(X_training, y_training)\n",
        "    #query_idx, query_instance = regressor.query(X)\n",
        "    X_query = X[list(unknown_idx)]\n",
        "    y_query = y[list(unknown_idx)]\n",
        "    y_pred, y_pred_STD = regressor.predict(X_query, return_std=True)\n",
        "    highest_STD_unknown_idx = np.argmax(y_pred_STD)\n",
        "    query_idx = list(unknown_idx)[highest_STD_unknown_idx]\n",
        "    known_idx.append(query_idx)\n",
        "    #print(\"query_instance: \", query_instance)\n",
        "\n",
        "    #regressor.teach(X[query_idx].reshape(1, -1), y[query_idx].reshape(1, -1))\n",
        "    temp_shape = X_train.shape\n",
        "    print(\"X_train_shape: \", temp_shape)\n",
        "    temp_shape = X_query.shape\n",
        "    print(\"X_query_shape: \", temp_shape)\n",
        "    #y_query =\n",
        "    temp_predictions = y_pred\n",
        "    temp_score = mean_squared_error(y_query, temp_predictions)\n",
        "    MSE_scores_of_TreeBasedRegressor.append(temp_score)\n",
        "    temp_score = mean_absolute_error(y_query, temp_predictions)\n",
        "    MAE_scores_of_TreeBasedRegressor.append(temp_score)\n",
        "    piggybackedRegressor.fit(X_training, y_training)\n",
        "    temp_predictions = piggybackedRegressor.predict(X_query)\n",
        "    temp_score = mean_squared_error(y_query, temp_predictions)\n",
        "    MSE_scores_of_piggybackedRegressor.append(temp_score)\n",
        "    temp_score = mean_absolute_error(y_query, temp_predictions)\n",
        "    MAE_scores_of_piggybackedRegressor.append(temp_score)\n",
        "    print(\"known_idx: \", known_idx)\n",
        "    #X_query = X_query[np.arange(len(X)) not in known_idx]\n",
        "    #y_query = y_query[np.arange(len(y)) not in known_idx]"
      ]
    },
    {
      "cell_type": "code",
      "execution_count": null,
      "metadata": {
        "colab": {
          "base_uri": "https://localhost:8080/",
          "height": 447
        },
        "id": "z2fFP2yAVdg0",
        "outputId": "bf49e0a3-bbde-4369-84eb-eeb0702cb4fc"
      },
      "outputs": [],
      "source": [
        "#plt.plot(known_idx[20:])\n",
        "plt.plot(known_idx)"
      ]
    },
    {
      "cell_type": "code",
      "execution_count": null,
      "metadata": {
        "colab": {
          "base_uri": "https://localhost:8080/",
          "height": 447
        },
        "id": "42Y95d4fVdg2",
        "outputId": "3b261f1d-600f-4109-c049-70c50d1be9b9"
      },
      "outputs": [],
      "source": [
        "plt.plot(y_pred_STD)"
      ]
    },
    {
      "cell_type": "code",
      "execution_count": null,
      "metadata": {
        "colab": {
          "base_uri": "https://localhost:8080/",
          "height": 430
        },
        "id": "D4ZFbWJ7Vdg3",
        "outputId": "e4018440-3869-4a4c-93a7-57e3d0a97e70"
      },
      "outputs": [],
      "source": [
        "plt.plot(MSE_scores_of_TreeBasedRegressor, label=\"ARRegressor\")\n",
        "plt.plot(MSE_scores_of_piggybackedRegressor, label=\"piggybackedRegressor\")\n",
        "plt.legend()\n",
        "plt.show()"
      ]
    },
    {
      "cell_type": "code",
      "execution_count": null,
      "metadata": {
        "colab": {
          "base_uri": "https://localhost:8080/",
          "height": 430
        },
        "id": "xstQdni1Vdg4",
        "outputId": "f2153544-4eda-4ba0-c92d-164bdfd39f17"
      },
      "outputs": [],
      "source": [
        "plt.plot(MAE_scores_of_TreeBasedRegressor, label=\"ARRegressor\")\n",
        "plt.plot(MAE_scores_of_piggybackedRegressor, label=\"piggybackedRegressor\")\n",
        "plt.legend()\n",
        "plt.show()"
      ]
    },
    {
      "cell_type": "code",
      "execution_count": null,
      "metadata": {
        "id": "NgtvgdyHRwEG"
      },
      "outputs": [],
      "source": [
        "from random import sample"
      ]
    },
    {
      "cell_type": "code",
      "execution_count": null,
      "metadata": {
        "colab": {
          "base_uri": "https://localhost:8080/"
        },
        "id": "9863yIRMHXCI",
        "outputId": "a74b1f12-36c8-422d-c150-504902c2357d"
      },
      "outputs": [],
      "source": [
        "query_idx = sample(list(range(X_query.shape[0])), 1)[0]\n",
        "query_idx"
      ]
    },
    {
      "cell_type": "code",
      "execution_count": null,
      "metadata": {
        "id": "m3ndCmV7XzeM"
      },
      "outputs": [],
      "source": [
        "def test_comparing_with_baseline(annealing_factor, number_of_cycles):\n",
        "  #shuffled_indices = np.arange(y.shape[0])\n",
        "  #np.random.shuffle(shuffled_indices)\n",
        "  #y = y[shuffled_indices]\n",
        "  #X = X[shuffled_indices]\n",
        "\n",
        "  cal_housing_df.sample(frac=1).reset_index(drop=True)\n",
        "  X = cal_housing_df[cal_housing.feature_names].values\n",
        "  y = cal_housing_df.target.values\n",
        "\n",
        "  #committee = AlternativeCommitteeRegressor(XGBRegressor, number_of_regressors_in_commitee)\n",
        "\n",
        "  #number_of_initial_samples = 2 * number_of_regressors_in_commitee #temporary\n",
        "  #initial_X_samples = X[:number_of_initial_samples]\n",
        "  #initial_y_samples = y[:number_of_initial_samples]\n",
        "  #X_query = X[number_of_initial_samples:]\n",
        "  #y_query = y[number_of_initial_samples:]\n",
        "  #for temp_initial_sample_idx in range(number_of_initial_samples):\n",
        "  #  X_train_sample = initial_X_samples[temp_initial_sample_idx]\n",
        "  #  y_train_sample = initial_y_samples[temp_initial_sample_idx]\n",
        "  #  committee.teach(X_train_sample, y_train_sample)\n",
        "\n",
        "  n_initial = 5\n",
        "  initial_idx = np.random.choice(range(len(X)), size=n_initial, replace=False)\n",
        "\n",
        "\n",
        "  #query_result = committee.query(X_query)\n",
        "  #MSE_scores_of_AlternativeCommitteeRegressor = []\n",
        "  #MAE_scores_of_AlternativeCommitteeRegressor = []\n",
        "\n",
        "  MSE_scores_of_ARRegressor = []\n",
        "  MAE_scores_of_ARRegressor = []\n",
        "\n",
        "  MSE_scores_of_piggybackedRegressor = []\n",
        "  MAE_scores_of_piggybackedRegressor = []\n",
        "\n",
        "  known_idx = initial_idx.tolist()\n",
        "  print(\"known_idx: \", known_idx)\n",
        "\n",
        "  X_train = X[known_idx]\n",
        "  y_train = y[known_idx]\n",
        "\n",
        "\n",
        "  unknown_idx = set(range(len(X))).difference(set(known_idx))\n",
        "  print(\"unknown_idx: \", unknown_idx)\n",
        "\n",
        "  X_query = X[list(unknown_idx)]\n",
        "  y_query = y[list(unknown_idx)]\n",
        "\n",
        "\n",
        "  temp_probas = []\n",
        "  for i in range(number_of_cycles):\n",
        "    #query_result = committee.query(X_query)\n",
        "    X_train = X[known_idx]\n",
        "    y_train = y[known_idx]\n",
        "    regressor = ExtraTreesRegressor(n_estimators=20, min_samples_split=2*2, min_samples_leaf=1)\n",
        "    piggybackedRegressor = GradientBoostingRegressor(n_estimators=200, min_samples_split=2, min_samples_leaf=1, max_depth=4)\n",
        "    X_training = X_train\n",
        "    y_training = y_train.reshape(-1, 1)\n",
        "    regressor.fit(X_training, y_training)\n",
        "    X_query = X[list(unknown_idx)]\n",
        "    y_query = y[list(unknown_idx)]\n",
        "    y_pred, y_pred_STD = regressor.predict(X_query, return_std=True)\n",
        "    temp_prob = np.random.rand()\n",
        "    temp_prob = np.log(temp_prob)\n",
        "    temp_prob = temp_prob / (annealing_factor * i + 1)\n",
        "    temp_prob = int(round(temp_prob)) % 2\n",
        "    temp_probas.append(temp_prob)\n",
        "    print(\"temp_prob: \", temp_prob)\n",
        "    temp_probas.append(temp_prob)\n",
        "    if temp_prob > 0.5:\n",
        "        query_idx = sample(list(range(len(unknown_idx))), 1)[0]\n",
        "        print(\"this time it's random\")\n",
        "    else:\n",
        "        highest_STD_unknown_idx = np.argmax(y_pred_STD)\n",
        "        query_idx = list(unknown_idx)[highest_STD_unknown_idx]\n",
        "    known_idx.append(query_idx)\n",
        "    temp_predictions = y_pred\n",
        "    temp_score = mean_squared_error(y_query, temp_predictions)\n",
        "    MSE_scores_of_ARRegressor.append(temp_score)\n",
        "    temp_score = mean_absolute_error(y_query, temp_predictions)\n",
        "    MAE_scores_of_ARRegressor.append(temp_score)\n",
        "    piggybackedRegressor.fit(X_training, y_training)\n",
        "    temp_predictions = piggybackedRegressor.predict(X_query)\n",
        "    temp_score = mean_squared_error(y_query, temp_predictions)\n",
        "    MSE_scores_of_piggybackedRegressor.append(temp_score)\n",
        "    temp_score = mean_absolute_error(y_query, temp_predictions)\n",
        "    MAE_scores_of_piggybackedRegressor.append(temp_score)\n",
        "\n",
        "\n",
        "  #initial_X_samples = X[:number_of_initial_samples]\n",
        "  #initial_y_samples = y[:number_of_initial_samples]\n",
        "  #X_query = X[number_of_initial_samples:]\n",
        "  #y_query = y[number_of_initial_samples:]\n",
        "  known_idx = initial_idx.tolist()\n",
        "  print(\"known_idx: \", known_idx)\n",
        "\n",
        "  X_train = X[known_idx]\n",
        "  y_train = y[known_idx]\n",
        "\n",
        "\n",
        "  unknown_idx = set(range(len(X))).difference(set(known_idx))\n",
        "  print(\"unknown_idx: \", unknown_idx)\n",
        "\n",
        "  X_query = X[list(unknown_idx)]\n",
        "  y_query = y[list(unknown_idx)]\n",
        "\n",
        "\n",
        "  temp_probas = []\n",
        "\n",
        "\n",
        "\n",
        "#  for temp_initial_sample_idx in range(number_of_initial_samples):\n",
        "#      X_train_sample = initial_X_samples[temp_initial_sample_idx]\n",
        "#      y_train_sample = initial_y_samples[temp_initial_sample_idx]\n",
        "#      committee.teach(X_train_sample, y_train_sample)\n",
        "#  query_result = committee.query(X_query)\n",
        "  MSE_scores_of_random_baseline = []\n",
        "  MAE_scores_of_random_baseline = []\n",
        "  MSE_scores_of_random_baseline_piggybackedRegressor = []\n",
        "  MAE_scores_of_random_baseline_piggybackedRegressor = []\n",
        "\n",
        "  for i in range(number_of_cycles):\n",
        "    X_train = X[known_idx]\n",
        "    y_train = y[known_idx]\n",
        "    regressor = ExtraTreesRegressor(n_estimators=20, min_samples_split=2*2, min_samples_leaf=1)\n",
        "    piggybackedRegressor = GradientBoostingRegressor(n_estimators=200, min_samples_split=2, min_samples_leaf=1, max_depth=4)\n",
        "    X_training = X_train\n",
        "    y_training = y_train.reshape(-1, 1)\n",
        "    regressor.fit(X_training, y_training)\n",
        "    X_query = X[list(unknown_idx)]\n",
        "    y_query = y[list(unknown_idx)]\n",
        "    y_pred, y_pred_STD = regressor.predict(X_query, return_std=True)\n",
        "    temp_prob = np.random.rand()\n",
        "    temp_prob = np.log(temp_prob)\n",
        "    temp_prob = temp_prob / (annealing_factor * i + 1)\n",
        "    temp_prob = int(round(temp_prob)) % 2\n",
        "    temp_probas.append(temp_prob)\n",
        "    print(\"temp_prob: \", temp_prob)\n",
        "    temp_probas.append(temp_prob)\n",
        "    #if temp_prob > 0.5:\n",
        "    if True:\n",
        "        query_idx = sample(list(range(len(unknown_idx))), 1)[0]\n",
        "        print(\"this time it's random\")\n",
        "    else:\n",
        "        highest_STD_unknown_idx = np.argmax(y_pred_STD)\n",
        "        query_idx = list(unknown_idx)[highest_STD_unknown_idx]\n",
        "    known_idx.append(query_idx)\n",
        "    temp_predictions = y_pred\n",
        "    temp_score = mean_squared_error(y_query, temp_predictions)\n",
        "    MSE_scores_of_random_baseline.append(temp_score)\n",
        "    temp_score = mean_absolute_error(y_query, temp_predictions)\n",
        "    MAE_scores_of_random_baseline.append(temp_score)\n",
        "    piggybackedRegressor.fit(X_training, y_training)\n",
        "    temp_predictions = piggybackedRegressor.predict(X_query)\n",
        "    temp_score = mean_squared_error(y_query, temp_predictions)\n",
        "    MSE_scores_of_random_baseline_piggybackedRegressor.append(temp_score)\n",
        "    temp_score = mean_absolute_error(y_query, temp_predictions)\n",
        "    MAE_scores_of_random_baseline_piggybackedRegressor.append(temp_score)\n",
        "\n",
        "  return MSE_scores_of_ARRegressor, MSE_scores_of_piggybackedRegressor, MSE_scores_of_random_baseline, MSE_scores_of_random_baseline_piggybackedRegressor, MAE_scores_of_ARRegressor, MAE_scores_of_piggybackedRegressor, MAE_scores_of_random_baseline, MAE_scores_of_random_baseline_piggybackedRegressor"
      ]
    },
    {
      "cell_type": "code",
      "execution_count": null,
      "metadata": {
        "colab": {
          "base_uri": "https://localhost:8080/"
        },
        "id": "oLsmgCZZkjTa",
        "outputId": "2c849906-fe75-40da-c37d-fa8ed84452f7"
      },
      "outputs": [],
      "source": [
        "#number_of_tests = 10\n",
        "annealing_factor = 0.03\n",
        "number_of_cycles = 200\n",
        "MSE_scores_of_ARRegressor, MSE_scores_of_piggybackedRegressor, MSE_scores_of_random_baseline, MSE_scores_of_random_baseline_piggybackedRegressor, MAE_scores_of_ARRegressor, MAE_scores_of_piggybackedRegressor, MAE_scores_of_random_baseline, MAE_scores_of_random_baseline_piggybackedRegressor = test_comparing_with_baseline(annealing_factor, number_of_cycles)\n"
      ]
    },
    {
      "cell_type": "code",
      "execution_count": null,
      "metadata": {
        "colab": {
          "base_uri": "https://localhost:8080/",
          "height": 434
        },
        "id": "YH6sEJIFlOCi",
        "outputId": "3e98dfaf-0cf3-43b0-b42c-bb311154dc40"
      },
      "outputs": [],
      "source": [
        "plt.plot(MSE_scores_of_ARRegressor, label=\"ARRegressor\")\n",
        "plt.plot(MSE_scores_of_piggybackedRegressor, label=\"piggybackedRegressor\")\n",
        "plt.plot(MSE_scores_of_random_baseline, label=\"random_baseline\")\n",
        "plt.plot(MSE_scores_of_random_baseline_piggybackedRegressor, label=\"random_baseline_piggybackedRegressor\")\n",
        "plt.legend()\n",
        "plt.show()"
      ]
    },
    {
      "cell_type": "code",
      "execution_count": null,
      "metadata": {
        "colab": {
          "base_uri": "https://localhost:8080/",
          "height": 430
        },
        "id": "sbr00wb-olbM",
        "outputId": "b1cb1b73-bf58-4128-dbef-69b31d5c760e"
      },
      "outputs": [],
      "source": [
        "plt.plot(MAE_scores_of_ARRegressor, label=\"ARRegressor\")\n",
        "plt.plot(MAE_scores_of_piggybackedRegressor, label=\"piggybackedRegressor\")\n",
        "plt.plot(MAE_scores_of_random_baseline, label=\"random_baseline\")\n",
        "plt.plot(MAE_scores_of_random_baseline_piggybackedRegressor, label=\"random_baseline_piggybackedRegressor\")\n",
        "plt.legend()\n",
        "plt.show()"
      ]
    },
    {
      "cell_type": "markdown",
      "metadata": {
        "id": "I2wMHWa1cnGv"
      },
      "source": [
        "#Szwabe: How many test repetitions ar needed to observe any significant value of any AR algorithm based on a non-random query strategy? How does this value depend on the sample target variable attribution/assignment budget (the number of AR cycles)?  "
      ]
    },
    {
      "cell_type": "code",
      "execution_count": null,
      "metadata": {
        "id": "3vFmfmRkpX4e"
      },
      "outputs": [],
      "source": [
        "def multiple_tests_comparing_with_baseline(number_of_tests, annealing_factor, number_of_cycles):\n",
        "  means_and_stds = {\"MAE\": {}, \"MSE\": {}}\n",
        "  MSE_scores_of_ARRegressor_list = []\n",
        "  MSE_scores_of_piggybackedRegressor_list = []\n",
        "  MSE_scores_of_random_baseline_list = []\n",
        "  MAE_scores_of_ARRegressor_list = []\n",
        "  MAE_scores_of_piggybackedRegressor_list = []\n",
        "  MAE_scores_of_random_baseline_list = []\n",
        "  for test_number in range(number_of_tests):\n",
        "    #MSE_scores_of_ARRegressor, MSE_scores_of_random_baseline, MAE_scores_of_ARRegressor, MAE_scores_of_random_baseline = test_comparing_with_baseline(annealing_factor, number_of_cycles)\n",
        "    MSE_scores_of_ARRegressor, MSE_scores_of_piggybackedRegressor, MSE_scores_of_random_baseline, MSE_scores_of_random_baseline_piggybackedRegressor, MAE_scores_of_ARRegressor, MAE_scores_of_piggybackedRegressor, MAE_scores_of_random_baseline, MAE_scores_of_random_baseline_piggybackedRegressor = test_comparing_with_baseline(annealing_factor, number_of_cycles)\n",
        "    MSE_scores_of_ARRegressor_list.append(MSE_scores_of_ARRegressor)\n",
        "    MSE_scores_of_piggybackedRegressor_list.append(MSE_scores_of_piggybackedRegressor)\n",
        "    MSE_scores_of_random_baseline_list.append(MSE_scores_of_random_baseline)\n",
        "    MAE_scores_of_ARRegressor_list.append(MAE_scores_of_ARRegressor)\n",
        "    MAE_scores_of_piggybackedRegressor_list.append(MAE_scores_of_piggybackedRegressor)\n",
        "    MAE_scores_of_random_baseline_list.append(MAE_scores_of_random_baseline)\n",
        "  temp_mean = np.mean(np.array(MSE_scores_of_ARRegressor_list), axis=0)\n",
        "  temp_std = np.std(np.array(MSE_scores_of_ARRegressor_list), axis=0)\n",
        "  means_and_stds[\"MSE\"][\"ARRegressor\"] = {\"mean\": temp_mean, \"std\": temp_std}\n",
        "  temp_mean = np.mean(np.array(MSE_scores_of_piggybackedRegressor_list), axis=0)\n",
        "  temp_std = np.std(np.array(MSE_scores_of_piggybackedRegressor_list), axis=0)\n",
        "  means_and_stds[\"MSE\"][\"piggybackedRegressor\"] = {\"mean\": temp_mean, \"std\": temp_std}\n",
        "  temp_mean = np.mean(np.array(MAE_scores_of_ARRegressor_list), axis=0)\n",
        "  temp_std = np.std(np.array(MAE_scores_of_ARRegressor_list), axis=0)\n",
        "  means_and_stds[\"MAE\"][\"ARRegressor\"] = {\"mean\": temp_mean, \"std\": temp_std}\n",
        "  temp_mean = np.mean(np.array(MAE_scores_of_piggybackedRegressor_list), axis=0)\n",
        "  temp_std = np.std(np.array(MAE_scores_of_piggybackedRegressor_list), axis=0)\n",
        "  means_and_stds[\"MAE\"][\"piggybackedRegressor\"] = {\"mean\": temp_mean, \"std\": temp_std}\n",
        "  temp_mean = np.mean(np.array(MSE_scores_of_random_baseline_list), axis=0)\n",
        "  temp_std = np.std(np.array(MSE_scores_of_random_baseline_list), axis=0)\n",
        "  means_and_stds[\"MSE\"][\"random_baseline\"] = {\"mean\": temp_mean, \"std\": temp_std}\n",
        "  temp_mean = np.mean(np.array(MAE_scores_of_random_baseline_list), axis=0)\n",
        "  temp_std = np.std(np.array(MAE_scores_of_random_baseline_list), axis=0)\n",
        "  means_and_stds[\"MAE\"][\"random_baseline\"] = {\"mean\": temp_mean, \"std\": temp_std}\n",
        "  MSE_scores_of_random_baseline_mean = np.mean(np.array(MSE_scores_of_random_baseline_list), axis=0)\n",
        "  MSE_scores_of_random_baseline_std = np.std(np.array(MSE_scores_of_random_baseline_list), axis=0)\n",
        "  return means_and_stds"
      ]
    },
    {
      "cell_type": "code",
      "execution_count": null,
      "metadata": {
        "id": "XWS3IC2KtNt_"
      },
      "outputs": [],
      "source": [
        "def plot_means_and_stds(means_and_stds, temp_measure):\n",
        "  plt.clf\n",
        "  plt.rcParams[\"figure.figsize\"] = (20,14)\n",
        "  temp_color_letters = [\"b\", \"y\", \"g\"]\n",
        "  #temp_measure = \"MAE\"\n",
        "  temp_measure_data = means_and_stds[temp_measure]\n",
        "  temp_algorithms_labes = list(temp_measure_data)\n",
        "  for temp_algorithm_label_idx, temp_algorithm_label in enumerate(temp_algorithms_labes):\n",
        "    temp_color_letter = temp_color_letters[temp_algorithm_label_idx]\n",
        "    temp_mean = means_and_stds[temp_measure][temp_algorithm_label][\"mean\"]\n",
        "    temp_std = means_and_stds[temp_measure][temp_algorithm_label][\"std\"]\n",
        "    x = np.arange(len(temp_mean))\n",
        "    plt.plot(x, temp_mean, temp_color_letter+\"-\", label=temp_algorithm_label)\n",
        "    plt.fill_between(x, temp_mean - temp_std, temp_mean + temp_std, color=temp_color_letter, alpha=0.2)\n",
        "  plt.legend()"
      ]
    },
    {
      "cell_type": "code",
      "execution_count": null,
      "metadata": {
        "colab": {
          "base_uri": "https://localhost:8080/"
        },
        "id": "vYl-2_CatUpk",
        "outputId": "c5134b65-7888-462f-abe9-0394c8a74d86"
      },
      "outputs": [],
      "source": [
        "#number_of_tests = 20\n",
        "number_of_tests = 10\n",
        "annealing_factor = 0.03\n",
        "number_of_cycles = 200\n",
        "\n",
        "means_and_stds = multiple_tests_comparing_with_baseline(number_of_tests, annealing_factor, number_of_cycles)"
      ]
    },
    {
      "cell_type": "code",
      "execution_count": null,
      "metadata": {
        "colab": {
          "base_uri": "https://localhost:8080/",
          "height": 801
        },
        "id": "hzM5UJa4ylRz",
        "outputId": "c2314494-4609-4884-e792-90654c3a56b1"
      },
      "outputs": [],
      "source": [
        "temp_measure = \"MSE\"\n",
        "plot_means_and_stds(means_and_stds, temp_measure)"
      ]
    },
    {
      "cell_type": "code",
      "execution_count": null,
      "metadata": {
        "colab": {
          "base_uri": "https://localhost:8080/",
          "height": 801
        },
        "id": "zHvqcoQ_t4-K",
        "outputId": "9542f8f7-ba5c-4ae5-e924-22325465939f"
      },
      "outputs": [],
      "source": [
        "temp_measure = \"MAE\"\n",
        "plot_means_and_stds(means_and_stds, temp_measure)"
      ]
    },
    {
      "cell_type": "markdown",
      "metadata": {
        "id": "ZsX6V_6xfOAr"
      },
      "source": [
        "#Szwabe: Set an appropriate number of AR cycles and test repetitions (below) in order to compare practical value of the three sampling strategies in the most reliable way that is still feasible considering the amount of available time (of the classwork). Compare and comment on the practical value of the strategies."
      ]
    },
    {
      "cell_type": "code",
      "execution_count": null,
      "metadata": {
        "colab": {
          "base_uri": "https://localhost:8080/"
        },
        "id": "61AEUBCP6TQm",
        "outputId": "bb66531f-5420-46a9-a321-1fb548222b16"
      },
      "outputs": [],
      "source": [
        "number_of_tests = 20\n",
        "annealing_factor = 0.0\n",
        "number_of_cycles = 200\n",
        "\n",
        "means_and_stds = multiple_tests_comparing_with_baseline(number_of_tests, annealing_factor, number_of_cycles)"
      ]
    },
    {
      "cell_type": "code",
      "execution_count": null,
      "metadata": {
        "colab": {
          "base_uri": "https://localhost:8080/",
          "height": 801
        },
        "id": "Mip7k5VD69F5",
        "outputId": "f85b3374-db6d-4587-fe0c-90d2f4364b00"
      },
      "outputs": [],
      "source": [
        "temp_measure = \"MSE\"\n",
        "plot_means_and_stds(means_and_stds, temp_measure)"
      ]
    },
    {
      "cell_type": "code",
      "execution_count": null,
      "metadata": {
        "colab": {
          "base_uri": "https://localhost:8080/",
          "height": 801
        },
        "id": "01uLOAW_69F6",
        "outputId": "d898b3ce-81b8-4b69-98ca-4c874eca54ef"
      },
      "outputs": [],
      "source": [
        "temp_measure = \"MAE\"\n",
        "plot_means_and_stds(means_and_stds, temp_measure)"
      ]
    },
    {
      "cell_type": "code",
      "execution_count": null,
      "metadata": {
        "colab": {
          "base_uri": "https://localhost:8080/"
        },
        "id": "a2Ui0GUyPj6Y",
        "outputId": "cfc73bdb-d393-4e10-e59e-85eddf0516e0"
      },
      "outputs": [],
      "source": [
        "number_of_tests = 20\n",
        "annealing_factor = 1.0\n",
        "number_of_cycles = 200\n",
        "\n",
        "means_and_stds = multiple_tests_comparing_with_baseline(number_of_tests, annealing_factor, number_of_cycles)"
      ]
    },
    {
      "cell_type": "code",
      "execution_count": null,
      "metadata": {
        "colab": {
          "base_uri": "https://localhost:8080/",
          "height": 801
        },
        "id": "fAWZxbP8Pj6d",
        "outputId": "9d7a260f-c1a7-4a40-847e-8084758ef095"
      },
      "outputs": [],
      "source": [
        "temp_measure = \"MSE\"\n",
        "plot_means_and_stds(means_and_stds, temp_measure)"
      ]
    },
    {
      "cell_type": "code",
      "execution_count": null,
      "metadata": {
        "colab": {
          "base_uri": "https://localhost:8080/",
          "height": 801
        },
        "id": "kq7am80VPj6f",
        "outputId": "2d07180c-475c-4e82-df2f-04f917182c13"
      },
      "outputs": [],
      "source": [
        "temp_measure = \"MAE\"\n",
        "plot_means_and_stds(means_and_stds, temp_measure)"
      ]
    },
    {
      "cell_type": "code",
      "execution_count": null,
      "metadata": {
        "colab": {
          "base_uri": "https://localhost:8080/"
        },
        "id": "Q24I1kZ3PZn1",
        "outputId": "0c5667ba-823d-42f8-bb38-3467140eae1e"
      },
      "outputs": [],
      "source": [
        "!pip freeze"
      ]
    },
    {
      "cell_type": "markdown",
      "metadata": {
        "id": "6xrFuC8cuBVg"
      },
      "source": [
        "absl-py==1.0.0\n",
        "alabaster==0.7.12\n",
        "albumentations==0.1.12\n",
        "altair==4.2.0\n",
        "appdirs==1.4.4\n",
        "argon2-cffi==21.3.0\n",
        "argon2-cffi-bindings==21.2.0\n",
        "arviz==0.11.4\n",
        "astor==0.8.1\n",
        "astropy==4.3.1\n",
        "astunparse==1.6.3\n",
        "atari-py==0.2.9\n",
        "atomicwrites==1.4.0\n",
        "attrs==21.4.0\n",
        "audioread==2.1.9\n",
        "autograd==1.3\n",
        "Babel==2.9.1\n",
        "backcall==0.2.0\n",
        "beautifulsoup4==4.6.3\n",
        "bleach==4.1.0\n",
        "blis==0.4.1\n",
        "bokeh==2.3.3\n",
        "Bottleneck==1.3.4\n",
        "branca==0.4.2\n",
        "bs4==0.0.1\n",
        "CacheControl==0.12.10\n",
        "cached-property==1.5.2\n",
        "cachetools==4.2.4\n",
        "catalogue==1.0.0\n",
        "certifi==2021.10.8\n",
        "cffi==1.15.0\n",
        "cftime==1.5.2\n",
        "chardet==3.0.4\n",
        "charset-normalizer==2.0.12\n",
        "click==7.1.2\n",
        "cloudpickle==1.3.0\n",
        "cmake==3.12.0\n",
        "cmdstanpy==0.9.5\n",
        "colorcet==3.0.0\n",
        "colorlover==0.3.0\n",
        "community==1.0.0b1\n",
        "contextlib2==0.5.5\n",
        "convertdate==2.4.0\n",
        "coverage==3.7.1\n",
        "coveralls==0.5\n",
        "crcmod==1.7\n",
        "cufflinks==0.17.3\n",
        "cvxopt==1.2.7\n",
        "cvxpy==1.0.31\n",
        "cycler==0.11.0\n",
        "cymem==2.0.6\n",
        "Cython==0.29.28\n",
        "daft==0.0.4\n",
        "dask==2.12.0\n",
        "datascience==0.10.6\n",
        "debugpy==1.0.0\n",
        "decorator==4.4.2\n",
        "defusedxml==0.7.1\n",
        "descartes==1.1.0\n",
        "dill==0.3.4\n",
        "distributed==1.25.3\n",
        "dlib @ file:///dlib-19.18.0-cp37-cp37m-linux_x86_64.whl\n",
        "dm-tree==0.1.6\n",
        "docopt==0.6.2\n",
        "docutils==0.17.1\n",
        "dopamine-rl==1.0.5\n",
        "earthengine-api==0.1.300\n",
        "easydict==1.9\n",
        "ecos==2.0.10\n",
        "editdistance==0.5.3\n",
        "en-core-web-sm @ https://github.com/explosion/spacy-models/releases/download/en_core_web_sm-2.2.5/en_core_web_sm-2.2.5.tar.gz\n",
        "entrypoints==0.4\n",
        "ephem==4.1.3\n",
        "et-xmlfile==1.1.0\n",
        "fa2==0.3.5\n",
        "fastai==1.0.61\n",
        "fastdtw==0.3.4\n",
        "fastprogress==1.0.2\n",
        "fastrlock==0.8\n",
        "fbprophet==0.7.1\n",
        "feather-format==0.4.1\n",
        "filelock==3.6.0\n",
        "firebase-admin==4.4.0\n",
        "fix-yahoo-finance==0.0.22\n",
        "Flask==1.1.4\n",
        "flatbuffers==2.0\n",
        "folium==0.8.3\n",
        "future==0.16.0\n",
        "gast==0.5.3\n",
        "GDAL==2.2.2\n",
        "gdown==4.2.2\n",
        "gensim==3.6.0\n",
        "geographiclib==1.52\n",
        "geopy==1.17.0\n",
        "gin-config==0.5.0\n",
        "glob2==0.7\n",
        "google==2.0.3\n",
        "google-api-core==1.26.3\n",
        "google-api-python-client==1.12.10\n",
        "google-auth==1.35.0\n",
        "google-auth-httplib2==0.0.4\n",
        "google-auth-oauthlib==0.4.6\n",
        "google-cloud-bigquery==1.21.0\n",
        "google-cloud-bigquery-storage==1.1.0\n",
        "google-cloud-core==1.0.3\n",
        "google-cloud-datastore==1.8.0\n",
        "google-cloud-firestore==1.7.0\n",
        "google-cloud-language==1.2.0\n",
        "google-cloud-storage==1.18.1\n",
        "google-cloud-translate==1.5.0\n",
        "google-colab @ file:///colabtools/dist/google-colab-1.0.0.tar.gz\n",
        "google-pasta==0.2.0\n",
        "google-resumable-media==0.4.1\n",
        "googleapis-common-protos==1.55.0\n",
        "googledrivedownloader==0.4\n",
        "graphviz==0.10.1\n",
        "greenlet==1.1.2\n",
        "grpcio==1.44.0\n",
        "gspread==3.4.2\n",
        "gspread-dataframe==3.0.8\n",
        "gym==0.17.3\n",
        "h5py==3.1.0\n",
        "HeapDict==1.0.1\n",
        "hijri-converter==2.2.3\n",
        "holidays==0.10.5.2\n",
        "holoviews==1.14.8\n",
        "html5lib==1.0.1\n",
        "httpimport==0.5.18\n",
        "httplib2==0.17.4\n",
        "httplib2shim==0.0.3\n",
        "humanize==0.5.1\n",
        "hyperopt==0.1.2\n",
        "ideep4py==2.0.0.post3\n",
        "idna==2.10\n",
        "imageio==2.4.1\n",
        "imagesize==1.3.0\n",
        "imbalanced-learn==0.8.1\n",
        "imblearn==0.0\n",
        "imgaug==0.2.9\n",
        "importlib-metadata==4.11.2\n",
        "importlib-resources==5.4.0\n",
        "imutils==0.5.4\n",
        "inflect==2.1.0\n",
        "iniconfig==1.1.1\n",
        "intel-openmp==2022.0.2\n",
        "intervaltree==2.1.0\n",
        "ipykernel==4.10.1\n",
        "ipython==5.5.0\n",
        "ipython-genutils==0.2.0\n",
        "ipython-sql==0.3.9\n",
        "ipywidgets==7.6.5\n",
        "itsdangerous==1.1.0\n",
        "jax==0.3.1\n",
        "jaxlib @ https://storage.googleapis.com/jax-releases/cuda11/jaxlib-0.3.0+cuda11.cudnn805-cp37-none-manylinux2010_x86_64.whl\n",
        "jedi==0.18.1\n",
        "jieba==0.42.1\n",
        "Jinja2==2.11.3\n",
        "joblib==1.1.0\n",
        "jpeg4py==0.1.4\n",
        "jsonschema==4.3.3\n",
        "jupyter==1.0.0\n",
        "jupyter-client==5.3.5\n",
        "jupyter-console==5.2.0\n",
        "jupyter-core==4.9.2\n",
        "jupyterlab-pygments==0.1.2\n",
        "jupyterlab-widgets==1.0.2\n",
        "kaggle==1.5.12\n",
        "kapre==0.3.7\n",
        "keras==2.8.0\n",
        "Keras-Preprocessing==1.1.2\n",
        "keras-vis==0.4.1\n",
        "kiwisolver==1.3.2\n",
        "korean-lunar-calendar==0.2.1\n",
        "libclang==13.0.0\n",
        "librosa==0.8.1\n",
        "lightgbm==2.2.3\n",
        "llvmlite==0.34.0\n",
        "lmdb==0.99\n",
        "LunarCalendar==0.0.9\n",
        "lxml==4.2.6\n",
        "Markdown==3.3.6\n",
        "MarkupSafe==2.0.1\n",
        "matplotlib==3.2.2\n",
        "matplotlib-inline==0.1.3\n",
        "matplotlib-venn==0.11.6\n",
        "missingno==0.5.1\n",
        "mistune==0.8.4\n",
        "mizani==0.6.0\n",
        "mkl==2019.0\n",
        "mlxtend==0.14.0\n",
        "modAL==0.4.1\n",
        "more-itertools==8.12.0\n",
        "moviepy==0.2.3.5\n",
        "mpmath==1.2.1\n",
        "msgpack==1.0.3\n",
        "multiprocess==0.70.12.2\n",
        "multitasking==0.0.10\n",
        "murmurhash==1.0.6\n",
        "music21==5.5.0\n",
        "natsort==5.5.0\n",
        "nbclient==0.5.11\n",
        "nbconvert==5.6.1\n",
        "nbformat==5.1.3\n",
        "nest-asyncio==1.5.4\n",
        "netCDF4==1.5.8\n",
        "networkx==2.6.3\n",
        "nibabel==3.0.2\n",
        "nltk==3.2.5\n",
        "notebook==5.3.1\n",
        "numba==0.51.2\n",
        "numexpr==2.8.1\n",
        "numpy==1.21.5\n",
        "nvidia-ml-py3==7.352.0\n",
        "oauth2client==4.1.3\n",
        "oauthlib==3.2.0\n",
        "okgrade==0.4.3\n",
        "opencv-contrib-python==4.1.2.30\n",
        "opencv-python==4.1.2.30\n",
        "openpyxl==3.0.9\n",
        "opt-einsum==3.3.0\n",
        "osqp==0.6.2.post0\n",
        "packaging==21.3\n",
        "palettable==3.3.0\n",
        "pandas==1.3.5\n",
        "pandas-datareader==0.9.0\n",
        "pandas-gbq==0.13.3\n",
        "pandas-profiling==1.4.1\n",
        "pandocfilters==1.5.0\n",
        "panel==0.12.1\n",
        "param==1.12.0\n",
        "parso==0.8.3\n",
        "pathlib==1.0.1\n",
        "patsy==0.5.2\n",
        "pep517==0.12.0\n",
        "pexpect==4.8.0\n",
        "pickleshare==0.7.5\n",
        "Pillow==7.1.2\n",
        "pip-tools==6.2.0\n",
        "plac==1.1.3\n",
        "plotly==5.5.0\n",
        "plotnine==0.6.0\n",
        "pluggy==0.7.1\n",
        "pooch==1.6.0\n",
        "portpicker==1.3.9\n",
        "prefetch-generator==1.0.1\n",
        "preshed==3.0.6\n",
        "prettytable==3.1.1\n",
        "progressbar2==3.38.0\n",
        "prometheus-client==0.13.1\n",
        "promise==2.3\n",
        "prompt-toolkit==1.0.18\n",
        "protobuf==3.17.3\n",
        "psutil==5.4.8\n",
        "psycopg2==2.7.6.1\n",
        "ptyprocess==0.7.0\n",
        "py==1.11.0\n",
        "pyaml==21.10.1\n",
        "pyarrow==6.0.1\n",
        "pyasn1==0.4.8\n",
        "pyasn1-modules==0.2.8\n",
        "pycocotools==2.0.4\n",
        "pycparser==2.21\n",
        "pyct==0.4.8\n",
        "pydata-google-auth==1.3.0\n",
        "pydot==1.3.0\n",
        "pydot-ng==2.0.0\n",
        "pydotplus==2.0.2\n",
        "PyDrive==1.3.1\n",
        "pyemd==0.5.1\n",
        "pyerfa==2.0.0.1\n",
        "pyglet==1.5.0\n",
        "Pygments==2.6.1\n",
        "pygobject==3.26.1\n",
        "pymc3==3.11.4\n",
        "PyMeeus==0.5.11\n",
        "pymongo==4.0.1\n",
        "pymystem3==0.2.0\n",
        "PyOpenGL==3.1.6\n",
        "pyparsing==3.0.7\n",
        "pyrsistent==0.18.1\n",
        "pysndfile==1.3.8\n",
        "PySocks==1.7.1\n",
        "pystan==2.19.1.1\n",
        "pytest==3.6.4\n",
        "python-apt==0.0.0\n",
        "python-chess==0.23.11\n",
        "python-dateutil==2.8.2\n",
        "python-louvain==0.16\n",
        "python-slugify==6.1.1\n",
        "python-utils==3.1.0\n",
        "pytz==2018.9\n",
        "pyviz-comms==2.1.0\n",
        "PyWavelets==1.2.0\n",
        "PyYAML==3.13\n",
        "pyzmq==22.3.0\n",
        "qdldl==0.1.5.post0\n",
        "qtconsole==5.2.2\n",
        "QtPy==2.0.1\n",
        "regex==2019.12.20\n",
        "requests==2.23.0\n",
        "requests-oauthlib==1.3.1\n",
        "resampy==0.2.2\n",
        "rpy2==3.4.5\n",
        "rsa==4.8\n",
        "scikit-image==0.18.3\n",
        "scikit-learn==1.0.2\n",
        "scikit-optimize==0.9.0\n",
        "scipy==1.4.1\n",
        "screen-resolution-extra==0.0.0\n",
        "scs==3.2.0\n",
        "seaborn==0.11.2\n",
        "semver==2.13.0\n",
        "Send2Trash==1.8.0\n",
        "setuptools-git==1.2\n",
        "Shapely==1.8.1.post1\n",
        "simplegeneric==0.8.1\n",
        "six==1.15.0\n",
        "sklearn==0.0\n",
        "sklearn-pandas==1.8.0\n",
        "smart-open==5.2.1\n",
        "snowballstemmer==2.2.0\n",
        "sortedcontainers==2.4.0\n",
        "SoundFile==0.10.3.post1\n",
        "spacy==2.2.4\n",
        "Sphinx==1.8.6\n",
        "sphinxcontrib-serializinghtml==1.1.5\n",
        "sphinxcontrib-websupport==1.2.4\n",
        "SQLAlchemy==1.4.31\n",
        "sqlparse==0.4.2\n",
        "srsly==1.0.5\n",
        "statsmodels==0.10.2\n",
        "sympy==1.7.1\n",
        "tables==3.7.0\n",
        "tabulate==0.8.9\n",
        "tblib==1.7.0\n",
        "tenacity==8.0.1\n",
        "tensorboard==2.8.0\n",
        "tensorboard-data-server==0.6.1\n",
        "tensorboard-plugin-wit==1.8.1\n",
        "tensorflow @ file:///tensorflow-2.8.0-cp37-cp37m-linux_x86_64.whl\n",
        "tensorflow-datasets==4.0.1\n",
        "tensorflow-estimator==2.8.0\n",
        "tensorflow-gcs-config==2.8.0\n",
        "tensorflow-hub==0.12.0\n",
        "tensorflow-io-gcs-filesystem==0.24.0\n",
        "tensorflow-metadata==1.7.0\n",
        "tensorflow-probability==0.16.0\n",
        "termcolor==1.1.0\n",
        "terminado==0.13.1\n",
        "testpath==0.6.0\n",
        "text-unidecode==1.3\n",
        "textblob==0.15.3\n",
        "Theano-PyMC==1.1.2\n",
        "thinc==7.4.0\n",
        "threadpoolctl==3.1.0\n",
        "tifffile==2021.11.2\n",
        "tomli==2.0.1\n",
        "toolz==0.11.2\n",
        "torch @ https://download.pytorch.org/whl/cu111/torch-1.10.0%2Bcu111-cp37-cp37m-linux_x86_64.whl\n",
        "torchaudio @ https://download.pytorch.org/whl/cu111/torchaudio-0.10.0%2Bcu111-cp37-cp37m-linux_x86_64.whl\n",
        "torchsummary==1.5.1\n",
        "torchtext==0.11.0\n",
        "torchvision @ https://download.pytorch.org/whl/cu111/torchvision-0.11.1%2Bcu111-cp37-cp37m-linux_x86_64.whl\n",
        "tornado==5.1.1\n",
        "tqdm==4.63.0\n",
        "traitlets==5.1.1\n",
        "tweepy==3.10.0\n",
        "typeguard==2.7.1\n",
        "typing-extensions==3.10.0.2\n",
        "tzlocal==1.5.1\n",
        "uritemplate==3.0.1\n",
        "urllib3==1.24.3\n",
        "vega-datasets==0.9.0\n",
        "wasabi==0.9.0\n",
        "wcwidth==0.2.5\n",
        "webencodings==0.5.1\n",
        "Werkzeug==1.0.1\n",
        "widgetsnbextension==3.5.2\n",
        "wordcloud==1.5.0\n",
        "wrapt==1.13.3\n",
        "xarray==0.18.2\n",
        "xgboost==0.90\n",
        "xkit==0.0.0\n",
        "xlrd==1.1.0\n",
        "xlwt==1.3.0\n",
        "yellowbrick==1.4\n",
        "zict==2.1.0\n",
        "zipp==3.7.0"
      ]
    },
    {
      "cell_type": "code",
      "execution_count": null,
      "metadata": {
        "id": "DLonYh4QPbze"
      },
      "outputs": [],
      "source": []
    }
  ],
  "metadata": {
    "colab": {
      "provenance": []
    },
    "kernelspec": {
      "display_name": "Python 3",
      "name": "python3"
    },
    "language_info": {
      "name": "python"
    }
  },
  "nbformat": 4,
  "nbformat_minor": 0
}
